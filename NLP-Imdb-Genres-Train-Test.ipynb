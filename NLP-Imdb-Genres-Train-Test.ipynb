{
 "cells": [
  {
   "cell_type": "markdown",
   "id": "b2ce7616",
   "metadata": {
    "papermill": {
     "duration": 0.008847,
     "end_time": "2022-08-06T10:11:58.099346",
     "exception": false,
     "start_time": "2022-08-06T10:11:58.090499",
     "status": "completed"
    },
    "tags": []
   },
   "source": [
    "# 1 Разделение набора данных на тренировочный, валидационный, тестовый"
   ]
  },
  {
   "cell_type": "code",
   "execution_count": 1,
   "id": "452ecee0",
   "metadata": {
    "execution": {
     "iopub.execute_input": "2022-08-06T10:11:58.113668Z",
     "iopub.status.busy": "2022-08-06T10:11:58.113062Z",
     "iopub.status.idle": "2022-08-06T10:12:04.096709Z",
     "shell.execute_reply": "2022-08-06T10:12:04.095174Z"
    },
    "papermill": {
     "duration": 5.994732,
     "end_time": "2022-08-06T10:12:04.100210",
     "exception": false,
     "start_time": "2022-08-06T10:11:58.105478",
     "status": "completed"
    },
    "tags": []
   },
   "outputs": [],
   "source": [
    "from pathlib import Path\n",
    "import os\n",
    "import tensorflow as tf"
   ]
  },
  {
   "cell_type": "code",
   "execution_count": 2,
   "id": "f880b518",
   "metadata": {
    "execution": {
     "iopub.execute_input": "2022-08-06T10:12:04.116356Z",
     "iopub.status.busy": "2022-08-06T10:12:04.114176Z",
     "iopub.status.idle": "2022-08-06T10:12:04.120415Z",
     "shell.execute_reply": "2022-08-06T10:12:04.119208Z"
    },
    "papermill": {
     "duration": 0.016899,
     "end_time": "2022-08-06T10:12:04.123518",
     "exception": false,
     "start_time": "2022-08-06T10:12:04.106619",
     "status": "completed"
    },
    "tags": []
   },
   "outputs": [],
   "source": [
    "# ⚠️Копирование папки для логирования, при инициализации среды\n",
    "# !cp -a ../input/mlflow-run/mlruns/. ./mlruns"
   ]
  },
  {
   "cell_type": "code",
   "execution_count": 3,
   "id": "3d7ded21",
   "metadata": {
    "execution": {
     "iopub.execute_input": "2022-08-06T10:12:04.137384Z",
     "iopub.status.busy": "2022-08-06T10:12:04.137046Z",
     "iopub.status.idle": "2022-08-06T10:12:04.146531Z",
     "shell.execute_reply": "2022-08-06T10:12:04.145171Z"
    },
    "papermill": {
     "duration": 0.019946,
     "end_time": "2022-08-06T10:12:04.149724",
     "exception": false,
     "start_time": "2022-08-06T10:12:04.129778",
     "status": "completed"
    },
    "tags": []
   },
   "outputs": [
    {
     "name": "stdout",
     "output_type": "stream",
     "text": [
      "Folder data was created.\n",
      "Folder models was created.\n",
      "Folder mlruns was created.\n",
      "Folder img was created.\n"
     ]
    }
   ],
   "source": [
    "path_data = Path('./data/')\n",
    "path_models = Path('./models/')\n",
    "path_mlflow = Path('./mlruns/')\n",
    "path_img = Path('./img/')\n",
    "\n",
    "paths = [path_data, path_models, path_mlflow, path_img]\n",
    "\n",
    "for path in paths:\n",
    "    if os.path.exists(path):\n",
    "        print(f\"Folder {path} exists!\")\n",
    "    else:\n",
    "        os.makedirs(path)\n",
    "        print(f\"Folder {path} was created.\")"
   ]
  },
  {
   "cell_type": "code",
   "execution_count": 4,
   "id": "5933c789",
   "metadata": {
    "execution": {
     "iopub.execute_input": "2022-08-06T10:12:04.163926Z",
     "iopub.status.busy": "2022-08-06T10:12:04.163586Z",
     "iopub.status.idle": "2022-08-06T10:12:04.170001Z",
     "shell.execute_reply": "2022-08-06T10:12:04.168533Z"
    },
    "papermill": {
     "duration": 0.01623,
     "end_time": "2022-08-06T10:12:04.172583",
     "exception": false,
     "start_time": "2022-08-06T10:12:04.156353",
     "status": "completed"
    },
    "tags": []
   },
   "outputs": [],
   "source": [
    "feature_description = {\n",
    "    'description': tf.io.FixedLenFeature([], tf.string, default_value=''),\n",
    "    'label': tf.io.FixedLenFeature([], tf.int64, default_value=0),\n",
    "}\n",
    "\n",
    "def parse_function(example_proto):\n",
    "  parsed = tf.io.parse_single_example(example_proto, feature_description)\n",
    "  return (parsed['description'], parsed['label']) "
   ]
  },
  {
   "cell_type": "markdown",
   "id": "9103c3ba",
   "metadata": {
    "papermill": {
     "duration": 0.006208,
     "end_time": "2022-08-06T10:12:04.184612",
     "exception": false,
     "start_time": "2022-08-06T10:12:04.178404",
     "status": "completed"
    },
    "tags": []
   },
   "source": [
    "## Dataset & Гиперпараметры"
   ]
  },
  {
   "cell_type": "code",
   "execution_count": 5,
   "id": "be1c21bd",
   "metadata": {
    "execution": {
     "iopub.execute_input": "2022-08-06T10:12:04.199109Z",
     "iopub.status.busy": "2022-08-06T10:12:04.198265Z",
     "iopub.status.idle": "2022-08-06T10:12:04.204640Z",
     "shell.execute_reply": "2022-08-06T10:12:04.203177Z"
    },
    "papermill": {
     "duration": 0.016525,
     "end_time": "2022-08-06T10:12:04.207420",
     "exception": false,
     "start_time": "2022-08-06T10:12:04.190895",
     "status": "completed"
    },
    "tags": []
   },
   "outputs": [],
   "source": [
    "path_input = Path('../input/imdb-tfrecord-1/')\n",
    "path_input = Path('../input/imdb-tfrecord-2/')\n",
    "path_input = Path('../input/imdb-tfrecord-3/')\n",
    "path_input = Path('../input/imdb-tfrecord-4/')"
   ]
  },
  {
   "cell_type": "code",
   "execution_count": 6,
   "id": "df45f118",
   "metadata": {
    "execution": {
     "iopub.execute_input": "2022-08-06T10:12:04.221638Z",
     "iopub.status.busy": "2022-08-06T10:12:04.221274Z",
     "iopub.status.idle": "2022-08-06T10:12:04.226758Z",
     "shell.execute_reply": "2022-08-06T10:12:04.225418Z"
    },
    "papermill": {
     "duration": 0.016181,
     "end_time": "2022-08-06T10:12:04.230007",
     "exception": false,
     "start_time": "2022-08-06T10:12:04.213826",
     "status": "completed"
    },
    "tags": []
   },
   "outputs": [],
   "source": [
    "filename_train_clean_encoded          = './train_clean_encoded.tfrecords'\n",
    "filename_train_clean_encode_resampled = './train_clean_encode_resampled.tfrecords'\n",
    "filename_test                         = './test_clean_encoded.tfrecords'"
   ]
  },
  {
   "cell_type": "code",
   "execution_count": 7,
   "id": "8f7c86ce",
   "metadata": {
    "execution": {
     "iopub.execute_input": "2022-08-06T10:12:04.243284Z",
     "iopub.status.busy": "2022-08-06T10:12:04.242995Z",
     "iopub.status.idle": "2022-08-06T10:12:04.251571Z",
     "shell.execute_reply": "2022-08-06T10:12:04.249986Z"
    },
    "papermill": {
     "duration": 0.018292,
     "end_time": "2022-08-06T10:12:04.254197",
     "exception": false,
     "start_time": "2022-08-06T10:12:04.235905",
     "status": "completed"
    },
    "tags": []
   },
   "outputs": [],
   "source": [
    "HP_DATASET = {'dataset_size_resampled' : 500_000,\n",
    "              'max_features'           : 50_000, # Количество слов в словаре\n",
    "              'max_sequence_length'    : 128,     # Ограничение длины описания фильма, не более X слов\n",
    "              'batch_size'             : 1024,    # Можно уперется в объём GPU RAM\n",
    "              'dataset_resampled'      : 'yes',   # Используется dataset с размноженными данными.\n",
    "             }\n",
    "\n",
    "HP_MODEL = {'embedding_dim'           : 16,      # Длина вектора для кодировки одного слова\n",
    "            'h_size'                  : 256,      # Размер скрытой \"памяти\" в LSTM\n",
    "            'drop_out'                : 0.3,      # Сколько нейронов отключать  \n",
    "            'num_epochs'              : 20,       # Сколько эпох обучать\n",
    "            'dense_before_out'        : 128,      # Слой перед классификатором\n",
    "            'class_amount'            : 27,       # Количестов классов (жанры)\n",
    "            'class_weight_fit'        : 'no',    # В fit передаются веса для классов\n",
    "           }\n",
    "\n",
    "CLASS_WEIGHT = {0: 0.1475, 1: 1.2621, 2: 3.4033, 3: 0.1533, 4: 0.2696, 5: 3.9761,\n",
    "                6: 2.2714, 7: 0.911, 8: 4.648, 9: 4.032, 10: 1.5269, 11: 6.2165, \n",
    "                12: 0.3958, 13: 3.1034, 14: 2.7468, 15: 2.5909, 16: 5.1354, 17: 1.9457,\n",
    "                18: 2.5611, 19: 6.2944, 20: 8.2631, 21: 11.0935, 22: 7.5771, 23: 2.988,\n",
    "                24: 10.3501, 25: 7.2488, 26: 15.2116}"
   ]
  },
  {
   "cell_type": "markdown",
   "id": "044a0fa3",
   "metadata": {
    "papermill": {
     "duration": 0.005762,
     "end_time": "2022-08-06T10:12:04.266291",
     "exception": false,
     "start_time": "2022-08-06T10:12:04.260529",
     "status": "completed"
    },
    "tags": []
   },
   "source": [
    "## 1.1 Тренировочный набор загрузка с диска TFRecords"
   ]
  },
  {
   "cell_type": "markdown",
   "id": "2f45126b",
   "metadata": {
    "papermill": {
     "duration": 0.005428,
     "end_time": "2022-08-06T10:12:04.278491",
     "exception": false,
     "start_time": "2022-08-06T10:12:04.273063",
     "status": "completed"
    },
    "tags": []
   },
   "source": [
    "Тренировочный набор данных TFRecords с upsample:\n",
    "* слова закодированы, объем словаря и длина для эмбеддинга заданы на этапе подготовки.\n",
    "* сделан `upsample` 50k -> 150k\n",
    "\n",
    "Тренировочный набор TfRecorde без upsample:\n",
    "* слова закодированы, как ранее.\n",
    "* объем набора 50k.\n",
    "* есть \"веса для классов\"."
   ]
  },
  {
   "cell_type": "code",
   "execution_count": 8,
   "id": "e99004f0",
   "metadata": {
    "execution": {
     "iopub.execute_input": "2022-08-06T10:12:04.291438Z",
     "iopub.status.busy": "2022-08-06T10:12:04.291097Z",
     "iopub.status.idle": "2022-08-06T10:12:08.493183Z",
     "shell.execute_reply": "2022-08-06T10:12:08.491675Z"
    },
    "papermill": {
     "duration": 4.211813,
     "end_time": "2022-08-06T10:12:08.496220",
     "exception": false,
     "start_time": "2022-08-06T10:12:04.284407",
     "status": "completed"
    },
    "tags": []
   },
   "outputs": [
    {
     "name": "stderr",
     "output_type": "stream",
     "text": [
      "2022-08-06 10:12:04.390969: I tensorflow/stream_executor/cuda/cuda_gpu_executor.cc:937] successful NUMA node read from SysFS had negative value (-1), but there must be at least one NUMA node, so returning NUMA node zero\n",
      "2022-08-06 10:12:04.539290: I tensorflow/stream_executor/cuda/cuda_gpu_executor.cc:937] successful NUMA node read from SysFS had negative value (-1), but there must be at least one NUMA node, so returning NUMA node zero\n",
      "2022-08-06 10:12:04.543288: I tensorflow/stream_executor/cuda/cuda_gpu_executor.cc:937] successful NUMA node read from SysFS had negative value (-1), but there must be at least one NUMA node, so returning NUMA node zero\n",
      "2022-08-06 10:12:04.551151: I tensorflow/core/platform/cpu_feature_guard.cc:142] This TensorFlow binary is optimized with oneAPI Deep Neural Network Library (oneDNN) to use the following CPU instructions in performance-critical operations:  AVX2 FMA\n",
      "To enable them in other operations, rebuild TensorFlow with the appropriate compiler flags.\n",
      "2022-08-06 10:12:04.551557: I tensorflow/stream_executor/cuda/cuda_gpu_executor.cc:937] successful NUMA node read from SysFS had negative value (-1), but there must be at least one NUMA node, so returning NUMA node zero\n",
      "2022-08-06 10:12:04.555612: I tensorflow/stream_executor/cuda/cuda_gpu_executor.cc:937] successful NUMA node read from SysFS had negative value (-1), but there must be at least one NUMA node, so returning NUMA node zero\n",
      "2022-08-06 10:12:04.559562: I tensorflow/stream_executor/cuda/cuda_gpu_executor.cc:937] successful NUMA node read from SysFS had negative value (-1), but there must be at least one NUMA node, so returning NUMA node zero\n",
      "2022-08-06 10:12:07.839051: I tensorflow/stream_executor/cuda/cuda_gpu_executor.cc:937] successful NUMA node read from SysFS had negative value (-1), but there must be at least one NUMA node, so returning NUMA node zero\n",
      "2022-08-06 10:12:07.843149: I tensorflow/stream_executor/cuda/cuda_gpu_executor.cc:937] successful NUMA node read from SysFS had negative value (-1), but there must be at least one NUMA node, so returning NUMA node zero\n",
      "2022-08-06 10:12:07.847002: I tensorflow/stream_executor/cuda/cuda_gpu_executor.cc:937] successful NUMA node read from SysFS had negative value (-1), but there must be at least one NUMA node, so returning NUMA node zero\n",
      "2022-08-06 10:12:07.850954: I tensorflow/core/common_runtime/gpu/gpu_device.cc:1510] Created device /job:localhost/replica:0/task:0/device:GPU:0 with 15403 MB memory:  -> device: 0, name: Tesla P100-PCIE-16GB, pci bus id: 0000:00:04.0, compute capability: 6.0\n"
     ]
    }
   ],
   "source": [
    "# ⚠️ Загрузка подготовленного ранее dataset с и без балансировки классов\n",
    "path = str(path_input / filename_train_clean_encode_resampled)\n",
    "# path = str(path_input / filename_train_clean_encoded)\n",
    "\n",
    "\n",
    "train_ds = tf.data.TFRecordDataset(filenames = [path])\n",
    "train_ds = train_ds.map(parse_function)\n",
    "train_ds = train_ds.map(lambda x,y: (tf.io.parse_tensor(x, out_type=tf.int64), y))\n",
    "\n",
    "# for i in train_ds.take(1):\n",
    "#     print(i)\n",
    "#     HP_DATASET['max_sequence_length'] = i[0].shape[0]\n",
    "\n",
    "train_ds = train_ds.batch(HP_DATASET['batch_size'])\n",
    "train_ds = train_ds.cache()\n",
    "train_ds = train_ds.prefetch(tf.data.AUTOTUNE)"
   ]
  },
  {
   "cell_type": "markdown",
   "id": "408d93f3",
   "metadata": {
    "papermill": {
     "duration": 0.005562,
     "end_time": "2022-08-06T10:12:08.508627",
     "exception": false,
     "start_time": "2022-08-06T10:12:08.503065",
     "status": "completed"
    },
    "tags": []
   },
   "source": [
    "## 1.2 Загрузка тестового и валидационного"
   ]
  },
  {
   "cell_type": "code",
   "execution_count": 9,
   "id": "57bae6e9",
   "metadata": {
    "execution": {
     "iopub.execute_input": "2022-08-06T10:12:08.523069Z",
     "iopub.status.busy": "2022-08-06T10:12:08.521766Z",
     "iopub.status.idle": "2022-08-06T10:12:08.576342Z",
     "shell.execute_reply": "2022-08-06T10:12:08.574895Z"
    },
    "papermill": {
     "duration": 0.064766,
     "end_time": "2022-08-06T10:12:08.579612",
     "exception": false,
     "start_time": "2022-08-06T10:12:08.514846",
     "status": "completed"
    },
    "tags": []
   },
   "outputs": [],
   "source": [
    "# Загрузка Тестового набора данных\n",
    "path = str(path_input / filename_test)\n",
    "test_val_ds = tf.data.TFRecordDataset(filenames = [path])\n",
    "test_val_ds = test_val_ds.map(parse_function)\n",
    "test_val_ds = test_val_ds.map(lambda x,y: (tf.io.parse_tensor(x, out_type=tf.int64), y))\n",
    "\n",
    "\n",
    "# .shard() - разделить dataset на части в каждую часть войдут 1/num_shards - элементов.\n",
    "val_ds = test_val_ds.shard(num_shards=2, index=0)\n",
    "# .cache() - кешируем данные, чтобы не тратить время на валидации\n",
    "val_ds = val_ds.cache()\n",
    "# dataset.batch(512) - определяется размер батча\n",
    "val_ds = val_ds.batch(HP_DATASET['batch_size'])\n",
    "# Загружаем следующий набор заранее\n",
    "val_ds = val_ds.prefetch(tf.data.AUTOTUNE)\n",
    "\n",
    "\n",
    "test_ds = test_val_ds.shard(num_shards=2, index=1)\n",
    "test_ds = test_ds.cache()\n",
    "test_ds = test_ds.batch(HP_DATASET['batch_size'])\n",
    "test_ds = test_ds.prefetch(tf.data.AUTOTUNE)"
   ]
  },
  {
   "cell_type": "markdown",
   "id": "bf12c7e1",
   "metadata": {
    "papermill": {
     "duration": 0.005975,
     "end_time": "2022-08-06T10:12:08.591913",
     "exception": false,
     "start_time": "2022-08-06T10:12:08.585938",
     "status": "completed"
    },
    "tags": []
   },
   "source": [
    "# 2 Настройка MLFlow"
   ]
  },
  {
   "cell_type": "markdown",
   "id": "77e401f7",
   "metadata": {
    "papermill": {
     "duration": 0.006193,
     "end_time": "2022-08-06T10:12:08.605041",
     "exception": false,
     "start_time": "2022-08-06T10:12:08.598848",
     "status": "completed"
    },
    "tags": []
   },
   "source": [
    "## Установка"
   ]
  },
  {
   "cell_type": "code",
   "execution_count": 10,
   "id": "8ea45151",
   "metadata": {
    "execution": {
     "iopub.execute_input": "2022-08-06T10:12:08.618736Z",
     "iopub.status.busy": "2022-08-06T10:12:08.618364Z",
     "iopub.status.idle": "2022-08-06T10:12:29.832104Z",
     "shell.execute_reply": "2022-08-06T10:12:29.830183Z"
    },
    "papermill": {
     "duration": 21.223271,
     "end_time": "2022-08-06T10:12:29.834742",
     "exception": false,
     "start_time": "2022-08-06T10:12:08.611471",
     "status": "completed"
    },
    "tags": []
   },
   "outputs": [
    {
     "name": "stdout",
     "output_type": "stream",
     "text": [
      "Устанавил и импортировал MLFlow, перезапусти ядро (!)\n"
     ]
    }
   ],
   "source": [
    "try:\n",
    "    import mlflow\n",
    "    print(mlflow.__version__)\n",
    "except:\n",
    "    print('Устанавливаю MLFlow, не забудь перезапустить ядро. НЕ Factory rest')\n",
    "    from IPython.display import clear_output\n",
    "    !pip install -U mlflow\n",
    "    clear_output(wait=False)\n",
    "    import mlflow\n",
    "\n",
    "    print('Устанавил и импортировал MLFlow, перезапусти ядро (!)')"
   ]
  },
  {
   "cell_type": "markdown",
   "id": "0eb9643d",
   "metadata": {
    "papermill": {
     "duration": 0.006481,
     "end_time": "2022-08-06T10:12:29.847758",
     "exception": false,
     "start_time": "2022-08-06T10:12:29.841277",
     "status": "completed"
    },
    "tags": []
   },
   "source": [
    "## Найстройка путей для трекинга"
   ]
  },
  {
   "cell_type": "code",
   "execution_count": 11,
   "id": "481d2c11",
   "metadata": {
    "execution": {
     "iopub.execute_input": "2022-08-06T10:12:29.861776Z",
     "iopub.status.busy": "2022-08-06T10:12:29.861469Z",
     "iopub.status.idle": "2022-08-06T10:12:29.869143Z",
     "shell.execute_reply": "2022-08-06T10:12:29.867781Z"
    },
    "papermill": {
     "duration": 0.017932,
     "end_time": "2022-08-06T10:12:29.871925",
     "exception": false,
     "start_time": "2022-08-06T10:12:29.853993",
     "status": "completed"
    },
    "tags": []
   },
   "outputs": [
    {
     "name": "stdout",
     "output_type": "stream",
     "text": [
      "Current tracking uri: sqlite:///mlruns/mlruns.db\n"
     ]
    }
   ],
   "source": [
    "# Инициализация и установка места для логирования\n",
    "path_mlflow_sql = path_mlflow / 'mlruns.db'\n",
    "mlflow.set_tracking_uri(f\"sqlite:///{path_mlflow_sql}\")\n",
    "tracking_uri = mlflow.get_tracking_uri()\n",
    "print(\"Current tracking uri: {}\".format(tracking_uri))"
   ]
  },
  {
   "cell_type": "markdown",
   "id": "674ebef0",
   "metadata": {
    "papermill": {
     "duration": 0.006454,
     "end_time": "2022-08-06T10:12:29.884662",
     "exception": false,
     "start_time": "2022-08-06T10:12:29.878208",
     "status": "completed"
    },
    "tags": []
   },
   "source": [
    "## ✅Установка эксперимента"
   ]
  },
  {
   "cell_type": "code",
   "execution_count": 12,
   "id": "86133775",
   "metadata": {
    "execution": {
     "iopub.execute_input": "2022-08-06T10:12:29.898480Z",
     "iopub.status.busy": "2022-08-06T10:12:29.898141Z",
     "iopub.status.idle": "2022-08-06T10:12:30.954936Z",
     "shell.execute_reply": "2022-08-06T10:12:30.953192Z"
    },
    "papermill": {
     "duration": 1.067467,
     "end_time": "2022-08-06T10:12:30.958375",
     "exception": false,
     "start_time": "2022-08-06T10:12:29.890908",
     "status": "completed"
    },
    "tags": []
   },
   "outputs": [
    {
     "name": "stderr",
     "output_type": "stream",
     "text": [
      "2022/08/06 10:12:30 INFO mlflow.store.db.utils: Creating initial MLflow database tables...\n",
      "2022/08/06 10:12:30 INFO mlflow.store.db.utils: Updating database tables\n",
      "INFO  [alembic.runtime.migration] Context impl SQLiteImpl.\n",
      "INFO  [alembic.runtime.migration] Will assume non-transactional DDL.\n",
      "INFO  [alembic.runtime.migration] Running upgrade  -> 451aebb31d03, add metric step\n",
      "INFO  [alembic.runtime.migration] Running upgrade 451aebb31d03 -> 90e64c465722, migrate user column to tags\n",
      "INFO  [alembic.runtime.migration] Running upgrade 90e64c465722 -> 181f10493468, allow nulls for metric values\n",
      "INFO  [alembic.runtime.migration] Running upgrade 181f10493468 -> df50e92ffc5e, Add Experiment Tags Table\n",
      "INFO  [alembic.runtime.migration] Running upgrade df50e92ffc5e -> 7ac759974ad8, Update run tags with larger limit\n",
      "INFO  [alembic.runtime.migration] Running upgrade 7ac759974ad8 -> 89d4b8295536, create latest metrics table\n",
      "INFO  [89d4b8295536_create_latest_metrics_table_py] Migration complete!\n",
      "INFO  [alembic.runtime.migration] Running upgrade 89d4b8295536 -> 2b4d017a5e9b, add model registry tables to db\n",
      "INFO  [2b4d017a5e9b_add_model_registry_tables_to_db_py] Adding registered_models and model_versions tables to database.\n",
      "INFO  [2b4d017a5e9b_add_model_registry_tables_to_db_py] Migration complete!\n",
      "INFO  [alembic.runtime.migration] Running upgrade 2b4d017a5e9b -> cfd24bdc0731, Update run status constraint with killed\n",
      "INFO  [alembic.runtime.migration] Running upgrade cfd24bdc0731 -> 0a8213491aaa, drop_duplicate_killed_constraint\n",
      "INFO  [alembic.runtime.migration] Running upgrade 0a8213491aaa -> 728d730b5ebd, add registered model tags table\n",
      "INFO  [alembic.runtime.migration] Running upgrade 728d730b5ebd -> 27a6a02d2cf1, add model version tags table\n",
      "INFO  [alembic.runtime.migration] Running upgrade 27a6a02d2cf1 -> 84291f40a231, add run_link to model_version\n",
      "INFO  [alembic.runtime.migration] Running upgrade 84291f40a231 -> a8c4a736bde6, allow nulls for run_id\n",
      "INFO  [alembic.runtime.migration] Running upgrade a8c4a736bde6 -> 39d1c3be5f05, add_is_nan_constraint_for_metrics_tables_if_necessary\n",
      "INFO  [alembic.runtime.migration] Running upgrade 39d1c3be5f05 -> c48cb773bb87, reset_default_value_for_is_nan_in_metrics_table_for_mysql\n",
      "INFO  [alembic.runtime.migration] Running upgrade c48cb773bb87 -> bd07f7e963c5, create index on run_uuid\n",
      "INFO  [alembic.runtime.migration] Context impl SQLiteImpl.\n",
      "INFO  [alembic.runtime.migration] Will assume non-transactional DDL.\n",
      "2022/08/06 10:12:30 INFO mlflow.tracking.fluent: Experiment with name 'Base' does not exist. Creating a new experiment.\n"
     ]
    },
    {
     "name": "stdout",
     "output_type": "stream",
     "text": [
      "Номер эксперимента:  1\n",
      "<Experiment: artifact_location='./mlruns/1', experiment_id='1', lifecycle_stage='active', name='Base', tags={}>\n"
     ]
    }
   ],
   "source": [
    "# Установка эксперимента\n",
    "exp_name = 'Base'\n",
    "experiment_info = mlflow.set_experiment(experiment_name=exp_name)\n",
    "\n",
    "# Получить информацию по названию эксперимента\n",
    "# experiment_info = mlflow.get_experiment_by_name(exp_name)\n",
    "print('Номер эксперимента: ',experiment_info.experiment_id)\n",
    "print(experiment_info)"
   ]
  },
  {
   "cell_type": "markdown",
   "id": "e0db16ab",
   "metadata": {
    "papermill": {
     "duration": 0.007398,
     "end_time": "2022-08-06T10:12:30.974497",
     "exception": false,
     "start_time": "2022-08-06T10:12:30.967099",
     "status": "completed"
    },
    "tags": []
   },
   "source": [
    "# 3 Архитектура сети"
   ]
  },
  {
   "cell_type": "code",
   "execution_count": 13,
   "id": "89c5b169",
   "metadata": {
    "execution": {
     "iopub.execute_input": "2022-08-06T10:12:30.992366Z",
     "iopub.status.busy": "2022-08-06T10:12:30.991242Z",
     "iopub.status.idle": "2022-08-06T10:12:30.997243Z",
     "shell.execute_reply": "2022-08-06T10:12:30.995779Z"
    },
    "papermill": {
     "duration": 0.018303,
     "end_time": "2022-08-06T10:12:31.000248",
     "exception": false,
     "start_time": "2022-08-06T10:12:30.981945",
     "status": "completed"
    },
    "tags": []
   },
   "outputs": [],
   "source": [
    "# Автологер для fit(), объявляется перед run ❗, до или после создания модели?\n",
    "# ⚠️ Не срабатывает в Kaggle notebooks\n",
    "# mlflow.tensorflow.autolog()\n",
    "# mlflow.autolog(disable = True)"
   ]
  },
  {
   "cell_type": "code",
   "execution_count": 14,
   "id": "150336fc",
   "metadata": {
    "execution": {
     "iopub.execute_input": "2022-08-06T10:12:31.019169Z",
     "iopub.status.busy": "2022-08-06T10:12:31.016913Z",
     "iopub.status.idle": "2022-08-06T10:12:36.655476Z",
     "shell.execute_reply": "2022-08-06T10:12:36.652428Z"
    },
    "papermill": {
     "duration": 5.649833,
     "end_time": "2022-08-06T10:12:36.658167",
     "exception": false,
     "start_time": "2022-08-06T10:12:31.008334",
     "status": "completed"
    },
    "tags": []
   },
   "outputs": [
    {
     "name": "stdout",
     "output_type": "stream",
     "text": [
      "Model: \"sequential\"\n",
      "_________________________________________________________________\n",
      "Layer (type)                 Output Shape              Param #   \n",
      "=================================================================\n",
      "embedding (Embedding)        (None, None, 16)          800000    \n",
      "_________________________________________________________________\n",
      "batch_normalization (BatchNo (None, None, 16)          64        \n",
      "_________________________________________________________________\n",
      "bidirectional (Bidirectional (None, None, 512)         559104    \n",
      "_________________________________________________________________\n",
      "dropout (Dropout)            (None, None, 512)         0         \n",
      "_________________________________________________________________\n",
      "batch_normalization_1 (Batch (None, None, 512)         2048      \n",
      "_________________________________________________________________\n",
      "bidirectional_1 (Bidirection (None, 512)               1574912   \n",
      "_________________________________________________________________\n",
      "batch_normalization_2 (Batch (None, 512)               2048      \n",
      "_________________________________________________________________\n",
      "dense (Dense)                (None, 128)               65664     \n",
      "_________________________________________________________________\n",
      "batch_normalization_3 (Batch (None, 128)               512       \n",
      "_________________________________________________________________\n",
      "dense_1 (Dense)              (None, 27)                3483      \n",
      "=================================================================\n",
      "Total params: 3,007,835\n",
      "Trainable params: 3,005,499\n",
      "Non-trainable params: 2,336\n",
      "_________________________________________________________________\n"
     ]
    }
   ],
   "source": [
    "model = tf.keras.Sequential([\n",
    "    tf.keras.layers.Embedding(input_dim  = HP_DATASET['max_features'], \n",
    "                              output_dim = HP_MODEL['embedding_dim'], mask_zero=True),\n",
    "    tf.keras.layers.BatchNormalization(),\n",
    "    tf.keras.layers.Bidirectional(tf.keras.layers.LSTM(HP_MODEL['h_size'], return_sequences=True)),\n",
    "    tf.keras.layers.Dropout(HP_MODEL['drop_out']),\n",
    "    tf.keras.layers.BatchNormalization(),\n",
    "    tf.keras.layers.Bidirectional(tf.keras.layers.LSTM(HP_MODEL['h_size'], return_sequences=False)),\n",
    "    tf.keras.layers.BatchNormalization(),\n",
    "    tf.keras.layers.Dense(HP_MODEL['dense_before_out'], activation='relu'),\n",
    "    tf.keras.layers.BatchNormalization(),\n",
    "    tf.keras.layers.Dense(HP_MODEL['class_amount'], activation='softmax'),\n",
    "])\n",
    "\n",
    "\n",
    "loss = tf.keras.losses.SparseCategoricalCrossentropy(\n",
    "    from_logits=False,\n",
    "    reduction='auto',\n",
    "    name='sparse_categorical_crossentropy')\n",
    "\n",
    "metric = tf.keras.metrics.SparseCategoricalAccuracy(name='sparse_categorical_accuracy', dtype=None)\n",
    "\n",
    "optimizer = tf.keras.optimizers.Adam()\n",
    "\n",
    "model.compile(optimizer=optimizer, loss=loss, metrics=[metric])\n",
    "\n",
    "model.summary()"
   ]
  },
  {
   "cell_type": "markdown",
   "id": "4811051b",
   "metadata": {
    "papermill": {
     "duration": 0.007973,
     "end_time": "2022-08-06T10:12:36.674675",
     "exception": false,
     "start_time": "2022-08-06T10:12:36.666702",
     "status": "completed"
    },
    "tags": []
   },
   "source": [
    "# 4 Обучение сети"
   ]
  },
  {
   "cell_type": "code",
   "execution_count": 15,
   "id": "23f470af",
   "metadata": {
    "execution": {
     "iopub.execute_input": "2022-08-06T10:12:36.693243Z",
     "iopub.status.busy": "2022-08-06T10:12:36.692125Z",
     "iopub.status.idle": "2022-08-06T10:12:36.699741Z",
     "shell.execute_reply": "2022-08-06T10:12:36.698475Z"
    },
    "papermill": {
     "duration": 0.019737,
     "end_time": "2022-08-06T10:12:36.702662",
     "exception": false,
     "start_time": "2022-08-06T10:12:36.682925",
     "status": "completed"
    },
    "tags": []
   },
   "outputs": [],
   "source": [
    "# автологирование не работает в MLFlow\n",
    "# возможно баг из за версии tf и использования TFRecords\n",
    "\n",
    "class MLFlowCallback(tf.keras.callbacks.Callback):        \n",
    "    def on_epoch_end(self, epoch, logs=None):\n",
    "        mlflow.log_metrics(logs, step=epoch)\n",
    "\n",
    "\n",
    "mlflowcallback = MLFlowCallback()\n",
    "\n",
    "callbacks = None\n",
    "callbacks = [mlflowcallback]\n"
   ]
  },
  {
   "cell_type": "code",
   "execution_count": 16,
   "id": "a336936c",
   "metadata": {
    "execution": {
     "iopub.execute_input": "2022-08-06T10:12:36.720657Z",
     "iopub.status.busy": "2022-08-06T10:12:36.720219Z",
     "iopub.status.idle": "2022-08-06T11:13:37.420051Z",
     "shell.execute_reply": "2022-08-06T11:13:37.418727Z"
    },
    "papermill": {
     "duration": 3660.711589,
     "end_time": "2022-08-06T11:13:37.422888",
     "exception": false,
     "start_time": "2022-08-06T10:12:36.711299",
     "status": "completed"
    },
    "tags": []
   },
   "outputs": [
    {
     "name": "stderr",
     "output_type": "stream",
     "text": [
      "2022-08-06 10:12:37.222881: I tensorflow/compiler/mlir/mlir_graph_optimization_pass.cc:185] None of the MLIR Optimization Passes are enabled (registered 2)\n"
     ]
    },
    {
     "name": "stdout",
     "output_type": "stream",
     "text": [
      "Epoch 1/20\n"
     ]
    },
    {
     "name": "stderr",
     "output_type": "stream",
     "text": [
      "2022-08-06 10:12:55.734313: I tensorflow/stream_executor/cuda/cuda_dnn.cc:369] Loaded cuDNN version 8005\n"
     ]
    },
    {
     "name": "stdout",
     "output_type": "stream",
     "text": [
      "489/489 - 181s - loss: 0.5982 - sparse_categorical_accuracy: 0.8382 - val_loss: 2.7430 - val_sparse_categorical_accuracy: 0.4458\n",
      "Epoch 2/20\n",
      "489/489 - 146s - loss: 0.0773 - sparse_categorical_accuracy: 0.9765 - val_loss: 3.0089 - val_sparse_categorical_accuracy: 0.4966\n",
      "Epoch 3/20\n",
      "489/489 - 146s - loss: 0.0450 - sparse_categorical_accuracy: 0.9863 - val_loss: 3.4692 - val_sparse_categorical_accuracy: 0.4871\n",
      "Epoch 4/20\n",
      "489/489 - 146s - loss: 0.0304 - sparse_categorical_accuracy: 0.9906 - val_loss: 3.8608 - val_sparse_categorical_accuracy: 0.4961\n",
      "Epoch 5/20\n",
      "489/489 - 146s - loss: 0.0198 - sparse_categorical_accuracy: 0.9939 - val_loss: 4.1983 - val_sparse_categorical_accuracy: 0.4848\n",
      "Epoch 6/20\n",
      "489/489 - 145s - loss: 0.0205 - sparse_categorical_accuracy: 0.9934 - val_loss: 4.4562 - val_sparse_categorical_accuracy: 0.4874\n",
      "Epoch 7/20\n",
      "489/489 - 145s - loss: 0.0178 - sparse_categorical_accuracy: 0.9944 - val_loss: 4.4824 - val_sparse_categorical_accuracy: 0.4970\n",
      "Epoch 8/20\n",
      "489/489 - 146s - loss: 0.0100 - sparse_categorical_accuracy: 0.9968 - val_loss: 4.8220 - val_sparse_categorical_accuracy: 0.5050\n",
      "Epoch 9/20\n",
      "489/489 - 146s - loss: 0.0105 - sparse_categorical_accuracy: 0.9966 - val_loss: 4.9458 - val_sparse_categorical_accuracy: 0.4929\n",
      "Epoch 10/20\n",
      "489/489 - 146s - loss: 0.0149 - sparse_categorical_accuracy: 0.9951 - val_loss: 4.9137 - val_sparse_categorical_accuracy: 0.4883\n",
      "Epoch 11/20\n",
      "489/489 - 146s - loss: 0.0097 - sparse_categorical_accuracy: 0.9969 - val_loss: 5.0344 - val_sparse_categorical_accuracy: 0.5033\n",
      "Epoch 12/20\n",
      "489/489 - 146s - loss: 0.0056 - sparse_categorical_accuracy: 0.9983 - val_loss: 5.2569 - val_sparse_categorical_accuracy: 0.5030\n",
      "Epoch 13/20\n",
      "489/489 - 146s - loss: 0.0060 - sparse_categorical_accuracy: 0.9980 - val_loss: 5.3779 - val_sparse_categorical_accuracy: 0.4903\n",
      "Epoch 14/20\n",
      "489/489 - 145s - loss: 0.0175 - sparse_categorical_accuracy: 0.9944 - val_loss: 5.0435 - val_sparse_categorical_accuracy: 0.4983\n",
      "Epoch 15/20\n",
      "489/489 - 145s - loss: 0.0053 - sparse_categorical_accuracy: 0.9983 - val_loss: 5.3018 - val_sparse_categorical_accuracy: 0.5100\n",
      "Epoch 16/20\n",
      "489/489 - 145s - loss: 0.0023 - sparse_categorical_accuracy: 0.9992 - val_loss: 5.6107 - val_sparse_categorical_accuracy: 0.5117\n",
      "Epoch 17/20\n",
      "489/489 - 145s - loss: 0.0017 - sparse_categorical_accuracy: 0.9994 - val_loss: 5.7406 - val_sparse_categorical_accuracy: 0.5035\n",
      "Epoch 18/20\n",
      "489/489 - 145s - loss: 0.0140 - sparse_categorical_accuracy: 0.9955 - val_loss: 5.2001 - val_sparse_categorical_accuracy: 0.4766\n",
      "Epoch 19/20\n",
      "489/489 - 145s - loss: 0.0101 - sparse_categorical_accuracy: 0.9967 - val_loss: 5.1979 - val_sparse_categorical_accuracy: 0.5070\n",
      "Epoch 20/20\n",
      "489/489 - 145s - loss: 0.0019 - sparse_categorical_accuracy: 0.9994 - val_loss: 5.4715 - val_sparse_categorical_accuracy: 0.5115\n"
     ]
    }
   ],
   "source": [
    "run_id = None\n",
    "run_name = None\n",
    "# run_name = '75k, 256, не resampled'\n",
    "\n",
    "tags = {\"dataset\"    : \"not Resampled\",\n",
    "        \"vocabular\"  : \"50k\",\n",
    "        \"review len\" : \"128\",}\n",
    "\n",
    "description = None\n",
    "description = \"\"\"\"\"\"\n",
    "\n",
    "\n",
    "with mlflow.start_run(experiment_id=experiment_info.experiment_id, \n",
    "                      run_name=run_name, \n",
    "                      tags=tags, \n",
    "                      description=description,\n",
    "                      run_id=run_id) as run:\n",
    "    \n",
    "    # Логирование гиперпараметров\n",
    "    for name, value in HP_DATASET.items():\n",
    "        mlflow.log_param(name, value)\n",
    "\n",
    "    for name, value in HP_MODEL.items():\n",
    "        mlflow.log_param(name, value)\n",
    "\n",
    "        \n",
    "    history = model.fit(x                  = train_ds,\n",
    "                        validation_data    = val_ds,\n",
    "                        initial_epoch      = 0,\n",
    "                        epochs             = HP_MODEL['num_epochs'],\n",
    "                        verbose            = 2,\n",
    "                        callbacks          = callbacks,\n",
    "#                         class_weight       = CLASS_WEIGHT,\n",
    "                        )\n",
    "    \n",
    "    run_id = run.info.run_id"
   ]
  },
  {
   "cell_type": "code",
   "execution_count": 17,
   "id": "5556e8d6",
   "metadata": {
    "execution": {
     "iopub.execute_input": "2022-08-06T11:13:37.446780Z",
     "iopub.status.busy": "2022-08-06T11:13:37.444503Z",
     "iopub.status.idle": "2022-08-06T11:13:47.798947Z",
     "shell.execute_reply": "2022-08-06T11:13:47.797259Z"
    },
    "papermill": {
     "duration": 10.370366,
     "end_time": "2022-08-06T11:13:47.803169",
     "exception": false,
     "start_time": "2022-08-06T11:13:37.432803",
     "status": "completed"
    },
    "tags": []
   },
   "outputs": [
    {
     "name": "stdout",
     "output_type": "stream",
     "text": [
      "27/27 [==============================] - 6s 216ms/step - loss: 5.4759 - sparse_categorical_accuracy: 0.5091\n",
      "Test loss: 5.4759\n",
      "Test accuracy: 50.91 %\n"
     ]
    }
   ],
   "source": [
    "results = model.evaluate(test_ds)\n",
    "print('Test loss: {:.4f}'.format(results[0]))\n",
    "print('Test accuracy: {:.2f} %'.format(results[1]*100))\n",
    "test_loss, test_accuracy = results\n",
    "\n",
    "with mlflow.start_run(run_id = run_id):\n",
    "    mlflow.log_metric(\"test_loss\", test_loss)\n",
    "    mlflow.log_metric(\"test_accuracy\", test_accuracy)"
   ]
  },
  {
   "cell_type": "code",
   "execution_count": 18,
   "id": "7a8c4d3f",
   "metadata": {
    "execution": {
     "iopub.execute_input": "2022-08-06T11:13:47.827620Z",
     "iopub.status.busy": "2022-08-06T11:13:47.827258Z",
     "iopub.status.idle": "2022-08-06T11:13:48.558717Z",
     "shell.execute_reply": "2022-08-06T11:13:48.557590Z"
    },
    "papermill": {
     "duration": 0.746695,
     "end_time": "2022-08-06T11:13:48.561570",
     "exception": false,
     "start_time": "2022-08-06T11:13:47.814875",
     "status": "completed"
    },
    "tags": []
   },
   "outputs": [
    {
     "data": {
      "image/png": "[encoded data removed]",
      "text/plain": [
       "<Figure size 432x288 with 1 Axes>"
      ]
     },
     "metadata": {
      "needs_background": "light"
     },
     "output_type": "display_data"
    },
    {
     "data": {
      "image/png": "[encoded data removed]",
      "text/plain": [
       "<Figure size 432x288 with 1 Axes>"
      ]
     },
     "metadata": {
      "needs_background": "light"
     },
     "output_type": "display_data"
    }
   ],
   "source": [
    "from matplotlib import pyplot as plt\n",
    "\n",
    "\n",
    "epochs = range(1, len(history.history['sparse_categorical_accuracy']) + 1)\n",
    "\n",
    "fig = plt.figure()\n",
    "plt.plot(epochs, history.history['loss'], 'bo', label='Training loss')\n",
    "plt.plot(epochs, history.history['val_loss'], 'b', label='Validation loss')\n",
    "plt.title('Training and validation loss')\n",
    "plt.xlabel('Epochs')\n",
    "plt.ylabel('Loss')\n",
    "plt.legend()\n",
    "plt.grid()\n",
    "\n",
    "plt.savefig(str(path_img / run_id) + '-loss.png')\n",
    "\n",
    "fig = plt.figure()\n",
    "plt.plot(epochs, history.history['sparse_categorical_accuracy'], 'bo', label='Training acc')\n",
    "plt.plot(epochs, history.history['val_sparse_categorical_accuracy'], 'b', label='Validation acc')\n",
    "plt.title('Training and validation accuracy')\n",
    "plt.xlabel('Epochs')\n",
    "plt.ylabel('Accuracy')\n",
    "plt.legend()\n",
    "plt.grid()\n",
    "\n",
    "plt.savefig(str(path_img / run_id) + '-accuracy.png')\n",
    "\n",
    "\n",
    "with mlflow.start_run(run_id = run_id):\n",
    "    mlflow.log_artifact(str(path_img / run_id) + '-loss.png')\n",
    "    mlflow.log_artifact(str(path_img / run_id) + '-accuracy.png')    "
   ]
  },
  {
   "cell_type": "code",
   "execution_count": 19,
   "id": "09ae3ba4",
   "metadata": {
    "execution": {
     "iopub.execute_input": "2022-08-06T11:13:48.588046Z",
     "iopub.status.busy": "2022-08-06T11:13:48.586743Z",
     "iopub.status.idle": "2022-08-06T11:13:48.599644Z",
     "shell.execute_reply": "2022-08-06T11:13:48.598423Z"
    },
    "papermill": {
     "duration": 0.028087,
     "end_time": "2022-08-06T11:13:48.602118",
     "exception": false,
     "start_time": "2022-08-06T11:13:48.574031",
     "status": "completed"
    },
    "tags": []
   },
   "outputs": [
    {
     "data": {
      "text/plain": [
       "'mlruns.zip'"
      ]
     },
     "execution_count": 19,
     "metadata": {},
     "output_type": "execute_result"
    }
   ],
   "source": [
    "import shutil\n",
    "# shutil.make_archive(base_name='working', format='zip', base_dir='.')\n",
    "shutil.make_archive(base_name='mlruns', format='zip', base_dir='./mlruns')"
   ]
  }
 ],
 "metadata": {
  "kernelspec": {
   "display_name": "Python 3",
   "language": "python",
   "name": "python3"
  },
  "language_info": {
   "codemirror_mode": {
    "name": "ipython",
    "version": 3
   },
   "file_extension": ".py",
   "mimetype": "text/x-python",
   "name": "python",
   "nbconvert_exporter": "python",
   "pygments_lexer": "ipython3",
   "version": "3.7.12"
  },
  "papermill": {
   "default_parameters": {},
   "duration": 3725.730452,
   "end_time": "2022-08-06T11:13:52.747582",
   "environment_variables": {},
   "exception": null,
   "input_path": "__notebook__.ipynb",
   "output_path": "__notebook__.ipynb",
   "parameters": {},
   "start_time": "2022-08-06T10:11:47.017130",
   "version": "2.3.4"
  }
 },
 "nbformat": 4,
 "nbformat_minor": 5
}
