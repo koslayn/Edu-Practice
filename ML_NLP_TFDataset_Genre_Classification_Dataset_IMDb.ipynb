{
  "cells": [
    {
      "cell_type": "markdown",
      "metadata": {
        "id": "n8SWUnjQ-RSD"
      },
      "source": [
        "# NLP. Определение жанра фильма по его текстовому описанию\n",
        "\n",
        "Набор данных [Genre Classification Dataset IMDb](https://www.kaggle.com/datasets/hijest/genre-classification-dataset-imdb)\n",
        "\n",
        "Основное внимание уделено работе с TensorFlow dataset API."
      ]
    },
    {
      "cell_type": "code",
      "execution_count": 53,
      "metadata": {
        "id": "iLDULZMRUCHJ"
      },
      "outputs": [],
      "source": [
        "from pathlib import Path\n",
        "import tensorflow as tf\n",
        "\n",
        "DATASET_PATH = Path('./dataset/Genre_Classification_Dataset_IMDb/')"
      ]
    },
    {
      "cell_type": "markdown",
      "metadata": {
        "id": "AW6_2NWTbspt"
      },
      "source": [
        "## 1 Подготовка данных. Создание dataset"
      ]
    },
    {
      "cell_type": "code",
      "execution_count": 54,
      "metadata": {
        "id": "4eDqDqeTEWqx"
      },
      "outputs": [],
      "source": [
        "# Создание набора данных TF\n",
        "\n",
        "# Создание текстового dataset считывает указанный файл\n",
        "dataset = tf.data.TextLineDataset([DATASET_PATH/\"train_data.txt\"])\n",
        "\n",
        "# Разделение записей (строка) на элементы по разделителю\n",
        "dataset = dataset.map(lambda x: tf.strings.split(x, ' ::: '))\n",
        "\n",
        "# Разделение на отдельных \"записей\" - изменение размерности (4, ) -> (4, 1)\n",
        "dataset = dataset.map(lambda x: tf.stack(tf.split(x, num_or_size_splits=4)))\n",
        "\n",
        "# фильтр полей - остаются только жанр и описание\n",
        "# можно построить словарь и в дальнейшем обращаться к нужной части\n",
        "dataset = dataset.map(lambda x: {'label': x[2][0], 'text': x[3][0]})"
      ]
    },
    {
      "cell_type": "code",
      "execution_count": 55,
      "metadata": {
        "id": "uSDce3256peq"
      },
      "outputs": [],
      "source": [
        "# Создание словаря \\ таблицы для кодирования классов\n",
        "# Для этого используется статический \"словарь\" - таблица.\n",
        "init = tf.lookup.KeyValueTensorInitializer(\n",
        "    keys=tf.constant([b'drama', b'thriller', b'adult', b'documentary', b'comedy',\n",
        "                      b'crime', b'reality-tv', b'horror', b'sport', b'animation',\n",
        "                      b'action', b'fantasy', b'short', b'sci-fi', b'music', b'adventure',\n",
        "                      b'talk-show', b'western', b'family', b'mystery', b'history',\n",
        "                      b'news', b'biography', b'romance', b'game-show', b'musical', b'war']),\n",
        "    values=tf.constant([0, 1, 2, 3, 4, 5, 6, 7, 8, 9, 10, 11, 12, 13, 14, 15, 16, \n",
        "                        17, 18, 19, 20, 21, 22, 23, 24, 25, 26, ], dtype=tf.int64))\n",
        "\n",
        "table = tf.lookup.StaticVocabularyTable(init, num_oov_buckets=5)\n",
        "\n",
        "# Заменяем жанры на цифры - применяем полученную таблицу к жанрам.\n",
        "# Сейчас записи сохранены в виде словаря\n",
        "dataset = dataset.map(lambda d: (d['text'], table[d['label']]))"
      ]
    },
    {
      "cell_type": "code",
      "execution_count": 56,
      "metadata": {
        "colab": {
          "base_uri": "https://localhost:8080/"
        },
        "id": "aLuBT0gM6BoC",
        "outputId": "64edc5c5-e341-4c63-83f0-02c7a0cfceef"
      },
      "outputs": [
        {
          "output_type": "stream",
          "name": "stdout",
          "text": [
            "(<tf.Tensor: shape=(), dtype=string, numpy=b'Listening in to a conversation between his doctor and parents, 10-year-old Oscar learns what nobody has the courage to tell him. He only has a few weeks to live. Furious, he refuses to speak to anyone except straight-talking Rose, the lady in pink he meets on the hospital stairs. As Christmas approaches, Rose uses her fantastical experiences as a professional wrestler, her imagination, wit and charm to allow Oscar to live life and love to the full, in the company of his friends Pop Corn, Einstein, Bacon and childhood sweetheart Peggy Blue.'>, <tf.Tensor: shape=(), dtype=int64, numpy=0>)\n"
          ]
        }
      ],
      "source": [
        "# Подготовленный набор данных. Пример записи\n",
        "for i in dataset.take(1):\n",
        "    print(i)"
      ]
    },
    {
      "cell_type": "markdown",
      "metadata": {
        "id": "b4betvMo6BoE"
      },
      "source": [
        "## 2 Кодирование данных для обучения модели\n",
        "\n",
        "Векторизация описания фильма:\n",
        "* Создаётся словарь заданной длины.\n",
        "* Каждому слову присваивается номер.\n",
        "* Слова в описании заменяются номерами.\n",
        "* Если длина описания фильма больше указанной, то описание обрезается.\n",
        "* Если меньше то дополняется нулями."
      ]
    },
    {
      "cell_type": "code",
      "execution_count": 57,
      "metadata": {
        "id": "Z8lKoJnT__lY"
      },
      "outputs": [],
      "source": [
        "# Словарь 150k (всего около 168k), максимальная длина описания 128 (средняя длина около 110 слов)\n",
        "max_features = 150_000\n",
        "MAX_SEQUENCE_LENGTH = 128\n",
        "\n",
        "# Слой препроцесинга. Инициализация\n",
        "int_vectorize_layer = tf.keras.layers.TextVectorization(\n",
        "    max_tokens=max_features,\n",
        "    output_mode='int',\n",
        "    output_sequence_length=MAX_SEQUENCE_LENGTH)\n",
        "\n",
        "# Оставляем только описание фильма (без меток жанров)\n",
        "train_text = dataset.map(lambda f, l: f)\n",
        "\n",
        "# \"обучение\" препроцессинга для кодирования\n",
        "int_vectorize_layer.adapt(train_text)"
      ]
    },
    {
      "cell_type": "code",
      "execution_count": 58,
      "metadata": {
        "colab": {
          "base_uri": "https://localhost:8080/"
        },
        "id": "dAuWuUgo6BoF",
        "outputId": "49b2262e-0ce5-44ad-df1a-46142b7dc7fe"
      },
      "outputs": [
        {
          "output_type": "stream",
          "name": "stdout",
          "text": [
            "Текстовое описание:\n",
            "tf.Tensor(b'Listening in to a conversation between his doctor and parents, 10-year-old Oscar learns what nobody has the courage to tell him. He only has a few weeks to live. Furious, he refuses to speak to anyone except straight-talking Rose, the lady in pink he meets on the hospital stairs. As Christmas approaches, Rose uses her fantastical experiences as a professional wrestler, her imagination, wit and charm to allow Oscar to live life and love to the full, in the company of his friends Pop Corn, Einstein, Bacon and childhood sweetheart Peggy Blue.', shape=(), dtype=string)\n",
            "Кодирование:\n",
            "tf.Tensor(\n",
            "[ 5222     7     6     4  1979    97     9   520     3   208  8951  2996\n",
            "   425    56  2254    27     2  1411     6   446    32    12    61    27\n",
            "     4   291  1138     6   129  4384    12   912     6  1423     6   838\n",
            "  1867 44256  1397     2   776     7  5051    12   187    15     2   554\n",
            "  8715    16   831  2786  1397   849    11 10660   576    16     4   713\n",
            "  9349    11  1897  5252     3  3655     6  1856  2996     6   129    30\n",
            "     3    53     6     2   409     7     2   336     5     9    93  1369\n",
            " 12318 15327 13021     3   461  3031  7776  1365     0     0     0     0\n",
            "     0     0     0     0     0     0     0     0     0     0     0     0\n",
            "     0     0     0     0     0     0     0     0     0     0     0     0\n",
            "     0     0     0     0     0     0     0     0], shape=(128,), dtype=int64)\n",
            "Декодирование первого слова:\n",
            "listening\n"
          ]
        }
      ],
      "source": [
        "# Применение кодирования\n",
        "for i in train_text.take(1):\n",
        "    print('Текстовое описание:')\n",
        "    print(i)\n",
        "    print('Кодирование:')\n",
        "    print(int_vectorize_layer(i))\n",
        "    print('Декодирование первого слова:')\n",
        "    print(int_vectorize_layer.get_vocabulary()[5222])"
      ]
    },
    {
      "cell_type": "code",
      "execution_count": 59,
      "metadata": {
        "id": "FgXSEKqu6BoG"
      },
      "outputs": [],
      "source": [
        "# Кодируем тренировочный dataset (текст)\n",
        "def int_vectorize_text(*ds):\n",
        "  return int_vectorize_layer(ds[0]), ds[1]\n",
        "\n",
        "train_ds = dataset.map(int_vectorize_text)"
      ]
    },
    {
      "cell_type": "markdown",
      "metadata": {
        "id": "2Uxyv43DAZlP"
      },
      "source": [
        "## 3 Балансировка классов: dataset.rejection_resample\n",
        "* Жанры не сбалансированы в наборе данных.\n",
        "* Для их балансировки можно использовать `rejection_resample()`\n",
        "* Будет стремится соблюсти указанные пропорции между классами"
      ]
    },
    {
      "cell_type": "markdown",
      "metadata": {
        "id": "2i6J0I5blT63"
      },
      "source": [
        "### Расчёт весов для балансировки\n",
        "* можно не делать `initial_dist` - не обязательный параметр, если не указывать, то пропорция будет строится по факту подачи данных на обучение.\n",
        "* также можно подавать данные веса в `.fit()` напрямую не балансирую классы через `dataset`."
      ]
    },
    {
      "cell_type": "code",
      "execution_count": 60,
      "metadata": {
        "colab": {
          "base_uri": "https://localhost:8080/"
        },
        "id": "JlmTndiOMQQX",
        "outputId": "af92b795-a590-48a1-8ba2-27293cace058"
      },
      "outputs": [
        {
          "output_type": "execute_result",
          "data": {
            "text/plain": [
              "array([ 0.14750062,  1.26205275,  3.40326428,  0.1533236 ,  0.26962883,\n",
              "        3.97609094,  2.27140942,  0.91103717,  4.64797668,  4.03197977,\n",
              "        1.52693987,  6.21648893,  0.39580641,  3.10344038,  2.74682069,\n",
              "        2.59087216,  5.13536042,  1.94566466,  2.56113001,  6.29443864,\n",
              "        8.26306965, 11.0935134 ,  7.57707897,  2.98798501, 10.35013364,\n",
              "        7.24883006, 15.21156004])"
            ]
          },
          "metadata": {},
          "execution_count": 60
        }
      ],
      "source": [
        "# расчёт весов для классов\n",
        "from sklearn.utils import class_weight\n",
        "import numpy as np\n",
        "\n",
        "labels = []\n",
        "\n",
        "for i in train_ds:\n",
        "  labels.append(i[1].numpy())\n",
        "\n",
        "labels_unique = list(set(labels))\n",
        "\n",
        "cw = class_weight.compute_class_weight(\n",
        "                class_weight = 'balanced',\n",
        "                classes = labels_unique, \n",
        "                y = np.array(labels))\n",
        "\n",
        "cw"
      ]
    },
    {
      "cell_type": "code",
      "execution_count": 61,
      "metadata": {
        "id": "JoaMHj8_lNyh",
        "colab": {
          "base_uri": "https://localhost:8080/"
        },
        "outputId": "4dbcafc3-f782-4d8b-c661-76a4f0c613db"
      },
      "outputs": [
        {
          "output_type": "execute_result",
          "data": {
            "text/plain": [
              "33186"
            ]
          },
          "metadata": {},
          "execution_count": 61
        }
      ],
      "source": [
        "# Функция возвращает класс для балансировки\n",
        "def class_func(features, label):\n",
        "  return label\n",
        "\n",
        "\n",
        "# Балансировка набора данных\n",
        "dataset_resampler = train_ds.rejection_resample(\n",
        "    class_func   = class_func, \n",
        "    target_dist  = [0.037,0.037,0.037,0.037,0.037,\n",
        "                    0.037,0.037,0.037,0.037,0.037,\n",
        "                    0.037,0.037,0.037,0.037,0.037,\n",
        "                    0.037,0.037,0.037,0.037,0.037,\n",
        "                    0.037,0.037,0.037,0.037,0.037,\n",
        "                    0.037,0.038,],\n",
        "    initial_dist = cw) # None\n",
        "\n",
        "# При балансировке добавляются классы получается лишниее поле, его нужно убрать\n",
        "train_ds_balanced = dataset_resampler.map(lambda extra_label, features_and_label: features_and_label)\n",
        "\n",
        "# После балансировки получается - 4310 при None - автоматическое определение весов классов, 33_186 - если использовать веса\n",
        "\n",
        "len(list(train_ds_balanced))"
      ]
    },
    {
      "cell_type": "markdown",
      "metadata": {
        "id": "m8zS-l8z6BoS"
      },
      "source": [
        "## 4 Разделение набора данных на тренировочный и валидационный"
      ]
    },
    {
      "cell_type": "code",
      "execution_count": 62,
      "metadata": {
        "id": "rWT2c7KCnGuO"
      },
      "outputs": [],
      "source": [
        "AUTOTUNE = tf.data.AUTOTUNE\n",
        "\n",
        "# Тренировочный набор 85%\n",
        "train = train_ds_balanced.take(28200)\n",
        "train = train.cache().prefetch(buffer_size=AUTOTUNE).batch(128, drop_remainder=True)\n",
        "\n",
        "# Валидационный 15%\n",
        "val = train_ds_balanced.skip(28200)\n",
        "val = val.cache().prefetch(buffer_size=AUTOTUNE).batch(128, drop_remainder=True)"
      ]
    },
    {
      "cell_type": "markdown",
      "metadata": {
        "id": "zTDX80YYnSWO"
      },
      "source": [
        "## 5 Архитектура сети и обучение модели"
      ]
    },
    {
      "cell_type": "code",
      "execution_count": 63,
      "metadata": {
        "colab": {
          "base_uri": "https://localhost:8080/"
        },
        "id": "YK3an2LVTOZC",
        "outputId": "326cf36c-fcae-4925-a0f7-29f8b8cc83d5"
      },
      "outputs": [
        {
          "output_type": "stream",
          "name": "stdout",
          "text": [
            "WARNING:tensorflow:Layer lstm_6 will not use cuDNN kernels since it doesn't meet the criteria. It will use a generic GPU kernel as fallback when running on GPU.\n"
          ]
        },
        {
          "output_type": "stream",
          "name": "stderr",
          "text": [
            "WARNING:tensorflow:Layer lstm_6 will not use cuDNN kernels since it doesn't meet the criteria. It will use a generic GPU kernel as fallback when running on GPU.\n"
          ]
        },
        {
          "output_type": "stream",
          "name": "stdout",
          "text": [
            "WARNING:tensorflow:Layer lstm_6 will not use cuDNN kernels since it doesn't meet the criteria. It will use a generic GPU kernel as fallback when running on GPU.\n"
          ]
        },
        {
          "output_type": "stream",
          "name": "stderr",
          "text": [
            "WARNING:tensorflow:Layer lstm_6 will not use cuDNN kernels since it doesn't meet the criteria. It will use a generic GPU kernel as fallback when running on GPU.\n"
          ]
        },
        {
          "output_type": "stream",
          "name": "stdout",
          "text": [
            "WARNING:tensorflow:Layer lstm_6 will not use cuDNN kernels since it doesn't meet the criteria. It will use a generic GPU kernel as fallback when running on GPU.\n"
          ]
        },
        {
          "output_type": "stream",
          "name": "stderr",
          "text": [
            "WARNING:tensorflow:Layer lstm_6 will not use cuDNN kernels since it doesn't meet the criteria. It will use a generic GPU kernel as fallback when running on GPU.\n"
          ]
        },
        {
          "output_type": "stream",
          "name": "stdout",
          "text": [
            "WARNING:tensorflow:Layer lstm_7 will not use cuDNN kernels since it doesn't meet the criteria. It will use a generic GPU kernel as fallback when running on GPU.\n"
          ]
        },
        {
          "output_type": "stream",
          "name": "stderr",
          "text": [
            "WARNING:tensorflow:Layer lstm_7 will not use cuDNN kernels since it doesn't meet the criteria. It will use a generic GPU kernel as fallback when running on GPU.\n"
          ]
        },
        {
          "output_type": "stream",
          "name": "stdout",
          "text": [
            "WARNING:tensorflow:Layer lstm_7 will not use cuDNN kernels since it doesn't meet the criteria. It will use a generic GPU kernel as fallback when running on GPU.\n"
          ]
        },
        {
          "output_type": "stream",
          "name": "stderr",
          "text": [
            "WARNING:tensorflow:Layer lstm_7 will not use cuDNN kernels since it doesn't meet the criteria. It will use a generic GPU kernel as fallback when running on GPU.\n"
          ]
        },
        {
          "output_type": "stream",
          "name": "stdout",
          "text": [
            "WARNING:tensorflow:Layer lstm_7 will not use cuDNN kernels since it doesn't meet the criteria. It will use a generic GPU kernel as fallback when running on GPU.\n"
          ]
        },
        {
          "output_type": "stream",
          "name": "stderr",
          "text": [
            "WARNING:tensorflow:Layer lstm_7 will not use cuDNN kernels since it doesn't meet the criteria. It will use a generic GPU kernel as fallback when running on GPU.\n"
          ]
        },
        {
          "output_type": "stream",
          "name": "stdout",
          "text": [
            "Model: \"sequential_3\"\n",
            "_________________________________________________________________\n",
            " Layer (type)                Output Shape              Param #   \n",
            "=================================================================\n",
            " embedding_3 (Embedding)     (None, None, 64)          9600064   \n",
            "                                                                 \n",
            " bidirectional_6 (Bidirectio  (None, None, 128)        66048     \n",
            " nal)                                                            \n",
            "                                                                 \n",
            " bidirectional_7 (Bidirectio  (None, 128)              98816     \n",
            " nal)                                                            \n",
            "                                                                 \n",
            " dense_3 (Dense)             (None, 27)                3483      \n",
            "                                                                 \n",
            "=================================================================\n",
            "Total params: 9,768,411\n",
            "Trainable params: 9,768,411\n",
            "Non-trainable params: 0\n",
            "_________________________________________________________________\n"
          ]
        }
      ],
      "source": [
        "embedding_dim = 64\n",
        "H_SIZE = 64\n",
        "CLASS_AMOUNT = 27\n",
        "\n",
        "model = tf.keras.Sequential([\n",
        "    tf.keras.layers.Embedding(max_features+1, embedding_dim),\n",
        "    tf.keras.layers.Bidirectional(\n",
        "        tf.keras.layers.LSTM(H_SIZE, return_sequences=True, dropout=0.5, recurrent_dropout=0.5)\n",
        "    ),\n",
        "     tf.keras.layers.Bidirectional(\n",
        "         tf.keras.layers.LSTM(H_SIZE, return_sequences=False, dropout=0.5, recurrent_dropout=0.5)\n",
        "    ),\n",
        "    tf.keras.layers.Dense(CLASS_AMOUNT, activation=tf.nn.softmax),\n",
        "])\n",
        "\n",
        "loss = tf.keras.losses.SparseCategoricalCrossentropy(\n",
        "    from_logits=False,\n",
        "    reduction='auto',\n",
        "    name='sparse_categorical_crossentropy')\n",
        "\n",
        "metric = tf.keras.metrics.SparseCategoricalAccuracy(name='sparse_categorical_accuracy', dtype=None)\n",
        "\n",
        "model.compile(optimizer='adam', loss=loss, metrics=[metric])\n",
        "\n",
        "model.summary()"
      ]
    },
    {
      "cell_type": "code",
      "execution_count": 64,
      "metadata": {
        "colab": {
          "base_uri": "https://localhost:8080/"
        },
        "id": "OW8JKi3gRztf",
        "outputId": "eb51b684-fc79-4db9-881b-24df4bc963aa"
      },
      "outputs": [
        {
          "output_type": "stream",
          "name": "stdout",
          "text": [
            "Epoch 1/15\n",
            "220/220 [==============================] - 252s 1s/step - loss: 1.4297 - sparse_categorical_accuracy: 0.4118 - val_loss: 1.2396 - val_sparse_categorical_accuracy: 0.5820\n",
            "Epoch 2/15\n",
            "220/220 [==============================] - 204s 928ms/step - loss: 0.9710 - sparse_categorical_accuracy: 0.6947 - val_loss: 0.9172 - val_sparse_categorical_accuracy: 0.7235\n",
            "Epoch 3/15\n",
            "220/220 [==============================] - 203s 921ms/step - loss: 0.7748 - sparse_categorical_accuracy: 0.7568 - val_loss: 0.9404 - val_sparse_categorical_accuracy: 0.7284\n",
            "Epoch 4/15\n",
            "220/220 [==============================] - 201s 914ms/step - loss: 0.5919 - sparse_categorical_accuracy: 0.8300 - val_loss: 1.0173 - val_sparse_categorical_accuracy: 0.7239\n",
            "Epoch 5/15\n",
            "220/220 [==============================] - 201s 915ms/step - loss: 0.4506 - sparse_categorical_accuracy: 0.8773 - val_loss: 1.1221 - val_sparse_categorical_accuracy: 0.7190\n",
            "Epoch 6/15\n",
            "220/220 [==============================] - 202s 920ms/step - loss: 0.3695 - sparse_categorical_accuracy: 0.9045 - val_loss: 1.1931 - val_sparse_categorical_accuracy: 0.7023\n",
            "Epoch 7/15\n",
            "220/220 [==============================] - 202s 916ms/step - loss: 0.3009 - sparse_categorical_accuracy: 0.9238 - val_loss: 1.2647 - val_sparse_categorical_accuracy: 0.7025\n",
            "Epoch 8/15\n",
            "220/220 [==============================] - 203s 922ms/step - loss: 0.2412 - sparse_categorical_accuracy: 0.9396 - val_loss: 1.4084 - val_sparse_categorical_accuracy: 0.6947\n",
            "Epoch 9/15\n",
            "220/220 [==============================] - 207s 942ms/step - loss: 0.2058 - sparse_categorical_accuracy: 0.9486 - val_loss: 1.4862 - val_sparse_categorical_accuracy: 0.6737\n",
            "Epoch 10/15\n",
            "220/220 [==============================] - 206s 937ms/step - loss: 0.1813 - sparse_categorical_accuracy: 0.9543 - val_loss: 1.5881 - val_sparse_categorical_accuracy: 0.6624\n",
            "Epoch 11/15\n",
            "220/220 [==============================] - 207s 940ms/step - loss: 0.1521 - sparse_categorical_accuracy: 0.9620 - val_loss: 1.6822 - val_sparse_categorical_accuracy: 0.6620\n",
            "Epoch 12/15\n",
            "220/220 [==============================] - 206s 938ms/step - loss: 0.1346 - sparse_categorical_accuracy: 0.9641 - val_loss: 1.6878 - val_sparse_categorical_accuracy: 0.6867\n",
            "Epoch 13/15\n",
            "220/220 [==============================] - 206s 938ms/step - loss: 0.1145 - sparse_categorical_accuracy: 0.9699 - val_loss: 1.7990 - val_sparse_categorical_accuracy: 0.6519\n",
            "Epoch 14/15\n",
            "220/220 [==============================] - 206s 937ms/step - loss: 0.1017 - sparse_categorical_accuracy: 0.9722 - val_loss: 1.7782 - val_sparse_categorical_accuracy: 0.6616\n",
            "Epoch 15/15\n",
            "220/220 [==============================] - 206s 938ms/step - loss: 0.0926 - sparse_categorical_accuracy: 0.9749 - val_loss: 1.7873 - val_sparse_categorical_accuracy: 0.6869\n"
          ]
        }
      ],
      "source": [
        "NUM_EPOCHS = 15\n",
        "\n",
        "history = model.fit(train,\n",
        "                    validation_data=val,\n",
        "                    epochs=NUM_EPOCHS,\n",
        "                    verbose=1,\n",
        "                    )"
      ]
    },
    {
      "cell_type": "markdown",
      "metadata": {
        "id": "FE1IX8zB6Bob"
      },
      "source": [
        "## 6 Визуализация обучения"
      ]
    },
    {
      "cell_type": "code",
      "execution_count": 65,
      "metadata": {
        "id": "OO_msAfhWSj2"
      },
      "outputs": [],
      "source": [
        "from matplotlib import pyplot as plt"
      ]
    },
    {
      "cell_type": "code",
      "execution_count": 66,
      "metadata": {
        "colab": {
          "base_uri": "https://localhost:8080/",
          "height": 573
        },
        "id": "bLRSx37BWcsz",
        "outputId": "a6f97442-d6d9-4f88-e44b-3519954de200"
      },
      "outputs": [
        {
          "output_type": "display_data",
          "data": {
            "text/plain": [
              "<Figure size 432x288 with 1 Axes>"
            ],
            "image/png": "[encoded data removed]"
          },
          "metadata": {
            "needs_background": "light"
          }
        },
        {
          "output_type": "display_data",
          "data": {
            "text/plain": [
              "<Figure size 432x288 with 1 Axes>"
            ],
            "image/png": "[encoded data removed]"
          },
          "metadata": {
            "needs_background": "light"
          }
        }
      ],
      "source": [
        "epochs = range(1, len(history.history['sparse_categorical_accuracy']) + 1)\n",
        "\n",
        "plt.figure()\n",
        "plt.plot(epochs, history.history['loss'], 'bo', label='Training loss')\n",
        "plt.plot(epochs, history.history['val_loss'], 'b', label='Validation loss')\n",
        "plt.title('Training and validation loss')\n",
        "plt.xlabel('Epochs')\n",
        "plt.ylabel('Loss')\n",
        "plt.legend()\n",
        "plt.grid()\n",
        "\n",
        "plt.figure()\n",
        "plt.plot(epochs, history.history['sparse_categorical_accuracy'], 'bo', label='Training acc')\n",
        "plt.plot(epochs, history.history['val_sparse_categorical_accuracy'], 'b', label='Validation acc')\n",
        "plt.title('Training and validation accuracy')\n",
        "plt.xlabel('Epochs')\n",
        "plt.ylabel('Accuracy')\n",
        "plt.legend()\n",
        "plt.grid()"
      ]
    },
    {
      "cell_type": "markdown",
      "metadata": {
        "id": "CbsKfUBTbUVN"
      },
      "source": [
        "## 6 Сохранение модели"
      ]
    },
    {
      "cell_type": "code",
      "execution_count": 67,
      "metadata": {
        "colab": {
          "base_uri": "https://localhost:8080/",
          "height": 159
        },
        "id": "hakQJSGhbYBM",
        "outputId": "7a11696a-72d8-47ca-d3bd-bac9b11c9e49"
      },
      "outputs": [
        {
          "output_type": "stream",
          "name": "stdout",
          "text": [
            "INFO:tensorflow:Assets written to: ./model/assets\n"
          ]
        },
        {
          "output_type": "stream",
          "name": "stderr",
          "text": [
            "INFO:tensorflow:Assets written to: ./model/assets\n",
            "WARNING:absl:<keras.layers.recurrent.LSTMCell object at 0x7f97860ef190> has the same name 'LSTMCell' as a built-in Keras object. Consider renaming <class 'keras.layers.recurrent.LSTMCell'> to avoid naming conflicts when loading with `tf.keras.models.load_model`. If renaming is not possible, pass the object in the `custom_objects` parameter of the load function.\n",
            "WARNING:absl:<keras.layers.recurrent.LSTMCell object at 0x7f97860ef910> has the same name 'LSTMCell' as a built-in Keras object. Consider renaming <class 'keras.layers.recurrent.LSTMCell'> to avoid naming conflicts when loading with `tf.keras.models.load_model`. If renaming is not possible, pass the object in the `custom_objects` parameter of the load function.\n",
            "WARNING:absl:<keras.layers.recurrent.LSTMCell object at 0x7f9785b9a150> has the same name 'LSTMCell' as a built-in Keras object. Consider renaming <class 'keras.layers.recurrent.LSTMCell'> to avoid naming conflicts when loading with `tf.keras.models.load_model`. If renaming is not possible, pass the object in the `custom_objects` parameter of the load function.\n",
            "WARNING:absl:<keras.layers.recurrent.LSTMCell object at 0x7f977f638310> has the same name 'LSTMCell' as a built-in Keras object. Consider renaming <class 'keras.layers.recurrent.LSTMCell'> to avoid naming conflicts when loading with `tf.keras.models.load_model`. If renaming is not possible, pass the object in the `custom_objects` parameter of the load function.\n"
          ]
        },
        {
          "output_type": "execute_result",
          "data": {
            "text/plain": [
              "'/content/model.zip'"
            ],
            "application/vnd.google.colaboratory.intrinsic+json": {
              "type": "string"
            }
          },
          "metadata": {},
          "execution_count": 67
        }
      ],
      "source": [
        "tf.keras.models.save_model(model=model, \n",
        "                           filepath='./model', \n",
        "                           save_format='tf', \n",
        "                           include_optimizer=True, )\n",
        "\n",
        "import shutil\n",
        "shutil.make_archive('model', 'zip', './model')"
      ]
    },
    {
      "cell_type": "markdown",
      "metadata": {
        "id": "77aMuBfkWtuf"
      },
      "source": [
        "## 7 Проверка по тестовому набору данных"
      ]
    },
    {
      "cell_type": "code",
      "execution_count": 68,
      "metadata": {
        "id": "q9c-amAyXxIF"
      },
      "outputs": [],
      "source": [
        "dataset_test = tf.data.TextLineDataset([DATASET_PATH / \"test_data_solution.txt\"])\n",
        "\n",
        "dataset_test = dataset_test.map(lambda x: tf.strings.split(x, ' ::: '))\n",
        "dataset_test = dataset_test.map(lambda x: tf.stack(tf.split(x, num_or_size_splits=4)))\n",
        "dataset_test = dataset_test.map(lambda t: {'label': t[2][0], 'text': t[3][0]})\n",
        "\n",
        "dataset_test = dataset_test.map(lambda ds: (ds['text'], table[ds['label']]))\n",
        "\n",
        "dataset_test = dataset_test.map(int_vectorize_text)\n",
        "\n",
        "test = dataset_test.cache().prefetch(buffer_size=AUTOTUNE).batch(128, drop_remainder=True)"
      ]
    },
    {
      "cell_type": "code",
      "execution_count": 69,
      "metadata": {
        "colab": {
          "base_uri": "https://localhost:8080/"
        },
        "id": "r5_gsplmYizY",
        "outputId": "aded0002-ecf6-4dcc-bb40-bbd8600ad190"
      },
      "outputs": [
        {
          "output_type": "stream",
          "name": "stdout",
          "text": [
            "423/423 [==============================] - 81s 192ms/step - loss: 3.7071 - sparse_categorical_accuracy: 0.4580\n",
            "Test loss: 3.7071\n",
            "Test accuracy: 45.80 %\n"
          ]
        }
      ],
      "source": [
        "results = model.evaluate(test)\n",
        "\n",
        "print('Test loss: {:.4f}'.format(results[0]))\n",
        "print('Test accuracy: {:.2f} %'.format(results[1]*100))"
      ]
    }
  ],
  "metadata": {
    "colab": {
      "collapsed_sections": [],
      "name": "ML-NLP-TFDataset_Genre_Classification_Dataset_IMDb.ipynb",
      "provenance": []
    },
    "gpuClass": "standard",
    "kernelspec": {
      "display_name": "Python 3.9.7 ('tf27')",
      "language": "python",
      "name": "python3"
    },
    "language_info": {
      "codemirror_mode": {
        "name": "ipython",
        "version": 3
      },
      "file_extension": ".py",
      "mimetype": "text/x-python",
      "name": "python",
      "nbconvert_exporter": "python",
      "pygments_lexer": "ipython3",
      "version": "3.9.7"
    },
    "vscode": {
      "interpreter": {
        "hash": "61a5774580ead4da25b6aee735d8306daf386c9063314d720b1ae67c6fbaceae"
      }
    },
    "accelerator": "GPU"
  },
  "nbformat": 4,
  "nbformat_minor": 0
}