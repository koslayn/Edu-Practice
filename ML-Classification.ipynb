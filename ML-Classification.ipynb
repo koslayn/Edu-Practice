{
 "cells": [
  {
   "cell_type": "markdown",
   "metadata": {},
   "source": [
    "# 🔅Реализуем алгоритм KNN - самостоятельно"
   ]
  },
  {
   "cell_type": "markdown",
   "metadata": {},
   "source": [
    "## Алгоритм\n",
    "* Посчитать расстояние от каждой из 38 точек до 112 точек, по которым знаем тип цветка.\n",
    "* Расстояние рассчитывается по всем признакам ($\\sqrt{(x_1 - x_2)^2...}$) - где индексы это тренировочные и тестовые данные, а $x$ - это фичи (первая фича x, вторая y, и т.д.).\n",
    "* Список с расстояниями - состоит из расстояния (положительное число) до цветка и типа цветка от которого считали расстояние.\n",
    "* Сделать сортировку в данном списке (нужна `lambda` т.к. сложная структура вложенные списки).\n",
    "* Взять $k$ значений из сортированного списка.\n",
    "* Посчитать сколько и каких типов среди выбранных значений, выбрать тот тип, что чаще других встречается.\n",
    "* Сделать предсказание и далеко идёщие выводы.\n",
    "* Метрика проверки - угадал к общему количеству классифицируемых объектов."
   ]
  },
  {
   "cell_type": "code",
   "execution_count": 1,
   "metadata": {},
   "outputs": [
    {
     "name": "stdout",
     "output_type": "stream",
     "text": [
      "Форма представленных данных (150, 4)\n",
      "Получаем следующую структуру (y, x_1, x_2): [[0.  1.4 0.2]\n",
      " [0.  1.4 0.2]]\n"
     ]
    }
   ],
   "source": [
    "import numpy as np\n",
    "# Получаем данные о цветах\n",
    "from sklearn.datasets import load_iris\n",
    "iris_dataset = load_iris()\n",
    "iris_dataset['feature_names']\n",
    "# Попробуем повторить результат преподавателя по фичам petal length, petal width - 2 и 3\n",
    "print(f\"Форма представленных данных {iris_dataset['data'].shape}\")\n",
    "# Сделаем срез по многомерному массиву последние два столбца\n",
    "petal = iris_dataset['data'][:, 2:]\n",
    "target = iris_dataset['target'].reshape(150, 1)\n",
    "# Не забывать про скобки вокургу np.arrays\n",
    "data = np.concatenate([target, petal], axis=1)\n",
    "print(f\"Получаем следующую структуру (y, x_1, x_2): {data[:2]}\")"
   ]
  },
  {
   "cell_type": "code",
   "execution_count": 2,
   "metadata": {},
   "outputs": [
    {
     "name": "stdout",
     "output_type": "stream",
     "text": [
      "Обучающие данные (112, 3), Тестовые (в которых будет предсказывать) данные (38, 3)\n"
     ]
    }
   ],
   "source": [
    "# Проведём разделение данных на тренировочные и тестовые данные\n",
    "from sklearn.model_selection import train_test_split\n",
    "train, test = train_test_split(data, random_state=0)\n",
    "print(f'Обучающие данные {train.shape}, Тестовые (в которых будет предсказывать) данные {test.shape}')"
   ]
  },
  {
   "cell_type": "code",
   "execution_count": 3,
   "metadata": {},
   "outputs": [],
   "source": [
    "# используем класс, который позволяет подсчитывать колчество повторяющихся значений в списке\n",
    "from collections import Counter\n",
    "# Определим функцию предсказывающую типы цветков для данных передаваемых через test,\n",
    "# на оснвое известных типов в train\n",
    "def k_predict(train=train, test=test, k=5):\n",
    "    # Итоговый результат список состоящий из типов цветоков (38 элементов)\n",
    "    result_items = []\n",
    "    # Для всех данных (38), которые нужно проклассифицировать\n",
    "    for item in test:\n",
    "        # Считаем расстояния и записываем классы ццветков [[1, 10],[0, 30], ...]\n",
    "        distance = []\n",
    "        for known_type in train:\n",
    "            # данные обрабатываемые имеют структуру np.array и на нулевом месте записан тип цветка\n",
    "            # Расчёт расстояния квадртаный корень заменим на возведение в степень 1\\2\n",
    "            dist = (np.sum((item[1:] - known_type[1:])**2))**0.5\n",
    "            type_and_dist = [int(known_type[0]), dist]\n",
    "            distance.append(type_and_dist)\n",
    "        # Сортировка сложного объекта по второму значению\n",
    "        distance.sort(key=lambda i: i[1])\n",
    "        # Только тип цветка из посчитанных расстояний k элементов в начале\n",
    "        result_types = [i[0] for i in distance][:k]\n",
    "        # Наиболее часто встречающийся в списке тип (без количества)\n",
    "        result_item = Counter(result_types).most_common(n=1)[0][0]\n",
    "        # Результат предсказания для n-ого цветка\n",
    "        result_items.append(result_item)\n",
    "    # решейп для того, чтобы получить ту же форму, \n",
    "    # что и данные (входные) для которых делаются эти предсказания    \n",
    "    return np.array(result_items).reshape(38,1)"
   ]
  },
  {
   "cell_type": "code",
   "execution_count": 4,
   "metadata": {},
   "outputs": [],
   "source": [
    "prediction = k_predict(train=train, test=test, k=5)"
   ]
  },
  {
   "cell_type": "code",
   "execution_count": 5,
   "metadata": {},
   "outputs": [
    {
     "name": "stdout",
     "output_type": "stream",
     "text": [
      "Точность предсказаний: 0.9736842105263158\n"
     ]
    }
   ],
   "source": [
    "def accuracy(test=test, prediction=prediction):\n",
    "    # Сравниваем предсказанные значения с реальными\n",
    "    pred = np.sum(test[:, 0:1] == prediction)\n",
    "    acc = pred/(len(test))\n",
    "    print(f'Точность предсказаний: {acc}')\n",
    "\n",
    "accuracy(test=test, prediction=prediction)"
   ]
  },
  {
   "cell_type": "markdown",
   "metadata": {},
   "source": [
    "# 🔅🔅 Реализуем алгоритм «Наивного Байеса» - самостоятельно"
   ]
  },
  {
   "cell_type": "markdown",
   "metadata": {},
   "source": [
    "## Краткое описание алгоритма\n",
    "1. Нужно посчитать данные по 3 классам цветов по фичам (в нашем случае 2 фичи).\n",
    "2. Нужно рассчитать математическое ожидание - средняя $\\mu$ - для каждого класса.\n",
    "3. Нужно рассчитать дисперсию - вариацию $\\sigma$ - для каждого класса.\n",
    "  * Данные параметры задают форму нормального распределения (полностью её определяют).\n",
    "4. Реализовать формулу (рассчёт веротяности) $p(x_i|y) = \\frac{1}{\\sqrt{2\\pi \\sigma^2_y}}exp(-\\frac{(x_i - \\mu_y)^2}{2\\sigma^2_y})$\n",
    "  * Нужно зафиксировать параметры $\\sigma$ и $\\mu$ - по данным из обучающей выборки.\n",
    "  * Значения фичей из обучающей выборки больше не понадабятся.\n",
    "5. Посчитать условную вероятность по формуле Байеса $P(Class\\ A|Feature\\ 1, Feature\\ 2) = P(Feature\\ 1|Class\\ A)\\cdot P(Feature\\ 2|Class\\ A)\\cdot P(Class\\ A)$\n",
    "  * Умножение заменим на сложение логарифмов, чтобы не потерять в точности.\n",
    "  * Не забыть также рассчитать (долю цветков определённого класса - в разбивке - вероятность отнесения к классу) - $P(Class\\ A)$\n",
    "6. Повторить расчёт для каждого цветка по трём классам, из получившихся вероятностей выбрать наибольшую.  \n",
    "  \n",
    "[P.S. Реализация алгорита на классах и немного теории](https://www.youtube.com/watch?v=BqUmKsfSWho)"
   ]
  },
  {
   "cell_type": "code",
   "execution_count": 6,
   "metadata": {},
   "outputs": [
    {
     "name": "stdout",
     "output_type": "stream",
     "text": [
      "Форма представленных данных (150, 4)\n",
      "Обучающие данные (112, 2), Тестовые (в которых будет предсказывать) данные (38, 2)\n",
      "Пример структуры тренировчных данных:[4.2 1.5], [1]\n",
      "Пример структуры тестовых данных:[5.1 2.4], [2]\n"
     ]
    }
   ],
   "source": [
    "import numpy as np\n",
    "# Получаем данные о цветах\n",
    "from sklearn.datasets import load_iris\n",
    "iris_dataset = load_iris()\n",
    "iris_dataset['feature_names']\n",
    "# Попробуем повторить результат преподавателя по фичам petal length, petal width - 2 и 3\n",
    "print(f\"Форма представленных данных {iris_dataset['data'].shape}\")\n",
    "# Сделаем срез по многомерному массиву последние два столбца\n",
    "petal = iris_dataset['data'][:, 2:]\n",
    "target = iris_dataset['target'].reshape(150, 1)\n",
    "\n",
    "# Проведём разделение данных на тренировочные и тестовые данные\n",
    "from sklearn.model_selection import train_test_split\n",
    "train_x, test_x, train_y, test_y = train_test_split(petal, target, random_state=0)\n",
    "\n",
    "# train, test = train_test_split(data, random_state=0)\n",
    "print(f'Обучающие данные {train_x.shape}, Тестовые (в которых будет предсказывать) данные {test_x.shape}')\n",
    "print(f'Пример структуры тренировчных данных:{train_x[0]}, {train_y[0]}')\n",
    "print(f'Пример структуры тестовых данных:{test_x[0]}, {test_y[0]}')"
   ]
  },
  {
   "cell_type": "code",
   "execution_count": 7,
   "metadata": {},
   "outputs": [
    {
     "name": "stdout",
     "output_type": "stream",
     "text": [
      "Проводим разделение на 3 класса тренировочных данных\n",
      "Класс 0: [1.3 0.2], (37, 2)\n",
      "Класс 1: [5.5 2.1], (34, 2)\n",
      "Класс 2: [5.5 2.1], (41, 2)\n"
     ]
    }
   ],
   "source": [
    "# np.where() - делает отбор по условию, возвращает индексы элементов.\n",
    "# Разделим тренировочные данные на 3 класса\n",
    "# Обязательно нужен [0], возвращаеся 2D массив при отборе\n",
    "class_0 = train_x[np.where(train_y == 0)[0]]\n",
    "class_1 = train_x[np.where(train_y == 1)[0]]\n",
    "class_2 = train_x[np.where(train_y == 2)[0]]\n",
    "print(f'Проводим разделение на 3 класса тренировочных данных')\n",
    "print(f'Класс 0: {class_0[0]}, {class_0.shape}')\n",
    "print(f'Класс 1: {class_2[0]}, {class_1.shape}')\n",
    "print(f'Класс 2: {class_2[0]}, {class_2.shape}')"
   ]
  },
  {
   "cell_type": "code",
   "execution_count": 8,
   "metadata": {},
   "outputs": [
    {
     "name": "stdout",
     "output_type": "stream",
     "text": [
      "Получаем параметры для каждого класса. (sigma - var, mu - mean, prob_class): \n",
      " [(0.019780861943024117, 1.454054054054054, 0.33035714285714285), (0.011599707815924029, 0.24054054054054055, 0.33035714285714285)]\n"
     ]
    }
   ],
   "source": [
    "# Проведём расчёт мат.ожидания, дисперсии и вероятности для трёх классов цветов\n",
    "def eva_param(data):\n",
    "    # Получаем мат.ожидание по двум фичам для каждого класса\n",
    "    mu = data.mean(axis=0)\n",
    "    # Получаем дисперсию (вариацию) по двум фичам для каждого класса\n",
    "    sigma    = data.var(axis=0)\n",
    "    # Частота - вероятность отнесения к классу\n",
    "    freq = data.shape[0]/112.0\n",
    "    # Соберём параметры в список по фичам\n",
    "    params = [(s, m, freq) for s, m in zip(sigma, mu)]\n",
    "    return params\n",
    "\n",
    "class_0_param = eva_param(class_0)\n",
    "class_1_param = eva_param(class_1)\n",
    "class_2_param = eva_param(class_2)\n",
    "print(f'Получаем параметры для каждого класса. (sigma - var, mu - mean, prob_class): \\n {class_0_param}')"
   ]
  },
  {
   "cell_type": "markdown",
   "metadata": {},
   "source": [
    "## Формула для расчёта вероятности - плотность нормального распределения\n",
    "$$p(x_i|y) = \\frac{1}{\\sqrt{2\\pi \\sigma^2_y}}exp^{(-\\frac{(x_i - \\mu_y)^2}{2\\sigma^2_y})}$$  \n",
    "* $e$ в степени"
   ]
  },
  {
   "cell_type": "code",
   "execution_count": 9,
   "metadata": {},
   "outputs": [],
   "source": [
    "import math\n",
    "def probability_counter(x, sigma, mu):\n",
    "    part_1 = (1 / (math.sqrt(2*math.pi*sigma)))\n",
    "    part_2 = math.e**(-((x - mu)**2)/(2*sigma))\n",
    "    px_i = part_1 * part_2\n",
    "    return px_i\n",
    "\n",
    "    # Фрмула из https://www.youtube.com/watch?v=BqUmKsfSWho\n",
    "    # Результат тот же, но в расчётах вероятностей есть расхождение, видимо из-за точности\n",
    "#     numerator = np.exp(-((x-mu)**2) / (2 * sigma))\n",
    "#     denominator = np.sqrt(2 * np.pi * sigma)\n",
    "#     return float(numerator * denominator)"
   ]
  },
  {
   "cell_type": "code",
   "execution_count": 10,
   "metadata": {},
   "outputs": [],
   "source": [
    "def fit(params, test):\n",
    "    f_1, f_2 = params\n",
    "    pp = []\n",
    "    \n",
    "    sigma1, mu1, p_y = f_1\n",
    "    sigma2, mu2, p_y = f_2\n",
    "    \n",
    "    for xf1, xf2 in zip(test_x[:, 0], test_x[:, 1]):\n",
    "        p1 = probability_counter(xf1, sigma=sigma1, mu=mu1)\n",
    "        p2 = probability_counter(xf2, sigma=sigma2, mu=mu2)\n",
    "        # Не влияет на метрику точности, тот же результат 0,97, но веротяность будет не в долях.\n",
    "        probability = np.log(p1) + np.log(p2) + np.log(p_y)\n",
    "        # Прямой расчёт - риск потери точности\n",
    "#         probability = p1*p2*p_y\n",
    "        pp.append(probability) \n",
    "    return pp\n",
    "\n",
    "# Получаем данные по всем тестовым данным по каждому классу\n",
    "cl0 = fit(params=class_0_param, test=test_x)\n",
    "cl1 = fit(params=class_1_param, test=test_x)\n",
    "cl2 = fit(params=class_2_param, test=test_x)\n",
    "# Всё объединить\n",
    "cl_result = [[i, j, k] for i, j, k in zip(cl0, cl1, cl2)]"
   ]
  },
  {
   "cell_type": "code",
   "execution_count": 11,
   "metadata": {},
   "outputs": [
    {
     "name": "stdout",
     "output_type": "stream",
     "text": [
      "Пример предсказания:\n",
      "[-414.42294947975057, -3.580900585964839, -2.735467638613015] - 2 - -2.735467638613015\n",
      "Сделаем обратный переход от логарифмов к долям:\n",
      "[1.0432775616604588e-180, 0.02785060509360884, 0.06486366725498957] - Наибольшая вероятность принадлежности к классу: 2\n",
      "=======================================\n",
      "Точность предсказания 0.9736842105263158\n",
      "**************************************\n",
      "Точность библиотечной реализации: 0.9736842105263158\n"
     ]
    }
   ],
   "source": [
    "# Определеить какой класс - самое большое занчение вероятности\n",
    "predict = []\n",
    "for item in cl_result:\n",
    "    volume = max(item)\n",
    "    flower_id = item.index(volume)\n",
    "    predict.append(flower_id)\n",
    "    \n",
    "print(f'Пример предсказания:')\n",
    "print(f'{item} - {flower_id} - {volume}')\n",
    "print(f'Сделаем обратный переход от логарифмов к долям:')\n",
    "print(f'{list(map(math.exp, item))} - Наибольшая вероятность принадлежности к классу: {flower_id}')\n",
    "print('=======================================')\n",
    "score = 0\n",
    "for i, j in zip(predict, list(test_y[:, 0])):\n",
    "    if i == j:\n",
    "        score += 1\n",
    "print(f'Точность предсказания {score/len(predict)}')\n",
    "print('**************************************')\n",
    "# Сделаем проверку по библиотечной реализации\n",
    "from sklearn.naive_bayes import GaussianNB\n",
    "flower = GaussianNB()\n",
    "flower_model_1 = flower.fit(train_x, train_y.ravel())\n",
    "nb_predictions_1 = flower.predict(test_x)\n",
    "accuracy_1 = flower.score(test_x, test_y.ravel())\n",
    "print(f'Точность библиотечной реализации: {accuracy_1}')"
   ]
  },
  {
   "cell_type": "markdown",
   "metadata": {},
   "source": [
    "# 🔅🔅🔅 Алгоритм «Дерево решений»"
   ]
  },
  {
   "cell_type": "markdown",
   "metadata": {},
   "source": [
    "## Краткое описание алгоритма  \n",
    "  \n",
    "1. Посчитать меру энтропии - $H(X) = - \\sum_i P_x(x_i)log_b P_x(x_i)$\n",
    "  * основание логарифма $2$ или $e$.\n",
    "  * P - вероятность, можно использовать частотный подход.\n",
    "  * $P_x(x_i)$ - вероятность класса (цветков класса к общему количеству)\n",
    "  * Если Энтропия равна 0, или не очень большая остановить алгоритм.\n",
    "  * Алгоритм рекурсивный, также для остановки можно использовать кол-во ветвей.\n",
    "2. Выбираем критерий (фичу) у объекта, и по этому критерию разделяем датасет на две части.\n",
    "  * *Например: Длина стебля - больше, чем 1.0?*\n",
    "  * Считаем для всех объектов в наборе данных, т.е. разеделяем очень много раз на две части.\n",
    "3. Считаем полученную энтропию при каждом разделении.\n",
    "4. Выбираем разделение, которое больше всего уменьшает энтропию.\n",
    "5. Данное разделение - формирует правило, которое нужно сохранить.\n",
    "6. Всё повторяем до точки остановки.\n",
    "7. Нужно сохранить полученные правила и использовать их для классификации тестовых данных.\n",
    "8. Правила можно хранить в объектах, которые будут содержать в себе правило по частям и ссылку на следующий объект-правило.\n",
    "  \n",
    "[P.S. Видео объяснение](https://www.youtube.com/watch?v=RmajweUFKvM)"
   ]
  },
  {
   "cell_type": "code",
   "execution_count": 12,
   "metadata": {},
   "outputs": [],
   "source": [
    "# todo написать на досуге"
   ]
  }
 ],
 "metadata": {
  "kernelspec": {
   "display_name": "Python 3.8.1 64-bit ('an38': conda)",
   "language": "python",
   "name": "python38164bitan38conda097c5291e0a844a19e624a585f05cb01"
  },
  "language_info": {
   "codemirror_mode": {
    "name": "ipython",
    "version": 3
   },
   "file_extension": ".py",
   "mimetype": "text/x-python",
   "name": "python",
   "nbconvert_exporter": "python",
   "pygments_lexer": "ipython3",
   "version": "3.8.1"
  }
 },
 "nbformat": 4,
 "nbformat_minor": 4
}
