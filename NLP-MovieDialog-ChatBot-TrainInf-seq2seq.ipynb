{
 "cells": [
  {
   "cell_type": "markdown",
   "id": "bf0ddc51",
   "metadata": {
    "papermill": {
     "duration": 0.011832,
     "end_time": "2022-08-12T15:16:17.740735",
     "exception": false,
     "start_time": "2022-08-12T15:16:17.728903",
     "status": "completed"
    },
    "tags": []
   },
   "source": [
    "# Обучение чат-бота на основе диалогов из фильмов\n"
   ]
  },
  {
   "cell_type": "markdown",
   "id": "9a6e410c",
   "metadata": {
    "papermill": {
     "duration": 0.008675,
     "end_time": "2022-08-12T15:16:17.758457",
     "exception": false,
     "start_time": "2022-08-12T15:16:17.749782",
     "status": "completed"
    },
    "tags": []
   },
   "source": [
    "# 1 Импорт библиотек, установка, настройка"
   ]
  },
  {
   "cell_type": "markdown",
   "id": "41c9a2ec",
   "metadata": {
    "papermill": {
     "duration": 0.008713,
     "end_time": "2022-08-12T15:16:17.776049",
     "exception": false,
     "start_time": "2022-08-12T15:16:17.767336",
     "status": "completed"
    },
    "tags": []
   },
   "source": [
    "## 1.1 Импорт"
   ]
  },
  {
   "cell_type": "code",
   "execution_count": 1,
   "id": "243c3172",
   "metadata": {
    "_cell_guid": "b1076dfc-b9ad-4769-8c92-a6c4dae69d19",
    "_uuid": "8f2839f25d086af736a60e9eeb907d3b93b6e0e5",
    "execution": {
     "iopub.execute_input": "2022-08-12T15:16:17.797620Z",
     "iopub.status.busy": "2022-08-12T15:16:17.796557Z",
     "iopub.status.idle": "2022-08-12T15:16:22.274327Z",
     "shell.execute_reply": "2022-08-12T15:16:22.273362Z"
    },
    "papermill": {
     "duration": 4.490492,
     "end_time": "2022-08-12T15:16:22.276503",
     "exception": false,
     "start_time": "2022-08-12T15:16:17.786011",
     "status": "completed"
    },
    "tags": []
   },
   "outputs": [
    {
     "data": {
      "text/plain": [
       "'2.6.4'"
      ]
     },
     "execution_count": 1,
     "metadata": {},
     "output_type": "execute_result"
    }
   ],
   "source": [
    "from pathlib import Path\n",
    "import codecs\n",
    "import tensorflow as tf\n",
    "import pandas as pd\n",
    "import numpy as np\n",
    "import os\n",
    "from datetime import datetime, timedelta\n",
    "\n",
    "tf.__version__"
   ]
  },
  {
   "cell_type": "markdown",
   "id": "89d17c73",
   "metadata": {
    "papermill": {
     "duration": 0.009087,
     "end_time": "2022-08-12T15:16:22.295790",
     "exception": false,
     "start_time": "2022-08-12T15:16:22.286703",
     "status": "completed"
    },
    "tags": []
   },
   "source": [
    "## 1.2 Установка MLFlow"
   ]
  },
  {
   "cell_type": "code",
   "execution_count": 2,
   "id": "19ce4419",
   "metadata": {
    "execution": {
     "iopub.execute_input": "2022-08-12T15:16:22.314810Z",
     "iopub.status.busy": "2022-08-12T15:16:22.314014Z",
     "iopub.status.idle": "2022-08-12T15:16:22.319097Z",
     "shell.execute_reply": "2022-08-12T15:16:22.318113Z"
    },
    "papermill": {
     "duration": 0.016712,
     "end_time": "2022-08-12T15:16:22.321166",
     "exception": false,
     "start_time": "2022-08-12T15:16:22.304454",
     "status": "completed"
    },
    "tags": []
   },
   "outputs": [],
   "source": [
    "# try:\n",
    "#     import mlflow\n",
    "#     print(mlflow.__version__)\n",
    "# except:\n",
    "#     print('Устанавливаю MLFlow, не забудь перезапустить ядро. НЕ Factory rest')\n",
    "#     from IPython.display import clear_output\n",
    "#     !pip install -U mlflow\n",
    "#     clear_output(wait=False)\n",
    "#     import mlflow\n",
    "\n",
    "#     print('Устанавил и импортировал MLFlow, перезапусти ядро (!)')"
   ]
  },
  {
   "cell_type": "markdown",
   "id": "ace992e4",
   "metadata": {
    "papermill": {
     "duration": 0.008487,
     "end_time": "2022-08-12T15:16:22.338202",
     "exception": false,
     "start_time": "2022-08-12T15:16:22.329715",
     "status": "completed"
    },
    "tags": []
   },
   "source": [
    "## 1.3 Гиперпараметры"
   ]
  },
  {
   "cell_type": "code",
   "execution_count": 3,
   "id": "67a458d1",
   "metadata": {
    "execution": {
     "iopub.execute_input": "2022-08-12T15:16:22.357170Z",
     "iopub.status.busy": "2022-08-12T15:16:22.356863Z",
     "iopub.status.idle": "2022-08-12T15:16:22.362022Z",
     "shell.execute_reply": "2022-08-12T15:16:22.361098Z"
    },
    "papermill": {
     "duration": 0.016637,
     "end_time": "2022-08-12T15:16:22.363997",
     "exception": false,
     "start_time": "2022-08-12T15:16:22.347360",
     "status": "completed"
    },
    "tags": []
   },
   "outputs": [],
   "source": [
    "HP_DATASET = {'seq_len'                : 100,\n",
    "              'batch_size'             : 128,  # 64\n",
    "              'examples_per_epoch'     : None,\n",
    "              'vocab_size'             : 127,\n",
    "             }\n",
    "\n",
    "HP_MODEL = {'lstm_units'                : 512, # 1024 - гайд от tf  # 256\n",
    "            'embedding_dim'             : 512,  # 256 - гайд от tf  # 256\n",
    "            'epoch'                     : 100,\n",
    "            }"
   ]
  },
  {
   "cell_type": "markdown",
   "id": "e04028f0",
   "metadata": {
    "papermill": {
     "duration": 0.008479,
     "end_time": "2022-08-12T15:16:22.381582",
     "exception": false,
     "start_time": "2022-08-12T15:16:22.373103",
     "status": "completed"
    },
    "tags": []
   },
   "source": [
    "## 1.4 Пути и операции с файлами"
   ]
  },
  {
   "cell_type": "code",
   "execution_count": 4,
   "id": "81016f21",
   "metadata": {
    "execution": {
     "iopub.execute_input": "2022-08-12T15:16:22.401282Z",
     "iopub.status.busy": "2022-08-12T15:16:22.399883Z",
     "iopub.status.idle": "2022-08-12T15:16:22.409501Z",
     "shell.execute_reply": "2022-08-12T15:16:22.407657Z"
    },
    "papermill": {
     "duration": 0.021717,
     "end_time": "2022-08-12T15:16:22.412109",
     "exception": false,
     "start_time": "2022-08-12T15:16:22.390392",
     "status": "completed"
    },
    "tags": []
   },
   "outputs": [
    {
     "name": "stdout",
     "output_type": "stream",
     "text": [
      "Folder data was created.\n",
      "Folder models was created.\n",
      "Folder models/BackupAndRestore was created.\n",
      "Folder models/Checkpoint was created.\n",
      "Folder mlruns was created.\n",
      "Folder tblogs was created.\n",
      "Folder img was created.\n"
     ]
    }
   ],
   "source": [
    "path_dataset_folder = Path('../input/movie-dialog-tfrecord')\n",
    "\n",
    "path_data = Path('./data/')\n",
    "\n",
    "path_models = Path('./models/')\n",
    "path_backup = Path('./models/BackupAndRestore/')\n",
    "path_chekpoint = Path('./models/Checkpoint/')\n",
    "\n",
    "path_mlflow = Path('./mlruns/')\n",
    "path_tblogs = Path('./tblogs/')\n",
    "path_img = Path('./img/')\n",
    "\n",
    "\n",
    "paths = [path_data, path_models, path_backup, path_chekpoint, path_mlflow, path_tblogs, path_img]\n",
    "\n",
    "for path in paths:\n",
    "    if os.path.exists(path):\n",
    "        print(f\"Folder {path} exists!\")\n",
    "    else:\n",
    "        os.makedirs(path)\n",
    "        print(f\"Folder {path} was created.\")"
   ]
  },
  {
   "cell_type": "code",
   "execution_count": 5,
   "id": "28051351",
   "metadata": {
    "execution": {
     "iopub.execute_input": "2022-08-12T15:16:22.432965Z",
     "iopub.status.busy": "2022-08-12T15:16:22.431368Z",
     "iopub.status.idle": "2022-08-12T15:16:22.437131Z",
     "shell.execute_reply": "2022-08-12T15:16:22.436241Z"
    },
    "papermill": {
     "duration": 0.017707,
     "end_time": "2022-08-12T15:16:22.439116",
     "exception": false,
     "start_time": "2022-08-12T15:16:22.421409",
     "status": "completed"
    },
    "tags": []
   },
   "outputs": [],
   "source": [
    "model_chats_from_ids = '../input/movie-dialog-tfrecord/models/chars_from_ids'\n",
    "model_ids_from_chars = '../input/movie-dialog-tfrecord/models/ids_from_chars'\n",
    "path_model           = '../input/movie-dialog-tfrecord/models/saved_model_2022-08-12_06-05-58'\n",
    "\n",
    "filename_input_target_ids = f\"input_target_ids_len60.tfrecords\"\n",
    "filename_input_target_ids = f\"input_target_ids_len200.tfrecords\"\n",
    "\n",
    "filename_model = './saved_model_' + str((datetime.now() + timedelta(hours=3)).strftime(\"%Y-%m-%d_%H-%M-%S\"))"
   ]
  },
  {
   "cell_type": "markdown",
   "id": "2f67228d",
   "metadata": {
    "papermill": {
     "duration": 0.00927,
     "end_time": "2022-08-12T15:16:22.457204",
     "exception": false,
     "start_time": "2022-08-12T15:16:22.447934",
     "status": "completed"
    },
    "tags": []
   },
   "source": [
    "## 1.5 TF Callbacks"
   ]
  },
  {
   "cell_type": "code",
   "execution_count": 6,
   "id": "36ba69ff",
   "metadata": {
    "execution": {
     "iopub.execute_input": "2022-08-12T15:16:22.476238Z",
     "iopub.status.busy": "2022-08-12T15:16:22.475419Z",
     "iopub.status.idle": "2022-08-12T15:16:23.579664Z",
     "shell.execute_reply": "2022-08-12T15:16:23.578275Z"
    },
    "papermill": {
     "duration": 1.11716,
     "end_time": "2022-08-12T15:16:23.582947",
     "exception": false,
     "start_time": "2022-08-12T15:16:22.465787",
     "status": "completed"
    },
    "tags": []
   },
   "outputs": [
    {
     "name": "stderr",
     "output_type": "stream",
     "text": [
      "2022-08-12 15:16:23.374321: I tensorflow/core/profiler/lib/profiler_session.cc:131] Profiler session initializing.\n",
      "2022-08-12 15:16:23.374362: I tensorflow/core/profiler/lib/profiler_session.cc:146] Profiler session started.\n",
      "2022-08-12 15:16:23.437537: I tensorflow/core/profiler/internal/gpu/cupti_tracer.cc:1614] Profiler found 1 GPUs\n",
      "2022-08-12 15:16:23.473206: I tensorflow/core/profiler/lib/profiler_session.cc:164] Profiler session tear down.\n",
      "2022-08-12 15:16:23.473363: I tensorflow/core/profiler/internal/gpu/cupti_tracer.cc:1748] CUPTI activity buffer flushed\n"
     ]
    }
   ],
   "source": [
    "current_date = (datetime.now() + timedelta(hours=3)).strftime(\"%Y-%m-%d_%H-%M-%S\")\n",
    "path_logs = str(Path(path_tblogs / current_date))\n",
    "\n",
    "callback_tboard = tf.keras.callbacks.TensorBoard(log_dir = path_logs, \n",
    "                                                 histogram_freq = 1,\n",
    "                                                )\n",
    "                                        \n",
    "# Остановить обучение автоматически, как метрика перестянет меняться\n",
    "callback_earlystop = tf.keras.callbacks.EarlyStopping(monitor='val_loss', \n",
    "                                                      mode='min',\n",
    "                                                      patience=3)\n",
    "\n",
    "# Можно прерывать обучение и после восстанавливать его, callback смотрит в указанную папку\n",
    "backup = tf.keras.callbacks.experimental.BackupAndRestore(path_backup)\n",
    "# callback_backup = tf.keras.callbacks.BackupAndRestore(path_backup)\n",
    "\n",
    "# Сохранение лучших результатов обучения\n",
    "path_ch = Path(path_chekpoint / current_date)\n",
    "callback_checkpoint = tf.keras.callbacks.ModelCheckpoint(filepath=path_ch,\n",
    "                                                         save_weights_only=False, \n",
    "                                                         monitor='loss',\n",
    "                                                         mode='min',\n",
    "                                                         save_best_only=True)"
   ]
  },
  {
   "cell_type": "markdown",
   "id": "8c27120e",
   "metadata": {
    "papermill": {
     "duration": 0.008923,
     "end_time": "2022-08-12T15:16:23.601898",
     "exception": false,
     "start_time": "2022-08-12T15:16:23.592975",
     "status": "completed"
    },
    "tags": []
   },
   "source": [
    "## 2 Загрузка TFRecord & кодировщиков"
   ]
  },
  {
   "cell_type": "markdown",
   "id": "dc161237",
   "metadata": {
    "papermill": {
     "duration": 0.009136,
     "end_time": "2022-08-12T15:16:23.620119",
     "exception": false,
     "start_time": "2022-08-12T15:16:23.610983",
     "status": "completed"
    },
    "tags": []
   },
   "source": [
    "### 2.1 TFRecord -> Dataset"
   ]
  },
  {
   "cell_type": "code",
   "execution_count": 7,
   "id": "8966d707",
   "metadata": {
    "execution": {
     "iopub.execute_input": "2022-08-12T15:16:23.638987Z",
     "iopub.status.busy": "2022-08-12T15:16:23.638683Z",
     "iopub.status.idle": "2022-08-12T15:16:23.644922Z",
     "shell.execute_reply": "2022-08-12T15:16:23.643923Z"
    },
    "papermill": {
     "duration": 0.017987,
     "end_time": "2022-08-12T15:16:23.646915",
     "exception": false,
     "start_time": "2022-08-12T15:16:23.628928",
     "status": "completed"
    },
    "tags": []
   },
   "outputs": [],
   "source": [
    "# Функция для чтения TFRecords\n",
    "feature_description = {\n",
    "        'encode_input_seqs'  : tf.io.FixedLenFeature([], tf.string, default_value=''),\n",
    "        'decode_input_seqs'  : tf.io.FixedLenFeature([], tf.string, default_value=''),\n",
    "        'decode_target_seqs' : tf.io.FixedLenFeature([], tf.string, default_value=''),\n",
    "          }\n",
    "\n",
    "def parse_function(example_proto):\n",
    "  parsed = tf.io.parse_single_example(example_proto, feature_description)\n",
    "  return (parsed['encode_input_seqs'], parsed['decode_input_seqs'], parsed['decode_target_seqs'])"
   ]
  },
  {
   "cell_type": "code",
   "execution_count": 8,
   "id": "40d791d2",
   "metadata": {
    "execution": {
     "iopub.execute_input": "2022-08-12T15:16:23.667110Z",
     "iopub.status.busy": "2022-08-12T15:16:23.666234Z",
     "iopub.status.idle": "2022-08-12T15:17:48.444274Z",
     "shell.execute_reply": "2022-08-12T15:17:48.442780Z"
    },
    "papermill": {
     "duration": 84.790422,
     "end_time": "2022-08-12T15:17:48.446434",
     "exception": false,
     "start_time": "2022-08-12T15:16:23.656012",
     "status": "completed"
    },
    "tags": []
   },
   "outputs": [
    {
     "name": "stderr",
     "output_type": "stream",
     "text": [
      "2022-08-12 15:16:23.677630: I tensorflow/stream_executor/cuda/cuda_gpu_executor.cc:937] successful NUMA node read from SysFS had negative value (-1), but there must be at least one NUMA node, so returning NUMA node zero\n",
      "2022-08-12 15:16:23.784321: I tensorflow/stream_executor/cuda/cuda_gpu_executor.cc:937] successful NUMA node read from SysFS had negative value (-1), but there must be at least one NUMA node, so returning NUMA node zero\n",
      "2022-08-12 15:16:23.785075: I tensorflow/stream_executor/cuda/cuda_gpu_executor.cc:937] successful NUMA node read from SysFS had negative value (-1), but there must be at least one NUMA node, so returning NUMA node zero\n",
      "2022-08-12 15:16:23.787579: I tensorflow/core/platform/cpu_feature_guard.cc:142] This TensorFlow binary is optimized with oneAPI Deep Neural Network Library (oneDNN) to use the following CPU instructions in performance-critical operations:  AVX2 AVX512F FMA\n",
      "To enable them in other operations, rebuild TensorFlow with the appropriate compiler flags.\n",
      "2022-08-12 15:16:23.787884: I tensorflow/stream_executor/cuda/cuda_gpu_executor.cc:937] successful NUMA node read from SysFS had negative value (-1), but there must be at least one NUMA node, so returning NUMA node zero\n",
      "2022-08-12 15:16:23.788621: I tensorflow/stream_executor/cuda/cuda_gpu_executor.cc:937] successful NUMA node read from SysFS had negative value (-1), but there must be at least one NUMA node, so returning NUMA node zero\n",
      "2022-08-12 15:16:23.789280: I tensorflow/stream_executor/cuda/cuda_gpu_executor.cc:937] successful NUMA node read from SysFS had negative value (-1), but there must be at least one NUMA node, so returning NUMA node zero\n",
      "2022-08-12 15:16:25.966206: I tensorflow/stream_executor/cuda/cuda_gpu_executor.cc:937] successful NUMA node read from SysFS had negative value (-1), but there must be at least one NUMA node, so returning NUMA node zero\n",
      "2022-08-12 15:16:25.967013: I tensorflow/stream_executor/cuda/cuda_gpu_executor.cc:937] successful NUMA node read from SysFS had negative value (-1), but there must be at least one NUMA node, so returning NUMA node zero\n",
      "2022-08-12 15:16:25.967698: I tensorflow/stream_executor/cuda/cuda_gpu_executor.cc:937] successful NUMA node read from SysFS had negative value (-1), but there must be at least one NUMA node, so returning NUMA node zero\n",
      "2022-08-12 15:16:25.968337: I tensorflow/core/common_runtime/gpu/gpu_device.cc:1510] Created device /job:localhost/replica:0/task:0/device:GPU:0 with 15403 MB memory:  -> device: 0, name: Tesla P100-PCIE-16GB, pci bus id: 0000:00:04.0, compute capability: 6.0\n"
     ]
    },
    {
     "name": "stdout",
     "output_type": "stream",
     "text": [
      "WARNING: AutoGraph could not transform <function <lambda> at 0x7efc8cb88170> and will run it as-is.\n",
      "Cause: could not parse the source code of <function <lambda> at 0x7efc8cb88170>: no matching AST found\n",
      "To silence this warning, decorate the function with @tf.autograph.experimental.do_not_convert\n"
     ]
    },
    {
     "name": "stderr",
     "output_type": "stream",
     "text": [
      "2022-08-12 15:16:26.461901: I tensorflow/compiler/mlir/mlir_graph_optimization_pass.cc:185] None of the MLIR Optimization Passes are enabled (registered 2)\n"
     ]
    },
    {
     "name": "stdout",
     "output_type": "stream",
     "text": [
      "Набор объёмом: 207858\n",
      "WARNING: AutoGraph could not transform <function <lambda> at 0x7efc8d0e1b00> and will run it as-is.\n",
      "Cause: could not parse the source code of <function <lambda> at 0x7efc8d0e1b00>: no matching AST found\n",
      "To silence this warning, decorate the function with @tf.autograph.experimental.do_not_convert\n",
      "({'encode_input_seqs': <tf.Tensor: shape=(200,), dtype=int32, numpy=\n",
      "array([34, 63, 76,  1, 85, 67,  1, 75, 63, 73, 67,  1, 82, 70, 71, 81,  1,\n",
      "       79, 83, 71, 65, 73, 31,  1,  1, 49, 77, 86, 63, 76, 76, 67,  1, 42,\n",
      "       77, 80, 80, 71, 76, 67,  1, 63, 76, 66,  1, 32, 76, 66, 80, 67, 85,\n",
      "        1, 33, 63, 80, 80, 67, 82, 82,  1, 63, 80, 67,  1, 70, 63, 84, 71,\n",
      "       76, 69,  1, 63, 76,  1, 71, 76, 65, 80, 67, 66, 71, 64, 74, 87,  1,\n",
      "       70, 77, 80, 80, 67, 76, 66, 77, 83, 81,  1, 78, 83, 64, 74, 71, 65,\n",
      "        1, 64, 80, 67, 63, 73, 13,  1, 83, 78,  1, 77, 76,  1, 82, 70, 67,\n",
      "        1, 79, 83, 63, 66, 14,  1,  1, 32, 69, 63, 71, 76, 14,  0,  0,  0,\n",
      "        0,  0,  0,  0,  0,  0,  0,  0,  0,  0,  0,  0,  0,  0,  0,  0,  0,\n",
      "        0,  0,  0,  0,  0,  0,  0,  0,  0,  0,  0,  0,  0,  0,  0,  0,  0,\n",
      "        0,  0,  0,  0,  0,  0,  0,  0,  0,  0,  0,  0,  0,  0,  0,  0,  0,\n",
      "        0,  0,  0,  0,  0,  0,  0,  0,  0,  0,  0,  0,  0], dtype=int32)>, 'decode_input_seqs': <tf.Tensor: shape=(200,), dtype=int32, numpy=\n",
      "array([125,  54,  67,  74,  74,   1,  40,   1,  82,  70,  77,  83,  69,\n",
      "        70,  82,   1,  85,  67,   8,  66,   1,  81,  82,  63,  80,  82,\n",
      "         1,  85,  71,  82,  70,   1,  78,  80,  77,  76,  83,  76,  65,\n",
      "        71,  63,  82,  71,  77,  76,   1,  71,  68,   1,  82,  70,  63,\n",
      "        82,   8,  81,   1,  77,  73,  63,  87,   1,  85,  71,  82,  70,\n",
      "         1,  87,  77,  83,  14,   0,   0,   0,   0,   0,   0,   0,   0,\n",
      "         0,   0,   0,   0,   0,   0,   0,   0,   0,   0,   0,   0,   0,\n",
      "         0,   0,   0,   0,   0,   0,   0,   0,   0,   0,   0,   0,   0,\n",
      "         0,   0,   0,   0,   0,   0,   0,   0,   0,   0,   0,   0,   0,\n",
      "         0,   0,   0,   0,   0,   0,   0,   0,   0,   0,   0,   0,   0,\n",
      "         0,   0,   0,   0,   0,   0,   0,   0,   0,   0,   0,   0,   0,\n",
      "         0,   0,   0,   0,   0,   0,   0,   0,   0,   0,   0,   0,   0,\n",
      "         0,   0,   0,   0,   0,   0,   0,   0,   0,   0,   0,   0,   0,\n",
      "         0,   0,   0,   0,   0,   0,   0,   0,   0,   0,   0,   0,   0,\n",
      "         0,   0,   0,   0,   0,   0,   0,   0,   0,   0,   0,   0,   0,\n",
      "         0,   0,   0,   0,   0], dtype=int32)>}, <tf.Tensor: shape=(200,), dtype=int32, numpy=\n",
      "array([ 54,  67,  74,  74,   1,  40,   1,  82,  70,  77,  83,  69,  70,\n",
      "        82,   1,  85,  67,   8,  66,   1,  81,  82,  63,  80,  82,   1,\n",
      "        85,  71,  82,  70,   1,  78,  80,  77,  76,  83,  76,  65,  71,\n",
      "        63,  82,  71,  77,  76,   1,  71,  68,   1,  82,  70,  63,  82,\n",
      "         8,  81,   1,  77,  73,  63,  87,   1,  85,  71,  82,  70,   1,\n",
      "        87,  77,  83,  14, 126,   0,   0,   0,   0,   0,   0,   0,   0,\n",
      "         0,   0,   0,   0,   0,   0,   0,   0,   0,   0,   0,   0,   0,\n",
      "         0,   0,   0,   0,   0,   0,   0,   0,   0,   0,   0,   0,   0,\n",
      "         0,   0,   0,   0,   0,   0,   0,   0,   0,   0,   0,   0,   0,\n",
      "         0,   0,   0,   0,   0,   0,   0,   0,   0,   0,   0,   0,   0,\n",
      "         0,   0,   0,   0,   0,   0,   0,   0,   0,   0,   0,   0,   0,\n",
      "         0,   0,   0,   0,   0,   0,   0,   0,   0,   0,   0,   0,   0,\n",
      "         0,   0,   0,   0,   0,   0,   0,   0,   0,   0,   0,   0,   0,\n",
      "         0,   0,   0,   0,   0,   0,   0,   0,   0,   0,   0,   0,   0,\n",
      "         0,   0,   0,   0,   0,   0,   0,   0,   0,   0,   0,   0,   0,\n",
      "         0,   0,   0,   0,   0], dtype=int32)>)\n",
      "CPU times: user 1min 15s, sys: 12.7 s, total: 1min 27s\n",
      "Wall time: 1min 24s\n"
     ]
    }
   ],
   "source": [
    "%%time\n",
    "path = str(path_dataset_folder / filename_input_target_ids)\n",
    "\n",
    "dataset = tf.data.TFRecordDataset(filenames = [path])\n",
    "dataset = dataset.map(parse_function)\n",
    "dataset = dataset.map(lambda x, y, z: [tf.io.parse_tensor(x, out_type=tf.int32), \n",
    "                                       tf.io.parse_tensor(y, out_type=tf.int32),\n",
    "                                       tf.io.parse_tensor(z, out_type=tf.int32)])\n",
    "\n",
    "len_tfr = []\n",
    "for i in dataset:\n",
    "    len_tfr.append(i)\n",
    "print('Набор объёмом:', len(len_tfr))\n",
    "\n",
    "\n",
    "# ✅ Указываем выходы для сети\n",
    "dataset = dataset.map(lambda i1, i2, t: ({'encode_input_seqs': i1, 'decode_input_seqs': i2}, t))\n",
    "\n",
    "for i in dataset.take(1):\n",
    "    print(i)"
   ]
  },
  {
   "cell_type": "code",
   "execution_count": 9,
   "id": "21a16e9d",
   "metadata": {
    "execution": {
     "iopub.execute_input": "2022-08-12T15:17:48.467233Z",
     "iopub.status.busy": "2022-08-12T15:17:48.466185Z",
     "iopub.status.idle": "2022-08-12T15:17:48.480133Z",
     "shell.execute_reply": "2022-08-12T15:17:48.479101Z"
    },
    "papermill": {
     "duration": 0.02648,
     "end_time": "2022-08-12T15:17:48.482342",
     "exception": false,
     "start_time": "2022-08-12T15:17:48.455862",
     "status": "completed"
    },
    "tags": []
   },
   "outputs": [
    {
     "data": {
      "text/plain": [
       "<PrefetchDataset shapes: ({encode_input_seqs: <unknown>, decode_input_seqs: <unknown>}, <unknown>), types: ({encode_input_seqs: tf.int32, decode_input_seqs: tf.int32}, tf.int32)>"
      ]
     },
     "execution_count": 9,
     "metadata": {},
     "output_type": "execute_result"
    }
   ],
   "source": [
    "# ✅ Настройка dataset для отправки в fit()\n",
    "\n",
    "dataset = dataset.shuffle(10_000)\n",
    "dataset = dataset.batch(HP_DATASET['batch_size'])\n",
    "dataset = dataset.prefetch(tf.data.experimental.AUTOTUNE)\n",
    "dataset"
   ]
  },
  {
   "cell_type": "code",
   "execution_count": 10,
   "id": "40df290e",
   "metadata": {
    "execution": {
     "iopub.execute_input": "2022-08-12T15:17:48.502058Z",
     "iopub.status.busy": "2022-08-12T15:17:48.501780Z",
     "iopub.status.idle": "2022-08-12T15:17:49.391678Z",
     "shell.execute_reply": "2022-08-12T15:17:49.389759Z"
    },
    "papermill": {
     "duration": 0.90218,
     "end_time": "2022-08-12T15:17:49.393848",
     "exception": false,
     "start_time": "2022-08-12T15:17:48.491668",
     "status": "completed"
    },
    "tags": []
   },
   "outputs": [
    {
     "name": "stdout",
     "output_type": "stream",
     "text": [
      "({'encode_input_seqs': <tf.Tensor: shape=(128, 200), dtype=int32, numpy=\n",
      "array([[40,  1, 73, ...,  0,  0,  0],\n",
      "       [40,  1, 75, ...,  0,  0,  0],\n",
      "       [39, 67,  8, ...,  0,  0,  0],\n",
      "       ...,\n",
      "       [51, 70, 67, ...,  0,  0,  0],\n",
      "       [46, 70,  1, ...,  0,  0,  0],\n",
      "       [56, 77, 83, ...,  0,  0,  0]], dtype=int32)>, 'decode_input_seqs': <tf.Tensor: shape=(128, 200), dtype=int32, numpy=\n",
      "array([[125,  54,  70, ...,   0,   0,   0],\n",
      "       [125,  38,  67, ...,   0,   0,   0],\n",
      "       [125,  45,  77, ...,   0,   0,   0],\n",
      "       ...,\n",
      "       [125,  40,   1, ...,   0,   0,   0],\n",
      "       [125,  54,  70, ...,   0,   0,   0],\n",
      "       [125,  40,   1, ...,   0,   0,   0]], dtype=int32)>}, <tf.Tensor: shape=(128, 200), dtype=int32, numpy=\n",
      "array([[54, 70, 63, ...,  0,  0,  0],\n",
      "       [38, 67, 67, ...,  0,  0,  0],\n",
      "       [45, 77, 14, ...,  0,  0,  0],\n",
      "       ...,\n",
      "       [40,  1, 68, ...,  0,  0,  0],\n",
      "       [54, 70, 63, ...,  0,  0,  0],\n",
      "       [40,  1, 72, ...,  0,  0,  0]], dtype=int32)>)\n"
     ]
    }
   ],
   "source": [
    "for i in dataset.take(1):\n",
    "    print(i)"
   ]
  },
  {
   "cell_type": "markdown",
   "id": "0195b2f7",
   "metadata": {
    "papermill": {
     "duration": 0.009316,
     "end_time": "2022-08-12T15:17:49.412952",
     "exception": false,
     "start_time": "2022-08-12T15:17:49.403636",
     "status": "completed"
    },
    "tags": []
   },
   "source": [
    "### 2.2 Кодирование и декодирование символов: `ids from char, char from ids`"
   ]
  },
  {
   "cell_type": "code",
   "execution_count": 11,
   "id": "c0e770e0",
   "metadata": {
    "execution": {
     "iopub.execute_input": "2022-08-12T15:17:49.432925Z",
     "iopub.status.busy": "2022-08-12T15:17:49.432582Z",
     "iopub.status.idle": "2022-08-12T15:17:49.438099Z",
     "shell.execute_reply": "2022-08-12T15:17:49.437145Z"
    },
    "papermill": {
     "duration": 0.017812,
     "end_time": "2022-08-12T15:17:49.440120",
     "exception": false,
     "start_time": "2022-08-12T15:17:49.422308",
     "status": "completed"
    },
    "tags": []
   },
   "outputs": [],
   "source": [
    "def string_split(x : str, tags=False):\n",
    "    # функция для разделения строки на элементы\n",
    "    # в начале и конце добавляет теги\n",
    "    if tags:\n",
    "        splited_string = ['<START>']\n",
    "        splited_string.extend([*x])\n",
    "        splited_string.extend(['<END>'])\n",
    "        return splited_string\n",
    "        \n",
    "    return [*x]"
   ]
  },
  {
   "cell_type": "code",
   "execution_count": 12,
   "id": "6d776b36",
   "metadata": {
    "execution": {
     "iopub.execute_input": "2022-08-12T15:17:49.460226Z",
     "iopub.status.busy": "2022-08-12T15:17:49.459956Z",
     "iopub.status.idle": "2022-08-12T15:17:49.633066Z",
     "shell.execute_reply": "2022-08-12T15:17:49.632027Z"
    },
    "papermill": {
     "duration": 0.185249,
     "end_time": "2022-08-12T15:17:49.635146",
     "exception": false,
     "start_time": "2022-08-12T15:17:49.449897",
     "status": "completed"
    },
    "tags": []
   },
   "outputs": [
    {
     "data": {
      "text/plain": [
       "<tf.Tensor: shape=(11,), dtype=int64, numpy=array([70, 67, 74, 74, 77,  1, 85, 77, 80, 74, 66])>"
      ]
     },
     "execution_count": 12,
     "metadata": {},
     "output_type": "execute_result"
    }
   ],
   "source": [
    "ids_from_chars = tf.keras.models.load_model(model_ids_from_chars)\n",
    "ids_from_chars = ids_from_chars.layers[0]\n",
    "\n",
    "example_str = string_split('hello world')\n",
    "\n",
    "ids_from_chars(example_str)"
   ]
  },
  {
   "cell_type": "code",
   "execution_count": 13,
   "id": "69c83711",
   "metadata": {
    "execution": {
     "iopub.execute_input": "2022-08-12T15:17:49.655807Z",
     "iopub.status.busy": "2022-08-12T15:17:49.655529Z",
     "iopub.status.idle": "2022-08-12T15:17:49.667903Z",
     "shell.execute_reply": "2022-08-12T15:17:49.667048Z"
    },
    "papermill": {
     "duration": 0.024812,
     "end_time": "2022-08-12T15:17:49.669929",
     "exception": false,
     "start_time": "2022-08-12T15:17:49.645117",
     "status": "completed"
    },
    "tags": []
   },
   "outputs": [
    {
     "data": {
      "text/plain": [
       "{'seq_len': 100,\n",
       " 'batch_size': 128,\n",
       " 'examples_per_epoch': None,\n",
       " 'vocab_size': 127}"
      ]
     },
     "execution_count": 13,
     "metadata": {},
     "output_type": "execute_result"
    }
   ],
   "source": [
    "HP_DATASET['vocab_size'] = len(ids_from_chars.get_vocabulary())\n",
    "HP_DATASET"
   ]
  },
  {
   "cell_type": "code",
   "execution_count": 14,
   "id": "1d62f2ba",
   "metadata": {
    "execution": {
     "iopub.execute_input": "2022-08-12T15:17:49.690708Z",
     "iopub.status.busy": "2022-08-12T15:17:49.690398Z",
     "iopub.status.idle": "2022-08-12T15:17:49.694862Z",
     "shell.execute_reply": "2022-08-12T15:17:49.693892Z"
    },
    "papermill": {
     "duration": 0.016793,
     "end_time": "2022-08-12T15:17:49.696821",
     "exception": false,
     "start_time": "2022-08-12T15:17:49.680028",
     "status": "completed"
    },
    "tags": []
   },
   "outputs": [],
   "source": [
    "def string_join(ids):\n",
    "  return tf.strings.reduce_join(ids, axis=-1).numpy().decode('utf8')"
   ]
  },
  {
   "cell_type": "code",
   "execution_count": 15,
   "id": "96a729fd",
   "metadata": {
    "execution": {
     "iopub.execute_input": "2022-08-12T15:17:49.717661Z",
     "iopub.status.busy": "2022-08-12T15:17:49.717399Z",
     "iopub.status.idle": "2022-08-12T15:17:49.847040Z",
     "shell.execute_reply": "2022-08-12T15:17:49.846039Z"
    },
    "papermill": {
     "duration": 0.142859,
     "end_time": "2022-08-12T15:17:49.849372",
     "exception": false,
     "start_time": "2022-08-12T15:17:49.706513",
     "status": "completed"
    },
    "tags": []
   },
   "outputs": [
    {
     "data": {
      "text/plain": [
       "'hello world'"
      ]
     },
     "execution_count": 15,
     "metadata": {},
     "output_type": "execute_result"
    }
   ],
   "source": [
    "chars_from_ids = tf.keras.models.load_model(model_chats_from_ids)\n",
    "chars_from_ids = chars_from_ids.layers[0]\n",
    "\n",
    "example_ids = [70, 67, 74, 74, 77,  1, 85, 77, 80, 74, 66]\n",
    "example_symb = chars_from_ids(example_ids)\n",
    "\n",
    "string_join(example_symb)"
   ]
  },
  {
   "cell_type": "markdown",
   "id": "e7822728",
   "metadata": {
    "papermill": {
     "duration": 0.0096,
     "end_time": "2022-08-12T15:17:49.869635",
     "exception": false,
     "start_time": "2022-08-12T15:17:49.860035",
     "status": "completed"
    },
    "tags": []
   },
   "source": [
    "# 3 Архитектура модели (Functional API)"
   ]
  },
  {
   "cell_type": "code",
   "execution_count": 16,
   "id": "f8f2a9cc",
   "metadata": {
    "execution": {
     "iopub.execute_input": "2022-08-12T15:17:49.891022Z",
     "iopub.status.busy": "2022-08-12T15:17:49.890722Z",
     "iopub.status.idle": "2022-08-12T15:17:52.612699Z",
     "shell.execute_reply": "2022-08-12T15:17:52.611605Z"
    },
    "papermill": {
     "duration": 2.735389,
     "end_time": "2022-08-12T15:17:52.614977",
     "exception": false,
     "start_time": "2022-08-12T15:17:49.879588",
     "status": "completed"
    },
    "tags": []
   },
   "outputs": [
    {
     "data": {
      "image/png": "[encoded data removed]",
      "text/plain": [
       "<IPython.core.display.Image object>"
      ]
     },
     "execution_count": 16,
     "metadata": {},
     "output_type": "execute_result"
    }
   ],
   "source": [
    "# ✅ Encoder\n",
    "encoder_input = tf.keras.layers.Input(shape=(None, ),\n",
    "                               name='encode_input_seqs')\n",
    "\n",
    "encoder_embedded = tf.keras.layers.Embedding(input_dim         = HP_DATASET['vocab_size'],\n",
    "                                             output_dim        = HP_MODEL['embedding_dim'],\n",
    "                                             # Указываем, что есть паддинг - маска\n",
    "                                             mask_zero         = True)(encoder_input)\n",
    "\n",
    "_, encoder_state_h, encoder_state_c = tf.keras.layers.LSTM(units                   = HP_MODEL['lstm_units'], \n",
    "                                                           # H возвращается, но не весь - только последний элемент.\n",
    "                                                           return_sequences        = False,\n",
    "                                                           # C - вернуть своё внутренее состояние\n",
    "                                                           return_state            = True,\n",
    "                                                           name                    = 'encoder')(encoder_embedded) \n",
    "\n",
    "encoder_state = [encoder_state_h, encoder_state_c]\n",
    "\n",
    "# ✅ Decoder\n",
    "decoder_input = tf.keras.layers.Input(shape=(None, ),\n",
    "                               name='decode_input_seqs')\n",
    "\n",
    "decoder_embedded = tf.keras.layers.Embedding(input_dim         = HP_DATASET['vocab_size'],\n",
    "                                             output_dim        = HP_MODEL['embedding_dim'],\n",
    "                                             mask_zero         = True,)(decoder_input)\n",
    "\n",
    "\n",
    "decoder_output, decoder_state_h, decoder_state_c = tf.keras.layers.LSTM(units                   = HP_MODEL['lstm_units'],\n",
    "                                                                   # Нужна вся выходная цепочка\n",
    "                                                                     return_sequences        = True,                \n",
    "                                                                    # Нужно возвращать состояние для инференса, чтобы генерировать цепочку.\n",
    "                                                                    return_state            = True\n",
    "                                                                )(decoder_embedded, initial_state=encoder_state)  \n",
    "\n",
    "\n",
    "\n",
    "output = tf.keras.layers.Dense(HP_DATASET['vocab_size'], activation='softmax')(decoder_output)\n",
    "\n",
    "\n",
    "\n",
    "# ✅ Компиляция и вывод архитектуры: указываются выходы и выходы.\n",
    "model = tf.keras.Model(inputs=[encoder_input, decoder_input], outputs=[output])\n",
    "\n",
    "\n",
    "loss = tf.keras.losses.SparseCategoricalCrossentropy(\n",
    "    from_logits=False,\n",
    "    reduction='auto',\n",
    "    name='sparse_categorical_crossentropy')\n",
    "\n",
    "\n",
    "# optimizer = tf.keras.optimizers.Adam()\n",
    "optimizer = tf.keras.optimizers.RMSprop(\n",
    "    learning_rate=0.001, rho=0.9, momentum=0.0, epsilon=1e-07, centered=False,\n",
    "    name='RMSprop')\n",
    "\n",
    "metric = tf.keras.metrics.SparseCategoricalAccuracy(name='sparse_categorical_accuracy', dtype=None)\n",
    "\n",
    "\n",
    "model.compile(optimizer=optimizer, loss=loss, metrics=[metric]) #optimizer='rmsprop'\n",
    "\n",
    "tf.keras.utils.plot_model(model, show_shapes=True)"
   ]
  },
  {
   "cell_type": "code",
   "execution_count": 17,
   "id": "70e58822",
   "metadata": {
    "execution": {
     "iopub.execute_input": "2022-08-12T15:17:52.638539Z",
     "iopub.status.busy": "2022-08-12T15:17:52.637746Z",
     "iopub.status.idle": "2022-08-12T15:17:52.646172Z",
     "shell.execute_reply": "2022-08-12T15:17:52.644594Z"
    },
    "papermill": {
     "duration": 0.022287,
     "end_time": "2022-08-12T15:17:52.648220",
     "exception": false,
     "start_time": "2022-08-12T15:17:52.625933",
     "status": "completed"
    },
    "tags": []
   },
   "outputs": [
    {
     "name": "stdout",
     "output_type": "stream",
     "text": [
      "Model: \"model\"\n",
      "__________________________________________________________________________________________________\n",
      "Layer (type)                    Output Shape         Param #     Connected to                     \n",
      "==================================================================================================\n",
      "encode_input_seqs (InputLayer)  [(None, None)]       0                                            \n",
      "__________________________________________________________________________________________________\n",
      "decode_input_seqs (InputLayer)  [(None, None)]       0                                            \n",
      "__________________________________________________________________________________________________\n",
      "embedding (Embedding)           (None, None, 512)    65024       encode_input_seqs[0][0]          \n",
      "__________________________________________________________________________________________________\n",
      "embedding_1 (Embedding)         (None, None, 512)    65024       decode_input_seqs[0][0]          \n",
      "__________________________________________________________________________________________________\n",
      "encoder (LSTM)                  [(None, 512), (None, 2099200     embedding[0][0]                  \n",
      "__________________________________________________________________________________________________\n",
      "lstm (LSTM)                     [(None, None, 512),  2099200     embedding_1[0][0]                \n",
      "                                                                 encoder[0][1]                    \n",
      "                                                                 encoder[0][2]                    \n",
      "__________________________________________________________________________________________________\n",
      "dense (Dense)                   (None, None, 127)    65151       lstm[0][0]                       \n",
      "==================================================================================================\n",
      "Total params: 4,393,599\n",
      "Trainable params: 4,393,599\n",
      "Non-trainable params: 0\n",
      "__________________________________________________________________________________________________\n"
     ]
    }
   ],
   "source": [
    "model.summary()"
   ]
  },
  {
   "cell_type": "markdown",
   "id": "9e921bbd",
   "metadata": {
    "papermill": {
     "duration": 0.010686,
     "end_time": "2022-08-12T15:17:52.669354",
     "exception": false,
     "start_time": "2022-08-12T15:17:52.658668",
     "status": "completed"
    },
    "tags": []
   },
   "source": [
    "## 4 Обучение модели"
   ]
  },
  {
   "cell_type": "markdown",
   "id": "e0022f41",
   "metadata": {
    "papermill": {
     "duration": 0.010366,
     "end_time": "2022-08-12T15:17:52.690211",
     "exception": false,
     "start_time": "2022-08-12T15:17:52.679845",
     "status": "completed"
    },
    "tags": []
   },
   "source": [
    "## 4.1 Обучение"
   ]
  },
  {
   "cell_type": "code",
   "execution_count": 18,
   "id": "e11ca997",
   "metadata": {
    "execution": {
     "iopub.execute_input": "2022-08-12T15:17:52.712559Z",
     "iopub.status.busy": "2022-08-12T15:17:52.712270Z",
     "iopub.status.idle": "2022-08-12T15:17:52.716769Z",
     "shell.execute_reply": "2022-08-12T15:17:52.715725Z"
    },
    "papermill": {
     "duration": 0.018237,
     "end_time": "2022-08-12T15:17:52.718922",
     "exception": false,
     "start_time": "2022-08-12T15:17:52.700685",
     "status": "completed"
    },
    "tags": []
   },
   "outputs": [],
   "source": [
    "# %load_ext tensorboard\n",
    "# %tensorboard --logdir path_logs"
   ]
  },
  {
   "cell_type": "code",
   "execution_count": 19,
   "id": "515e94fb",
   "metadata": {
    "execution": {
     "iopub.execute_input": "2022-08-12T15:17:52.740955Z",
     "iopub.status.busy": "2022-08-12T15:17:52.740696Z",
     "iopub.status.idle": "2022-08-12T20:29:06.205313Z",
     "shell.execute_reply": "2022-08-12T20:29:06.204301Z"
    },
    "papermill": {
     "duration": 18673.47887,
     "end_time": "2022-08-12T20:29:06.208257",
     "exception": false,
     "start_time": "2022-08-12T15:17:52.729387",
     "status": "completed"
    },
    "tags": []
   },
   "outputs": [
    {
     "name": "stdout",
     "output_type": "stream",
     "text": [
      "Epoch 1/100\n"
     ]
    },
    {
     "name": "stderr",
     "output_type": "stream",
     "text": [
      "2022-08-12 15:18:01.315885: I tensorflow/stream_executor/cuda/cuda_dnn.cc:369] Loaded cuDNN version 8005\n"
     ]
    },
    {
     "name": "stdout",
     "output_type": "stream",
     "text": [
      "      1/Unknown - 11s 11s/step - loss: 1.1480 - sparse_categorical_accuracy: 0.0102"
     ]
    },
    {
     "name": "stderr",
     "output_type": "stream",
     "text": [
      "2022-08-12 15:18:03.582916: I tensorflow/core/profiler/lib/profiler_session.cc:131] Profiler session initializing.\n",
      "2022-08-12 15:18:03.582968: I tensorflow/core/profiler/lib/profiler_session.cc:146] Profiler session started.\n"
     ]
    },
    {
     "name": "stdout",
     "output_type": "stream",
     "text": [
      "      2/Unknown - 11s 678ms/step - loss: 1.1557 - sparse_categorical_accuracy: 0.0929"
     ]
    },
    {
     "name": "stderr",
     "output_type": "stream",
     "text": [
      "2022-08-12 15:18:04.044034: I tensorflow/core/profiler/lib/profiler_session.cc:66] Profiler session collecting data.\n",
      "2022-08-12 15:18:04.047046: I tensorflow/core/profiler/internal/gpu/cupti_tracer.cc:1748] CUPTI activity buffer flushed\n",
      "2022-08-12 15:18:04.191980: I tensorflow/core/profiler/internal/gpu/cupti_collector.cc:673]  GpuTracer has collected 3115 callback api events and 3112 activity events. \n",
      "2022-08-12 15:18:04.242694: I tensorflow/core/profiler/lib/profiler_session.cc:164] Profiler session tear down.\n",
      "2022-08-12 15:18:04.356844: I tensorflow/core/profiler/rpc/client/save_profile.cc:136] Creating directory: tblogs/2022-08-12_18-16-22/train/plugins/profile/2022_08_12_15_18_04\n",
      "\n",
      "2022-08-12 15:18:04.429503: I tensorflow/core/profiler/rpc/client/save_profile.cc:142] Dumped gzipped tool data for trace.json.gz to tblogs/2022-08-12_18-16-22/train/plugins/profile/2022_08_12_15_18_04/cacc6c8bf708.trace.json.gz\n",
      "2022-08-12 15:18:04.495363: I tensorflow/core/profiler/rpc/client/save_profile.cc:136] Creating directory: tblogs/2022-08-12_18-16-22/train/plugins/profile/2022_08_12_15_18_04\n",
      "\n",
      "2022-08-12 15:18:04.500495: I tensorflow/core/profiler/rpc/client/save_profile.cc:142] Dumped gzipped tool data for memory_profile.json.gz to tblogs/2022-08-12_18-16-22/train/plugins/profile/2022_08_12_15_18_04/cacc6c8bf708.memory_profile.json.gz\n",
      "2022-08-12 15:18:04.502783: I tensorflow/core/profiler/rpc/client/capture_profile.cc:251] Creating directory: tblogs/2022-08-12_18-16-22/train/plugins/profile/2022_08_12_15_18_04\n",
      "Dumped tool data for xplane.pb to tblogs/2022-08-12_18-16-22/train/plugins/profile/2022_08_12_15_18_04/cacc6c8bf708.xplane.pb\n",
      "Dumped tool data for overview_page.pb to tblogs/2022-08-12_18-16-22/train/plugins/profile/2022_08_12_15_18_04/cacc6c8bf708.overview_page.pb\n",
      "Dumped tool data for input_pipeline.pb to tblogs/2022-08-12_18-16-22/train/plugins/profile/2022_08_12_15_18_04/cacc6c8bf708.input_pipeline.pb\n",
      "Dumped tool data for tensorflow_stats.pb to tblogs/2022-08-12_18-16-22/train/plugins/profile/2022_08_12_15_18_04/cacc6c8bf708.tensorflow_stats.pb\n",
      "Dumped tool data for kernel_stats.pb to tblogs/2022-08-12_18-16-22/train/plugins/profile/2022_08_12_15_18_04/cacc6c8bf708.kernel_stats.pb\n",
      "\n"
     ]
    },
    {
     "name": "stdout",
     "output_type": "stream",
     "text": [
      "1624/1624 [==============================] - 169s 98ms/step - loss: 0.3863 - sparse_categorical_accuracy: 0.5149\n"
     ]
    },
    {
     "name": "stderr",
     "output_type": "stream",
     "text": [
      "2022-08-12 15:20:48.984540: W tensorflow/python/util/util.cc:348] Sets are not currently considered sequences, but this may change in the future, so consider avoiding using them.\n"
     ]
    },
    {
     "name": "stdout",
     "output_type": "stream",
     "text": [
      "Epoch 2/100\n",
      "1624/1624 [==============================] - 159s 97ms/step - loss: 0.3111 - sparse_categorical_accuracy: 0.5944\n",
      "Epoch 3/100\n",
      "1624/1624 [==============================] - 158s 97ms/step - loss: 0.2975 - sparse_categorical_accuracy: 0.6097\n",
      "Epoch 4/100\n",
      "1624/1624 [==============================] - 159s 97ms/step - loss: 0.2902 - sparse_categorical_accuracy: 0.6182\n",
      "Epoch 5/100\n",
      "1624/1624 [==============================] - 158s 97ms/step - loss: 0.2852 - sparse_categorical_accuracy: 0.6239\n",
      "Epoch 6/100\n",
      "1624/1624 [==============================] - 159s 97ms/step - loss: 0.2814 - sparse_categorical_accuracy: 0.6286\n",
      "Epoch 7/100\n",
      "1624/1624 [==============================] - 159s 97ms/step - loss: 0.2783 - sparse_categorical_accuracy: 0.6322\n",
      "Epoch 8/100\n",
      "1624/1624 [==============================] - 160s 98ms/step - loss: 0.2758 - sparse_categorical_accuracy: 0.6350\n",
      "Epoch 9/100\n",
      "1624/1624 [==============================] - 158s 97ms/step - loss: 0.2735 - sparse_categorical_accuracy: 0.6380\n",
      "Epoch 10/100\n",
      "1624/1624 [==============================] - 159s 97ms/step - loss: 0.2714 - sparse_categorical_accuracy: 0.6404\n",
      "Epoch 11/100\n",
      "1624/1624 [==============================] - 160s 97ms/step - loss: 0.2695 - sparse_categorical_accuracy: 0.6429\n",
      "Epoch 12/100\n",
      "1624/1624 [==============================] - 159s 97ms/step - loss: 0.2677 - sparse_categorical_accuracy: 0.6451\n",
      "Epoch 13/100\n",
      "1624/1624 [==============================] - 160s 98ms/step - loss: 0.2661 - sparse_categorical_accuracy: 0.6472\n",
      "Epoch 14/100\n",
      "1624/1624 [==============================] - 159s 97ms/step - loss: 0.2646 - sparse_categorical_accuracy: 0.6491\n",
      "Epoch 15/100\n",
      "1624/1624 [==============================] - 161s 98ms/step - loss: 0.2632 - sparse_categorical_accuracy: 0.6508\n",
      "Epoch 16/100\n",
      "1624/1624 [==============================] - 161s 98ms/step - loss: 0.2618 - sparse_categorical_accuracy: 0.6526\n",
      "Epoch 17/100\n",
      "1624/1624 [==============================] - 162s 99ms/step - loss: 0.2607 - sparse_categorical_accuracy: 0.6539\n",
      "Epoch 18/100\n",
      "1624/1624 [==============================] - 162s 99ms/step - loss: 0.2596 - sparse_categorical_accuracy: 0.6553\n",
      "Epoch 19/100\n",
      "1624/1624 [==============================] - 161s 98ms/step - loss: 0.2586 - sparse_categorical_accuracy: 0.6566\n",
      "Epoch 20/100\n",
      "1624/1624 [==============================] - 162s 99ms/step - loss: 0.2578 - sparse_categorical_accuracy: 0.6576\n",
      "Epoch 21/100\n",
      "1624/1624 [==============================] - 161s 99ms/step - loss: 0.2570 - sparse_categorical_accuracy: 0.6587\n",
      "Epoch 22/100\n",
      "1624/1624 [==============================] - 162s 99ms/step - loss: 0.2563 - sparse_categorical_accuracy: 0.6595\n",
      "Epoch 23/100\n",
      "1624/1624 [==============================] - 162s 99ms/step - loss: 0.2556 - sparse_categorical_accuracy: 0.6605\n",
      "Epoch 24/100\n",
      "1624/1624 [==============================] - 162s 99ms/step - loss: 0.2550 - sparse_categorical_accuracy: 0.6612\n",
      "Epoch 25/100\n",
      "1624/1624 [==============================] - 162s 99ms/step - loss: 0.2545 - sparse_categorical_accuracy: 0.6617\n",
      "Epoch 26/100\n",
      "1624/1624 [==============================] - 162s 99ms/step - loss: 0.2540 - sparse_categorical_accuracy: 0.6624\n",
      "Epoch 27/100\n",
      "1624/1624 [==============================] - 162s 99ms/step - loss: 0.2536 - sparse_categorical_accuracy: 0.6629\n",
      "Epoch 28/100\n",
      "1624/1624 [==============================] - 161s 98ms/step - loss: 0.2532 - sparse_categorical_accuracy: 0.6634\n",
      "Epoch 29/100\n",
      "1624/1624 [==============================] - 161s 99ms/step - loss: 0.2529 - sparse_categorical_accuracy: 0.6637\n",
      "Epoch 30/100\n",
      "1624/1624 [==============================] - 161s 98ms/step - loss: 0.2525 - sparse_categorical_accuracy: 0.6641\n",
      "Epoch 31/100\n",
      "1624/1624 [==============================] - 161s 99ms/step - loss: 0.2522 - sparse_categorical_accuracy: 0.6645\n",
      "Epoch 32/100\n",
      "1624/1624 [==============================] - 161s 98ms/step - loss: 0.2520 - sparse_categorical_accuracy: 0.6648\n",
      "Epoch 33/100\n",
      "1624/1624 [==============================] - 161s 98ms/step - loss: 0.2517 - sparse_categorical_accuracy: 0.6651\n",
      "Epoch 34/100\n",
      "1624/1624 [==============================] - 161s 98ms/step - loss: 0.2515 - sparse_categorical_accuracy: 0.6653\n",
      "Epoch 35/100\n",
      "1624/1624 [==============================] - 161s 99ms/step - loss: 0.2513 - sparse_categorical_accuracy: 0.6655\n",
      "Epoch 36/100\n",
      "1624/1624 [==============================] - 161s 99ms/step - loss: 0.2512 - sparse_categorical_accuracy: 0.6658\n",
      "Epoch 37/100\n",
      "1624/1624 [==============================] - 161s 98ms/step - loss: 0.2510 - sparse_categorical_accuracy: 0.6659\n",
      "Epoch 38/100\n",
      "1624/1624 [==============================] - 161s 98ms/step - loss: 0.2509 - sparse_categorical_accuracy: 0.6660\n",
      "Epoch 39/100\n",
      "1624/1624 [==============================] - 162s 99ms/step - loss: 0.2507 - sparse_categorical_accuracy: 0.6661\n",
      "Epoch 40/100\n",
      "1624/1624 [==============================] - 160s 98ms/step - loss: 0.2506 - sparse_categorical_accuracy: 0.6663\n",
      "Epoch 41/100\n",
      "1624/1624 [==============================] - 160s 98ms/step - loss: 0.2505 - sparse_categorical_accuracy: 0.6666\n",
      "Epoch 42/100\n",
      "1624/1624 [==============================] - 160s 98ms/step - loss: 0.2504 - sparse_categorical_accuracy: 0.6665\n",
      "Epoch 43/100\n",
      "1624/1624 [==============================] - 161s 98ms/step - loss: 0.2503 - sparse_categorical_accuracy: 0.6666\n",
      "Epoch 44/100\n",
      "1624/1624 [==============================] - 159s 97ms/step - loss: 0.2502 - sparse_categorical_accuracy: 0.6667\n",
      "Epoch 45/100\n",
      "1624/1624 [==============================] - 160s 98ms/step - loss: 0.2501 - sparse_categorical_accuracy: 0.6667\n",
      "Epoch 46/100\n",
      "1624/1624 [==============================] - 160s 98ms/step - loss: 0.2500 - sparse_categorical_accuracy: 0.6669\n",
      "Epoch 47/100\n",
      "1624/1624 [==============================] - 162s 99ms/step - loss: 0.2499 - sparse_categorical_accuracy: 0.6670\n",
      "Epoch 48/100\n",
      "1624/1624 [==============================] - 165s 101ms/step - loss: 0.2499 - sparse_categorical_accuracy: 0.6671\n",
      "Epoch 49/100\n",
      "1624/1624 [==============================] - 164s 100ms/step - loss: 0.2498 - sparse_categorical_accuracy: 0.6672\n",
      "Epoch 50/100\n",
      "1624/1624 [==============================] - 165s 100ms/step - loss: 0.2498 - sparse_categorical_accuracy: 0.6672\n",
      "Epoch 51/100\n",
      "1624/1624 [==============================] - 164s 101ms/step - loss: 0.2497 - sparse_categorical_accuracy: 0.6673\n",
      "Epoch 52/100\n",
      "1624/1624 [==============================] - 159s 98ms/step - loss: 0.2497 - sparse_categorical_accuracy: 0.6673\n",
      "Epoch 53/100\n",
      "1624/1624 [==============================] - 159s 97ms/step - loss: 0.2496 - sparse_categorical_accuracy: 0.6672\n",
      "Epoch 54/100\n",
      "1624/1624 [==============================] - 159s 98ms/step - loss: 0.2495 - sparse_categorical_accuracy: 0.6675\n",
      "Epoch 55/100\n",
      "1624/1624 [==============================] - 160s 98ms/step - loss: 0.2494 - sparse_categorical_accuracy: 0.6675\n",
      "Epoch 56/100\n",
      "1624/1624 [==============================] - 161s 98ms/step - loss: 0.2494 - sparse_categorical_accuracy: 0.6676\n",
      "Epoch 57/100\n",
      "1624/1624 [==============================] - 160s 98ms/step - loss: 0.2493 - sparse_categorical_accuracy: 0.6676\n",
      "Epoch 58/100\n",
      "1624/1624 [==============================] - 160s 98ms/step - loss: 0.2494 - sparse_categorical_accuracy: 0.6676\n",
      "Epoch 59/100\n",
      "1624/1624 [==============================] - 160s 98ms/step - loss: 0.2494 - sparse_categorical_accuracy: 0.6676\n",
      "Epoch 60/100\n",
      "1624/1624 [==============================] - 162s 99ms/step - loss: 0.2493 - sparse_categorical_accuracy: 0.6677\n",
      "Epoch 61/100\n",
      "1624/1624 [==============================] - 160s 98ms/step - loss: 0.2493 - sparse_categorical_accuracy: 0.6675\n",
      "Epoch 62/100\n",
      "1624/1624 [==============================] - 161s 98ms/step - loss: 0.2492 - sparse_categorical_accuracy: 0.6678\n",
      "Epoch 63/100\n",
      "1624/1624 [==============================] - 161s 98ms/step - loss: 0.2493 - sparse_categorical_accuracy: 0.6676\n",
      "Epoch 64/100\n",
      "1624/1624 [==============================] - 160s 98ms/step - loss: 0.2492 - sparse_categorical_accuracy: 0.6676\n",
      "Epoch 65/100\n",
      "1624/1624 [==============================] - 162s 99ms/step - loss: 0.2492 - sparse_categorical_accuracy: 0.6677\n",
      "Epoch 66/100\n",
      "1624/1624 [==============================] - 160s 98ms/step - loss: 0.2492 - sparse_categorical_accuracy: 0.6677\n",
      "Epoch 67/100\n",
      "1624/1624 [==============================] - 162s 99ms/step - loss: 0.2491 - sparse_categorical_accuracy: 0.6678\n",
      "Epoch 68/100\n",
      "1624/1624 [==============================] - 161s 99ms/step - loss: 0.2491 - sparse_categorical_accuracy: 0.6677\n",
      "Epoch 69/100\n",
      "1624/1624 [==============================] - 162s 99ms/step - loss: 0.2491 - sparse_categorical_accuracy: 0.6678\n",
      "Epoch 70/100\n",
      "1624/1624 [==============================] - 160s 98ms/step - loss: 0.2490 - sparse_categorical_accuracy: 0.6678\n",
      "Epoch 71/100\n",
      "1624/1624 [==============================] - 160s 98ms/step - loss: 0.2490 - sparse_categorical_accuracy: 0.6678\n",
      "Epoch 72/100\n",
      "1624/1624 [==============================] - 161s 98ms/step - loss: 0.2490 - sparse_categorical_accuracy: 0.6678\n",
      "Epoch 73/100\n",
      "1624/1624 [==============================] - 160s 98ms/step - loss: 0.2489 - sparse_categorical_accuracy: 0.6679\n",
      "Epoch 74/100\n",
      "1624/1624 [==============================] - 160s 98ms/step - loss: 0.2489 - sparse_categorical_accuracy: 0.6678\n",
      "Epoch 75/100\n",
      "1624/1624 [==============================] - 162s 99ms/step - loss: 0.2489 - sparse_categorical_accuracy: 0.6681\n",
      "Epoch 76/100\n",
      "1624/1624 [==============================] - 161s 99ms/step - loss: 0.2488 - sparse_categorical_accuracy: 0.6680\n",
      "Epoch 77/100\n",
      "1624/1624 [==============================] - 161s 99ms/step - loss: 0.2488 - sparse_categorical_accuracy: 0.6680\n",
      "Epoch 78/100\n",
      "1624/1624 [==============================] - 161s 98ms/step - loss: 0.2488 - sparse_categorical_accuracy: 0.6680\n",
      "Epoch 79/100\n",
      "1624/1624 [==============================] - 161s 98ms/step - loss: 0.2488 - sparse_categorical_accuracy: 0.6680\n",
      "Epoch 80/100\n",
      "1624/1624 [==============================] - 161s 98ms/step - loss: 0.2488 - sparse_categorical_accuracy: 0.6680\n",
      "Epoch 81/100\n",
      "1624/1624 [==============================] - 158s 97ms/step - loss: 0.2488 - sparse_categorical_accuracy: 0.6680\n",
      "Epoch 82/100\n",
      "1624/1624 [==============================] - 159s 97ms/step - loss: 0.2488 - sparse_categorical_accuracy: 0.6680\n",
      "Epoch 83/100\n",
      "1624/1624 [==============================] - 161s 98ms/step - loss: 0.2487 - sparse_categorical_accuracy: 0.6681\n",
      "Epoch 84/100\n",
      "1624/1624 [==============================] - 159s 97ms/step - loss: 0.2487 - sparse_categorical_accuracy: 0.6681\n",
      "Epoch 85/100\n",
      "1624/1624 [==============================] - 159s 97ms/step - loss: 0.2487 - sparse_categorical_accuracy: 0.6681\n",
      "Epoch 86/100\n",
      "1624/1624 [==============================] - 158s 97ms/step - loss: 0.2488 - sparse_categorical_accuracy: 0.6680\n",
      "Epoch 87/100\n",
      "1624/1624 [==============================] - 159s 97ms/step - loss: 0.2487 - sparse_categorical_accuracy: 0.6683\n",
      "Epoch 88/100\n",
      "1624/1624 [==============================] - 159s 97ms/step - loss: 0.2487 - sparse_categorical_accuracy: 0.6681\n",
      "Epoch 89/100\n",
      "1624/1624 [==============================] - 158s 97ms/step - loss: 0.2487 - sparse_categorical_accuracy: 0.6681\n",
      "Epoch 90/100\n",
      "1624/1624 [==============================] - 158s 97ms/step - loss: 0.2486 - sparse_categorical_accuracy: 0.6682\n",
      "Epoch 91/100\n",
      "1624/1624 [==============================] - 160s 98ms/step - loss: 0.2486 - sparse_categorical_accuracy: 0.6682\n",
      "Epoch 92/100\n",
      "1624/1624 [==============================] - 158s 97ms/step - loss: 0.2486 - sparse_categorical_accuracy: 0.6682\n",
      "Epoch 93/100\n",
      "1624/1624 [==============================] - 160s 98ms/step - loss: 0.2486 - sparse_categorical_accuracy: 0.6681\n",
      "Epoch 94/100\n",
      "1624/1624 [==============================] - 158s 97ms/step - loss: 0.2485 - sparse_categorical_accuracy: 0.6682\n",
      "Epoch 95/100\n",
      "1624/1624 [==============================] - 160s 98ms/step - loss: 0.2486 - sparse_categorical_accuracy: 0.6682\n",
      "Epoch 96/100\n",
      "1624/1624 [==============================] - 158s 97ms/step - loss: 0.2485 - sparse_categorical_accuracy: 0.6681\n",
      "Epoch 97/100\n",
      "1624/1624 [==============================] - 158s 97ms/step - loss: 0.2486 - sparse_categorical_accuracy: 0.6681\n",
      "Epoch 98/100\n",
      "1624/1624 [==============================] - 160s 98ms/step - loss: 0.2485 - sparse_categorical_accuracy: 0.6683\n",
      "Epoch 99/100\n",
      "1624/1624 [==============================] - 159s 97ms/step - loss: 0.2485 - sparse_categorical_accuracy: 0.6682\n",
      "Epoch 100/100\n",
      "1624/1624 [==============================] - 159s 97ms/step - loss: 0.2485 - sparse_categorical_accuracy: 0.6683\n"
     ]
    }
   ],
   "source": [
    "history = model.fit(dataset, epochs=HP_MODEL['epoch'],\n",
    "                    callbacks=[callback_tboard, callback_checkpoint]\n",
    "                   )"
   ]
  },
  {
   "cell_type": "code",
   "execution_count": 20,
   "id": "4e1ee3ce",
   "metadata": {
    "execution": {
     "iopub.execute_input": "2022-08-12T20:29:25.730388Z",
     "iopub.status.busy": "2022-08-12T20:29:25.729973Z",
     "iopub.status.idle": "2022-08-12T20:29:40.446202Z",
     "shell.execute_reply": "2022-08-12T20:29:40.445091Z"
    },
    "papermill": {
     "duration": 24.733926,
     "end_time": "2022-08-12T20:29:40.449113",
     "exception": false,
     "start_time": "2022-08-12T20:29:15.715187",
     "status": "completed"
    },
    "tags": []
   },
   "outputs": [],
   "source": [
    "# Сохранение текущего состояния модели\n",
    "filename_model = './saved_model_' + str((datetime.now() + timedelta(hours=3)).strftime(\"%Y-%m-%d_%H-%M-%S\"))\n",
    "filepath =  str(path_models / filename_model)\n",
    "\n",
    "tf.keras.models.save_model(model=model, \n",
    "                           filepath=filepath,\n",
    "                           save_format='tf', \n",
    "                           include_optimizer=True, )"
   ]
  },
  {
   "cell_type": "markdown",
   "id": "d82585af",
   "metadata": {
    "papermill": {
     "duration": 9.710033,
     "end_time": "2022-08-12T20:29:59.600626",
     "exception": false,
     "start_time": "2022-08-12T20:29:49.890593",
     "status": "completed"
    },
    "tags": []
   },
   "source": [
    "## 4.2 Сохранение модели"
   ]
  },
  {
   "cell_type": "code",
   "execution_count": 21,
   "id": "13ecd07e",
   "metadata": {
    "execution": {
     "iopub.execute_input": "2022-08-12T20:30:18.623791Z",
     "iopub.status.busy": "2022-08-12T20:30:18.623172Z",
     "iopub.status.idle": "2022-08-12T20:30:22.985948Z",
     "shell.execute_reply": "2022-08-12T20:30:22.985000Z"
    },
    "papermill": {
     "duration": 13.396036,
     "end_time": "2022-08-12T20:30:22.988150",
     "exception": false,
     "start_time": "2022-08-12T20:30:09.592114",
     "status": "completed"
    },
    "tags": []
   },
   "outputs": [
    {
     "data": {
      "text/plain": [
       "'./tblogs.zip'"
      ]
     },
     "execution_count": 21,
     "metadata": {},
     "output_type": "execute_result"
    }
   ],
   "source": [
    "import shutil\n",
    "shutil.make_archive(base_name='./models', format='zip', base_dir='./models')\n",
    "shutil.make_archive(base_name='./tblogs', format='zip', base_dir='./tblogs')"
   ]
  },
  {
   "cell_type": "markdown",
   "id": "07443c2a",
   "metadata": {
    "papermill": {
     "duration": 9.979996,
     "end_time": "2022-08-12T20:30:42.613487",
     "exception": false,
     "start_time": "2022-08-12T20:30:32.633491",
     "status": "completed"
    },
    "tags": []
   },
   "source": [
    "## 4.3 Визуализация обучения"
   ]
  },
  {
   "cell_type": "code",
   "execution_count": 22,
   "id": "37f2ba82",
   "metadata": {
    "execution": {
     "iopub.execute_input": "2022-08-12T20:31:01.310606Z",
     "iopub.status.busy": "2022-08-12T20:31:01.310224Z",
     "iopub.status.idle": "2022-08-12T20:31:01.754922Z",
     "shell.execute_reply": "2022-08-12T20:31:01.753998Z"
    },
    "papermill": {
     "duration": 9.889796,
     "end_time": "2022-08-12T20:31:01.756973",
     "exception": false,
     "start_time": "2022-08-12T20:30:51.867177",
     "status": "completed"
    },
    "tags": []
   },
   "outputs": [
    {
     "data": {
      "image/png": "[encoded data removed]",
      "text/plain": [
       "<Figure size 432x288 with 1 Axes>"
      ]
     },
     "metadata": {
      "needs_background": "light"
     },
     "output_type": "display_data"
    },
    {
     "data": {
      "image/png": "[encoded data removed]",
      "text/plain": [
       "<Figure size 432x288 with 1 Axes>"
      ]
     },
     "metadata": {
      "needs_background": "light"
     },
     "output_type": "display_data"
    }
   ],
   "source": [
    "from matplotlib import pyplot as plt\n",
    "\n",
    "epochs = range(1, len(history.history['sparse_categorical_accuracy']) + 1)\n",
    "\n",
    "fig = plt.figure()\n",
    "plt.plot(epochs, history.history['loss'], 'bo', label='Training loss')\n",
    "# plt.plot(epochs, history.history['val_loss'], 'b', label='Validation loss')\n",
    "# plt.title('Training and validation loss')\n",
    "plt.xlabel('Epochs')\n",
    "plt.ylabel('Loss')\n",
    "plt.legend()\n",
    "plt.grid()\n",
    "\n",
    "# plt.savefig(conf.PATH_ARTEFACT/f'25k_2048_30ep_loss.png')\n",
    "\n",
    "fig = plt.figure()\n",
    "plt.plot(epochs, history.history['sparse_categorical_accuracy'], 'bo', label='Training acc')\n",
    "# plt.plot(epochs, history.history['val_sparse_categorical_accuracy'], 'b', label='Validation acc')\n",
    "# plt.title('Training and validation accuracy')\n",
    "plt.xlabel('Epochs')\n",
    "plt.ylabel('Accuracy')\n",
    "plt.legend()\n",
    "plt.grid()\n",
    "\n",
    "# plt.savefig(conf.PATH_ARTEFACT/f'25k_2048_30ep_accuracy.png')"
   ]
  },
  {
   "cell_type": "markdown",
   "id": "9b36ebcb",
   "metadata": {
    "papermill": {
     "duration": 9.493068,
     "end_time": "2022-08-12T20:31:21.565577",
     "exception": false,
     "start_time": "2022-08-12T20:31:12.072509",
     "status": "completed"
    },
    "tags": []
   },
   "source": [
    "## 5 Инференс"
   ]
  },
  {
   "cell_type": "markdown",
   "id": "90b697fe",
   "metadata": {
    "papermill": {
     "duration": 9.605942,
     "end_time": "2022-08-12T20:31:40.627048",
     "exception": false,
     "start_time": "2022-08-12T20:31:31.021106",
     "status": "completed"
    },
    "tags": []
   },
   "source": [
    "### 5.1 Загрузка сохранённой модели (+ кодировщик, декодировщик)"
   ]
  },
  {
   "cell_type": "code",
   "execution_count": 23,
   "id": "9de7a64c",
   "metadata": {
    "execution": {
     "iopub.execute_input": "2022-08-12T20:32:00.102404Z",
     "iopub.status.busy": "2022-08-12T20:32:00.102025Z",
     "iopub.status.idle": "2022-08-12T20:32:00.108360Z",
     "shell.execute_reply": "2022-08-12T20:32:00.107430Z"
    },
    "papermill": {
     "duration": 10.053117,
     "end_time": "2022-08-12T20:32:00.110537",
     "exception": false,
     "start_time": "2022-08-12T20:31:50.057420",
     "status": "completed"
    },
    "tags": []
   },
   "outputs": [],
   "source": [
    "def string_split(x : str, tags=False):\n",
    "    # функция для разделения строки на элементы\n",
    "    # в начале и конце добавляет теги\n",
    "    if tags:\n",
    "        splited_string = ['<START>']\n",
    "        splited_string.extend([*x])\n",
    "        splited_string.extend(['<END>'])\n",
    "        return splited_string\n",
    "        \n",
    "    return [*x]\n",
    "\n",
    "def string_join(ids):\n",
    "  return tf.strings.reduce_join(ids, axis=-1).numpy().decode('utf8')"
   ]
  },
  {
   "cell_type": "code",
   "execution_count": 24,
   "id": "9c88fb12",
   "metadata": {
    "execution": {
     "iopub.execute_input": "2022-08-12T20:32:18.799352Z",
     "iopub.status.busy": "2022-08-12T20:32:18.798964Z",
     "iopub.status.idle": "2022-08-12T20:32:31.415302Z",
     "shell.execute_reply": "2022-08-12T20:32:31.413688Z"
    },
    "papermill": {
     "duration": 21.769279,
     "end_time": "2022-08-12T20:32:31.418748",
     "exception": false,
     "start_time": "2022-08-12T20:32:09.649469",
     "status": "completed"
    },
    "tags": []
   },
   "outputs": [
    {
     "name": "stdout",
     "output_type": "stream",
     "text": [
      "tf.Tensor([70 67 74 74 77  1 85 77 80 74 66], shape=(11,), dtype=int64)\n",
      "Стартовый тег: tf.Tensor([125], shape=(1,), dtype=int64)\n",
      "hello world\n"
     ]
    },
    {
     "name": "stderr",
     "output_type": "stream",
     "text": [
      "2022-08-12 20:32:20.517909: W tensorflow/core/common_runtime/graph_constructor.cc:803] Node 'cond/while' has 13 outputs but the _output_shapes attribute specifies shapes for 46 outputs. Output shapes may be inaccurate.\n",
      "2022-08-12 20:32:21.079035: W tensorflow/core/common_runtime/graph_constructor.cc:803] Node 'cond/while' has 13 outputs but the _output_shapes attribute specifies shapes for 46 outputs. Output shapes may be inaccurate.\n",
      "2022-08-12 20:32:21.480576: W tensorflow/core/common_runtime/graph_constructor.cc:803] Node 'cond/while' has 13 outputs but the _output_shapes attribute specifies shapes for 46 outputs. Output shapes may be inaccurate.\n",
      "2022-08-12 20:32:21.535433: W tensorflow/core/common_runtime/graph_constructor.cc:803] Node 'cond' has 5 outputs but the _output_shapes attribute specifies shapes for 46 outputs. Output shapes may be inaccurate.\n",
      "2022-08-12 20:32:22.147306: W tensorflow/core/common_runtime/graph_constructor.cc:803] Node 'cond/while' has 13 outputs but the _output_shapes attribute specifies shapes for 46 outputs. Output shapes may be inaccurate.\n",
      "2022-08-12 20:32:22.669672: W tensorflow/core/common_runtime/graph_constructor.cc:803] Node 'cond/while' has 13 outputs but the _output_shapes attribute specifies shapes for 46 outputs. Output shapes may be inaccurate.\n",
      "2022-08-12 20:32:22.863978: W tensorflow/core/common_runtime/graph_constructor.cc:803] Node 'cond' has 5 outputs but the _output_shapes attribute specifies shapes for 46 outputs. Output shapes may be inaccurate.\n",
      "2022-08-12 20:32:22.929713: W tensorflow/core/common_runtime/graph_constructor.cc:803] Node 'cond/while' has 13 outputs but the _output_shapes attribute specifies shapes for 46 outputs. Output shapes may be inaccurate.\n",
      "2022-08-12 20:32:23.106288: W tensorflow/core/common_runtime/graph_constructor.cc:803] Node 'cond/while' has 13 outputs but the _output_shapes attribute specifies shapes for 46 outputs. Output shapes may be inaccurate.\n",
      "2022-08-12 20:32:23.122849: W tensorflow/core/common_runtime/graph_constructor.cc:803] Node 'cond' has 5 outputs but the _output_shapes attribute specifies shapes for 46 outputs. Output shapes may be inaccurate.\n",
      "2022-08-12 20:32:23.194060: W tensorflow/core/common_runtime/graph_constructor.cc:803] Node 'cond/while' has 13 outputs but the _output_shapes attribute specifies shapes for 46 outputs. Output shapes may be inaccurate.\n",
      "2022-08-12 20:32:23.211184: W tensorflow/core/common_runtime/graph_constructor.cc:803] Node 'cond' has 5 outputs but the _output_shapes attribute specifies shapes for 46 outputs. Output shapes may be inaccurate.\n",
      "2022-08-12 20:32:23.304688: W tensorflow/core/common_runtime/graph_constructor.cc:803] Node 'cond' has 5 outputs but the _output_shapes attribute specifies shapes for 46 outputs. Output shapes may be inaccurate.\n",
      "2022-08-12 20:32:23.366838: W tensorflow/core/common_runtime/graph_constructor.cc:803] Node 'cond/while' has 13 outputs but the _output_shapes attribute specifies shapes for 46 outputs. Output shapes may be inaccurate.\n",
      "2022-08-12 20:32:23.383893: W tensorflow/core/common_runtime/graph_constructor.cc:803] Node 'cond' has 5 outputs but the _output_shapes attribute specifies shapes for 46 outputs. Output shapes may be inaccurate.\n",
      "2022-08-12 20:32:23.469544: W tensorflow/core/common_runtime/graph_constructor.cc:803] Node 'cond' has 5 outputs but the _output_shapes attribute specifies shapes for 46 outputs. Output shapes may be inaccurate.\n",
      "2022-08-12 20:32:23.629173: W tensorflow/core/common_runtime/graph_constructor.cc:803] Node 'cond/while' has 13 outputs but the _output_shapes attribute specifies shapes for 46 outputs. Output shapes may be inaccurate.\n",
      "2022-08-12 20:32:23.646693: W tensorflow/core/common_runtime/graph_constructor.cc:803] Node 'cond' has 5 outputs but the _output_shapes attribute specifies shapes for 46 outputs. Output shapes may be inaccurate.\n",
      "2022-08-12 20:32:24.231774: W tensorflow/core/common_runtime/graph_constructor.cc:803] Node 'cond/while' has 13 outputs but the _output_shapes attribute specifies shapes for 46 outputs. Output shapes may be inaccurate.\n",
      "2022-08-12 20:32:24.248165: W tensorflow/core/common_runtime/graph_constructor.cc:803] Node 'cond' has 5 outputs but the _output_shapes attribute specifies shapes for 46 outputs. Output shapes may be inaccurate.\n",
      "2022-08-12 20:32:24.351953: W tensorflow/core/common_runtime/graph_constructor.cc:803] Node 'cond/while' has 13 outputs but the _output_shapes attribute specifies shapes for 46 outputs. Output shapes may be inaccurate.\n",
      "2022-08-12 20:32:24.368849: W tensorflow/core/common_runtime/graph_constructor.cc:803] Node 'cond' has 5 outputs but the _output_shapes attribute specifies shapes for 46 outputs. Output shapes may be inaccurate.\n",
      "2022-08-12 20:32:24.676882: W tensorflow/core/common_runtime/graph_constructor.cc:803] Node 'cond' has 5 outputs but the _output_shapes attribute specifies shapes for 46 outputs. Output shapes may be inaccurate.\n",
      "2022-08-12 20:32:28.418778: W tensorflow/core/common_runtime/graph_constructor.cc:803] Node 'cond/while' has 13 outputs but the _output_shapes attribute specifies shapes for 46 outputs. Output shapes may be inaccurate.\n",
      "2022-08-12 20:32:28.436113: W tensorflow/core/common_runtime/graph_constructor.cc:803] Node 'cond' has 5 outputs but the _output_shapes attribute specifies shapes for 46 outputs. Output shapes may be inaccurate.\n",
      "2022-08-12 20:32:28.520069: W tensorflow/core/common_runtime/graph_constructor.cc:803] Node 'cond/while' has 13 outputs but the _output_shapes attribute specifies shapes for 46 outputs. Output shapes may be inaccurate.\n",
      "2022-08-12 20:32:28.536920: W tensorflow/core/common_runtime/graph_constructor.cc:803] Node 'cond' has 5 outputs but the _output_shapes attribute specifies shapes for 46 outputs. Output shapes may be inaccurate.\n",
      "2022-08-12 20:32:28.888343: W tensorflow/core/common_runtime/graph_constructor.cc:803] Node 'cond' has 5 outputs but the _output_shapes attribute specifies shapes for 46 outputs. Output shapes may be inaccurate.\n"
     ]
    },
    {
     "name": "stdout",
     "output_type": "stream",
     "text": [
      "Model: \"model\"\n",
      "__________________________________________________________________________________________________\n",
      "Layer (type)                    Output Shape         Param #     Connected to                     \n",
      "==================================================================================================\n",
      "encode_input_seqs (InputLayer)  [(None, None)]       0                                            \n",
      "__________________________________________________________________________________________________\n",
      "decode_input_seqs (InputLayer)  [(None, None)]       0                                            \n",
      "__________________________________________________________________________________________________\n",
      "embedding (Embedding)           (None, None, 512)    65024       encode_input_seqs[0][0]          \n",
      "__________________________________________________________________________________________________\n",
      "embedding_1 (Embedding)         (None, None, 512)    65024       decode_input_seqs[0][0]          \n",
      "__________________________________________________________________________________________________\n",
      "encoder (LSTM)                  [(None, 512), (None, 2099200     embedding[0][0]                  \n",
      "__________________________________________________________________________________________________\n",
      "lstm (LSTM)                     [(None, None, 512),  2099200     embedding_1[0][0]                \n",
      "                                                                 encoder[0][1]                    \n",
      "                                                                 encoder[0][2]                    \n",
      "__________________________________________________________________________________________________\n",
      "dense (Dense)                   (None, None, 127)    65151       lstm[0][0]                       \n",
      "==================================================================================================\n",
      "Total params: 4,393,599\n",
      "Trainable params: 4,393,599\n",
      "Non-trainable params: 0\n",
      "__________________________________________________________________________________________________\n"
     ]
    }
   ],
   "source": [
    "# Кодирование\n",
    "ids_from_chars = tf.keras.models.load_model(model_ids_from_chars)\n",
    "ids_from_chars = ids_from_chars.layers[0]\n",
    "example_str = string_split('hello world')\n",
    "example_str = ids_from_chars(example_str)\n",
    "print(example_str)\n",
    "\n",
    "example_tag = ids_from_chars(['<START>'])\n",
    "print('Стартовый тег:', example_tag)\n",
    "\n",
    "# Декодирование\n",
    "chars_from_ids = tf.keras.models.load_model(model_chats_from_ids)\n",
    "chars_from_ids = chars_from_ids.layers[0]\n",
    "example_ids = [70, 67, 74, 74, 77,  1, 85, 77, 80, 74, 66]\n",
    "example_symb = chars_from_ids(example_ids)\n",
    "print(string_join(example_symb))\n",
    "\n",
    "# Обученная модель\n",
    "model_trained = tf.keras.models.load_model(path_model)\n",
    "model_trained.summary()"
   ]
  },
  {
   "cell_type": "markdown",
   "id": "2cf7b7f7",
   "metadata": {
    "papermill": {
     "duration": 9.860758,
     "end_time": "2022-08-12T20:32:50.725338",
     "exception": false,
     "start_time": "2022-08-12T20:32:40.864580",
     "status": "completed"
    },
    "tags": []
   },
   "source": [
    "## 5.2 Создаём encoder & decoder для инференса\n",
    "[Инференс основан на блокноте - Colab + копирование весов](https://colab.research.google.com/drive/1FKhOYhOz8d6BKLVVwL1YMlmoFQ2ML1DS#scrollTo=-gUYtOwv21rt)"
   ]
  },
  {
   "cell_type": "markdown",
   "id": "0f0f958e",
   "metadata": {
    "papermill": {
     "duration": 9.593208,
     "end_time": "2022-08-12T20:33:09.806399",
     "exception": false,
     "start_time": "2022-08-12T20:33:00.213191",
     "status": "completed"
    },
    "tags": []
   },
   "source": [
    "### Конфигурация Энкодера"
   ]
  },
  {
   "cell_type": "code",
   "execution_count": 25,
   "id": "60c1785e",
   "metadata": {
    "execution": {
     "iopub.execute_input": "2022-08-12T20:33:29.229614Z",
     "iopub.status.busy": "2022-08-12T20:33:29.229236Z",
     "iopub.status.idle": "2022-08-12T20:33:30.116320Z",
     "shell.execute_reply": "2022-08-12T20:33:30.115362Z"
    },
    "papermill": {
     "duration": 10.409605,
     "end_time": "2022-08-12T20:33:30.118682",
     "exception": false,
     "start_time": "2022-08-12T20:33:19.709077",
     "status": "completed"
    },
    "tags": []
   },
   "outputs": [
    {
     "name": "stdout",
     "output_type": "stream",
     "text": [
      "Model: \"model_1\"\n",
      "_________________________________________________________________\n",
      "Layer (type)                 Output Shape              Param #   \n",
      "=================================================================\n",
      "input_1 (InputLayer)         [(None, None)]            0         \n",
      "_________________________________________________________________\n",
      "embedding_2 (Embedding)      (None, None, 512)         65024     \n",
      "_________________________________________________________________\n",
      "encoder (LSTM)               [(None, 512), (None, 512) 2099200   \n",
      "=================================================================\n",
      "Total params: 2,164,224\n",
      "Trainable params: 2,164,224\n",
      "Non-trainable params: 0\n",
      "_________________________________________________________________\n"
     ]
    }
   ],
   "source": [
    "# Эмбеддинг энкодера\n",
    "encoder_emb_weight = model_trained.get_layer(name='embedding').get_weights()\n",
    "# LSTM энкодера\n",
    "encoder_lstm_weight = model_trained.get_layer(name='encoder').get_weights()\n",
    "\n",
    "# ++++++++++++++++++++++++++++++++++++++++++++++++++++++++++++++++++++++++++++\n",
    "encoder_input = tf.keras.layers.Input(shape=(None, ))\n",
    "encoder_embedded = tf.keras.layers.Embedding(input_dim         = HP_DATASET['vocab_size'],\n",
    "                                             output_dim        = HP_MODEL['embedding_dim'],\n",
    "                                             mask_zero         = True)(encoder_input)\n",
    "_, encoder_state_h, encoder_state_c = tf.keras.layers.LSTM(units                   = HP_MODEL['lstm_units'], \n",
    "                                                           return_sequences        = False,\n",
    "                                                           return_state            = True,\n",
    "                                                           name                    = 'encoder')(encoder_embedded) \n",
    "encoder_state = [encoder_state_h, encoder_state_c]\n",
    "\n",
    "# ❗ Выход два обънета с словаре\n",
    "encoder_model = tf.keras.Model(inputs=[encoder_input], outputs=[encoder_state])\n",
    "encoder_model.layers[1].set_weights(encoder_emb_weight)\n",
    "encoder_model.layers[2].set_weights(encoder_lstm_weight)\n",
    "encoder_model.summary()\n",
    "# +++++++++++++++++++++++++++++++++++++++++++++++++++++++++++++++++++++++++++++++\n",
    "# Выход словарь из двух элементов (!)"
   ]
  },
  {
   "cell_type": "markdown",
   "id": "8f48dd8f",
   "metadata": {
    "papermill": {
     "duration": 9.441213,
     "end_time": "2022-08-12T20:33:49.061552",
     "exception": false,
     "start_time": "2022-08-12T20:33:39.620339",
     "status": "completed"
    },
    "tags": []
   },
   "source": [
    "### Конфигурация декодера"
   ]
  },
  {
   "cell_type": "code",
   "execution_count": 26,
   "id": "bb6b8421",
   "metadata": {
    "execution": {
     "iopub.execute_input": "2022-08-12T20:34:08.575992Z",
     "iopub.status.busy": "2022-08-12T20:34:08.575632Z",
     "iopub.status.idle": "2022-08-12T20:34:09.438740Z",
     "shell.execute_reply": "2022-08-12T20:34:09.436483Z"
    },
    "papermill": {
     "duration": 10.488089,
     "end_time": "2022-08-12T20:34:09.441499",
     "exception": false,
     "start_time": "2022-08-12T20:33:58.953410",
     "status": "completed"
    },
    "tags": []
   },
   "outputs": [
    {
     "name": "stdout",
     "output_type": "stream",
     "text": [
      "Model: \"model_2\"\n",
      "__________________________________________________________________________________________________\n",
      "Layer (type)                    Output Shape         Param #     Connected to                     \n",
      "==================================================================================================\n",
      "input_2 (InputLayer)            [(None, None)]       0                                            \n",
      "__________________________________________________________________________________________________\n",
      "embedding_3 (Embedding)         (None, None, 512)    65024       input_2[0][0]                    \n",
      "__________________________________________________________________________________________________\n",
      "input_3 (InputLayer)            [(None, None)]       0                                            \n",
      "__________________________________________________________________________________________________\n",
      "input_4 (InputLayer)            [(None, None)]       0                                            \n",
      "__________________________________________________________________________________________________\n",
      "lstm_1 (LSTM)                   [(None, None, 512),  2099200     embedding_3[0][0]                \n",
      "                                                                 input_3[0][0]                    \n",
      "                                                                 input_4[0][0]                    \n",
      "__________________________________________________________________________________________________\n",
      "dense_1 (Dense)                 (None, None, 127)    65151       lstm_1[0][0]                     \n",
      "==================================================================================================\n",
      "Total params: 2,229,375\n",
      "Trainable params: 2,229,375\n",
      "Non-trainable params: 0\n",
      "__________________________________________________________________________________________________\n"
     ]
    }
   ],
   "source": [
    "# Вход в декодер основная цепочка\n",
    "decoder_inputs = tf.keras.layers.Input(shape=(None, ))\n",
    "# Вход в декодер - текущее состояние\n",
    "decoder_state_input_h = tf.keras.layers.Input(shape=(None, ))\n",
    "decoder_state_input_c = tf.keras.layers.Input(shape=(None, ))\n",
    "decoder_states_inputs = [decoder_state_input_h, decoder_state_input_c]\n",
    "#+++++++++++++++++++++++++++++++++++++++++++++++++++++++++++++++++++++++++++\n",
    "# Эмбеддинг\n",
    "decoder_embedding = tf.keras.layers.Embedding(input_dim = HP_DATASET['vocab_size'], output_dim= HP_MODEL['embedding_dim'], mask_zero = True,)(decoder_inputs)\n",
    "#+++++++++++++++++++++++++++++++++++++++++++++++++++++++++++++++++++++++++++\n",
    "# Выход из LSTM\n",
    "decoder_lstm = tf.keras.layers.LSTM(units = HP_MODEL['lstm_units'], return_sequences = True, return_state = True)\n",
    "decoder_outputs, state_h, state_c = decoder_lstm(decoder_embedding, initial_state=decoder_states_inputs)\n",
    "# Текущее состояние слоя\n",
    "decoder_states = [state_h, state_c]\n",
    "#+++++++++++++++++++++++++++++++++++++++++++++++++++++++++++++++++++++++++++\n",
    "# Выход из декодера - Полсносявзный - без температуры\n",
    "decoder_dense = tf.keras.layers.Dense(HP_DATASET['vocab_size'], activation='softmax')\n",
    "decoder_outputs = decoder_dense(decoder_outputs)\n",
    "                              \n",
    "#+++++++++++++++++++++++++++++++++++++++++++++++++++++++++++++++++++++++++++\n",
    "\n",
    "# Сборка декодера\n",
    "# Два выходв: цепочка + текущий стейт <START>\n",
    "decoder_model = tf.keras.Model(inputs  = [decoder_inputs] + decoder_states_inputs,\n",
    "                               outputs = [decoder_outputs] + decoder_states)\n",
    "\n",
    "\n",
    "# Веса обученной модели - Embeddings\n",
    "decoder_embeddings_weight = model_trained.get_layer(name='embedding_1').get_weights()\n",
    "decoder_model.layers[1].set_weights(decoder_embeddings_weight)\n",
    "# Веса обученной модели - LSTM\n",
    "decoder_lstm_weight = model_trained.get_layer(name='lstm').get_weights()\n",
    "decoder_model.layers[4].set_weights(decoder_lstm_weight)\n",
    "# Веса обученной модели - DENSE\n",
    "decoder_dense_weight = model_trained.get_layer(name='dense').get_weights()\n",
    "decoder_model.layers[5].set_weights(decoder_dense_weight)\n",
    "\n",
    "decoder_model.summary()"
   ]
  },
  {
   "cell_type": "code",
   "execution_count": 27,
   "id": "cd065ddc",
   "metadata": {
    "execution": {
     "iopub.execute_input": "2022-08-12T20:34:28.736912Z",
     "iopub.status.busy": "2022-08-12T20:34:28.736489Z",
     "iopub.status.idle": "2022-08-12T20:34:29.098273Z",
     "shell.execute_reply": "2022-08-12T20:34:29.097147Z"
    },
    "papermill": {
     "duration": 10.20574,
     "end_time": "2022-08-12T20:34:29.100505",
     "exception": false,
     "start_time": "2022-08-12T20:34:18.894765",
     "status": "completed"
    },
    "tags": []
   },
   "outputs": [
    {
     "data": {
      "image/png": "[encoded data removed]",
      "text/plain": [
       "<IPython.core.display.Image object>"
      ]
     },
     "execution_count": 27,
     "metadata": {},
     "output_type": "execute_result"
    }
   ],
   "source": [
    "tf.keras.utils.plot_model(decoder_model, show_shapes=True)"
   ]
  },
  {
   "cell_type": "markdown",
   "id": "20ab3792",
   "metadata": {
    "papermill": {
     "duration": 9.549154,
     "end_time": "2022-08-12T20:34:48.105611",
     "exception": false,
     "start_time": "2022-08-12T20:34:38.556457",
     "status": "completed"
    },
    "tags": []
   },
   "source": [
    "# 6. Пример работы чат бота\n",
    "* часть фраз написаны, часть взята из обучающего датсета"
   ]
  },
  {
   "cell_type": "code",
   "execution_count": 28,
   "id": "10caa910",
   "metadata": {
    "execution": {
     "iopub.execute_input": "2022-08-12T20:35:07.615784Z",
     "iopub.status.busy": "2022-08-12T20:35:07.615357Z",
     "iopub.status.idle": "2022-08-12T20:35:45.373189Z",
     "shell.execute_reply": "2022-08-12T20:35:45.372140Z"
    },
    "papermill": {
     "duration": 47.740223,
     "end_time": "2022-08-12T20:35:45.375366",
     "exception": false,
     "start_time": "2022-08-12T20:34:57.635143",
     "status": "completed"
    },
    "tags": []
   },
   "outputs": [
    {
     "name": "stdout",
     "output_type": "stream",
     "text": [
      "--------------------------------\n",
      "YOU ➡️ : Hello! What's your name?\n",
      "Bot ⬅️ : 1;I&Q IT'S WAY 2FUCKIN' FUCKING OVER THAT THE FUCKING THE TOLD BIES I WILL ARE YOU YOUR FUCKING ALL IN POODA THE TALKING THAT THE POSTAND CHILERSTAR FUCKING MAN.  NOW YOU KILLED THE APLA VIL ME THIS COULD BERIED OFF MINTING TIME!<END>\n",
      "--------------------------------\n",
      "YOU ➡️ : Do you alive?\n",
      "Bot ⬅️ : Zuzu.  They're the best people who don't know anything about the story.  I was the one who stopped her and they want to be a little surprising.<END>\n",
      "--------------------------------\n",
      "YOU ➡️ : Are you okay?\n",
      "Bot ⬅️ : PRHHINERUME IN THE THIS KNOW THIS IS THERE IN MY 6:35.<END>\n",
      "--------------------------------\n",
      "YOU ➡️ : You always been this selfish?\n",
      "Bot ⬅️ : Doctor Stone?<END>\n",
      "--------------------------------\n",
      "YOU ➡️ : Did you change your behavior?\n",
      "Bot ⬅️ : Zuzu.  They're the best people who don't know anything about the story.  I was the one who stopped her and they want to be a little surprising.<END>\n",
      "--------------------------------\n",
      "YOU ➡️ : I know, your wickedness.\n",
      "Bot ⬅️ : Sir it's not that I don't know what you mean.<END>\n",
      "--------------------------------\n",
      "YOU ➡️ : Nobody wants to hurt you Peaches!\n",
      "Bot ⬅️ : Michael Myers is a little surprising.<END>\n",
      "--------------------------------\n",
      "YOU ➡️ : Oh. That.  I know what you mean.  I had nightmares all week.\n",
      "Bot ⬅️ : Mikey?<END>\n",
      "--------------------------------\n",
      "YOU ➡️ : You are guilty.\n",
      "Bot ⬅️ : Doctor Stone?<END>\n",
      "--------------------------------\n",
      "YOU ➡️ : I believe you. I really do.\n",
      "Bot ⬅️ : Sir it's not that I don't know what you mean.<END>\n",
      "--------------------------------\n",
      "YOU ➡️ : Go home\n",
      "Bot ⬅️ : Z::ZI I CAME BLACK THE FUCKING MINT.<END>\n"
     ]
    }
   ],
   "source": [
    "messages = ['Hello! What\\'s your name?',\n",
    "            'Do you alive?',\n",
    "            'Are you okay?',\n",
    "            'You always been this selfish?',\n",
    "            'Did you change your behavior?',\n",
    "            'I know, your wickedness.',\n",
    "            'Nobody wants to hurt you Peaches!',\n",
    "            'Oh. That.  I know what you mean.  I had nightmares all week.',\n",
    "            'You are guilty.',\n",
    "            'I believe you. I really do.',\n",
    "            'Go home'\n",
    "           ]\n",
    "\n",
    "for message_str in messages:\n",
    "\n",
    "    example_str = string_split(message_str)\n",
    "    example_str = ids_from_chars(example_str)\n",
    "\n",
    "    for _ in range(1):\n",
    "        # вызываем encoder получаем h и с\n",
    "        states_values = encoder_model.predict(example_str)\n",
    "\n",
    "        # ❗начальное состояние входной цепочки: тег = int 125 из словаря: [125,0,0,...0]\n",
    "        zeros_len = example_str.shape[0]\n",
    "        empty_target_seq = np.zeros((zeros_len, 1 ))\n",
    "        empty_target_seq[0,0] = ids_from_chars(['<START>'])\n",
    "\n",
    "        stop_condition = True\n",
    "        ids = []\n",
    "        stop_num = 0\n",
    "        while stop_condition:\n",
    "            #  подаём в декодер текущее состояние: тег + текущее состояние из энкодера\n",
    "            dec_outputs, h, c = decoder_model.predict([empty_target_seq] + states_values)\n",
    "            # получаем индекс буквы в словаре\n",
    "            sampled_char_index = np.argmax(dec_outputs[0, -1, :] )\n",
    "            # сохраняем полученный символ\n",
    "            ids.append(sampled_char_index)\n",
    "\n",
    "            # ❗Обновляем входную цепочки\n",
    "            # Записываем текущий индекс символа, чтобы подать в декодер на новой итерации\n",
    "            empty_target_seq = np.zeros((zeros_len, 1 ))\n",
    "            empty_target_seq[0,0] = sampled_char_index\n",
    "            # текущее состояние декодера\n",
    "            states_values = [h,c]\n",
    "\n",
    "            #  если получили <END> то останавливаемся\n",
    "            if sampled_char_index == 126:\n",
    "                stop_condition = False\n",
    "\n",
    "            stop_num += 1\n",
    "            if stop_num == 500:\n",
    "                # Если застряли в цикле остановимся\n",
    "                stop_condition = False\n",
    "                print('❗ - Остановка по длине цепочки')\n",
    "\n",
    "\n",
    "    message_answer = string_join(chars_from_ids(ids))\n",
    "\n",
    "\n",
    "    print('--------------------------------')\n",
    "    print(f'YOU ➡️ : {message_str}')\n",
    "    print(f'Bot ⬅️ : {message_answer}')"
   ]
  },
  {
   "cell_type": "markdown",
   "id": "72cea844",
   "metadata": {
    "papermill": {
     "duration": 9.588457,
     "end_time": "2022-08-12T20:36:04.390790",
     "exception": false,
     "start_time": "2022-08-12T20:35:54.802333",
     "status": "completed"
    },
    "tags": []
   },
   "source": [
    "## 7 Сохранение результатов"
   ]
  },
  {
   "cell_type": "code",
   "execution_count": 29,
   "id": "f7299790",
   "metadata": {
    "execution": {
     "iopub.execute_input": "2022-08-12T20:36:23.763334Z",
     "iopub.status.busy": "2022-08-12T20:36:23.762938Z",
     "iopub.status.idle": "2022-08-12T20:36:23.768109Z",
     "shell.execute_reply": "2022-08-12T20:36:23.766955Z"
    },
    "papermill": {
     "duration": 9.888703,
     "end_time": "2022-08-12T20:36:23.770610",
     "exception": false,
     "start_time": "2022-08-12T20:36:13.881907",
     "status": "completed"
    },
    "tags": []
   },
   "outputs": [],
   "source": [
    "# import shutil\n",
    "# shutil.make_archive(base_name='./data', format='zip', base_dir='./data')\n",
    "# shutil.make_archive(base_name='./models', format='zip', base_dir='./models')\n",
    "# shutil.make_archive(base_name='./tblogs', format='zip', base_dir='./tblogs')\n",
    "# shutil.make_archive(base_name='mlruns', format='zip', base_dir='./mlruns')"
   ]
  }
 ],
 "metadata": {
  "kernelspec": {
   "display_name": "Python 3",
   "language": "python",
   "name": "python3"
  },
  "language_info": {
   "codemirror_mode": {
    "name": "ipython",
    "version": 3
   },
   "file_extension": ".py",
   "mimetype": "text/x-python",
   "name": "python",
   "nbconvert_exporter": "python",
   "pygments_lexer": "ipython3",
   "version": "3.7.12"
  },
  "papermill": {
   "default_parameters": {},
   "duration": 19226.162664,
   "end_time": "2022-08-12T20:36:36.300660",
   "environment_variables": {},
   "exception": null,
   "input_path": "__notebook__.ipynb",
   "output_path": "__notebook__.ipynb",
   "parameters": {},
   "start_time": "2022-08-12T15:16:10.137996",
   "version": "2.3.4"
  }
 },
 "nbformat": 4,
 "nbformat_minor": 5
}
