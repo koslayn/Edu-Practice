{
 "cells": [
  {
   "cell_type": "markdown",
   "metadata": {},
   "source": [
    "## Введение\n",
    "\n",
    "Набор данных `weather.csv` содержит информацию о леднике Solheimajokull расположенном в Исландии. \n",
    "\n",
    "Данные:\n",
    "* `AirTemp` - температура воздуха (°C).\n",
    "* `Humidity` - влажность (%).\n",
    "* `WindSpd` - сила ветра (м/с).\n",
    "* `Date` - временная метка (30 минутный интервал).\n",
    "\n",
    "#### Источники информации\n",
    "\n",
    "* [The Pandas data analysis toolkit](http://chris35wills.github.io/courses/PythonPackages_pandas/)\n",
    "* [Analyzing ice dynamics using Sentinel-1 data at the Solheimajoküll Glacier, Iceland](https://www.tandfonline.com/doi/full/10.1080/15481603.2020.1814031)\n",
    "* [Solheimajokull A Geography Case Study](https://www.discover-the-world.com/study-trips/solheimajokull-a-geography-case-study/)\n",
    "\n",
    "\n",
    "#### Проблематика\n",
    "\n",
    "Изменение климата, является важным вопросом, к которому приковано внимание всего человечества. Однако однозначно сделать вывод о текущих тенденциях его изменения, не представляется возможным, так как накоплен не достаточный объем данных и процессы, происходящие в природе очень сложны.\n",
    "\n",
    "В качестве примера можно привести исследование Diego Gómez, Pablo Salvador, Julia Sanz, Mikhail Urbazaev & José Luis Casanova (2020), в котором рассматривался вопрос об изменении климат Исладнии и влияние на него ледника Solheimajoküll. Исследование показало, что у ледника был как период охлаждения, так и период потепления на протяжении 1973-2018 гг.\n",
    "\n",
    "<p style=\"text-align:center;\"><img src='https://www.discover-the-world.com/app/uploads/2018/07/Solheimajokull-in-2007-download-1150x863-c-default.jpg' width=\"500\"></p>\n",
    "\n",
    "Источник: [Solheimajokull A Geography Case Study](https://www.discover-the-world.com/study-trips/solheimajokull-a-geography-case-study/)\n",
    "\n",
    "В данной работе проведём исследование данных об этом леднике, но на более коротком временном промежутке.\n",
    "\n",
    "#### Задачи\n",
    "\n",
    "1. Загрузить данные при помощи pandas.\n",
    "2. Ознакомится с набором данных.\n",
    "3. Исследовать: Температуру, Влажность, Силу ветра.\n",
    "4. Изучить корреляционную связь между данными показателями.\n",
    "5. Сделать краткий вывод"
   ]
  },
  {
   "cell_type": "markdown",
   "metadata": {},
   "source": [
    "## 1. Импорт библиотек и загрузка данных"
   ]
  },
  {
   "cell_type": "code",
   "execution_count": 27,
   "metadata": {},
   "outputs": [],
   "source": [
    "# Установка необходимых версий библиотек\n",
    "# Для установки необходимо раскомментировать строчки\n",
    "# Для Colab достаточно обновить только matplotlib\n",
    "\n",
    "# !pip install plotly==5.6.0\n",
    "# !pip install pandas==1.3.5\n",
    "# !pip install matplotlib==3.4.3 # Если ниже v3.4.2, то будет возникать ошибка с методом bar_label"
   ]
  },
  {
   "cell_type": "code",
   "execution_count": 28,
   "metadata": {},
   "outputs": [],
   "source": [
    "import pandas as pd\n",
    "import numpy as np\n",
    "import plotly.graph_objects as go\n",
    "import matplotlib.pyplot as plt"
   ]
  },
  {
   "cell_type": "code",
   "execution_count": 29,
   "metadata": {},
   "outputs": [
    {
     "data": {
      "text/html": [
       "<div>\n",
       "<style scoped>\n",
       "    .dataframe tbody tr th:only-of-type {\n",
       "        vertical-align: middle;\n",
       "    }\n",
       "\n",
       "    .dataframe tbody tr th {\n",
       "        vertical-align: top;\n",
       "    }\n",
       "\n",
       "    .dataframe thead th {\n",
       "        text-align: right;\n",
       "    }\n",
       "</style>\n",
       "<table border=\"1\" class=\"dataframe\">\n",
       "  <thead>\n",
       "    <tr style=\"text-align: right;\">\n",
       "      <th></th>\n",
       "      <th>AirTemp</th>\n",
       "      <th>Humidity</th>\n",
       "      <th>WindSpd</th>\n",
       "    </tr>\n",
       "    <tr>\n",
       "      <th>Date</th>\n",
       "      <th></th>\n",
       "      <th></th>\n",
       "      <th></th>\n",
       "    </tr>\n",
       "  </thead>\n",
       "  <tbody>\n",
       "    <tr>\n",
       "      <th>2013-08-28 17:00:00</th>\n",
       "      <td>12.1</td>\n",
       "      <td>63.8</td>\n",
       "      <td>0.3</td>\n",
       "    </tr>\n",
       "    <tr>\n",
       "      <th>2013-08-28 17:30:00</th>\n",
       "      <td>10.8</td>\n",
       "      <td>72.6</td>\n",
       "      <td>1.4</td>\n",
       "    </tr>\n",
       "    <tr>\n",
       "      <th>2013-08-28 18:00:00</th>\n",
       "      <td>10.5</td>\n",
       "      <td>73.5</td>\n",
       "      <td>2.0</td>\n",
       "    </tr>\n",
       "    <tr>\n",
       "      <th>2013-08-28 18:30:00</th>\n",
       "      <td>9.7</td>\n",
       "      <td>74.5</td>\n",
       "      <td>1.2</td>\n",
       "    </tr>\n",
       "    <tr>\n",
       "      <th>2013-08-28 19:00:00</th>\n",
       "      <td>9.8</td>\n",
       "      <td>75.9</td>\n",
       "      <td>1.8</td>\n",
       "    </tr>\n",
       "  </tbody>\n",
       "</table>\n",
       "</div>"
      ],
      "text/plain": [
       "                     AirTemp  Humidity  WindSpd\n",
       "Date                                           \n",
       "2013-08-28 17:00:00     12.1      63.8      0.3\n",
       "2013-08-28 17:30:00     10.8      72.6      1.4\n",
       "2013-08-28 18:00:00     10.5      73.5      2.0\n",
       "2013-08-28 18:30:00      9.7      74.5      1.2\n",
       "2013-08-28 19:00:00      9.8      75.9      1.8"
      ]
     },
     "execution_count": 29,
     "metadata": {},
     "output_type": "execute_result"
    }
   ],
   "source": [
    "df = pd.read_csv('./weather.csv', index_col='Date', parse_dates=True, sep=',')\n",
    "\n",
    "df.head()"
   ]
  },
  {
   "cell_type": "markdown",
   "metadata": {},
   "source": [
    "Используя библиотеку `pandas` мы загрузили данные в DataFrame(`df`) с которым в дальнейшем будет работать. При загрузке мы указали, что в качества индекса будет использовать столбец с временными метками которые нужно преобразовать во временной тип данных, а также указали, что разделителем в `weather.csv` является запятая (`,`)."
   ]
  },
  {
   "cell_type": "markdown",
   "metadata": {},
   "source": [
    "## 2. Общее описание набора данных"
   ]
  },
  {
   "cell_type": "code",
   "execution_count": 30,
   "metadata": {},
   "outputs": [
    {
     "data": {
      "text/html": [
       "<div>\n",
       "<style scoped>\n",
       "    .dataframe tbody tr th:only-of-type {\n",
       "        vertical-align: middle;\n",
       "    }\n",
       "\n",
       "    .dataframe tbody tr th {\n",
       "        vertical-align: top;\n",
       "    }\n",
       "\n",
       "    .dataframe thead th {\n",
       "        text-align: right;\n",
       "    }\n",
       "</style>\n",
       "<table border=\"1\" class=\"dataframe\">\n",
       "  <thead>\n",
       "    <tr style=\"text-align: right;\">\n",
       "      <th></th>\n",
       "      <th>AirTemp</th>\n",
       "      <th>Humidity</th>\n",
       "      <th>WindSpd</th>\n",
       "    </tr>\n",
       "  </thead>\n",
       "  <tbody>\n",
       "    <tr>\n",
       "      <th>count</th>\n",
       "      <td>292.000000</td>\n",
       "      <td>292.000000</td>\n",
       "      <td>292.000000</td>\n",
       "    </tr>\n",
       "    <tr>\n",
       "      <th>mean</th>\n",
       "      <td>8.253767</td>\n",
       "      <td>75.866781</td>\n",
       "      <td>2.757192</td>\n",
       "    </tr>\n",
       "    <tr>\n",
       "      <th>std</th>\n",
       "      <td>1.627139</td>\n",
       "      <td>10.426909</td>\n",
       "      <td>2.199402</td>\n",
       "    </tr>\n",
       "    <tr>\n",
       "      <th>min</th>\n",
       "      <td>4.500000</td>\n",
       "      <td>45.100000</td>\n",
       "      <td>0.300000</td>\n",
       "    </tr>\n",
       "    <tr>\n",
       "      <th>25%</th>\n",
       "      <td>7.200000</td>\n",
       "      <td>68.800000</td>\n",
       "      <td>0.700000</td>\n",
       "    </tr>\n",
       "    <tr>\n",
       "      <th>50%</th>\n",
       "      <td>8.100000</td>\n",
       "      <td>75.850000</td>\n",
       "      <td>2.250000</td>\n",
       "    </tr>\n",
       "    <tr>\n",
       "      <th>75%</th>\n",
       "      <td>9.225000</td>\n",
       "      <td>84.675000</td>\n",
       "      <td>4.400000</td>\n",
       "    </tr>\n",
       "    <tr>\n",
       "      <th>max</th>\n",
       "      <td>18.400000</td>\n",
       "      <td>91.400000</td>\n",
       "      <td>8.500000</td>\n",
       "    </tr>\n",
       "  </tbody>\n",
       "</table>\n",
       "</div>"
      ],
      "text/plain": [
       "          AirTemp    Humidity     WindSpd\n",
       "count  292.000000  292.000000  292.000000\n",
       "mean     8.253767   75.866781    2.757192\n",
       "std      1.627139   10.426909    2.199402\n",
       "min      4.500000   45.100000    0.300000\n",
       "25%      7.200000   68.800000    0.700000\n",
       "50%      8.100000   75.850000    2.250000\n",
       "75%      9.225000   84.675000    4.400000\n",
       "max     18.400000   91.400000    8.500000"
      ]
     },
     "execution_count": 30,
     "metadata": {},
     "output_type": "execute_result"
    }
   ],
   "source": [
    "df.describe()"
   ]
  },
  {
   "cell_type": "markdown",
   "metadata": {},
   "source": [
    "Набор данных содержит 292 записи по трём параметрам: температура, влажность, скорость ветра.  \n",
    "Данные зафиксированы с интервалом в 30 минут на протяжении 6 дней (28 августа 2013 по 03 сентября 2013).\n",
    "\n",
    "Метод `describe()` приводит стандартные статистические параметры наших рядов данных.\n",
    "\n",
    "Можно отметить, что температура и влажность за 6 дней значительно колебалась:\n",
    "* минимальная температура составила 4.5 градуса, а максимальная 18.4\n",
    "* минимальная влажность - 45.1, максимальная - 91.4\n",
    "\n",
    "Можно предположить, что между данными величинами есть связь."
   ]
  },
  {
   "cell_type": "markdown",
   "metadata": {},
   "source": [
    "## 3. Исследование рядов данных"
   ]
  },
  {
   "cell_type": "code",
   "execution_count": 31,
   "metadata": {},
   "outputs": [],
   "source": [
    "def boxpolt(data, title='', outliers_color='black'):\n",
    "    fig, ax = plt.subplots(figsize=(21, 9))\n",
    "    ax.boxplot(data, notch=True, vert=False, sym=outliers_color)\n",
    "    ax.set_xlabel(title, fontsize=14)\n",
    "    ax.xaxis.grid(True)\n",
    "    \n",
    "    # Настройка меток на оси OX\n",
    "    # xticks() принимаем список меток для отображения\n",
    "    # range(start, end, step) - работает только с int -> делаем преобразование типов .astype('int')\n",
    "    # np.floor() - округление в меньшую сторону, минимального значения в наборе данных.\n",
    "    # np.ceil() - округление в большую сторону, +1 для включения самого значения.\n",
    "\n",
    "    plt.xticks(range(np.floor(data.min()).astype('int'), \n",
    "                     np.ceil(data.max()).astype('int')+1, \n",
    "                     1))\n",
    "    plt.show()\n",
    "\n",
    "\n",
    "def barpolt(data, title='', period='24H', group=False, color='r'):\n",
    "    fig, ax = plt.subplots(figsize=(21, 9))\n",
    "\n",
    "    if group:\n",
    "        data_avg = data.groupby(data.index.hour).mean()\n",
    "        plt.xticks(range(0,24,1))\n",
    "    else:\n",
    "        data_avg = data.resample(period).mean()\n",
    "    \n",
    "    # Получаем контейнер с рисунком, в нём 7 объектов (столбцов)\n",
    "    p1 = ax.bar(data_avg.index, data_avg, color=[color])\n",
    "\n",
    "    # Добавляем подписи данных используя сохранённый объект,\n",
    "    # Располагаем подписи у края - edge, \n",
    "    # Применяем форматирование к значениям и увеличиваем шрифт\n",
    "    ax.bar_label(p1, label_type='edge', fmt='%.2f', fontsize=14)\n",
    "    \n",
    "    # Убираем рамку, устанавливаем цвет фона в как у plotly\n",
    "    ax.set_frame_on(False)\n",
    "    ax.set_facecolor('#e5ecf6')\n",
    "    \n",
    "    ax.set_xlabel(title, fontsize=14)\n",
    "\n",
    "    plt.show()"
   ]
  },
  {
   "cell_type": "markdown",
   "metadata": {},
   "source": [
    "### 3.1 Данные о температуре"
   ]
  },
  {
   "cell_type": "markdown",
   "metadata": {},
   "source": [
    "Для ознакомления с рядом данных будем использовать график box polt (\"ящик с усами\"). На данном графике одновременно отражается несколько статистических характеристик."
   ]
  },
  {
   "cell_type": "code",
   "execution_count": 32,
   "metadata": {},
   "outputs": [
    {
     "data": {
      "image/png": "[encoded data removed]",
      "text/plain": [
       "<Figure size 1512x648 with 1 Axes>"
      ]
     },
     "metadata": {
      "needs_background": "light"
     },
     "output_type": "display_data"
    }
   ],
   "source": [
    "boxpolt(df['AirTemp'], title='Температура, °C', outliers_color='#ff826e')"
   ]
  },
  {
   "cell_type": "markdown",
   "metadata": {},
   "source": [
    "\"Тело\" прямоугольника показывает интерквантильный размах (interquartile range - IQR) т.е. где расположены данные между Q1 - 25 перцентилем и Q3 - 75 перцентилем.\n",
    "\n",
    "Засечка на фигуре обозначает медианное значение.\n",
    "\n",
    "Можно сделать вывод, что температуры за 6 дней колебались около 8 градусов, в достаточно узком диапазоне примерно от 7 до 9 градусов.\n",
    "\n",
    "На графике отчётливо видны два выброса (outliers) температуры, отмеченные красным цветом. Они выходят за границу $Q_3 + 1.5 * IQR$"
   ]
  },
  {
   "cell_type": "code",
   "execution_count": 33,
   "metadata": {},
   "outputs": [
    {
     "data": {
      "image/png": "[encoded data removed]",
      "text/plain": [
       "<Figure size 1512x648 with 1 Axes>"
      ]
     },
     "metadata": {
      "needs_background": "light"
     },
     "output_type": "display_data"
    }
   ],
   "source": [
    "barpolt(df['AirTemp'], title='Средняя дневная температура, °C', color='#ff826e')"
   ]
  },
  {
   "cell_type": "markdown",
   "metadata": {},
   "source": [
    "Bar chart (Столбиковая диаграмма), одна из самых универсальных и наглядных визуализаций. Она позволяет заметить, что в конце августа происходит постепенное снижение среднедневной температуры, но есть два аномальных дня 31 августа и 1 сентября."
   ]
  },
  {
   "cell_type": "markdown",
   "metadata": {},
   "source": [
    "### 3.2 Данные о Влажности"
   ]
  },
  {
   "cell_type": "code",
   "execution_count": 34,
   "metadata": {},
   "outputs": [
    {
     "data": {
      "image/png": "[encoded data removed]",
      "text/plain": [
       "<Figure size 1512x648 with 1 Axes>"
      ]
     },
     "metadata": {
      "needs_background": "light"
     },
     "output_type": "display_data"
    }
   ],
   "source": [
    "boxpolt(df['Humidity'], title='Влажность, %', outliers_color='#848df9')"
   ]
  },
  {
   "cell_type": "markdown",
   "metadata": {},
   "source": [
    "Box plot для показателя влажности, показал, что показатель влажности более изменчивый и изменяется в широких диапазонах. При этом можно отметить, что были достаточно \"сухие\" дни, когда показатель снижался менее чем 69%. Однако выбросы в данном показатели не наблюдаются."
   ]
  },
  {
   "cell_type": "code",
   "execution_count": 35,
   "metadata": {},
   "outputs": [
    {
     "data": {
      "image/png": "[encoded data removed]",
      "text/plain": [
       "<Figure size 1512x648 with 1 Axes>"
      ]
     },
     "metadata": {
      "needs_background": "light"
     },
     "output_type": "display_data"
    }
   ],
   "source": [
    "barpolt(df['Humidity'], title='Средняя дневная влажность, %', color='#848df9')"
   ]
  },
  {
   "cell_type": "markdown",
   "metadata": {},
   "source": [
    "Данная диаграмма показывает, что так же как и при снижении температуры, происходит постепенное снижение влажности, но можно отметить, что данный показатель имеет большую инерцию. Т.е. при росте температуры 31 августа, показатель влажности вырос 1 сентября и далее более плавно снижался чем показатель температуры."
   ]
  },
  {
   "cell_type": "markdown",
   "metadata": {},
   "source": [
    "### 3.3 Данные о Силе ветра"
   ]
  },
  {
   "cell_type": "code",
   "execution_count": 36,
   "metadata": {},
   "outputs": [
    {
     "data": {
      "image/png": "[encoded data removed]",
      "text/plain": [
       "<Figure size 1512x648 with 1 Axes>"
      ]
     },
     "metadata": {
      "needs_background": "light"
     },
     "output_type": "display_data"
    }
   ],
   "source": [
    "boxpolt(df['WindSpd'], title='Сила ветра, м/с', outliers_color='#33cfa5')"
   ]
  },
  {
   "cell_type": "markdown",
   "metadata": {},
   "source": [
    "Показатель силы ветра - преимущественно значения сконцентрированы от 1 до 4 м/с, но при этом наблюдаются отдельные достаточно ветреные дни. Выброс так же как и для влажности не обнаружились."
   ]
  },
  {
   "cell_type": "code",
   "execution_count": 37,
   "metadata": {},
   "outputs": [
    {
     "data": {
      "image/png": "[encoded data removed]",
      "text/plain": [
       "<Figure size 1512x648 with 1 Axes>"
      ]
     },
     "metadata": {
      "needs_background": "light"
     },
     "output_type": "display_data"
    }
   ],
   "source": [
    "barpolt(df['WindSpd'], title='Средняя дневная скорость ветра, м/с', color='#33cfa5')"
   ]
  },
  {
   "cell_type": "markdown",
   "metadata": {},
   "source": [
    "В отношении скорости ветра сделать какие либо выводы не возможно, показатель достаточно сильно колебался день от дня.\n",
    "\n",
    "Возможно если сгруппировать данные в часовом разрезе, удастся выявить закономерности."
   ]
  },
  {
   "cell_type": "code",
   "execution_count": 38,
   "metadata": {},
   "outputs": [
    {
     "data": {
      "image/png": "[encoded data removed]",
      "text/plain": [
       "<Figure size 1512x648 with 1 Axes>"
      ]
     },
     "metadata": {
      "needs_background": "light"
     },
     "output_type": "display_data"
    }
   ],
   "source": [
    "barpolt(df['WindSpd'], title='Средняя скорость ветра в течение дневного цикла, м/с', group=True, color='#33cfa5')"
   ]
  },
  {
   "cell_type": "markdown",
   "metadata": {},
   "source": [
    "Как показывает график, можно отметить, что с полуночи до 10 утра на леднике наблюдается затишье, с 11 до 19 ветер набирает большую силу и с 20 часов начинает затихать."
   ]
  },
  {
   "cell_type": "markdown",
   "metadata": {},
   "source": [
    "### 3.4 Интерактивный график: AirTemp, Humidity, WindSpd\n",
    "\n",
    "Для того, чтобы пользователь мог в наглядном виде ознакомиться с данным, разместим их на интерактивном графике.\n",
    "\n",
    "Данная визуализация позволяет:\n",
    "* Выбирать какую переменную пользователь будет изучать.\n",
    "* Приближать данные, чтобы лучше рассмотреть отдельные измерения.\n",
    "* Выбирать, какие данные отразить на визуализации можно при помощи кнопок или выбирая значения на легенде."
   ]
  },
  {
   "cell_type": "code",
   "execution_count": 39,
   "metadata": {},
   "outputs": [
    {
     "data": {
      "application/vnd.plotly.v1+json": {
       "config": {
        "plotlyServerURL": "https://plot.ly"
       },
       "data": [
        {
         "line": {
          "color": "#ff826e"
         },
         "mode": "markers+lines",
         "name": "AirTemp",
         "type": "scatter",
         "x": [
          "2013-08-28T17:00:00",
          "2013-08-28T17:30:00",
          "2013-08-28T18:00:00",
          "2013-08-28T18:30:00",
          "2013-08-28T19:00:00",
          "2013-08-28T19:30:00",
          "2013-08-28T20:00:00",
          "2013-08-28T20:30:00",
          "2013-08-28T21:00:00",
          "2013-08-28T21:30:00",
          "2013-08-28T22:00:00",
          "2013-08-28T22:30:00",
          "2013-08-28T23:00:00",
          "2013-08-28T23:30:00",
          "2013-08-29T00:00:00",
          "2013-08-29T00:30:00",
          "2013-08-29T01:00:00",
          "2013-08-29T01:30:00",
          "2013-08-29T02:00:00",
          "2013-08-29T02:30:00",
          "2013-08-29T03:00:00",
          "2013-08-29T03:30:00",
          "2013-08-29T04:00:00",
          "2013-08-29T04:30:00",
          "2013-08-29T05:00:00",
          "2013-08-29T05:30:00",
          "2013-08-29T06:00:00",
          "2013-08-29T06:30:00",
          "2013-08-29T07:00:00",
          "2013-08-29T07:30:00",
          "2013-08-29T08:00:00",
          "2013-08-29T08:30:00",
          "2013-08-29T09:00:00",
          "2013-08-29T09:30:00",
          "2013-08-29T10:00:00",
          "2013-08-29T10:30:00",
          "2013-08-29T11:00:00",
          "2013-08-29T11:30:00",
          "2013-08-29T12:00:00",
          "2013-08-29T12:30:00",
          "2013-08-29T13:00:00",
          "2013-08-29T13:30:00",
          "2013-08-29T14:00:00",
          "2013-08-29T14:30:00",
          "2013-08-29T15:00:00",
          "2013-08-29T15:30:00",
          "2013-08-29T16:00:00",
          "2013-08-29T16:30:00",
          "2013-08-29T17:00:00",
          "2013-08-29T17:30:00",
          "2013-08-29T18:00:00",
          "2013-08-29T18:30:00",
          "2013-08-29T19:00:00",
          "2013-08-29T19:30:00",
          "2013-08-29T20:00:00",
          "2013-08-29T20:30:00",
          "2013-08-29T21:00:00",
          "2013-08-29T21:30:00",
          "2013-08-29T22:00:00",
          "2013-08-29T22:30:00",
          "2013-08-29T23:00:00",
          "2013-08-29T23:30:00",
          "2013-08-30T00:00:00",
          "2013-08-30T00:30:00",
          "2013-08-30T01:00:00",
          "2013-08-30T01:30:00",
          "2013-08-30T02:00:00",
          "2013-08-30T02:30:00",
          "2013-08-30T03:00:00",
          "2013-08-30T03:30:00",
          "2013-08-30T04:00:00",
          "2013-08-30T04:30:00",
          "2013-08-30T05:00:00",
          "2013-08-30T05:30:00",
          "2013-08-30T06:00:00",
          "2013-08-30T06:30:00",
          "2013-08-30T07:00:00",
          "2013-08-30T07:30:00",
          "2013-08-30T08:00:00",
          "2013-08-30T08:30:00",
          "2013-08-30T09:00:00",
          "2013-08-30T09:30:00",
          "2013-08-30T10:00:00",
          "2013-08-30T10:30:00",
          "2013-08-30T11:00:00",
          "2013-08-30T11:30:00",
          "2013-08-30T12:00:00",
          "2013-08-30T12:30:00",
          "2013-08-30T13:00:00",
          "2013-08-30T13:30:00",
          "2013-08-30T14:00:00",
          "2013-08-30T14:30:00",
          "2013-08-30T15:00:00",
          "2013-08-30T15:30:00",
          "2013-08-30T16:00:00",
          "2013-08-30T16:30:00",
          "2013-08-30T17:00:00",
          "2013-08-30T17:30:00",
          "2013-08-30T18:00:00",
          "2013-08-30T18:30:00",
          "2013-08-30T19:00:00",
          "2013-08-30T19:30:00",
          "2013-08-30T20:00:00",
          "2013-08-30T20:30:00",
          "2013-08-30T21:00:00",
          "2013-08-30T21:30:00",
          "2013-08-30T22:00:00",
          "2013-08-30T22:30:00",
          "2013-08-30T23:00:00",
          "2013-08-30T23:30:00",
          "2013-08-31T00:00:00",
          "2013-08-31T00:30:00",
          "2013-08-31T01:00:00",
          "2013-08-31T01:30:00",
          "2013-08-31T02:00:00",
          "2013-08-31T02:30:00",
          "2013-08-31T03:00:00",
          "2013-08-31T03:30:00",
          "2013-08-31T04:00:00",
          "2013-08-31T04:30:00",
          "2013-08-31T05:00:00",
          "2013-08-31T05:30:00",
          "2013-08-31T06:00:00",
          "2013-08-31T06:30:00",
          "2013-08-31T07:00:00",
          "2013-08-31T07:30:00",
          "2013-08-31T08:00:00",
          "2013-08-31T08:30:00",
          "2013-08-31T09:00:00",
          "2013-08-31T09:30:00",
          "2013-08-31T10:00:00",
          "2013-08-31T10:30:00",
          "2013-08-31T11:00:00",
          "2013-08-31T11:30:00",
          "2013-08-31T12:00:00",
          "2013-08-31T12:30:00",
          "2013-08-31T13:00:00",
          "2013-08-31T13:30:00",
          "2013-08-31T14:00:00",
          "2013-08-31T14:30:00",
          "2013-08-31T15:00:00",
          "2013-08-31T15:30:00",
          "2013-08-31T16:00:00",
          "2013-08-31T16:30:00",
          "2013-08-31T17:00:00",
          "2013-08-31T17:30:00",
          "2013-08-31T18:00:00",
          "2013-08-31T18:30:00",
          "2013-08-31T19:00:00",
          "2013-08-31T19:30:00",
          "2013-08-31T20:00:00",
          "2013-08-31T20:30:00",
          "2013-08-31T21:00:00",
          "2013-08-31T21:30:00",
          "2013-08-31T22:00:00",
          "2013-08-31T22:30:00",
          "2013-08-31T23:00:00",
          "2013-08-31T23:30:00",
          "2013-09-01T00:00:00",
          "2013-09-01T00:30:00",
          "2013-09-01T01:00:00",
          "2013-09-01T01:30:00",
          "2013-09-01T02:00:00",
          "2013-09-01T02:30:00",
          "2013-09-01T03:00:00",
          "2013-09-01T03:30:00",
          "2013-09-01T04:00:00",
          "2013-09-01T04:30:00",
          "2013-09-01T05:00:00",
          "2013-09-01T05:30:00",
          "2013-09-01T06:00:00",
          "2013-09-01T06:30:00",
          "2013-09-01T07:00:00",
          "2013-09-01T07:30:00",
          "2013-09-01T08:00:00",
          "2013-09-01T08:30:00",
          "2013-09-01T09:00:00",
          "2013-09-01T09:30:00",
          "2013-09-01T10:00:00",
          "2013-09-01T10:30:00",
          "2013-09-01T11:00:00",
          "2013-09-01T11:30:00",
          "2013-09-01T12:00:00",
          "2013-09-01T12:30:00",
          "2013-09-01T13:00:00",
          "2013-09-01T13:30:00",
          "2013-09-01T14:00:00",
          "2013-09-01T14:30:00",
          "2013-09-01T15:00:00",
          "2013-09-01T15:30:00",
          "2013-09-01T16:00:00",
          "2013-09-01T16:30:00",
          "2013-09-01T17:00:00",
          "2013-09-01T17:30:00",
          "2013-09-01T18:00:00",
          "2013-09-01T18:30:00",
          "2013-09-01T19:00:00",
          "2013-09-01T19:30:00",
          "2013-09-01T20:00:00",
          "2013-09-01T20:30:00",
          "2013-09-01T21:00:00",
          "2013-09-01T21:30:00",
          "2013-09-01T22:00:00",
          "2013-09-01T22:30:00",
          "2013-09-01T23:00:00",
          "2013-09-01T23:30:00",
          "2013-09-02T00:00:00",
          "2013-09-02T00:30:00",
          "2013-09-02T01:00:00",
          "2013-09-02T01:30:00",
          "2013-09-02T02:00:00",
          "2013-09-02T02:30:00",
          "2013-09-02T03:00:00",
          "2013-09-02T03:30:00",
          "2013-09-02T04:00:00",
          "2013-09-02T04:30:00",
          "2013-09-02T05:00:00",
          "2013-09-02T05:30:00",
          "2013-09-02T06:00:00",
          "2013-09-02T06:30:00",
          "2013-09-02T07:00:00",
          "2013-09-02T07:30:00",
          "2013-09-02T08:00:00",
          "2013-09-02T08:30:00",
          "2013-09-02T09:00:00",
          "2013-09-02T09:30:00",
          "2013-09-02T10:00:00",
          "2013-09-02T10:30:00",
          "2013-09-02T11:00:00",
          "2013-09-02T11:30:00",
          "2013-09-02T12:00:00",
          "2013-09-02T12:30:00",
          "2013-09-02T13:00:00",
          "2013-09-02T13:30:00",
          "2013-09-02T14:00:00",
          "2013-09-02T14:30:00",
          "2013-09-02T15:00:00",
          "2013-09-02T15:30:00",
          "2013-09-02T16:00:00",
          "2013-09-02T16:30:00",
          "2013-09-02T17:00:00",
          "2013-09-02T17:30:00",
          "2013-09-02T18:00:00",
          "2013-09-02T18:30:00",
          "2013-09-02T19:00:00",
          "2013-09-02T19:30:00",
          "2013-09-02T20:00:00",
          "2013-09-02T20:30:00",
          "2013-09-02T21:00:00",
          "2013-09-02T21:30:00",
          "2013-09-02T22:00:00",
          "2013-09-02T22:30:00",
          "2013-09-02T23:00:00",
          "2013-09-02T23:30:00",
          "2013-09-03T00:00:00",
          "2013-09-03T00:30:00",
          "2013-09-03T01:00:00",
          "2013-09-03T01:30:00",
          "2013-09-03T02:00:00",
          "2013-09-03T02:30:00",
          "2013-09-03T03:00:00",
          "2013-09-03T03:30:00",
          "2013-09-03T04:00:00",
          "2013-09-03T04:30:00",
          "2013-09-03T05:00:00",
          "2013-09-03T05:30:00",
          "2013-09-03T06:00:00",
          "2013-09-03T06:30:00",
          "2013-09-03T07:00:00",
          "2013-09-03T07:30:00",
          "2013-09-03T08:00:00",
          "2013-09-03T08:30:00",
          "2013-09-03T09:00:00",
          "2013-09-03T09:30:00",
          "2013-09-03T10:00:00",
          "2013-09-03T10:30:00",
          "2013-09-03T11:00:00",
          "2013-09-03T11:30:00",
          "2013-09-03T12:00:00",
          "2013-09-03T12:30:00",
          "2013-09-03T13:00:00",
          "2013-09-03T13:30:00",
          "2013-09-03T14:00:00",
          "2013-09-03T14:30:00",
          "2013-09-03T15:00:00",
          "2013-09-03T15:30:00",
          "2013-09-03T16:00:00",
          "2013-09-03T16:30:00",
          "2013-09-03T17:00:00",
          "2013-09-03T17:30:00",
          "2013-09-03T18:00:00",
          "2013-09-03T18:30:00"
         ],
         "y": [
          12.1,
          10.8,
          10.5,
          9.7,
          9.8,
          9.3,
          8.2,
          8.7,
          8.9,
          7.9,
          8.4,
          8.8,
          9.3,
          7.2,
          8.4,
          8.2,
          8,
          6.6,
          8.7,
          8.3,
          7.5,
          6.7,
          7.9,
          9,
          7.1,
          8,
          7.4,
          8.8,
          8.8,
          7.4,
          8.4,
          9.3,
          7.3,
          6.7,
          8.2,
          7.1,
          8.3,
          8.4,
          8.5,
          9,
          7.8,
          9.4,
          9.6,
          9.3,
          9,
          9.2,
          8.8,
          7.9,
          7.6,
          8.5,
          8.5,
          9.1,
          8.7,
          9.5,
          9.7,
          10,
          10.1,
          10,
          9.8,
          10.2,
          9.9,
          9.9,
          10,
          10,
          10,
          10,
          9.9,
          9.9,
          9.8,
          9.8,
          9.9,
          9.9,
          9.9,
          9.7,
          8.3,
          8,
          7.9,
          7.2,
          6.7,
          6.1,
          6.2,
          6.9,
          6.5,
          6.5,
          5.9,
          6.3,
          5.5,
          5.3,
          4.9,
          5.2,
          5.2,
          5,
          6.4,
          6.3,
          6.3,
          5.6,
          5.9,
          5.7,
          5.3,
          4.5,
          5.5,
          6.3,
          5.6,
          4.6,
          5.3,
          6.3,
          6.6,
          6.7,
          6.9,
          6.7,
          6.6,
          7.1,
          6.1,
          5.9,
          6,
          6.7,
          7.3,
          7.5,
          7.4,
          7.3,
          7.7,
          7.2,
          7.5,
          7.6,
          7.6,
          7.6,
          7.6,
          7.9,
          8,
          8.4,
          9,
          9.3,
          10,
          10.5,
          10.7,
          9.7,
          9.6,
          9,
          10.7,
          11,
          11.2,
          11.4,
          10.9,
          10,
          10,
          9.5,
          9.1,
          10.2,
          10.6,
          9.7,
          9.9,
          9.6,
          9.2,
          8.6,
          8.2,
          8.1,
          8.1,
          8.3,
          8.6,
          8.8,
          8.8,
          8.5,
          8.3,
          8.2,
          7.6,
          7.5,
          7.8,
          7.3,
          6.1,
          7.6,
          8.1,
          8.1,
          7.6,
          7.5,
          7.9,
          9,
          8.2,
          8.9,
          8.9,
          8.5,
          8.3,
          10,
          11.4,
          10.6,
          10.7,
          11.3,
          10.7,
          10.6,
          10,
          10.4,
          11.4,
          11.2,
          11.8,
          11.5,
          11.3,
          11.5,
          11,
          10.6,
          8.5,
          8.9,
          9.2,
          7.4,
          7.1,
          8.2,
          8.4,
          8.3,
          7.8,
          7.9,
          8.4,
          8.7,
          8.7,
          8,
          8.2,
          8,
          8,
          7.9,
          7,
          6.6,
          7.2,
          7,
          6.5,
          6.2,
          6.6,
          6.7,
          6.8,
          7.1,
          7.4,
          7.6,
          7.4,
          7.9,
          7.8,
          9.2,
          8.4,
          7.6,
          7.1,
          8.5,
          8,
          8.1,
          8.1,
          8.3,
          7.4,
          8,
          7.6,
          7.6,
          7.7,
          7.6,
          7.5,
          7.8,
          7.7,
          7.7,
          7.5,
          7.5,
          7.4,
          7.7,
          7.7,
          7.3,
          6.9,
          6.9,
          7.2,
          7.1,
          7.2,
          6.8,
          6.7,
          6.6,
          6.4,
          6.1,
          6.6,
          7,
          6.8,
          6.1,
          6.9,
          7.3,
          7.4,
          7.6,
          8.2,
          8.5,
          7.7,
          9.5,
          8,
          8.7,
          9.1,
          8.8,
          9.7,
          7.5,
          8.1,
          9.2,
          9.2,
          8.3,
          8.3,
          10.4,
          12.3,
          18.4
         ]
        },
        {
         "line": {
          "color": "#848df9"
         },
         "mode": "markers+lines",
         "name": "Humidity",
         "type": "scatter",
         "x": [
          "2013-08-28T17:00:00",
          "2013-08-28T17:30:00",
          "2013-08-28T18:00:00",
          "2013-08-28T18:30:00",
          "2013-08-28T19:00:00",
          "2013-08-28T19:30:00",
          "2013-08-28T20:00:00",
          "2013-08-28T20:30:00",
          "2013-08-28T21:00:00",
          "2013-08-28T21:30:00",
          "2013-08-28T22:00:00",
          "2013-08-28T22:30:00",
          "2013-08-28T23:00:00",
          "2013-08-28T23:30:00",
          "2013-08-29T00:00:00",
          "2013-08-29T00:30:00",
          "2013-08-29T01:00:00",
          "2013-08-29T01:30:00",
          "2013-08-29T02:00:00",
          "2013-08-29T02:30:00",
          "2013-08-29T03:00:00",
          "2013-08-29T03:30:00",
          "2013-08-29T04:00:00",
          "2013-08-29T04:30:00",
          "2013-08-29T05:00:00",
          "2013-08-29T05:30:00",
          "2013-08-29T06:00:00",
          "2013-08-29T06:30:00",
          "2013-08-29T07:00:00",
          "2013-08-29T07:30:00",
          "2013-08-29T08:00:00",
          "2013-08-29T08:30:00",
          "2013-08-29T09:00:00",
          "2013-08-29T09:30:00",
          "2013-08-29T10:00:00",
          "2013-08-29T10:30:00",
          "2013-08-29T11:00:00",
          "2013-08-29T11:30:00",
          "2013-08-29T12:00:00",
          "2013-08-29T12:30:00",
          "2013-08-29T13:00:00",
          "2013-08-29T13:30:00",
          "2013-08-29T14:00:00",
          "2013-08-29T14:30:00",
          "2013-08-29T15:00:00",
          "2013-08-29T15:30:00",
          "2013-08-29T16:00:00",
          "2013-08-29T16:30:00",
          "2013-08-29T17:00:00",
          "2013-08-29T17:30:00",
          "2013-08-29T18:00:00",
          "2013-08-29T18:30:00",
          "2013-08-29T19:00:00",
          "2013-08-29T19:30:00",
          "2013-08-29T20:00:00",
          "2013-08-29T20:30:00",
          "2013-08-29T21:00:00",
          "2013-08-29T21:30:00",
          "2013-08-29T22:00:00",
          "2013-08-29T22:30:00",
          "2013-08-29T23:00:00",
          "2013-08-29T23:30:00",
          "2013-08-30T00:00:00",
          "2013-08-30T00:30:00",
          "2013-08-30T01:00:00",
          "2013-08-30T01:30:00",
          "2013-08-30T02:00:00",
          "2013-08-30T02:30:00",
          "2013-08-30T03:00:00",
          "2013-08-30T03:30:00",
          "2013-08-30T04:00:00",
          "2013-08-30T04:30:00",
          "2013-08-30T05:00:00",
          "2013-08-30T05:30:00",
          "2013-08-30T06:00:00",
          "2013-08-30T06:30:00",
          "2013-08-30T07:00:00",
          "2013-08-30T07:30:00",
          "2013-08-30T08:00:00",
          "2013-08-30T08:30:00",
          "2013-08-30T09:00:00",
          "2013-08-30T09:30:00",
          "2013-08-30T10:00:00",
          "2013-08-30T10:30:00",
          "2013-08-30T11:00:00",
          "2013-08-30T11:30:00",
          "2013-08-30T12:00:00",
          "2013-08-30T12:30:00",
          "2013-08-30T13:00:00",
          "2013-08-30T13:30:00",
          "2013-08-30T14:00:00",
          "2013-08-30T14:30:00",
          "2013-08-30T15:00:00",
          "2013-08-30T15:30:00",
          "2013-08-30T16:00:00",
          "2013-08-30T16:30:00",
          "2013-08-30T17:00:00",
          "2013-08-30T17:30:00",
          "2013-08-30T18:00:00",
          "2013-08-30T18:30:00",
          "2013-08-30T19:00:00",
          "2013-08-30T19:30:00",
          "2013-08-30T20:00:00",
          "2013-08-30T20:30:00",
          "2013-08-30T21:00:00",
          "2013-08-30T21:30:00",
          "2013-08-30T22:00:00",
          "2013-08-30T22:30:00",
          "2013-08-30T23:00:00",
          "2013-08-30T23:30:00",
          "2013-08-31T00:00:00",
          "2013-08-31T00:30:00",
          "2013-08-31T01:00:00",
          "2013-08-31T01:30:00",
          "2013-08-31T02:00:00",
          "2013-08-31T02:30:00",
          "2013-08-31T03:00:00",
          "2013-08-31T03:30:00",
          "2013-08-31T04:00:00",
          "2013-08-31T04:30:00",
          "2013-08-31T05:00:00",
          "2013-08-31T05:30:00",
          "2013-08-31T06:00:00",
          "2013-08-31T06:30:00",
          "2013-08-31T07:00:00",
          "2013-08-31T07:30:00",
          "2013-08-31T08:00:00",
          "2013-08-31T08:30:00",
          "2013-08-31T09:00:00",
          "2013-08-31T09:30:00",
          "2013-08-31T10:00:00",
          "2013-08-31T10:30:00",
          "2013-08-31T11:00:00",
          "2013-08-31T11:30:00",
          "2013-08-31T12:00:00",
          "2013-08-31T12:30:00",
          "2013-08-31T13:00:00",
          "2013-08-31T13:30:00",
          "2013-08-31T14:00:00",
          "2013-08-31T14:30:00",
          "2013-08-31T15:00:00",
          "2013-08-31T15:30:00",
          "2013-08-31T16:00:00",
          "2013-08-31T16:30:00",
          "2013-08-31T17:00:00",
          "2013-08-31T17:30:00",
          "2013-08-31T18:00:00",
          "2013-08-31T18:30:00",
          "2013-08-31T19:00:00",
          "2013-08-31T19:30:00",
          "2013-08-31T20:00:00",
          "2013-08-31T20:30:00",
          "2013-08-31T21:00:00",
          "2013-08-31T21:30:00",
          "2013-08-31T22:00:00",
          "2013-08-31T22:30:00",
          "2013-08-31T23:00:00",
          "2013-08-31T23:30:00",
          "2013-09-01T00:00:00",
          "2013-09-01T00:30:00",
          "2013-09-01T01:00:00",
          "2013-09-01T01:30:00",
          "2013-09-01T02:00:00",
          "2013-09-01T02:30:00",
          "2013-09-01T03:00:00",
          "2013-09-01T03:30:00",
          "2013-09-01T04:00:00",
          "2013-09-01T04:30:00",
          "2013-09-01T05:00:00",
          "2013-09-01T05:30:00",
          "2013-09-01T06:00:00",
          "2013-09-01T06:30:00",
          "2013-09-01T07:00:00",
          "2013-09-01T07:30:00",
          "2013-09-01T08:00:00",
          "2013-09-01T08:30:00",
          "2013-09-01T09:00:00",
          "2013-09-01T09:30:00",
          "2013-09-01T10:00:00",
          "2013-09-01T10:30:00",
          "2013-09-01T11:00:00",
          "2013-09-01T11:30:00",
          "2013-09-01T12:00:00",
          "2013-09-01T12:30:00",
          "2013-09-01T13:00:00",
          "2013-09-01T13:30:00",
          "2013-09-01T14:00:00",
          "2013-09-01T14:30:00",
          "2013-09-01T15:00:00",
          "2013-09-01T15:30:00",
          "2013-09-01T16:00:00",
          "2013-09-01T16:30:00",
          "2013-09-01T17:00:00",
          "2013-09-01T17:30:00",
          "2013-09-01T18:00:00",
          "2013-09-01T18:30:00",
          "2013-09-01T19:00:00",
          "2013-09-01T19:30:00",
          "2013-09-01T20:00:00",
          "2013-09-01T20:30:00",
          "2013-09-01T21:00:00",
          "2013-09-01T21:30:00",
          "2013-09-01T22:00:00",
          "2013-09-01T22:30:00",
          "2013-09-01T23:00:00",
          "2013-09-01T23:30:00",
          "2013-09-02T00:00:00",
          "2013-09-02T00:30:00",
          "2013-09-02T01:00:00",
          "2013-09-02T01:30:00",
          "2013-09-02T02:00:00",
          "2013-09-02T02:30:00",
          "2013-09-02T03:00:00",
          "2013-09-02T03:30:00",
          "2013-09-02T04:00:00",
          "2013-09-02T04:30:00",
          "2013-09-02T05:00:00",
          "2013-09-02T05:30:00",
          "2013-09-02T06:00:00",
          "2013-09-02T06:30:00",
          "2013-09-02T07:00:00",
          "2013-09-02T07:30:00",
          "2013-09-02T08:00:00",
          "2013-09-02T08:30:00",
          "2013-09-02T09:00:00",
          "2013-09-02T09:30:00",
          "2013-09-02T10:00:00",
          "2013-09-02T10:30:00",
          "2013-09-02T11:00:00",
          "2013-09-02T11:30:00",
          "2013-09-02T12:00:00",
          "2013-09-02T12:30:00",
          "2013-09-02T13:00:00",
          "2013-09-02T13:30:00",
          "2013-09-02T14:00:00",
          "2013-09-02T14:30:00",
          "2013-09-02T15:00:00",
          "2013-09-02T15:30:00",
          "2013-09-02T16:00:00",
          "2013-09-02T16:30:00",
          "2013-09-02T17:00:00",
          "2013-09-02T17:30:00",
          "2013-09-02T18:00:00",
          "2013-09-02T18:30:00",
          "2013-09-02T19:00:00",
          "2013-09-02T19:30:00",
          "2013-09-02T20:00:00",
          "2013-09-02T20:30:00",
          "2013-09-02T21:00:00",
          "2013-09-02T21:30:00",
          "2013-09-02T22:00:00",
          "2013-09-02T22:30:00",
          "2013-09-02T23:00:00",
          "2013-09-02T23:30:00",
          "2013-09-03T00:00:00",
          "2013-09-03T00:30:00",
          "2013-09-03T01:00:00",
          "2013-09-03T01:30:00",
          "2013-09-03T02:00:00",
          "2013-09-03T02:30:00",
          "2013-09-03T03:00:00",
          "2013-09-03T03:30:00",
          "2013-09-03T04:00:00",
          "2013-09-03T04:30:00",
          "2013-09-03T05:00:00",
          "2013-09-03T05:30:00",
          "2013-09-03T06:00:00",
          "2013-09-03T06:30:00",
          "2013-09-03T07:00:00",
          "2013-09-03T07:30:00",
          "2013-09-03T08:00:00",
          "2013-09-03T08:30:00",
          "2013-09-03T09:00:00",
          "2013-09-03T09:30:00",
          "2013-09-03T10:00:00",
          "2013-09-03T10:30:00",
          "2013-09-03T11:00:00",
          "2013-09-03T11:30:00",
          "2013-09-03T12:00:00",
          "2013-09-03T12:30:00",
          "2013-09-03T13:00:00",
          "2013-09-03T13:30:00",
          "2013-09-03T14:00:00",
          "2013-09-03T14:30:00",
          "2013-09-03T15:00:00",
          "2013-09-03T15:30:00",
          "2013-09-03T16:00:00",
          "2013-09-03T16:30:00",
          "2013-09-03T17:00:00",
          "2013-09-03T17:30:00",
          "2013-09-03T18:00:00",
          "2013-09-03T18:30:00"
         ],
         "y": [
          63.8,
          72.6,
          73.5,
          74.5,
          75.9,
          73.9,
          75.5,
          84.1,
          84.9,
          84.6,
          80,
          80.7,
          79.5,
          77.1,
          82.5,
          76.2,
          71.2,
          77.1,
          71.2,
          72.2,
          71.9,
          82.7,
          79.8,
          71.3,
          75.3,
          73.9,
          75.2,
          75.8,
          73.6,
          81.8,
          79.7,
          76.5,
          76.2,
          85.4,
          88.4,
          81.9,
          89.5,
          84.3,
          88.4,
          90.3,
          89.9,
          91.1,
          90.8,
          90.3,
          90,
          90,
          90,
          89.3,
          89.8,
          89.7,
          89.1,
          88,
          89.1,
          89.4,
          88.9,
          88.6,
          88.3,
          89.1,
          87.6,
          89,
          90.6,
          90.9,
          90.4,
          90.2,
          90.7,
          90.2,
          90.7,
          91.4,
          91.4,
          91,
          90.1,
          90.1,
          90.6,
          91.2,
          90.9,
          87.9,
          86.9,
          90.9,
          83.8,
          80,
          81.6,
          77.9,
          81.7,
          79.8,
          80.3,
          85.1,
          87.4,
          88.4,
          79.4,
          83.9,
          87.5,
          89.3,
          70.4,
          72.1,
          65,
          69.5,
          67,
          63.8,
          68.2,
          76,
          63.5,
          55.4,
          55.8,
          70.4,
          61.3,
          58,
          52.9,
          56,
          49.5,
          51,
          56.6,
          49.4,
          61.3,
          66.2,
          64.5,
          62.6,
          60.9,
          55.4,
          62,
          59.9,
          60.7,
          66.4,
          64.4,
          65.4,
          66.1,
          63.9,
          66.1,
          67.2,
          63.1,
          65.4,
          59.4,
          60.5,
          63.5,
          48.7,
          51,
          64.2,
          64.9,
          72.5,
          60.9,
          58,
          65.5,
          57.4,
          53.5,
          75.3,
          73.2,
          75.2,
          69.8,
          62.6,
          60.4,
          67.7,
          63.5,
          68.8,
          78,
          86.3,
          88.8,
          89.9,
          90.7,
          90.6,
          87.6,
          87.7,
          88.5,
          89.7,
          90.1,
          90.4,
          90.7,
          89.5,
          80.4,
          71.6,
          80.6,
          82.3,
          77.5,
          79.9,
          80,
          81.6,
          83.6,
          80.6,
          81.9,
          83.3,
          86.7,
          88.4,
          88.4,
          73.3,
          66.4,
          73.2,
          74.8,
          72.6,
          76,
          75.2,
          74,
          71.8,
          74.6,
          73.6,
          71.8,
          76.2,
          77.2,
          76.2,
          78.4,
          81.2,
          84.4,
          82.6,
          87.5,
          87.1,
          89,
          90.2,
          90.9,
          90.4,
          84.2,
          78.1,
          66.6,
          63,
          62.5,
          76.6,
          74,
          68,
          68.2,
          70.5,
          76.4,
          83.2,
          71.1,
          68,
          72.3,
          81.2,
          77.9,
          81.7,
          75.5,
          73,
          67.9,
          73.2,
          77.2,
          68.9,
          73.1,
          66.8,
          71.6,
          75.1,
          79.4,
          69.1,
          81,
          78.2,
          75.2,
          72.1,
          77.4,
          73.5,
          79.3,
          78.7,
          79.9,
          81.4,
          77.4,
          67.6,
          73.5,
          73.5,
          73.3,
          73.8,
          78.7,
          76.5,
          71.6,
          76.3,
          77.5,
          77.5,
          70.5,
          68.1,
          69.4,
          65.5,
          68.8,
          71.2,
          68.2,
          71.3,
          70.2,
          69.3,
          70.9,
          76,
          67.9,
          71.2,
          69,
          65.7,
          63.2,
          70.9,
          73.6,
          66.9,
          70.6,
          70.7,
          69.3,
          71.4,
          62.4,
          77.1,
          65.6,
          64.9,
          70.8,
          66.9,
          70.7,
          86.5,
          88.3,
          45.1
         ]
        },
        {
         "line": {
          "color": "#33cfa5"
         },
         "mode": "markers+lines",
         "name": "WindSpd",
         "type": "scatter",
         "x": [
          "2013-08-28T17:00:00",
          "2013-08-28T17:30:00",
          "2013-08-28T18:00:00",
          "2013-08-28T18:30:00",
          "2013-08-28T19:00:00",
          "2013-08-28T19:30:00",
          "2013-08-28T20:00:00",
          "2013-08-28T20:30:00",
          "2013-08-28T21:00:00",
          "2013-08-28T21:30:00",
          "2013-08-28T22:00:00",
          "2013-08-28T22:30:00",
          "2013-08-28T23:00:00",
          "2013-08-28T23:30:00",
          "2013-08-29T00:00:00",
          "2013-08-29T00:30:00",
          "2013-08-29T01:00:00",
          "2013-08-29T01:30:00",
          "2013-08-29T02:00:00",
          "2013-08-29T02:30:00",
          "2013-08-29T03:00:00",
          "2013-08-29T03:30:00",
          "2013-08-29T04:00:00",
          "2013-08-29T04:30:00",
          "2013-08-29T05:00:00",
          "2013-08-29T05:30:00",
          "2013-08-29T06:00:00",
          "2013-08-29T06:30:00",
          "2013-08-29T07:00:00",
          "2013-08-29T07:30:00",
          "2013-08-29T08:00:00",
          "2013-08-29T08:30:00",
          "2013-08-29T09:00:00",
          "2013-08-29T09:30:00",
          "2013-08-29T10:00:00",
          "2013-08-29T10:30:00",
          "2013-08-29T11:00:00",
          "2013-08-29T11:30:00",
          "2013-08-29T12:00:00",
          "2013-08-29T12:30:00",
          "2013-08-29T13:00:00",
          "2013-08-29T13:30:00",
          "2013-08-29T14:00:00",
          "2013-08-29T14:30:00",
          "2013-08-29T15:00:00",
          "2013-08-29T15:30:00",
          "2013-08-29T16:00:00",
          "2013-08-29T16:30:00",
          "2013-08-29T17:00:00",
          "2013-08-29T17:30:00",
          "2013-08-29T18:00:00",
          "2013-08-29T18:30:00",
          "2013-08-29T19:00:00",
          "2013-08-29T19:30:00",
          "2013-08-29T20:00:00",
          "2013-08-29T20:30:00",
          "2013-08-29T21:00:00",
          "2013-08-29T21:30:00",
          "2013-08-29T22:00:00",
          "2013-08-29T22:30:00",
          "2013-08-29T23:00:00",
          "2013-08-29T23:30:00",
          "2013-08-30T00:00:00",
          "2013-08-30T00:30:00",
          "2013-08-30T01:00:00",
          "2013-08-30T01:30:00",
          "2013-08-30T02:00:00",
          "2013-08-30T02:30:00",
          "2013-08-30T03:00:00",
          "2013-08-30T03:30:00",
          "2013-08-30T04:00:00",
          "2013-08-30T04:30:00",
          "2013-08-30T05:00:00",
          "2013-08-30T05:30:00",
          "2013-08-30T06:00:00",
          "2013-08-30T06:30:00",
          "2013-08-30T07:00:00",
          "2013-08-30T07:30:00",
          "2013-08-30T08:00:00",
          "2013-08-30T08:30:00",
          "2013-08-30T09:00:00",
          "2013-08-30T09:30:00",
          "2013-08-30T10:00:00",
          "2013-08-30T10:30:00",
          "2013-08-30T11:00:00",
          "2013-08-30T11:30:00",
          "2013-08-30T12:00:00",
          "2013-08-30T12:30:00",
          "2013-08-30T13:00:00",
          "2013-08-30T13:30:00",
          "2013-08-30T14:00:00",
          "2013-08-30T14:30:00",
          "2013-08-30T15:00:00",
          "2013-08-30T15:30:00",
          "2013-08-30T16:00:00",
          "2013-08-30T16:30:00",
          "2013-08-30T17:00:00",
          "2013-08-30T17:30:00",
          "2013-08-30T18:00:00",
          "2013-08-30T18:30:00",
          "2013-08-30T19:00:00",
          "2013-08-30T19:30:00",
          "2013-08-30T20:00:00",
          "2013-08-30T20:30:00",
          "2013-08-30T21:00:00",
          "2013-08-30T21:30:00",
          "2013-08-30T22:00:00",
          "2013-08-30T22:30:00",
          "2013-08-30T23:00:00",
          "2013-08-30T23:30:00",
          "2013-08-31T00:00:00",
          "2013-08-31T00:30:00",
          "2013-08-31T01:00:00",
          "2013-08-31T01:30:00",
          "2013-08-31T02:00:00",
          "2013-08-31T02:30:00",
          "2013-08-31T03:00:00",
          "2013-08-31T03:30:00",
          "2013-08-31T04:00:00",
          "2013-08-31T04:30:00",
          "2013-08-31T05:00:00",
          "2013-08-31T05:30:00",
          "2013-08-31T06:00:00",
          "2013-08-31T06:30:00",
          "2013-08-31T07:00:00",
          "2013-08-31T07:30:00",
          "2013-08-31T08:00:00",
          "2013-08-31T08:30:00",
          "2013-08-31T09:00:00",
          "2013-08-31T09:30:00",
          "2013-08-31T10:00:00",
          "2013-08-31T10:30:00",
          "2013-08-31T11:00:00",
          "2013-08-31T11:30:00",
          "2013-08-31T12:00:00",
          "2013-08-31T12:30:00",
          "2013-08-31T13:00:00",
          "2013-08-31T13:30:00",
          "2013-08-31T14:00:00",
          "2013-08-31T14:30:00",
          "2013-08-31T15:00:00",
          "2013-08-31T15:30:00",
          "2013-08-31T16:00:00",
          "2013-08-31T16:30:00",
          "2013-08-31T17:00:00",
          "2013-08-31T17:30:00",
          "2013-08-31T18:00:00",
          "2013-08-31T18:30:00",
          "2013-08-31T19:00:00",
          "2013-08-31T19:30:00",
          "2013-08-31T20:00:00",
          "2013-08-31T20:30:00",
          "2013-08-31T21:00:00",
          "2013-08-31T21:30:00",
          "2013-08-31T22:00:00",
          "2013-08-31T22:30:00",
          "2013-08-31T23:00:00",
          "2013-08-31T23:30:00",
          "2013-09-01T00:00:00",
          "2013-09-01T00:30:00",
          "2013-09-01T01:00:00",
          "2013-09-01T01:30:00",
          "2013-09-01T02:00:00",
          "2013-09-01T02:30:00",
          "2013-09-01T03:00:00",
          "2013-09-01T03:30:00",
          "2013-09-01T04:00:00",
          "2013-09-01T04:30:00",
          "2013-09-01T05:00:00",
          "2013-09-01T05:30:00",
          "2013-09-01T06:00:00",
          "2013-09-01T06:30:00",
          "2013-09-01T07:00:00",
          "2013-09-01T07:30:00",
          "2013-09-01T08:00:00",
          "2013-09-01T08:30:00",
          "2013-09-01T09:00:00",
          "2013-09-01T09:30:00",
          "2013-09-01T10:00:00",
          "2013-09-01T10:30:00",
          "2013-09-01T11:00:00",
          "2013-09-01T11:30:00",
          "2013-09-01T12:00:00",
          "2013-09-01T12:30:00",
          "2013-09-01T13:00:00",
          "2013-09-01T13:30:00",
          "2013-09-01T14:00:00",
          "2013-09-01T14:30:00",
          "2013-09-01T15:00:00",
          "2013-09-01T15:30:00",
          "2013-09-01T16:00:00",
          "2013-09-01T16:30:00",
          "2013-09-01T17:00:00",
          "2013-09-01T17:30:00",
          "2013-09-01T18:00:00",
          "2013-09-01T18:30:00",
          "2013-09-01T19:00:00",
          "2013-09-01T19:30:00",
          "2013-09-01T20:00:00",
          "2013-09-01T20:30:00",
          "2013-09-01T21:00:00",
          "2013-09-01T21:30:00",
          "2013-09-01T22:00:00",
          "2013-09-01T22:30:00",
          "2013-09-01T23:00:00",
          "2013-09-01T23:30:00",
          "2013-09-02T00:00:00",
          "2013-09-02T00:30:00",
          "2013-09-02T01:00:00",
          "2013-09-02T01:30:00",
          "2013-09-02T02:00:00",
          "2013-09-02T02:30:00",
          "2013-09-02T03:00:00",
          "2013-09-02T03:30:00",
          "2013-09-02T04:00:00",
          "2013-09-02T04:30:00",
          "2013-09-02T05:00:00",
          "2013-09-02T05:30:00",
          "2013-09-02T06:00:00",
          "2013-09-02T06:30:00",
          "2013-09-02T07:00:00",
          "2013-09-02T07:30:00",
          "2013-09-02T08:00:00",
          "2013-09-02T08:30:00",
          "2013-09-02T09:00:00",
          "2013-09-02T09:30:00",
          "2013-09-02T10:00:00",
          "2013-09-02T10:30:00",
          "2013-09-02T11:00:00",
          "2013-09-02T11:30:00",
          "2013-09-02T12:00:00",
          "2013-09-02T12:30:00",
          "2013-09-02T13:00:00",
          "2013-09-02T13:30:00",
          "2013-09-02T14:00:00",
          "2013-09-02T14:30:00",
          "2013-09-02T15:00:00",
          "2013-09-02T15:30:00",
          "2013-09-02T16:00:00",
          "2013-09-02T16:30:00",
          "2013-09-02T17:00:00",
          "2013-09-02T17:30:00",
          "2013-09-02T18:00:00",
          "2013-09-02T18:30:00",
          "2013-09-02T19:00:00",
          "2013-09-02T19:30:00",
          "2013-09-02T20:00:00",
          "2013-09-02T20:30:00",
          "2013-09-02T21:00:00",
          "2013-09-02T21:30:00",
          "2013-09-02T22:00:00",
          "2013-09-02T22:30:00",
          "2013-09-02T23:00:00",
          "2013-09-02T23:30:00",
          "2013-09-03T00:00:00",
          "2013-09-03T00:30:00",
          "2013-09-03T01:00:00",
          "2013-09-03T01:30:00",
          "2013-09-03T02:00:00",
          "2013-09-03T02:30:00",
          "2013-09-03T03:00:00",
          "2013-09-03T03:30:00",
          "2013-09-03T04:00:00",
          "2013-09-03T04:30:00",
          "2013-09-03T05:00:00",
          "2013-09-03T05:30:00",
          "2013-09-03T06:00:00",
          "2013-09-03T06:30:00",
          "2013-09-03T07:00:00",
          "2013-09-03T07:30:00",
          "2013-09-03T08:00:00",
          "2013-09-03T08:30:00",
          "2013-09-03T09:00:00",
          "2013-09-03T09:30:00",
          "2013-09-03T10:00:00",
          "2013-09-03T10:30:00",
          "2013-09-03T11:00:00",
          "2013-09-03T11:30:00",
          "2013-09-03T12:00:00",
          "2013-09-03T12:30:00",
          "2013-09-03T13:00:00",
          "2013-09-03T13:30:00",
          "2013-09-03T14:00:00",
          "2013-09-03T14:30:00",
          "2013-09-03T15:00:00",
          "2013-09-03T15:30:00",
          "2013-09-03T16:00:00",
          "2013-09-03T16:30:00",
          "2013-09-03T17:00:00",
          "2013-09-03T17:30:00",
          "2013-09-03T18:00:00",
          "2013-09-03T18:30:00"
         ],
         "y": [
          0.3,
          1.4,
          2,
          1.2,
          1.8,
          1.3,
          1.2,
          0.7,
          1.8,
          1.5,
          1.2,
          2,
          1.3,
          2,
          1.2,
          2.1,
          1.7,
          2.1,
          2.5,
          2.2,
          2,
          0.9,
          1.9,
          2.6,
          2.5,
          2.3,
          2.6,
          2,
          0.7,
          2.5,
          3,
          2.1,
          1.3,
          1.7,
          2.7,
          1.6,
          1.5,
          1.7,
          1.3,
          1.9,
          0.9,
          0.9,
          1.2,
          1.5,
          1.3,
          1.8,
          0.6,
          1,
          0.8,
          0.9,
          1.2,
          2.2,
          0.9,
          1.4,
          1.6,
          3,
          2.3,
          2.8,
          1.8,
          2.3,
          3.1,
          2.7,
          4.2,
          2.8,
          2.8,
          3.2,
          3.5,
          2.7,
          3.4,
          4.1,
          3.4,
          3.3,
          3.5,
          2.3,
          2,
          1.2,
          0.8,
          3,
          4.5,
          3.7,
          2.5,
          2.7,
          4.5,
          3.9,
          4.1,
          5.3,
          6.5,
          7,
          5.2,
          4.7,
          6.2,
          5.1,
          2.6,
          5.9,
          6.4,
          5.5,
          6,
          6.5,
          7.8,
          5.8,
          8.5,
          8.3,
          7.6,
          5,
          6.2,
          7.4,
          6.5,
          6.4,
          6,
          3.2,
          4.9,
          3,
          2.9,
          2.8,
          1.2,
          4.3,
          5.5,
          5.9,
          5.3,
          5.9,
          6.3,
          4.7,
          5.2,
          5.8,
          5.5,
          5.3,
          4.4,
          0.7,
          6.1,
          5.3,
          4.5,
          5.4,
          4.6,
          6.3,
          5.4,
          5.9,
          0.9,
          0.4,
          0.5,
          0.6,
          0.4,
          4.6,
          1.4,
          0.4,
          1.3,
          2.5,
          0.5,
          0.7,
          0.4,
          0.4,
          0.6,
          0.3,
          0.3,
          0.3,
          0.3,
          0.3,
          0.3,
          0.4,
          0.4,
          0.4,
          0.3,
          0.4,
          0.3,
          0.3,
          0.4,
          1.8,
          2.5,
          1.8,
          0.4,
          1.7,
          1.6,
          1.9,
          1.5,
          0.5,
          0.4,
          0.7,
          0.3,
          0.4,
          0.3,
          0.4,
          0.3,
          0.4,
          1.4,
          1.3,
          0.4,
          2.9,
          1.9,
          3.7,
          2.6,
          1.9,
          0.7,
          2.5,
          3.2,
          2.4,
          3.4,
          3.3,
          3.2,
          2.2,
          0.3,
          0.4,
          0.4,
          0.5,
          0.3,
          0.3,
          1,
          0.6,
          0.6,
          0.6,
          0.6,
          0.5,
          0.5,
          1.5,
          0.4,
          0.4,
          0.4,
          0.4,
          0.3,
          0.4,
          3.8,
          3.2,
          1.7,
          0.3,
          2.8,
          3.3,
          0.4,
          3.9,
          3.1,
          4.1,
          4,
          5.9,
          6.3,
          5.6,
          4.7,
          6.9,
          6.5,
          7.3,
          5.7,
          7.3,
          6.6,
          7.4,
          6.1,
          7.9,
          6.8,
          6.4,
          6,
          6,
          6,
          7.8,
          6.7,
          6.1,
          5.9,
          5.8,
          4.4,
          5.4,
          5.6,
          4.6,
          4.4,
          4.3,
          4.5,
          4.4,
          4.2,
          4.2,
          0.3,
          0.4,
          0.4,
          0.4,
          0.3,
          0.4,
          0.3,
          0.3,
          0.3,
          0.3,
          0.4,
          0.3,
          0.3,
          0.4,
          2.3,
          4.4,
          1.9,
          3,
          3.6,
          4,
          3.4,
          4,
          0.8,
          2.6,
          2.3,
          2.8,
          2.1,
          0.3,
          0.3,
          0.3
         ]
        }
       ],
       "layout": {
        "template": {
         "data": {
          "bar": [
           {
            "error_x": {
             "color": "#2a3f5f"
            },
            "error_y": {
             "color": "#2a3f5f"
            },
            "marker": {
             "line": {
              "color": "#E5ECF6",
              "width": 0.5
             },
             "pattern": {
              "fillmode": "overlay",
              "size": 10,
              "solidity": 0.2
             }
            },
            "type": "bar"
           }
          ],
          "barpolar": [
           {
            "marker": {
             "line": {
              "color": "#E5ECF6",
              "width": 0.5
             },
             "pattern": {
              "fillmode": "overlay",
              "size": 10,
              "solidity": 0.2
             }
            },
            "type": "barpolar"
           }
          ],
          "carpet": [
           {
            "aaxis": {
             "endlinecolor": "#2a3f5f",
             "gridcolor": "white",
             "linecolor": "white",
             "minorgridcolor": "white",
             "startlinecolor": "#2a3f5f"
            },
            "baxis": {
             "endlinecolor": "#2a3f5f",
             "gridcolor": "white",
             "linecolor": "white",
             "minorgridcolor": "white",
             "startlinecolor": "#2a3f5f"
            },
            "type": "carpet"
           }
          ],
          "choropleth": [
           {
            "colorbar": {
             "outlinewidth": 0,
             "ticks": ""
            },
            "type": "choropleth"
           }
          ],
          "contour": [
           {
            "colorbar": {
             "outlinewidth": 0,
             "ticks": ""
            },
            "colorscale": [
             [
              0,
              "#0d0887"
             ],
             [
              0.1111111111111111,
              "#46039f"
             ],
             [
              0.2222222222222222,
              "#7201a8"
             ],
             [
              0.3333333333333333,
              "#9c179e"
             ],
             [
              0.4444444444444444,
              "#bd3786"
             ],
             [
              0.5555555555555556,
              "#d8576b"
             ],
             [
              0.6666666666666666,
              "#ed7953"
             ],
             [
              0.7777777777777778,
              "#fb9f3a"
             ],
             [
              0.8888888888888888,
              "#fdca26"
             ],
             [
              1,
              "#f0f921"
             ]
            ],
            "type": "contour"
           }
          ],
          "contourcarpet": [
           {
            "colorbar": {
             "outlinewidth": 0,
             "ticks": ""
            },
            "type": "contourcarpet"
           }
          ],
          "heatmap": [
           {
            "colorbar": {
             "outlinewidth": 0,
             "ticks": ""
            },
            "colorscale": [
             [
              0,
              "#0d0887"
             ],
             [
              0.1111111111111111,
              "#46039f"
             ],
             [
              0.2222222222222222,
              "#7201a8"
             ],
             [
              0.3333333333333333,
              "#9c179e"
             ],
             [
              0.4444444444444444,
              "#bd3786"
             ],
             [
              0.5555555555555556,
              "#d8576b"
             ],
             [
              0.6666666666666666,
              "#ed7953"
             ],
             [
              0.7777777777777778,
              "#fb9f3a"
             ],
             [
              0.8888888888888888,
              "#fdca26"
             ],
             [
              1,
              "#f0f921"
             ]
            ],
            "type": "heatmap"
           }
          ],
          "heatmapgl": [
           {
            "colorbar": {
             "outlinewidth": 0,
             "ticks": ""
            },
            "colorscale": [
             [
              0,
              "#0d0887"
             ],
             [
              0.1111111111111111,
              "#46039f"
             ],
             [
              0.2222222222222222,
              "#7201a8"
             ],
             [
              0.3333333333333333,
              "#9c179e"
             ],
             [
              0.4444444444444444,
              "#bd3786"
             ],
             [
              0.5555555555555556,
              "#d8576b"
             ],
             [
              0.6666666666666666,
              "#ed7953"
             ],
             [
              0.7777777777777778,
              "#fb9f3a"
             ],
             [
              0.8888888888888888,
              "#fdca26"
             ],
             [
              1,
              "#f0f921"
             ]
            ],
            "type": "heatmapgl"
           }
          ],
          "histogram": [
           {
            "marker": {
             "pattern": {
              "fillmode": "overlay",
              "size": 10,
              "solidity": 0.2
             }
            },
            "type": "histogram"
           }
          ],
          "histogram2d": [
           {
            "colorbar": {
             "outlinewidth": 0,
             "ticks": ""
            },
            "colorscale": [
             [
              0,
              "#0d0887"
             ],
             [
              0.1111111111111111,
              "#46039f"
             ],
             [
              0.2222222222222222,
              "#7201a8"
             ],
             [
              0.3333333333333333,
              "#9c179e"
             ],
             [
              0.4444444444444444,
              "#bd3786"
             ],
             [
              0.5555555555555556,
              "#d8576b"
             ],
             [
              0.6666666666666666,
              "#ed7953"
             ],
             [
              0.7777777777777778,
              "#fb9f3a"
             ],
             [
              0.8888888888888888,
              "#fdca26"
             ],
             [
              1,
              "#f0f921"
             ]
            ],
            "type": "histogram2d"
           }
          ],
          "histogram2dcontour": [
           {
            "colorbar": {
             "outlinewidth": 0,
             "ticks": ""
            },
            "colorscale": [
             [
              0,
              "#0d0887"
             ],
             [
              0.1111111111111111,
              "#46039f"
             ],
             [
              0.2222222222222222,
              "#7201a8"
             ],
             [
              0.3333333333333333,
              "#9c179e"
             ],
             [
              0.4444444444444444,
              "#bd3786"
             ],
             [
              0.5555555555555556,
              "#d8576b"
             ],
             [
              0.6666666666666666,
              "#ed7953"
             ],
             [
              0.7777777777777778,
              "#fb9f3a"
             ],
             [
              0.8888888888888888,
              "#fdca26"
             ],
             [
              1,
              "#f0f921"
             ]
            ],
            "type": "histogram2dcontour"
           }
          ],
          "mesh3d": [
           {
            "colorbar": {
             "outlinewidth": 0,
             "ticks": ""
            },
            "type": "mesh3d"
           }
          ],
          "parcoords": [
           {
            "line": {
             "colorbar": {
              "outlinewidth": 0,
              "ticks": ""
             }
            },
            "type": "parcoords"
           }
          ],
          "pie": [
           {
            "automargin": true,
            "type": "pie"
           }
          ],
          "scatter": [
           {
            "marker": {
             "colorbar": {
              "outlinewidth": 0,
              "ticks": ""
             }
            },
            "type": "scatter"
           }
          ],
          "scatter3d": [
           {
            "line": {
             "colorbar": {
              "outlinewidth": 0,
              "ticks": ""
             }
            },
            "marker": {
             "colorbar": {
              "outlinewidth": 0,
              "ticks": ""
             }
            },
            "type": "scatter3d"
           }
          ],
          "scattercarpet": [
           {
            "marker": {
             "colorbar": {
              "outlinewidth": 0,
              "ticks": ""
             }
            },
            "type": "scattercarpet"
           }
          ],
          "scattergeo": [
           {
            "marker": {
             "colorbar": {
              "outlinewidth": 0,
              "ticks": ""
             }
            },
            "type": "scattergeo"
           }
          ],
          "scattergl": [
           {
            "marker": {
             "colorbar": {
              "outlinewidth": 0,
              "ticks": ""
             }
            },
            "type": "scattergl"
           }
          ],
          "scattermapbox": [
           {
            "marker": {
             "colorbar": {
              "outlinewidth": 0,
              "ticks": ""
             }
            },
            "type": "scattermapbox"
           }
          ],
          "scatterpolar": [
           {
            "marker": {
             "colorbar": {
              "outlinewidth": 0,
              "ticks": ""
             }
            },
            "type": "scatterpolar"
           }
          ],
          "scatterpolargl": [
           {
            "marker": {
             "colorbar": {
              "outlinewidth": 0,
              "ticks": ""
             }
            },
            "type": "scatterpolargl"
           }
          ],
          "scatterternary": [
           {
            "marker": {
             "colorbar": {
              "outlinewidth": 0,
              "ticks": ""
             }
            },
            "type": "scatterternary"
           }
          ],
          "surface": [
           {
            "colorbar": {
             "outlinewidth": 0,
             "ticks": ""
            },
            "colorscale": [
             [
              0,
              "#0d0887"
             ],
             [
              0.1111111111111111,
              "#46039f"
             ],
             [
              0.2222222222222222,
              "#7201a8"
             ],
             [
              0.3333333333333333,
              "#9c179e"
             ],
             [
              0.4444444444444444,
              "#bd3786"
             ],
             [
              0.5555555555555556,
              "#d8576b"
             ],
             [
              0.6666666666666666,
              "#ed7953"
             ],
             [
              0.7777777777777778,
              "#fb9f3a"
             ],
             [
              0.8888888888888888,
              "#fdca26"
             ],
             [
              1,
              "#f0f921"
             ]
            ],
            "type": "surface"
           }
          ],
          "table": [
           {
            "cells": {
             "fill": {
              "color": "#EBF0F8"
             },
             "line": {
              "color": "white"
             }
            },
            "header": {
             "fill": {
              "color": "#C8D4E3"
             },
             "line": {
              "color": "white"
             }
            },
            "type": "table"
           }
          ]
         },
         "layout": {
          "annotationdefaults": {
           "arrowcolor": "#2a3f5f",
           "arrowhead": 0,
           "arrowwidth": 1
          },
          "autotypenumbers": "strict",
          "coloraxis": {
           "colorbar": {
            "outlinewidth": 0,
            "ticks": ""
           }
          },
          "colorscale": {
           "diverging": [
            [
             0,
             "#8e0152"
            ],
            [
             0.1,
             "#c51b7d"
            ],
            [
             0.2,
             "#de77ae"
            ],
            [
             0.3,
             "#f1b6da"
            ],
            [
             0.4,
             "#fde0ef"
            ],
            [
             0.5,
             "#f7f7f7"
            ],
            [
             0.6,
             "#e6f5d0"
            ],
            [
             0.7,
             "#b8e186"
            ],
            [
             0.8,
             "#7fbc41"
            ],
            [
             0.9,
             "#4d9221"
            ],
            [
             1,
             "#276419"
            ]
           ],
           "sequential": [
            [
             0,
             "#0d0887"
            ],
            [
             0.1111111111111111,
             "#46039f"
            ],
            [
             0.2222222222222222,
             "#7201a8"
            ],
            [
             0.3333333333333333,
             "#9c179e"
            ],
            [
             0.4444444444444444,
             "#bd3786"
            ],
            [
             0.5555555555555556,
             "#d8576b"
            ],
            [
             0.6666666666666666,
             "#ed7953"
            ],
            [
             0.7777777777777778,
             "#fb9f3a"
            ],
            [
             0.8888888888888888,
             "#fdca26"
            ],
            [
             1,
             "#f0f921"
            ]
           ],
           "sequentialminus": [
            [
             0,
             "#0d0887"
            ],
            [
             0.1111111111111111,
             "#46039f"
            ],
            [
             0.2222222222222222,
             "#7201a8"
            ],
            [
             0.3333333333333333,
             "#9c179e"
            ],
            [
             0.4444444444444444,
             "#bd3786"
            ],
            [
             0.5555555555555556,
             "#d8576b"
            ],
            [
             0.6666666666666666,
             "#ed7953"
            ],
            [
             0.7777777777777778,
             "#fb9f3a"
            ],
            [
             0.8888888888888888,
             "#fdca26"
            ],
            [
             1,
             "#f0f921"
            ]
           ]
          },
          "colorway": [
           "#636efa",
           "#EF553B",
           "#00cc96",
           "#ab63fa",
           "#FFA15A",
           "#19d3f3",
           "#FF6692",
           "#B6E880",
           "#FF97FF",
           "#FECB52"
          ],
          "font": {
           "color": "#2a3f5f"
          },
          "geo": {
           "bgcolor": "white",
           "lakecolor": "white",
           "landcolor": "#E5ECF6",
           "showlakes": true,
           "showland": true,
           "subunitcolor": "white"
          },
          "hoverlabel": {
           "align": "left"
          },
          "hovermode": "closest",
          "mapbox": {
           "style": "light"
          },
          "paper_bgcolor": "white",
          "plot_bgcolor": "#E5ECF6",
          "polar": {
           "angularaxis": {
            "gridcolor": "white",
            "linecolor": "white",
            "ticks": ""
           },
           "bgcolor": "#E5ECF6",
           "radialaxis": {
            "gridcolor": "white",
            "linecolor": "white",
            "ticks": ""
           }
          },
          "scene": {
           "xaxis": {
            "backgroundcolor": "#E5ECF6",
            "gridcolor": "white",
            "gridwidth": 2,
            "linecolor": "white",
            "showbackground": true,
            "ticks": "",
            "zerolinecolor": "white"
           },
           "yaxis": {
            "backgroundcolor": "#E5ECF6",
            "gridcolor": "white",
            "gridwidth": 2,
            "linecolor": "white",
            "showbackground": true,
            "ticks": "",
            "zerolinecolor": "white"
           },
           "zaxis": {
            "backgroundcolor": "#E5ECF6",
            "gridcolor": "white",
            "gridwidth": 2,
            "linecolor": "white",
            "showbackground": true,
            "ticks": "",
            "zerolinecolor": "white"
           }
          },
          "shapedefaults": {
           "line": {
            "color": "#2a3f5f"
           }
          },
          "ternary": {
           "aaxis": {
            "gridcolor": "white",
            "linecolor": "white",
            "ticks": ""
           },
           "baxis": {
            "gridcolor": "white",
            "linecolor": "white",
            "ticks": ""
           },
           "bgcolor": "#E5ECF6",
           "caxis": {
            "gridcolor": "white",
            "linecolor": "white",
            "ticks": ""
           }
          },
          "title": {
           "x": 0.05
          },
          "xaxis": {
           "automargin": true,
           "gridcolor": "white",
           "linecolor": "white",
           "ticks": "",
           "title": {
            "standoff": 15
           },
           "zerolinecolor": "white",
           "zerolinewidth": 2
          },
          "yaxis": {
           "automargin": true,
           "gridcolor": "white",
           "linecolor": "white",
           "ticks": "",
           "title": {
            "standoff": 15
           },
           "zerolinecolor": "white",
           "zerolinewidth": 2
          }
         }
        },
        "updatemenus": [
         {
          "buttons": [
           {
            "args": [
             {
              "visible": [
               true,
               false,
               false
              ]
             },
             {
              "title": "Температура воздуха, °C"
             }
            ],
            "label": "Температура воздуха",
            "method": "update"
           },
           {
            "args": [
             {
              "visible": [
               false,
               true,
               false
              ]
             },
             {
              "title": "Влажность, %"
             }
            ],
            "label": "Влажность",
            "method": "update"
           },
           {
            "args": [
             {
              "visible": [
               false,
               false,
               true
              ]
             },
             {
              "title": "Сила ветра, м/с"
             }
            ],
            "label": "Сила ветра",
            "method": "update"
           },
           {
            "args": [
             {
              "visible": [
               true,
               true,
               true
              ]
             },
             {
              "title": "All Data"
             }
            ],
            "label": "ALL data",
            "method": "update"
           }
          ],
          "direction": "left",
          "pad": {
           "r": 1,
           "t": 1
          },
          "showactive": false,
          "type": "buttons",
          "x": 0,
          "xanchor": "left",
          "y": 1.15,
          "yanchor": "top"
         }
        ]
       }
      }
     },
     "metadata": {},
     "output_type": "display_data"
    }
   ],
   "source": [
    "# создаётся полотно и размещаются все данные \n",
    "paper = go.Figure(\n",
    "        data=[\n",
    "            go.Scatter(x=df.index, y=df.AirTemp, name='AirTemp', mode='markers+lines', line=dict(color=\"#ff826e\")),\n",
    "            go.Scatter(x=df.index, y=df.Humidity, name='Humidity', mode='markers+lines', line=dict(color=\"#848df9\")),\n",
    "            go.Scatter(x=df.index, y=df.WindSpd, name='WindSpd', mode='markers+lines', line=dict(color=\"#33cfa5\"))\n",
    "            ])\n",
    "\n",
    "# специальный метод добавляющий интерактивность\n",
    "paper.update_layout(\n",
    "    # настройка меню\n",
    "    updatemenus=[\n",
    "        # создаются кнопки\n",
    "        dict(\n",
    "            type = \"buttons\",\n",
    "            direction = \"left\",\n",
    "            buttons=list([\n",
    "                # Первая кнопка\n",
    "                dict(\n",
    "                    label=\"Температура воздуха\",\n",
    "                    method=\"update\",\n",
    "                    args=[{\"visible\": [True, False, False]}, # Указывается, какие данные должны выводится на график т.е. вывести только первый, второй и третий не выводить.\n",
    "                          {\"title\": \"Температура воздуха, °C\",}],\n",
    "                ),\n",
    "                # Вторая кнопка\n",
    "                dict(\n",
    "                    label=\"Влажность\",\n",
    "                    method=\"update\",\n",
    "                    args=[{\"visible\": [False, True, False]},\n",
    "                          {\"title\": \"Влажность, %\"}],\n",
    "                ),\n",
    "                dict(\n",
    "                    label=\"Сила ветра\",\n",
    "                    method=\"update\",\n",
    "                    args=[{\"visible\": [False, False, True]},\n",
    "                          {\"title\": \"Сила ветра, м/с\"}],\n",
    "                ),\n",
    "                dict(\n",
    "                    label=\"ALL data\",\n",
    "                    method=\"update\",\n",
    "                    args=[{\"visible\": [True, True, True]},\n",
    "                          {\"title\": \"All Data\"}],\n",
    "                )\n",
    "            ]),\n",
    "            # Где располагаются кнопки (левый верхний угол, выше, чем основное полотно графика)\n",
    "            pad={\"r\": 1, \"t\": 1},\n",
    "            showactive=False,\n",
    "            x=0.0,\n",
    "            xanchor=\"left\",\n",
    "            y=1.15,\n",
    "            yanchor=\"top\"\n",
    "        ),\n",
    "    ]\n",
    ")\n",
    "\n",
    "\n",
    "paper.show()"
   ]
  },
  {
   "cell_type": "markdown",
   "metadata": {},
   "source": [
    "## 4. Корреляционная связь между переменными\n",
    "\n",
    "### 4.1. Начальный набор данных\n",
    "\n",
    "Для ознакомления с общим видом взаимного расположения данных, визуализируем их при помощи Диаграммы рассеивания (Scatter plot). Данный тип визуализации позволит посмотреть на данные и выявить возможные взаимосвязи между изучаемыми величинами, а также покажет анаталии.\n",
    "\n",
    "Также построим гистограмму (histogram plot) которая позволит визуально оценить вероятностное распределение значений и рассчитаем коэффициенты корреляции $R$."
   ]
  },
  {
   "cell_type": "code",
   "execution_count": 40,
   "metadata": {},
   "outputs": [
    {
     "data": {
      "image/png": "[encoded data removed]",
      "text/plain": [
       "<Figure size 720x720 with 9 Axes>"
      ]
     },
     "metadata": {
      "needs_background": "light"
     },
     "output_type": "display_data"
    }
   ],
   "source": [
    "# bins - параметр влияет на гистограммы (сколько столбиков делать)\n",
    "\n",
    "scatter_matrix = pd.plotting.scatter_matrix(df, color='#ff826e', marker='o', hist_kwds={'bins': 10, 'color':'#848df9'}, figsize=(10, 10), )"
   ]
  },
  {
   "cell_type": "code",
   "execution_count": 41,
   "metadata": {},
   "outputs": [
    {
     "data": {
      "text/html": [
       "<style type=\"text/css\">\n",
       "#T_ae897_row0_col0, #T_ae897_row1_col1, #T_ae897_row2_col2 {\n",
       "  background-color: #00441b;\n",
       "  color: #f1f1f1;\n",
       "}\n",
       "#T_ae897_row0_col1 {\n",
       "  background-color: #c2e7bb;\n",
       "  color: #000000;\n",
       "}\n",
       "#T_ae897_row0_col2, #T_ae897_row2_col0, #T_ae897_row2_col1 {\n",
       "  background-color: #f7fcf5;\n",
       "  color: #000000;\n",
       "}\n",
       "#T_ae897_row1_col0 {\n",
       "  background-color: #c1e6ba;\n",
       "  color: #000000;\n",
       "}\n",
       "#T_ae897_row1_col2 {\n",
       "  background-color: #f6fcf4;\n",
       "  color: #000000;\n",
       "}\n",
       "</style>\n",
       "<table id=\"T_ae897_\">\n",
       "  <thead>\n",
       "    <tr>\n",
       "      <th class=\"blank level0\" >&nbsp;</th>\n",
       "      <th class=\"col_heading level0 col0\" >AirTemp</th>\n",
       "      <th class=\"col_heading level0 col1\" >Humidity</th>\n",
       "      <th class=\"col_heading level0 col2\" >WindSpd</th>\n",
       "    </tr>\n",
       "  </thead>\n",
       "  <tbody>\n",
       "    <tr>\n",
       "      <th id=\"T_ae897_level0_row0\" class=\"row_heading level0 row0\" >AirTemp</th>\n",
       "      <td id=\"T_ae897_row0_col0\" class=\"data row0 col0\" >1.000000</td>\n",
       "      <td id=\"T_ae897_row0_col1\" class=\"data row0 col1\" >0.032906</td>\n",
       "      <td id=\"T_ae897_row0_col2\" class=\"data row0 col2\" >-0.327726</td>\n",
       "    </tr>\n",
       "    <tr>\n",
       "      <th id=\"T_ae897_level0_row1\" class=\"row_heading level0 row1\" >Humidity</th>\n",
       "      <td id=\"T_ae897_row1_col0\" class=\"data row1 col0\" >0.032906</td>\n",
       "      <td id=\"T_ae897_row1_col1\" class=\"data row1 col1\" >1.000000</td>\n",
       "      <td id=\"T_ae897_row1_col2\" class=\"data row1 col2\" >-0.322466</td>\n",
       "    </tr>\n",
       "    <tr>\n",
       "      <th id=\"T_ae897_level0_row2\" class=\"row_heading level0 row2\" >WindSpd</th>\n",
       "      <td id=\"T_ae897_row2_col0\" class=\"data row2 col0\" >-0.327726</td>\n",
       "      <td id=\"T_ae897_row2_col1\" class=\"data row2 col1\" >-0.322466</td>\n",
       "      <td id=\"T_ae897_row2_col2\" class=\"data row2 col2\" >1.000000</td>\n",
       "    </tr>\n",
       "  </tbody>\n",
       "</table>\n"
      ],
      "text/plain": [
       "<pandas.io.formats.style.Styler at 0x2518ef5ffd0>"
      ]
     },
     "execution_count": 41,
     "metadata": {},
     "output_type": "execute_result"
    }
   ],
   "source": [
    "df_corr = df.corr()\n",
    "df_corr.style.background_gradient(cmap='Greens')"
   ]
  },
  {
   "cell_type": "markdown",
   "metadata": {},
   "source": [
    "Как видно по иллюстрации выше, корреляционная связь не прослеживается на диаграмме рассеивания. Точки расположены достаточно хаотично, но наглядно видна аномалия в температуре.\n",
    "\n",
    "Если рассматривать коэффициент корреляции $R$, то можно отметить, что присутствует слабая корреляционная связь (по шкале Чеддока) между:\n",
    "* Температурой и скоростью ветра.\n",
    "* Влажностью и скоростью ветра.\n",
    "\n",
    "Корреляционная связь между влажностью и температурой отсутствует.\n",
    "\n",
    "Гистограммы показывают, что для влажности и скорости ветра наблюдается смещение относительно их среднего значения, график температуры больше похож на нормальное распределение."
   ]
  },
  {
   "cell_type": "markdown",
   "metadata": {},
   "source": [
    "### 4.2. Сглаживание значений - скользящая средняя\n",
    "\n",
    "Предположим, что влажность менее подвижный параметр и запаздывает относительно температуры воздуха, который более динамично изменяется в течение дня.\n",
    "\n",
    "Проведём усерднее значений при помощи скользящей средней, а также избавимся от выброса данных, который похож на технический сбой датчика (`18.4 °C`)\n",
    "\n",
    "Рассчитаем скользящую среднюю с интервалом 24:\n",
    "* в сутках 24 часа или 1440 минут,\n",
    "* интервалы в наборе данных заданы 30 минутами, \n",
    "* в сутках получается 48 периодов.\n",
    "\n",
    "Исследую скорость ветра мы увидели, что можно условно выделить два периода. Исходя из этого в качества интервала зададим 24 интервал окна или 12 часов."
   ]
  },
  {
   "cell_type": "code",
   "execution_count": 42,
   "metadata": {},
   "outputs": [
    {
     "data": {
      "text/html": [
       "<style type=\"text/css\">\n",
       "#T_47712_row0_col0, #T_47712_row1_col1, #T_47712_row2_col2 {\n",
       "  background-color: #00441b;\n",
       "  color: #f1f1f1;\n",
       "}\n",
       "#T_47712_row0_col1 {\n",
       "  background-color: #5bb86a;\n",
       "  color: #f1f1f1;\n",
       "}\n",
       "#T_47712_row0_col2, #T_47712_row2_col0, #T_47712_row2_col1 {\n",
       "  background-color: #f7fcf5;\n",
       "  color: #000000;\n",
       "}\n",
       "#T_47712_row1_col0 {\n",
       "  background-color: #48ae60;\n",
       "  color: #f1f1f1;\n",
       "}\n",
       "#T_47712_row1_col2 {\n",
       "  background-color: #e8f6e4;\n",
       "  color: #000000;\n",
       "}\n",
       "</style>\n",
       "<table id=\"T_47712_\">\n",
       "  <thead>\n",
       "    <tr>\n",
       "      <th class=\"blank level0\" >&nbsp;</th>\n",
       "      <th class=\"col_heading level0 col0\" >AirTemp</th>\n",
       "      <th class=\"col_heading level0 col1\" >Humidity</th>\n",
       "      <th class=\"col_heading level0 col2\" >WindSpd</th>\n",
       "    </tr>\n",
       "  </thead>\n",
       "  <tbody>\n",
       "    <tr>\n",
       "      <th id=\"T_47712_level0_row0\" class=\"row_heading level0 row0\" >AirTemp</th>\n",
       "      <td id=\"T_47712_row0_col0\" class=\"data row0 col0\" >1.000000</td>\n",
       "      <td id=\"T_47712_row0_col1\" class=\"data row0 col1\" >0.363284</td>\n",
       "      <td id=\"T_47712_row0_col2\" class=\"data row0 col2\" >-0.618316</td>\n",
       "    </tr>\n",
       "    <tr>\n",
       "      <th id=\"T_47712_level0_row1\" class=\"row_heading level0 row1\" >Humidity</th>\n",
       "      <td id=\"T_47712_row1_col0\" class=\"data row1 col0\" >0.363284</td>\n",
       "      <td id=\"T_47712_row1_col1\" class=\"data row1 col1\" >1.000000</td>\n",
       "      <td id=\"T_47712_row1_col2\" class=\"data row1 col2\" >-0.451169</td>\n",
       "    </tr>\n",
       "    <tr>\n",
       "      <th id=\"T_47712_level0_row2\" class=\"row_heading level0 row2\" >WindSpd</th>\n",
       "      <td id=\"T_47712_row2_col0\" class=\"data row2 col0\" >-0.618316</td>\n",
       "      <td id=\"T_47712_row2_col1\" class=\"data row2 col1\" >-0.451169</td>\n",
       "      <td id=\"T_47712_row2_col2\" class=\"data row2 col2\" >1.000000</td>\n",
       "    </tr>\n",
       "  </tbody>\n",
       "</table>\n"
      ],
      "text/plain": [
       "<pandas.io.formats.style.Styler at 0x2518dc9a6a0>"
      ]
     },
     "execution_count": 42,
     "metadata": {},
     "output_type": "execute_result"
    }
   ],
   "source": [
    "# 291 - не берём последнее значение т.к. это выброс\n",
    "df_new = df[:291].copy(deep=True)\n",
    "# Указываем окно для расчёта среднего значения, обрезам первые значения т.к. они Nan\n",
    "df_new = df_new.rolling(window=24).mean().iloc[23:]\n",
    "df_corr = df_new.corr()\n",
    "df_corr.style.background_gradient(cmap='Greens')"
   ]
  },
  {
   "cell_type": "markdown",
   "metadata": {},
   "source": [
    "Полученные значения показывают, что между температурой и влажностью присутствует корреляционная связь.\n",
    "\n",
    "Визуализируем усреднённые значения на 3D плоскости.\n",
    "\n",
    "Интерактивный график позволяет пользователю:\n",
    "* визуально рассмотреть как температура и скорость ветра определяют влажность:\n",
    "  * Ось OY - скорость ветра.\n",
    "  * Ось OX - температура.\n",
    "  * Ось OZ - влажность.\n",
    "* Можно заметить, что с ростом температуры и уменьшением скорости ветра, % влажности увеличивается.\n",
    "  * Температура ускоряет таяние ледника.\n",
    "  * При отсутствии ветра, влага не сносится с ледника."
   ]
  },
  {
   "cell_type": "code",
   "execution_count": 43,
   "metadata": {},
   "outputs": [
    {
     "data": {
      "application/vnd.plotly.v1+json": {
       "config": {
        "plotlyServerURL": "https://plot.ly"
       },
       "data": [
        {
         "colorscale": [
          [
           0,
           "#440154"
          ],
          [
           0.1111111111111111,
           "#482878"
          ],
          [
           0.2222222222222222,
           "#3e4989"
          ],
          [
           0.3333333333333333,
           "#31688e"
          ],
          [
           0.4444444444444444,
           "#26828e"
          ],
          [
           0.5555555555555556,
           "#1f9e89"
          ],
          [
           0.6666666666666666,
           "#35b779"
          ],
          [
           0.7777777777777778,
           "#6ece58"
          ],
          [
           0.8888888888888888,
           "#b5de2b"
          ],
          [
           1,
           "#fde725"
          ]
         ],
         "type": "surface",
         "x": [
          [
           5.662499999999999,
           5.8641304347826075,
           6.065760869565216,
           6.267391304347825,
           6.469021739130434,
           6.670652173913043,
           6.872282608695651,
           7.07391304347826,
           7.275543478260869,
           7.477173913043478,
           7.678804347826087,
           7.880434782608695,
           8.082065217391303,
           8.283695652173913,
           8.485326086956523,
           8.68695652173913,
           8.888586956521738,
           9.090217391304348,
           9.291847826086958,
           9.493478260869566,
           9.695108695652173,
           9.896739130434783,
           10.098369565217393,
           10.3
          ],
          [
           5.662499999999999,
           5.8641304347826075,
           6.065760869565216,
           6.267391304347825,
           6.469021739130434,
           6.670652173913043,
           6.872282608695651,
           7.07391304347826,
           7.275543478260869,
           7.477173913043478,
           7.678804347826087,
           7.880434782608695,
           8.082065217391303,
           8.283695652173913,
           8.485326086956523,
           8.68695652173913,
           8.888586956521738,
           9.090217391304348,
           9.291847826086958,
           9.493478260869566,
           9.695108695652173,
           9.896739130434783,
           10.098369565217393,
           10.3
          ],
          [
           5.662499999999999,
           5.8641304347826075,
           6.065760869565216,
           6.267391304347825,
           6.469021739130434,
           6.670652173913043,
           6.872282608695651,
           7.07391304347826,
           7.275543478260869,
           7.477173913043478,
           7.678804347826087,
           7.880434782608695,
           8.082065217391303,
           8.283695652173913,
           8.485326086956523,
           8.68695652173913,
           8.888586956521738,
           9.090217391304348,
           9.291847826086958,
           9.493478260869566,
           9.695108695652173,
           9.896739130434783,
           10.098369565217393,
           10.3
          ],
          [
           5.662499999999999,
           5.8641304347826075,
           6.065760869565216,
           6.267391304347825,
           6.469021739130434,
           6.670652173913043,
           6.872282608695651,
           7.07391304347826,
           7.275543478260869,
           7.477173913043478,
           7.678804347826087,
           7.880434782608695,
           8.082065217391303,
           8.283695652173913,
           8.485326086956523,
           8.68695652173913,
           8.888586956521738,
           9.090217391304348,
           9.291847826086958,
           9.493478260869566,
           9.695108695652173,
           9.896739130434783,
           10.098369565217393,
           10.3
          ],
          [
           5.662499999999999,
           5.8641304347826075,
           6.065760869565216,
           6.267391304347825,
           6.469021739130434,
           6.670652173913043,
           6.872282608695651,
           7.07391304347826,
           7.275543478260869,
           7.477173913043478,
           7.678804347826087,
           7.880434782608695,
           8.082065217391303,
           8.283695652173913,
           8.485326086956523,
           8.68695652173913,
           8.888586956521738,
           9.090217391304348,
           9.291847826086958,
           9.493478260869566,
           9.695108695652173,
           9.896739130434783,
           10.098369565217393,
           10.3
          ],
          [
           5.662499999999999,
           5.8641304347826075,
           6.065760869565216,
           6.267391304347825,
           6.469021739130434,
           6.670652173913043,
           6.872282608695651,
           7.07391304347826,
           7.275543478260869,
           7.477173913043478,
           7.678804347826087,
           7.880434782608695,
           8.082065217391303,
           8.283695652173913,
           8.485326086956523,
           8.68695652173913,
           8.888586956521738,
           9.090217391304348,
           9.291847826086958,
           9.493478260869566,
           9.695108695652173,
           9.896739130434783,
           10.098369565217393,
           10.3
          ],
          [
           5.662499999999999,
           5.8641304347826075,
           6.065760869565216,
           6.267391304347825,
           6.469021739130434,
           6.670652173913043,
           6.872282608695651,
           7.07391304347826,
           7.275543478260869,
           7.477173913043478,
           7.678804347826087,
           7.880434782608695,
           8.082065217391303,
           8.283695652173913,
           8.485326086956523,
           8.68695652173913,
           8.888586956521738,
           9.090217391304348,
           9.291847826086958,
           9.493478260869566,
           9.695108695652173,
           9.896739130434783,
           10.098369565217393,
           10.3
          ],
          [
           5.662499999999999,
           5.8641304347826075,
           6.065760869565216,
           6.267391304347825,
           6.469021739130434,
           6.670652173913043,
           6.872282608695651,
           7.07391304347826,
           7.275543478260869,
           7.477173913043478,
           7.678804347826087,
           7.880434782608695,
           8.082065217391303,
           8.283695652173913,
           8.485326086956523,
           8.68695652173913,
           8.888586956521738,
           9.090217391304348,
           9.291847826086958,
           9.493478260869566,
           9.695108695652173,
           9.896739130434783,
           10.098369565217393,
           10.3
          ],
          [
           5.662499999999999,
           5.8641304347826075,
           6.065760869565216,
           6.267391304347825,
           6.469021739130434,
           6.670652173913043,
           6.872282608695651,
           7.07391304347826,
           7.275543478260869,
           7.477173913043478,
           7.678804347826087,
           7.880434782608695,
           8.082065217391303,
           8.283695652173913,
           8.485326086956523,
           8.68695652173913,
           8.888586956521738,
           9.090217391304348,
           9.291847826086958,
           9.493478260869566,
           9.695108695652173,
           9.896739130434783,
           10.098369565217393,
           10.3
          ],
          [
           5.662499999999999,
           5.8641304347826075,
           6.065760869565216,
           6.267391304347825,
           6.469021739130434,
           6.670652173913043,
           6.872282608695651,
           7.07391304347826,
           7.275543478260869,
           7.477173913043478,
           7.678804347826087,
           7.880434782608695,
           8.082065217391303,
           8.283695652173913,
           8.485326086956523,
           8.68695652173913,
           8.888586956521738,
           9.090217391304348,
           9.291847826086958,
           9.493478260869566,
           9.695108695652173,
           9.896739130434783,
           10.098369565217393,
           10.3
          ],
          [
           5.662499999999999,
           5.8641304347826075,
           6.065760869565216,
           6.267391304347825,
           6.469021739130434,
           6.670652173913043,
           6.872282608695651,
           7.07391304347826,
           7.275543478260869,
           7.477173913043478,
           7.678804347826087,
           7.880434782608695,
           8.082065217391303,
           8.283695652173913,
           8.485326086956523,
           8.68695652173913,
           8.888586956521738,
           9.090217391304348,
           9.291847826086958,
           9.493478260869566,
           9.695108695652173,
           9.896739130434783,
           10.098369565217393,
           10.3
          ],
          [
           5.662499999999999,
           5.8641304347826075,
           6.065760869565216,
           6.267391304347825,
           6.469021739130434,
           6.670652173913043,
           6.872282608695651,
           7.07391304347826,
           7.275543478260869,
           7.477173913043478,
           7.678804347826087,
           7.880434782608695,
           8.082065217391303,
           8.283695652173913,
           8.485326086956523,
           8.68695652173913,
           8.888586956521738,
           9.090217391304348,
           9.291847826086958,
           9.493478260869566,
           9.695108695652173,
           9.896739130434783,
           10.098369565217393,
           10.3
          ],
          [
           5.662499999999999,
           5.8641304347826075,
           6.065760869565216,
           6.267391304347825,
           6.469021739130434,
           6.670652173913043,
           6.872282608695651,
           7.07391304347826,
           7.275543478260869,
           7.477173913043478,
           7.678804347826087,
           7.880434782608695,
           8.082065217391303,
           8.283695652173913,
           8.485326086956523,
           8.68695652173913,
           8.888586956521738,
           9.090217391304348,
           9.291847826086958,
           9.493478260869566,
           9.695108695652173,
           9.896739130434783,
           10.098369565217393,
           10.3
          ],
          [
           5.662499999999999,
           5.8641304347826075,
           6.065760869565216,
           6.267391304347825,
           6.469021739130434,
           6.670652173913043,
           6.872282608695651,
           7.07391304347826,
           7.275543478260869,
           7.477173913043478,
           7.678804347826087,
           7.880434782608695,
           8.082065217391303,
           8.283695652173913,
           8.485326086956523,
           8.68695652173913,
           8.888586956521738,
           9.090217391304348,
           9.291847826086958,
           9.493478260869566,
           9.695108695652173,
           9.896739130434783,
           10.098369565217393,
           10.3
          ],
          [
           5.662499999999999,
           5.8641304347826075,
           6.065760869565216,
           6.267391304347825,
           6.469021739130434,
           6.670652173913043,
           6.872282608695651,
           7.07391304347826,
           7.275543478260869,
           7.477173913043478,
           7.678804347826087,
           7.880434782608695,
           8.082065217391303,
           8.283695652173913,
           8.485326086956523,
           8.68695652173913,
           8.888586956521738,
           9.090217391304348,
           9.291847826086958,
           9.493478260869566,
           9.695108695652173,
           9.896739130434783,
           10.098369565217393,
           10.3
          ],
          [
           5.662499999999999,
           5.8641304347826075,
           6.065760869565216,
           6.267391304347825,
           6.469021739130434,
           6.670652173913043,
           6.872282608695651,
           7.07391304347826,
           7.275543478260869,
           7.477173913043478,
           7.678804347826087,
           7.880434782608695,
           8.082065217391303,
           8.283695652173913,
           8.485326086956523,
           8.68695652173913,
           8.888586956521738,
           9.090217391304348,
           9.291847826086958,
           9.493478260869566,
           9.695108695652173,
           9.896739130434783,
           10.098369565217393,
           10.3
          ],
          [
           5.662499999999999,
           5.8641304347826075,
           6.065760869565216,
           6.267391304347825,
           6.469021739130434,
           6.670652173913043,
           6.872282608695651,
           7.07391304347826,
           7.275543478260869,
           7.477173913043478,
           7.678804347826087,
           7.880434782608695,
           8.082065217391303,
           8.283695652173913,
           8.485326086956523,
           8.68695652173913,
           8.888586956521738,
           9.090217391304348,
           9.291847826086958,
           9.493478260869566,
           9.695108695652173,
           9.896739130434783,
           10.098369565217393,
           10.3
          ],
          [
           5.662499999999999,
           5.8641304347826075,
           6.065760869565216,
           6.267391304347825,
           6.469021739130434,
           6.670652173913043,
           6.872282608695651,
           7.07391304347826,
           7.275543478260869,
           7.477173913043478,
           7.678804347826087,
           7.880434782608695,
           8.082065217391303,
           8.283695652173913,
           8.485326086956523,
           8.68695652173913,
           8.888586956521738,
           9.090217391304348,
           9.291847826086958,
           9.493478260869566,
           9.695108695652173,
           9.896739130434783,
           10.098369565217393,
           10.3
          ],
          [
           5.662499999999999,
           5.8641304347826075,
           6.065760869565216,
           6.267391304347825,
           6.469021739130434,
           6.670652173913043,
           6.872282608695651,
           7.07391304347826,
           7.275543478260869,
           7.477173913043478,
           7.678804347826087,
           7.880434782608695,
           8.082065217391303,
           8.283695652173913,
           8.485326086956523,
           8.68695652173913,
           8.888586956521738,
           9.090217391304348,
           9.291847826086958,
           9.493478260869566,
           9.695108695652173,
           9.896739130434783,
           10.098369565217393,
           10.3
          ],
          [
           5.662499999999999,
           5.8641304347826075,
           6.065760869565216,
           6.267391304347825,
           6.469021739130434,
           6.670652173913043,
           6.872282608695651,
           7.07391304347826,
           7.275543478260869,
           7.477173913043478,
           7.678804347826087,
           7.880434782608695,
           8.082065217391303,
           8.283695652173913,
           8.485326086956523,
           8.68695652173913,
           8.888586956521738,
           9.090217391304348,
           9.291847826086958,
           9.493478260869566,
           9.695108695652173,
           9.896739130434783,
           10.098369565217393,
           10.3
          ],
          [
           5.662499999999999,
           5.8641304347826075,
           6.065760869565216,
           6.267391304347825,
           6.469021739130434,
           6.670652173913043,
           6.872282608695651,
           7.07391304347826,
           7.275543478260869,
           7.477173913043478,
           7.678804347826087,
           7.880434782608695,
           8.082065217391303,
           8.283695652173913,
           8.485326086956523,
           8.68695652173913,
           8.888586956521738,
           9.090217391304348,
           9.291847826086958,
           9.493478260869566,
           9.695108695652173,
           9.896739130434783,
           10.098369565217393,
           10.3
          ],
          [
           5.662499999999999,
           5.8641304347826075,
           6.065760869565216,
           6.267391304347825,
           6.469021739130434,
           6.670652173913043,
           6.872282608695651,
           7.07391304347826,
           7.275543478260869,
           7.477173913043478,
           7.678804347826087,
           7.880434782608695,
           8.082065217391303,
           8.283695652173913,
           8.485326086956523,
           8.68695652173913,
           8.888586956521738,
           9.090217391304348,
           9.291847826086958,
           9.493478260869566,
           9.695108695652173,
           9.896739130434783,
           10.098369565217393,
           10.3
          ],
          [
           5.662499999999999,
           5.8641304347826075,
           6.065760869565216,
           6.267391304347825,
           6.469021739130434,
           6.670652173913043,
           6.872282608695651,
           7.07391304347826,
           7.275543478260869,
           7.477173913043478,
           7.678804347826087,
           7.880434782608695,
           8.082065217391303,
           8.283695652173913,
           8.485326086956523,
           8.68695652173913,
           8.888586956521738,
           9.090217391304348,
           9.291847826086958,
           9.493478260869566,
           9.695108695652173,
           9.896739130434783,
           10.098369565217393,
           10.3
          ],
          [
           5.662499999999999,
           5.8641304347826075,
           6.065760869565216,
           6.267391304347825,
           6.469021739130434,
           6.670652173913043,
           6.872282608695651,
           7.07391304347826,
           7.275543478260869,
           7.477173913043478,
           7.678804347826087,
           7.880434782608695,
           8.082065217391303,
           8.283695652173913,
           8.485326086956523,
           8.68695652173913,
           8.888586956521738,
           9.090217391304348,
           9.291847826086958,
           9.493478260869566,
           9.695108695652173,
           9.896739130434783,
           10.098369565217393,
           10.3
          ]
         ],
         "y": [
          [
           0.6124999999999999,
           0.6124999999999999,
           0.6124999999999999,
           0.6124999999999999,
           0.6124999999999999,
           0.6124999999999999,
           0.6124999999999999,
           0.6124999999999999,
           0.6124999999999999,
           0.6124999999999999,
           0.6124999999999999,
           0.6124999999999999,
           0.6124999999999999,
           0.6124999999999999,
           0.6124999999999999,
           0.6124999999999999,
           0.6124999999999999,
           0.6124999999999999,
           0.6124999999999999,
           0.6124999999999999,
           0.6124999999999999,
           0.6124999999999999,
           0.6124999999999999,
           0.6124999999999999
          ],
          [
           0.8614130434782609,
           0.8614130434782609,
           0.8614130434782609,
           0.8614130434782609,
           0.8614130434782609,
           0.8614130434782609,
           0.8614130434782609,
           0.8614130434782609,
           0.8614130434782609,
           0.8614130434782609,
           0.8614130434782609,
           0.8614130434782609,
           0.8614130434782609,
           0.8614130434782609,
           0.8614130434782609,
           0.8614130434782609,
           0.8614130434782609,
           0.8614130434782609,
           0.8614130434782609,
           0.8614130434782609,
           0.8614130434782609,
           0.8614130434782609,
           0.8614130434782609,
           0.8614130434782609
          ],
          [
           1.1103260869565217,
           1.1103260869565217,
           1.1103260869565217,
           1.1103260869565217,
           1.1103260869565217,
           1.1103260869565217,
           1.1103260869565217,
           1.1103260869565217,
           1.1103260869565217,
           1.1103260869565217,
           1.1103260869565217,
           1.1103260869565217,
           1.1103260869565217,
           1.1103260869565217,
           1.1103260869565217,
           1.1103260869565217,
           1.1103260869565217,
           1.1103260869565217,
           1.1103260869565217,
           1.1103260869565217,
           1.1103260869565217,
           1.1103260869565217,
           1.1103260869565217,
           1.1103260869565217
          ],
          [
           1.3592391304347826,
           1.3592391304347826,
           1.3592391304347826,
           1.3592391304347826,
           1.3592391304347826,
           1.3592391304347826,
           1.3592391304347826,
           1.3592391304347826,
           1.3592391304347826,
           1.3592391304347826,
           1.3592391304347826,
           1.3592391304347826,
           1.3592391304347826,
           1.3592391304347826,
           1.3592391304347826,
           1.3592391304347826,
           1.3592391304347826,
           1.3592391304347826,
           1.3592391304347826,
           1.3592391304347826,
           1.3592391304347826,
           1.3592391304347826,
           1.3592391304347826,
           1.3592391304347826
          ],
          [
           1.6081521739130435,
           1.6081521739130435,
           1.6081521739130435,
           1.6081521739130435,
           1.6081521739130435,
           1.6081521739130435,
           1.6081521739130435,
           1.6081521739130435,
           1.6081521739130435,
           1.6081521739130435,
           1.6081521739130435,
           1.6081521739130435,
           1.6081521739130435,
           1.6081521739130435,
           1.6081521739130435,
           1.6081521739130435,
           1.6081521739130435,
           1.6081521739130435,
           1.6081521739130435,
           1.6081521739130435,
           1.6081521739130435,
           1.6081521739130435,
           1.6081521739130435,
           1.6081521739130435
          ],
          [
           1.8570652173913045,
           1.8570652173913045,
           1.8570652173913045,
           1.8570652173913045,
           1.8570652173913045,
           1.8570652173913045,
           1.8570652173913045,
           1.8570652173913045,
           1.8570652173913045,
           1.8570652173913045,
           1.8570652173913045,
           1.8570652173913045,
           1.8570652173913045,
           1.8570652173913045,
           1.8570652173913045,
           1.8570652173913045,
           1.8570652173913045,
           1.8570652173913045,
           1.8570652173913045,
           1.8570652173913045,
           1.8570652173913045,
           1.8570652173913045,
           1.8570652173913045,
           1.8570652173913045
          ],
          [
           2.1059782608695654,
           2.1059782608695654,
           2.1059782608695654,
           2.1059782608695654,
           2.1059782608695654,
           2.1059782608695654,
           2.1059782608695654,
           2.1059782608695654,
           2.1059782608695654,
           2.1059782608695654,
           2.1059782608695654,
           2.1059782608695654,
           2.1059782608695654,
           2.1059782608695654,
           2.1059782608695654,
           2.1059782608695654,
           2.1059782608695654,
           2.1059782608695654,
           2.1059782608695654,
           2.1059782608695654,
           2.1059782608695654,
           2.1059782608695654,
           2.1059782608695654,
           2.1059782608695654
          ],
          [
           2.3548913043478263,
           2.3548913043478263,
           2.3548913043478263,
           2.3548913043478263,
           2.3548913043478263,
           2.3548913043478263,
           2.3548913043478263,
           2.3548913043478263,
           2.3548913043478263,
           2.3548913043478263,
           2.3548913043478263,
           2.3548913043478263,
           2.3548913043478263,
           2.3548913043478263,
           2.3548913043478263,
           2.3548913043478263,
           2.3548913043478263,
           2.3548913043478263,
           2.3548913043478263,
           2.3548913043478263,
           2.3548913043478263,
           2.3548913043478263,
           2.3548913043478263,
           2.3548913043478263
          ],
          [
           2.6038043478260873,
           2.6038043478260873,
           2.6038043478260873,
           2.6038043478260873,
           2.6038043478260873,
           2.6038043478260873,
           2.6038043478260873,
           2.6038043478260873,
           2.6038043478260873,
           2.6038043478260873,
           2.6038043478260873,
           2.6038043478260873,
           2.6038043478260873,
           2.6038043478260873,
           2.6038043478260873,
           2.6038043478260873,
           2.6038043478260873,
           2.6038043478260873,
           2.6038043478260873,
           2.6038043478260873,
           2.6038043478260873,
           2.6038043478260873,
           2.6038043478260873,
           2.6038043478260873
          ],
          [
           2.852717391304348,
           2.852717391304348,
           2.852717391304348,
           2.852717391304348,
           2.852717391304348,
           2.852717391304348,
           2.852717391304348,
           2.852717391304348,
           2.852717391304348,
           2.852717391304348,
           2.852717391304348,
           2.852717391304348,
           2.852717391304348,
           2.852717391304348,
           2.852717391304348,
           2.852717391304348,
           2.852717391304348,
           2.852717391304348,
           2.852717391304348,
           2.852717391304348,
           2.852717391304348,
           2.852717391304348,
           2.852717391304348,
           2.852717391304348
          ],
          [
           3.101630434782609,
           3.101630434782609,
           3.101630434782609,
           3.101630434782609,
           3.101630434782609,
           3.101630434782609,
           3.101630434782609,
           3.101630434782609,
           3.101630434782609,
           3.101630434782609,
           3.101630434782609,
           3.101630434782609,
           3.101630434782609,
           3.101630434782609,
           3.101630434782609,
           3.101630434782609,
           3.101630434782609,
           3.101630434782609,
           3.101630434782609,
           3.101630434782609,
           3.101630434782609,
           3.101630434782609,
           3.101630434782609,
           3.101630434782609
          ],
          [
           3.35054347826087,
           3.35054347826087,
           3.35054347826087,
           3.35054347826087,
           3.35054347826087,
           3.35054347826087,
           3.35054347826087,
           3.35054347826087,
           3.35054347826087,
           3.35054347826087,
           3.35054347826087,
           3.35054347826087,
           3.35054347826087,
           3.35054347826087,
           3.35054347826087,
           3.35054347826087,
           3.35054347826087,
           3.35054347826087,
           3.35054347826087,
           3.35054347826087,
           3.35054347826087,
           3.35054347826087,
           3.35054347826087,
           3.35054347826087
          ],
          [
           3.599456521739131,
           3.599456521739131,
           3.599456521739131,
           3.599456521739131,
           3.599456521739131,
           3.599456521739131,
           3.599456521739131,
           3.599456521739131,
           3.599456521739131,
           3.599456521739131,
           3.599456521739131,
           3.599456521739131,
           3.599456521739131,
           3.599456521739131,
           3.599456521739131,
           3.599456521739131,
           3.599456521739131,
           3.599456521739131,
           3.599456521739131,
           3.599456521739131,
           3.599456521739131,
           3.599456521739131,
           3.599456521739131,
           3.599456521739131
          ],
          [
           3.848369565217392,
           3.848369565217392,
           3.848369565217392,
           3.848369565217392,
           3.848369565217392,
           3.848369565217392,
           3.848369565217392,
           3.848369565217392,
           3.848369565217392,
           3.848369565217392,
           3.848369565217392,
           3.848369565217392,
           3.848369565217392,
           3.848369565217392,
           3.848369565217392,
           3.848369565217392,
           3.848369565217392,
           3.848369565217392,
           3.848369565217392,
           3.848369565217392,
           3.848369565217392,
           3.848369565217392,
           3.848369565217392,
           3.848369565217392
          ],
          [
           4.097282608695653,
           4.097282608695653,
           4.097282608695653,
           4.097282608695653,
           4.097282608695653,
           4.097282608695653,
           4.097282608695653,
           4.097282608695653,
           4.097282608695653,
           4.097282608695653,
           4.097282608695653,
           4.097282608695653,
           4.097282608695653,
           4.097282608695653,
           4.097282608695653,
           4.097282608695653,
           4.097282608695653,
           4.097282608695653,
           4.097282608695653,
           4.097282608695653,
           4.097282608695653,
           4.097282608695653,
           4.097282608695653,
           4.097282608695653
          ],
          [
           4.346195652173914,
           4.346195652173914,
           4.346195652173914,
           4.346195652173914,
           4.346195652173914,
           4.346195652173914,
           4.346195652173914,
           4.346195652173914,
           4.346195652173914,
           4.346195652173914,
           4.346195652173914,
           4.346195652173914,
           4.346195652173914,
           4.346195652173914,
           4.346195652173914,
           4.346195652173914,
           4.346195652173914,
           4.346195652173914,
           4.346195652173914,
           4.346195652173914,
           4.346195652173914,
           4.346195652173914,
           4.346195652173914,
           4.346195652173914
          ],
          [
           4.595108695652175,
           4.595108695652175,
           4.595108695652175,
           4.595108695652175,
           4.595108695652175,
           4.595108695652175,
           4.595108695652175,
           4.595108695652175,
           4.595108695652175,
           4.595108695652175,
           4.595108695652175,
           4.595108695652175,
           4.595108695652175,
           4.595108695652175,
           4.595108695652175,
           4.595108695652175,
           4.595108695652175,
           4.595108695652175,
           4.595108695652175,
           4.595108695652175,
           4.595108695652175,
           4.595108695652175,
           4.595108695652175,
           4.595108695652175
          ],
          [
           4.844021739130436,
           4.844021739130436,
           4.844021739130436,
           4.844021739130436,
           4.844021739130436,
           4.844021739130436,
           4.844021739130436,
           4.844021739130436,
           4.844021739130436,
           4.844021739130436,
           4.844021739130436,
           4.844021739130436,
           4.844021739130436,
           4.844021739130436,
           4.844021739130436,
           4.844021739130436,
           4.844021739130436,
           4.844021739130436,
           4.844021739130436,
           4.844021739130436,
           4.844021739130436,
           4.844021739130436,
           4.844021739130436,
           4.844021739130436
          ],
          [
           5.092934782608697,
           5.092934782608697,
           5.092934782608697,
           5.092934782608697,
           5.092934782608697,
           5.092934782608697,
           5.092934782608697,
           5.092934782608697,
           5.092934782608697,
           5.092934782608697,
           5.092934782608697,
           5.092934782608697,
           5.092934782608697,
           5.092934782608697,
           5.092934782608697,
           5.092934782608697,
           5.092934782608697,
           5.092934782608697,
           5.092934782608697,
           5.092934782608697,
           5.092934782608697,
           5.092934782608697,
           5.092934782608697,
           5.092934782608697
          ],
          [
           5.3418478260869575,
           5.3418478260869575,
           5.3418478260869575,
           5.3418478260869575,
           5.3418478260869575,
           5.3418478260869575,
           5.3418478260869575,
           5.3418478260869575,
           5.3418478260869575,
           5.3418478260869575,
           5.3418478260869575,
           5.3418478260869575,
           5.3418478260869575,
           5.3418478260869575,
           5.3418478260869575,
           5.3418478260869575,
           5.3418478260869575,
           5.3418478260869575,
           5.3418478260869575,
           5.3418478260869575,
           5.3418478260869575,
           5.3418478260869575,
           5.3418478260869575,
           5.3418478260869575
          ],
          [
           5.5907608695652184,
           5.5907608695652184,
           5.5907608695652184,
           5.5907608695652184,
           5.5907608695652184,
           5.5907608695652184,
           5.5907608695652184,
           5.5907608695652184,
           5.5907608695652184,
           5.5907608695652184,
           5.5907608695652184,
           5.5907608695652184,
           5.5907608695652184,
           5.5907608695652184,
           5.5907608695652184,
           5.5907608695652184,
           5.5907608695652184,
           5.5907608695652184,
           5.5907608695652184,
           5.5907608695652184,
           5.5907608695652184,
           5.5907608695652184,
           5.5907608695652184,
           5.5907608695652184
          ],
          [
           5.839673913043479,
           5.839673913043479,
           5.839673913043479,
           5.839673913043479,
           5.839673913043479,
           5.839673913043479,
           5.839673913043479,
           5.839673913043479,
           5.839673913043479,
           5.839673913043479,
           5.839673913043479,
           5.839673913043479,
           5.839673913043479,
           5.839673913043479,
           5.839673913043479,
           5.839673913043479,
           5.839673913043479,
           5.839673913043479,
           5.839673913043479,
           5.839673913043479,
           5.839673913043479,
           5.839673913043479,
           5.839673913043479,
           5.839673913043479
          ],
          [
           6.08858695652174,
           6.08858695652174,
           6.08858695652174,
           6.08858695652174,
           6.08858695652174,
           6.08858695652174,
           6.08858695652174,
           6.08858695652174,
           6.08858695652174,
           6.08858695652174,
           6.08858695652174,
           6.08858695652174,
           6.08858695652174,
           6.08858695652174,
           6.08858695652174,
           6.08858695652174,
           6.08858695652174,
           6.08858695652174,
           6.08858695652174,
           6.08858695652174,
           6.08858695652174,
           6.08858695652174,
           6.08858695652174,
           6.08858695652174
          ],
          [
           6.337500000000001,
           6.337500000000001,
           6.337500000000001,
           6.337500000000001,
           6.337500000000001,
           6.337500000000001,
           6.337500000000001,
           6.337500000000001,
           6.337500000000001,
           6.337500000000001,
           6.337500000000001,
           6.337500000000001,
           6.337500000000001,
           6.337500000000001,
           6.337500000000001,
           6.337500000000001,
           6.337500000000001,
           6.337500000000001,
           6.337500000000001,
           6.337500000000001,
           6.337500000000001,
           6.337500000000001,
           6.337500000000001,
           6.337500000000001
          ]
         ],
         "z": [
          [
           76.94166666666668,
           76.94166666666668,
           76.94166666666668,
           76.94166666666668,
           76.94166666666668,
           76.94166666666668,
           76.94166666666668,
           76.94166666666668,
           76.94166666666668,
           77.75,
           77.75,
           77.75,
           84.36666666666666,
           82.13333333333334,
           81.09166666666665,
           80.79583333333333,
           80.64166666666667,
           79.52083333333333,
           77.13333333333334,
           75.78333333333335,
           72.86666666666666,
           72.86666666666666,
           72.86666666666666,
           72.86666666666666
          ],
          [
           70.40416666666667,
           70.40416666666667,
           70.40416666666667,
           76.94166666666668,
           76.94166666666668,
           76.94166666666668,
           76.94166666666668,
           76.94166666666668,
           76.94166666666668,
           76.94166666666668,
           77.47916666666667,
           77.75,
           84.74583333333334,
           83.04583333333333,
           81.87083333333334,
           78.60000000000001,
           80.4875,
           78.18333333333334,
           77.13333333333334,
           74.56666666666666,
           72.86666666666666,
           71.8875,
           71.8875,
           70.3625
          ],
          [
           70.40416666666667,
           70.40416666666667,
           70.40416666666667,
           70.40416666666667,
           70.17083333333333,
           70.17083333333333,
           76.35416666666667,
           76.35416666666667,
           76.35416666666667,
           76.35416666666667,
           77.44166666666668,
           77.44166666666668,
           78.00416666666666,
           78.00416666666666,
           81.15833333333333,
           80.57083333333333,
           78.11666666666666,
           78.24583333333332,
           78.5125,
           71.8875,
           70.3625,
           70.3625,
           70.3625,
           77.49166666666666
          ],
          [
           70.84583333333333,
           70.84583333333333,
           70.40416666666667,
           70.40416666666667,
           70.40416666666667,
           70.40416666666667,
           70.17083333333333,
           70.17083333333333,
           74.76666666666667,
           74.76666666666667,
           69.42916666666667,
           69.5125,
           69.5125,
           85.90833333333335,
           87.7625,
           88.26666666666667,
           79.24166666666666,
           78.50416666666666,
           78.67083333333333,
           77.97916666666667,
           77.725,
           68.61666666666667,
           77.55833333333334,
           77.59166666666667
          ],
          [
           70.84583333333333,
           70.84583333333333,
           70.84583333333333,
           70.84583333333333,
           70.40416666666667,
           70.40416666666667,
           70.40416666666667,
           70.17083333333333,
           69.82916666666667,
           74.19583333333334,
           69.45416666666667,
           69.33333333333333,
           70.07083333333334,
           84.67083333333333,
           77.00833333333334,
           76.52916666666667,
           88.92500000000001,
           89.23333333333333,
           89.50833333333334,
           78.6125,
           79.575,
           67.48333333333333,
           77.49166666666666,
           77.825
          ],
          [
           70.84583333333333,
           70.84583333333333,
           70.84583333333333,
           70.84583333333333,
           70.84583333333333,
           70.84583333333333,
           70.84583333333333,
           70.40416666666667,
           70.40416666666667,
           73.3,
           73.3,
           79.67916666666666,
           80.2625,
           82.89166666666667,
           77.00833333333334,
           76.52916666666667,
           76.52916666666667,
           89.59166666666668,
           89.58749999999999,
           89.62083333333332,
           79.575,
           66.25833333333334,
           66.25833333333334,
           77.50833333333334
          ],
          [
           71.17916666666666,
           71.17916666666666,
           71.17916666666666,
           71.17916666666666,
           71.05833333333334,
           71.05833333333334,
           71.05833333333334,
           71.05833333333334,
           70.44583333333334,
           72.8375,
           72.36666666666666,
           77.76666666666667,
           77.3,
           77.27916666666667,
           82.89166666666667,
           77.00833333333334,
           89.59166666666668,
           89.57916666666667,
           89.57916666666667,
           89.625,
           89.68333333333334,
           65.03333333333333,
           65.03333333333333,
           65.03333333333333
          ],
          [
           71.6,
           71.6,
           71.6,
           71.17916666666666,
           71.17916666666666,
           71.17916666666666,
           71.17916666666666,
           71.17916666666666,
           71.17916666666666,
           72.575,
           72.575,
           72.575,
           77.3,
           77.27916666666667,
           77.27916666666667,
           88.58333333333333,
           88.58333333333333,
           89.68333333333334,
           89.72500000000001,
           89.72500000000001,
           89.72916666666667,
           63.541666666666664,
           64.16250000000001,
           64.16250000000001
          ],
          [
           71.6,
           71.6,
           71.6,
           71.6,
           71.6,
           71.6,
           71.6,
           71.6,
           73.07916666666667,
           73.07916666666667,
           73.07916666666667,
           72.575,
           72.575,
           87.52499999999999,
           87.52499999999999,
           88.58333333333333,
           88.58333333333333,
           89.05000000000001,
           89.32916666666667,
           89.76249999999999,
           89.79583333333333,
           63.475,
           63.541666666666664,
           63.541666666666664
          ],
          [
           71.925,
           71.925,
           71.925,
           71.925,
           71.925,
           71.925,
           71.925,
           71.925,
           73.78333333333333,
           73.78333333333333,
           73.07916666666667,
           73.07916666666667,
           87.28333333333332,
           87.52499999999999,
           87.52499999999999,
           87.95416666666667,
           88.58333333333333,
           89.05000000000001,
           89.32916666666667,
           89.6875,
           63.425000000000004,
           89.93333333333334,
           89.93333333333334,
           63.541666666666664
          ],
          [
           81.57916666666667,
           72.1125,
           72.1125,
           72.1125,
           72.1125,
           72.1125,
           72.1125,
           72.1125,
           73.47083333333333,
           73.47083333333333,
           73.47083333333333,
           87.15833333333335,
           87.15833333333335,
           87.28333333333332,
           87.52499999999999,
           87.95416666666667,
           88.33749999999999,
           89.05000000000001,
           89.32916666666667,
           63.662499999999994,
           63.662499999999994,
           63.425000000000004,
           63.425000000000004,
           89.93333333333334
          ],
          [
           81.57916666666667,
           81.57916666666667,
           82.56250000000001,
           71.9625,
           71.9625,
           71.9625,
           71.9625,
           71.9625,
           73.7625,
           73.7625,
           73.7625,
           87.08333333333333,
           87.15833333333335,
           87.15833333333335,
           87.28333333333332,
           87.95416666666667,
           87.95416666666667,
           63.1875,
           63.554166666666674,
           63.77916666666667,
           63.77916666666667,
           63.662499999999994,
           63.662499999999994,
           63.425000000000004
          ],
          [
           81.57916666666667,
           81.57916666666667,
           81.57916666666667,
           82.56250000000001,
           83.42083333333333,
           84.46666666666667,
           72.35833333333333,
           72.35833333333333,
           74.18750000000001,
           74.18750000000001,
           86.35000000000001,
           86.6125,
           87.08333333333333,
           87.15833333333335,
           87.28333333333332,
           87.28333333333332,
           62.666666666666664,
           63.1875,
           63.1875,
           63.554166666666674,
           63.554166666666674,
           63.554166666666674,
           63.77916666666667,
           63.77916666666667
          ],
          [
           80.4375,
           81.57916666666667,
           81.57916666666667,
           81.57916666666667,
           82.56250000000001,
           83.42083333333333,
           84.46666666666667,
           85.25416666666666,
           86.12916666666666,
           74.47916666666667,
           86.35000000000001,
           86.6125,
           87.08333333333333,
           87.08333333333333,
           62.29583333333333,
           62.29583333333333,
           62.025000000000006,
           62.666666666666664,
           62.666666666666664,
           62.666666666666664,
           63.554166666666674,
           63.554166666666674,
           63.554166666666674,
           63.554166666666674
          ],
          [
           80.4375,
           80.4375,
           80.4375,
           81.57916666666667,
           82.56250000000001,
           82.56250000000001,
           83.42083333333333,
           72.95833333333333,
           72.95833333333333,
           74.54583333333333,
           74.54583333333333,
           74.54583333333333,
           62.44583333333333,
           62.104166666666664,
           62.29583333333333,
           62.29583333333333,
           62.37916666666667,
           62.025000000000006,
           62.025000000000006,
           62.025000000000006,
           62.666666666666664,
           62.666666666666664,
           63.554166666666674,
           63.554166666666674
          ],
          [
           79.49166666666667,
           80.4375,
           80.4375,
           80.4375,
           81.57916666666667,
           82.56250000000001,
           83.42083333333333,
           73.35,
           73.35,
           74.54583333333333,
           74.58749999999999,
           61.416666666666664,
           62.44583333333333,
           62.29583333333333,
           62.104166666666664,
           62.104166666666664,
           62.37916666666667,
           62.37916666666667,
           62.025000000000006,
           62.025000000000006,
           62.025000000000006,
           62.025000000000006,
           62.666666666666664,
           62.666666666666664
          ],
          [
           78.99583333333334,
           79.49166666666667,
           79.49166666666667,
           79.49166666666667,
           80.4375,
           60.32083333333333,
           60.32083333333333,
           60.70416666666667,
           73.72916666666667,
           61.74583333333333,
           61.65,
           61.416666666666664,
           62.18333333333334,
           62.44583333333333,
           62.29583333333333,
           62.104166666666664,
           62.104166666666664,
           62.37916666666667,
           62.37916666666667,
           62.37916666666667,
           62.025000000000006,
           62.025000000000006,
           62.025000000000006,
           62.025000000000006
          ],
          [
           78.99583333333334,
           78.99583333333334,
           78.99583333333334,
           79.49166666666667,
           60.45416666666667,
           60.45416666666667,
           60.32083333333333,
           60.395833333333336,
           73.82083333333334,
           74.18333333333332,
           74.525,
           62.03333333333333,
           62.18333333333334,
           62.18333333333334,
           62.29583333333333,
           62.29583333333333,
           62.104166666666664,
           62.104166666666664,
           62.37916666666667,
           62.37916666666667,
           62.37916666666667,
           62.025000000000006,
           62.025000000000006,
           62.025000000000006
          ],
          [
           78.02083333333333,
           78.02083333333333,
           78.02083333333333,
           60.00416666666666,
           59.67083333333333,
           60.025000000000006,
           60.45416666666667,
           60.45416666666667,
           74.20416666666667,
           74.97083333333333,
           74.97083333333333,
           75.28750000000001,
           62.03333333333333,
           62.18333333333334,
           62.29583333333333,
           62.29583333333333,
           62.29583333333333,
           62.104166666666664,
           62.104166666666664,
           62.37916666666667,
           62.37916666666667,
           62.37916666666667,
           62.37916666666667,
           62.025000000000006
          ],
          [
           76.54166666666667,
           76.54166666666667,
           61.93333333333333,
           60.162499999999994,
           60.00416666666666,
           59.5625,
           59.67083333333333,
           74.20416666666667,
           74.20416666666667,
           74.24166666666667,
           75.29583333333333,
           75.29583333333333,
           75.29583333333333,
           75.29583333333333,
           62.18333333333334,
           62.29583333333333,
           62.29583333333333,
           62.29583333333333,
           62.104166666666664,
           62.104166666666664,
           62.37916666666667,
           62.37916666666667,
           62.37916666666667,
           62.37916666666667
          ],
          [
           74.97500000000001,
           75.375,
           61.5375,
           60.31666666666666,
           60.162499999999994,
           59.5625,
           59.5625,
           74.24166666666667,
           74.24166666666667,
           74.24166666666667,
           75.27499999999999,
           75.27499999999999,
           75.27499999999999,
           74.6875,
           74.6875,
           74.6875,
           62.29583333333333,
           62.29583333333333,
           62.29583333333333,
           62.104166666666664,
           62.104166666666664,
           62.37916666666667,
           62.37916666666667,
           62.37916666666667
          ],
          [
           73.3,
           65.49583333333334,
           64.74166666666666,
           60.05416666666667,
           60.05416666666667,
           60.05416666666667,
           59.5625,
           74.50833333333333,
           74.50833333333333,
           75.0375,
           74.6875,
           74.6875,
           74.6875,
           74.6875,
           74.60416666666667,
           74.60416666666667,
           74.625,
           74.625,
           74.625,
           62.29583333333333,
           62.104166666666664,
           62.104166666666664,
           62.37916666666667,
           62.37916666666667
          ],
          [
           71.10833333333333,
           67.12083333333334,
           67.12083333333334,
           65.49583333333334,
           60.05416666666667,
           60.05416666666667,
           75.0375,
           75.0375,
           75.52083333333333,
           75.93333333333332,
           75.93333333333332,
           74.625,
           74.625,
           74.625,
           74.625,
           74.625,
           74.625,
           74.625,
           74.625,
           74.625,
           74.625,
           74.625,
           62.104166666666664,
           62.37916666666667
          ],
          [
           69.825,
           69.825,
           69.825,
           69.825,
           67.12083333333334,
           60.05416666666667,
           75.93333333333332,
           75.93333333333332,
           75.83333333333333,
           75.83333333333333,
           75.83333333333333,
           74.9375,
           74.9375,
           74.9375,
           74.9375,
           74.9375,
           74.85000000000001,
           74.85000000000001,
           74.85000000000001,
           74.85000000000001,
           74.85000000000001,
           74.85000000000001,
           74.85000000000001,
           74.85000000000001
          ]
         ]
        }
       ],
       "layout": {
        "autosize": false,
        "height": 600,
        "margin": {
         "b": 65,
         "l": 65,
         "r": 50,
         "t": 90
        },
        "template": {
         "data": {
          "bar": [
           {
            "error_x": {
             "color": "#2a3f5f"
            },
            "error_y": {
             "color": "#2a3f5f"
            },
            "marker": {
             "line": {
              "color": "#E5ECF6",
              "width": 0.5
             },
             "pattern": {
              "fillmode": "overlay",
              "size": 10,
              "solidity": 0.2
             }
            },
            "type": "bar"
           }
          ],
          "barpolar": [
           {
            "marker": {
             "line": {
              "color": "#E5ECF6",
              "width": 0.5
             },
             "pattern": {
              "fillmode": "overlay",
              "size": 10,
              "solidity": 0.2
             }
            },
            "type": "barpolar"
           }
          ],
          "carpet": [
           {
            "aaxis": {
             "endlinecolor": "#2a3f5f",
             "gridcolor": "white",
             "linecolor": "white",
             "minorgridcolor": "white",
             "startlinecolor": "#2a3f5f"
            },
            "baxis": {
             "endlinecolor": "#2a3f5f",
             "gridcolor": "white",
             "linecolor": "white",
             "minorgridcolor": "white",
             "startlinecolor": "#2a3f5f"
            },
            "type": "carpet"
           }
          ],
          "choropleth": [
           {
            "colorbar": {
             "outlinewidth": 0,
             "ticks": ""
            },
            "type": "choropleth"
           }
          ],
          "contour": [
           {
            "colorbar": {
             "outlinewidth": 0,
             "ticks": ""
            },
            "colorscale": [
             [
              0,
              "#0d0887"
             ],
             [
              0.1111111111111111,
              "#46039f"
             ],
             [
              0.2222222222222222,
              "#7201a8"
             ],
             [
              0.3333333333333333,
              "#9c179e"
             ],
             [
              0.4444444444444444,
              "#bd3786"
             ],
             [
              0.5555555555555556,
              "#d8576b"
             ],
             [
              0.6666666666666666,
              "#ed7953"
             ],
             [
              0.7777777777777778,
              "#fb9f3a"
             ],
             [
              0.8888888888888888,
              "#fdca26"
             ],
             [
              1,
              "#f0f921"
             ]
            ],
            "type": "contour"
           }
          ],
          "contourcarpet": [
           {
            "colorbar": {
             "outlinewidth": 0,
             "ticks": ""
            },
            "type": "contourcarpet"
           }
          ],
          "heatmap": [
           {
            "colorbar": {
             "outlinewidth": 0,
             "ticks": ""
            },
            "colorscale": [
             [
              0,
              "#0d0887"
             ],
             [
              0.1111111111111111,
              "#46039f"
             ],
             [
              0.2222222222222222,
              "#7201a8"
             ],
             [
              0.3333333333333333,
              "#9c179e"
             ],
             [
              0.4444444444444444,
              "#bd3786"
             ],
             [
              0.5555555555555556,
              "#d8576b"
             ],
             [
              0.6666666666666666,
              "#ed7953"
             ],
             [
              0.7777777777777778,
              "#fb9f3a"
             ],
             [
              0.8888888888888888,
              "#fdca26"
             ],
             [
              1,
              "#f0f921"
             ]
            ],
            "type": "heatmap"
           }
          ],
          "heatmapgl": [
           {
            "colorbar": {
             "outlinewidth": 0,
             "ticks": ""
            },
            "colorscale": [
             [
              0,
              "#0d0887"
             ],
             [
              0.1111111111111111,
              "#46039f"
             ],
             [
              0.2222222222222222,
              "#7201a8"
             ],
             [
              0.3333333333333333,
              "#9c179e"
             ],
             [
              0.4444444444444444,
              "#bd3786"
             ],
             [
              0.5555555555555556,
              "#d8576b"
             ],
             [
              0.6666666666666666,
              "#ed7953"
             ],
             [
              0.7777777777777778,
              "#fb9f3a"
             ],
             [
              0.8888888888888888,
              "#fdca26"
             ],
             [
              1,
              "#f0f921"
             ]
            ],
            "type": "heatmapgl"
           }
          ],
          "histogram": [
           {
            "marker": {
             "pattern": {
              "fillmode": "overlay",
              "size": 10,
              "solidity": 0.2
             }
            },
            "type": "histogram"
           }
          ],
          "histogram2d": [
           {
            "colorbar": {
             "outlinewidth": 0,
             "ticks": ""
            },
            "colorscale": [
             [
              0,
              "#0d0887"
             ],
             [
              0.1111111111111111,
              "#46039f"
             ],
             [
              0.2222222222222222,
              "#7201a8"
             ],
             [
              0.3333333333333333,
              "#9c179e"
             ],
             [
              0.4444444444444444,
              "#bd3786"
             ],
             [
              0.5555555555555556,
              "#d8576b"
             ],
             [
              0.6666666666666666,
              "#ed7953"
             ],
             [
              0.7777777777777778,
              "#fb9f3a"
             ],
             [
              0.8888888888888888,
              "#fdca26"
             ],
             [
              1,
              "#f0f921"
             ]
            ],
            "type": "histogram2d"
           }
          ],
          "histogram2dcontour": [
           {
            "colorbar": {
             "outlinewidth": 0,
             "ticks": ""
            },
            "colorscale": [
             [
              0,
              "#0d0887"
             ],
             [
              0.1111111111111111,
              "#46039f"
             ],
             [
              0.2222222222222222,
              "#7201a8"
             ],
             [
              0.3333333333333333,
              "#9c179e"
             ],
             [
              0.4444444444444444,
              "#bd3786"
             ],
             [
              0.5555555555555556,
              "#d8576b"
             ],
             [
              0.6666666666666666,
              "#ed7953"
             ],
             [
              0.7777777777777778,
              "#fb9f3a"
             ],
             [
              0.8888888888888888,
              "#fdca26"
             ],
             [
              1,
              "#f0f921"
             ]
            ],
            "type": "histogram2dcontour"
           }
          ],
          "mesh3d": [
           {
            "colorbar": {
             "outlinewidth": 0,
             "ticks": ""
            },
            "type": "mesh3d"
           }
          ],
          "parcoords": [
           {
            "line": {
             "colorbar": {
              "outlinewidth": 0,
              "ticks": ""
             }
            },
            "type": "parcoords"
           }
          ],
          "pie": [
           {
            "automargin": true,
            "type": "pie"
           }
          ],
          "scatter": [
           {
            "marker": {
             "colorbar": {
              "outlinewidth": 0,
              "ticks": ""
             }
            },
            "type": "scatter"
           }
          ],
          "scatter3d": [
           {
            "line": {
             "colorbar": {
              "outlinewidth": 0,
              "ticks": ""
             }
            },
            "marker": {
             "colorbar": {
              "outlinewidth": 0,
              "ticks": ""
             }
            },
            "type": "scatter3d"
           }
          ],
          "scattercarpet": [
           {
            "marker": {
             "colorbar": {
              "outlinewidth": 0,
              "ticks": ""
             }
            },
            "type": "scattercarpet"
           }
          ],
          "scattergeo": [
           {
            "marker": {
             "colorbar": {
              "outlinewidth": 0,
              "ticks": ""
             }
            },
            "type": "scattergeo"
           }
          ],
          "scattergl": [
           {
            "marker": {
             "colorbar": {
              "outlinewidth": 0,
              "ticks": ""
             }
            },
            "type": "scattergl"
           }
          ],
          "scattermapbox": [
           {
            "marker": {
             "colorbar": {
              "outlinewidth": 0,
              "ticks": ""
             }
            },
            "type": "scattermapbox"
           }
          ],
          "scatterpolar": [
           {
            "marker": {
             "colorbar": {
              "outlinewidth": 0,
              "ticks": ""
             }
            },
            "type": "scatterpolar"
           }
          ],
          "scatterpolargl": [
           {
            "marker": {
             "colorbar": {
              "outlinewidth": 0,
              "ticks": ""
             }
            },
            "type": "scatterpolargl"
           }
          ],
          "scatterternary": [
           {
            "marker": {
             "colorbar": {
              "outlinewidth": 0,
              "ticks": ""
             }
            },
            "type": "scatterternary"
           }
          ],
          "surface": [
           {
            "colorbar": {
             "outlinewidth": 0,
             "ticks": ""
            },
            "colorscale": [
             [
              0,
              "#0d0887"
             ],
             [
              0.1111111111111111,
              "#46039f"
             ],
             [
              0.2222222222222222,
              "#7201a8"
             ],
             [
              0.3333333333333333,
              "#9c179e"
             ],
             [
              0.4444444444444444,
              "#bd3786"
             ],
             [
              0.5555555555555556,
              "#d8576b"
             ],
             [
              0.6666666666666666,
              "#ed7953"
             ],
             [
              0.7777777777777778,
              "#fb9f3a"
             ],
             [
              0.8888888888888888,
              "#fdca26"
             ],
             [
              1,
              "#f0f921"
             ]
            ],
            "type": "surface"
           }
          ],
          "table": [
           {
            "cells": {
             "fill": {
              "color": "#EBF0F8"
             },
             "line": {
              "color": "white"
             }
            },
            "header": {
             "fill": {
              "color": "#C8D4E3"
             },
             "line": {
              "color": "white"
             }
            },
            "type": "table"
           }
          ]
         },
         "layout": {
          "annotationdefaults": {
           "arrowcolor": "#2a3f5f",
           "arrowhead": 0,
           "arrowwidth": 1
          },
          "autotypenumbers": "strict",
          "coloraxis": {
           "colorbar": {
            "outlinewidth": 0,
            "ticks": ""
           }
          },
          "colorscale": {
           "diverging": [
            [
             0,
             "#8e0152"
            ],
            [
             0.1,
             "#c51b7d"
            ],
            [
             0.2,
             "#de77ae"
            ],
            [
             0.3,
             "#f1b6da"
            ],
            [
             0.4,
             "#fde0ef"
            ],
            [
             0.5,
             "#f7f7f7"
            ],
            [
             0.6,
             "#e6f5d0"
            ],
            [
             0.7,
             "#b8e186"
            ],
            [
             0.8,
             "#7fbc41"
            ],
            [
             0.9,
             "#4d9221"
            ],
            [
             1,
             "#276419"
            ]
           ],
           "sequential": [
            [
             0,
             "#0d0887"
            ],
            [
             0.1111111111111111,
             "#46039f"
            ],
            [
             0.2222222222222222,
             "#7201a8"
            ],
            [
             0.3333333333333333,
             "#9c179e"
            ],
            [
             0.4444444444444444,
             "#bd3786"
            ],
            [
             0.5555555555555556,
             "#d8576b"
            ],
            [
             0.6666666666666666,
             "#ed7953"
            ],
            [
             0.7777777777777778,
             "#fb9f3a"
            ],
            [
             0.8888888888888888,
             "#fdca26"
            ],
            [
             1,
             "#f0f921"
            ]
           ],
           "sequentialminus": [
            [
             0,
             "#0d0887"
            ],
            [
             0.1111111111111111,
             "#46039f"
            ],
            [
             0.2222222222222222,
             "#7201a8"
            ],
            [
             0.3333333333333333,
             "#9c179e"
            ],
            [
             0.4444444444444444,
             "#bd3786"
            ],
            [
             0.5555555555555556,
             "#d8576b"
            ],
            [
             0.6666666666666666,
             "#ed7953"
            ],
            [
             0.7777777777777778,
             "#fb9f3a"
            ],
            [
             0.8888888888888888,
             "#fdca26"
            ],
            [
             1,
             "#f0f921"
            ]
           ]
          },
          "colorway": [
           "#636efa",
           "#EF553B",
           "#00cc96",
           "#ab63fa",
           "#FFA15A",
           "#19d3f3",
           "#FF6692",
           "#B6E880",
           "#FF97FF",
           "#FECB52"
          ],
          "font": {
           "color": "#2a3f5f"
          },
          "geo": {
           "bgcolor": "white",
           "lakecolor": "white",
           "landcolor": "#E5ECF6",
           "showlakes": true,
           "showland": true,
           "subunitcolor": "white"
          },
          "hoverlabel": {
           "align": "left"
          },
          "hovermode": "closest",
          "mapbox": {
           "style": "light"
          },
          "paper_bgcolor": "white",
          "plot_bgcolor": "#E5ECF6",
          "polar": {
           "angularaxis": {
            "gridcolor": "white",
            "linecolor": "white",
            "ticks": ""
           },
           "bgcolor": "#E5ECF6",
           "radialaxis": {
            "gridcolor": "white",
            "linecolor": "white",
            "ticks": ""
           }
          },
          "scene": {
           "xaxis": {
            "backgroundcolor": "#E5ECF6",
            "gridcolor": "white",
            "gridwidth": 2,
            "linecolor": "white",
            "showbackground": true,
            "ticks": "",
            "zerolinecolor": "white"
           },
           "yaxis": {
            "backgroundcolor": "#E5ECF6",
            "gridcolor": "white",
            "gridwidth": 2,
            "linecolor": "white",
            "showbackground": true,
            "ticks": "",
            "zerolinecolor": "white"
           },
           "zaxis": {
            "backgroundcolor": "#E5ECF6",
            "gridcolor": "white",
            "gridwidth": 2,
            "linecolor": "white",
            "showbackground": true,
            "ticks": "",
            "zerolinecolor": "white"
           }
          },
          "shapedefaults": {
           "line": {
            "color": "#2a3f5f"
           }
          },
          "ternary": {
           "aaxis": {
            "gridcolor": "white",
            "linecolor": "white",
            "ticks": ""
           },
           "baxis": {
            "gridcolor": "white",
            "linecolor": "white",
            "ticks": ""
           },
           "bgcolor": "#E5ECF6",
           "caxis": {
            "gridcolor": "white",
            "linecolor": "white",
            "ticks": ""
           }
          },
          "title": {
           "x": 0.05
          },
          "xaxis": {
           "automargin": true,
           "gridcolor": "white",
           "linecolor": "white",
           "ticks": "",
           "title": {
            "standoff": 15
           },
           "zerolinecolor": "white",
           "zerolinewidth": 2
          },
          "yaxis": {
           "automargin": true,
           "gridcolor": "white",
           "linecolor": "white",
           "ticks": "",
           "title": {
            "standoff": 15
           },
           "zerolinecolor": "white",
           "zerolinewidth": 2
          }
         }
        },
        "title": {
         "text": "Зависимость влажности от температуры и скорости ветра"
        },
        "width": 600
       }
      }
     },
     "metadata": {},
     "output_type": "display_data"
    }
   ],
   "source": [
    "from scipy.interpolate import griddata\n",
    "\n",
    "# Создаём координатные оси берём мин и макс значения\n",
    "# получаем 24 раномерно распределённых на этом отрезке значений\n",
    "xi = np.linspace(min(df_new['AirTemp']), max(df_new['AirTemp']), num=24)\n",
    "yi = np.linspace(min(df_new['WindSpd']), max(df_new['WindSpd']), num=24)\n",
    "\n",
    "# Создаём сетку из значений для отрисовки 3D графика\n",
    "# Полное объяснение https://stackoverflow.com/questions/36013063/what-is-the-purpose-of-meshgrid-in-python-numpy\n",
    "x_grid, y_grid = np.meshgrid(xi,yi)\n",
    "\n",
    "# интерполяция данных - отдельные точки полученные выше, превращаем в поверхность,\n",
    "# используем метод \"ближайший\"(nearest) - картинка более наглядная - получается \"полочками\"\n",
    "# можно также использовать linear, cubic\n",
    "# при использовании cubic получается плавнее, но образуются \"выбросы\" более 100%\n",
    "# Подробности (см. рисунок внизу) - https://docs.scipy.org/doc/scipy/reference/generated/scipy.interpolate.griddata.html\n",
    "z_grid = griddata((df_new['AirTemp'], df_new['WindSpd']), df_new['Humidity'],(x_grid,y_grid), method='nearest')\n",
    "\n",
    "fig = go.Figure(go.Surface(x=x_grid, y=y_grid, z=z_grid, colorscale='viridis'))\n",
    "\n",
    "fig.update_layout(title='Зависимость влажности от температуры и скорости ветра', autosize=False,\n",
    "                  width=600, height=600,\n",
    "                  margin=dict(l=65, r=50, b=65, t=90))\n",
    "\n",
    "fig.show()"
   ]
  },
  {
   "cell_type": "markdown",
   "metadata": {},
   "source": [
    "## 5. Заключение\n",
    "\n",
    "Можно сделать следующие выводы:\n",
    "* Происходит постепенно снижение температуры и влажности, на леднике заканчивается \"летний\" сезон.\n",
    "* Данные в силе ветра показывают, что на леднике есть два периода: затишье с 00 до 10 и усиление ветра с 10 до 19.\n",
    "* Была выявлена одна температурная аномалия, можно предположить, что произошёл сбой в датчике собирающим показания температуры (`18.4 °C`)\n",
    "* Была сделано предположение, что между показателем влажности и температурой присутствует корреляционная связь, но коэффициент корреляции этого не показал.\n",
    "* Была обнаружена слабая связь между: температурой и скоростью ветра; влажностью и скоростью ветра.\n",
    "* Было выдвинуто предположение, что применение скользящей средней позволит снизить \"динамичность\" изменений параметров и обнаружить корреляционную связь между параметрами.\n",
    "  * Данное предположение подтвердилось, была обнаружена корреляция между:\n",
    "    * Температурой и Влажностью - прямая связь.\n",
    "    * Силой ветра и Влажностью - обратная связь."
   ]
  }
 ],
 "metadata": {
  "kernelspec": {
   "display_name": "Python 3.9.7 ('tf29')",
   "language": "python",
   "name": "python3"
  },
  "language_info": {
   "codemirror_mode": {
    "name": "ipython",
    "version": 3
   },
   "file_extension": ".py",
   "mimetype": "text/x-python",
   "name": "python",
   "nbconvert_exporter": "python",
   "pygments_lexer": "ipython3",
   "version": "3.9.7"
  },
  "orig_nbformat": 4,
  "vscode": {
   "interpreter": {
    "hash": "1cd0279c901e39233680c9aeb5bd47125a00ab4a8fa8904d2f5d220cbd486de0"
   }
  }
 },
 "nbformat": 4,
 "nbformat_minor": 2
}
