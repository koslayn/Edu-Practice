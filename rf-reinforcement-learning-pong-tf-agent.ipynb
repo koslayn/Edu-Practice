{
 "cells": [
  {
   "cell_type": "markdown",
   "id": "6f309c25",
   "metadata": {
    "papermill": {
     "duration": 0.014654,
     "end_time": "2022-08-28T11:28:59.219855",
     "exception": false,
     "start_time": "2022-08-28T11:28:59.205201",
     "status": "completed"
    },
    "tags": []
   },
   "source": [
    "# 0️⃣ Установка\n",
    "\n"
   ]
  },
  {
   "cell_type": "code",
   "execution_count": 1,
   "id": "902d59f9",
   "metadata": {
    "execution": {
     "iopub.execute_input": "2022-08-28T11:28:59.250899Z",
     "iopub.status.busy": "2022-08-28T11:28:59.250106Z",
     "iopub.status.idle": "2022-08-28T11:30:22.197578Z",
     "shell.execute_reply": "2022-08-28T11:30:22.196383Z"
    },
    "papermill": {
     "duration": 82.96685,
     "end_time": "2022-08-28T11:30:22.200628",
     "exception": false,
     "start_time": "2022-08-28T11:28:59.233778",
     "status": "completed"
    },
    "tags": []
   },
   "outputs": [
    {
     "name": "stdout",
     "output_type": "stream",
     "text": [
      "Collecting tf-agents==0.10.0\r\n",
      "  Downloading tf_agents-0.10.0-py3-none-any.whl (1.3 MB)\r\n",
      "\u001b[2K     \u001b[90m━━━━━━━━━━━━━━━━━━━━━━━━━━━━━━━━━━━━━━━━\u001b[0m \u001b[32m1.3/1.3 MB\u001b[0m \u001b[31m1.4 MB/s\u001b[0m eta \u001b[36m0:00:00\u001b[0m\r\n",
      "\u001b[?25hRequirement already satisfied: gym>=0.17.0 in /opt/conda/lib/python3.7/site-packages (from tf-agents==0.10.0) (0.25.0)\r\n",
      "Requirement already satisfied: wrapt>=1.11.1 in /opt/conda/lib/python3.7/site-packages (from tf-agents==0.10.0) (1.14.1)\r\n",
      "Requirement already satisfied: typing-extensions>=3.7.4.3 in /opt/conda/lib/python3.7/site-packages (from tf-agents==0.10.0) (4.1.1)\r\n",
      "Requirement already satisfied: pillow in /opt/conda/lib/python3.7/site-packages (from tf-agents==0.10.0) (9.1.1)\r\n",
      "Requirement already satisfied: absl-py>=0.6.1 in /opt/conda/lib/python3.7/site-packages (from tf-agents==0.10.0) (1.1.0)\r\n",
      "Requirement already satisfied: numpy>=1.13.3 in /opt/conda/lib/python3.7/site-packages (from tf-agents==0.10.0) (1.21.6)\r\n",
      "Collecting gin-config>=0.4.0\r\n",
      "  Downloading gin_config-0.5.0-py3-none-any.whl (61 kB)\r\n",
      "\u001b[2K     \u001b[90m━━━━━━━━━━━━━━━━━━━━━━━━━━━━━━━━━━━━━━━━\u001b[0m \u001b[32m61.3/61.3 kB\u001b[0m \u001b[31m4.8 MB/s\u001b[0m eta \u001b[36m0:00:00\u001b[0m\r\n",
      "\u001b[?25hRequirement already satisfied: tensorflow-probability>=0.13.0 in /opt/conda/lib/python3.7/site-packages (from tf-agents==0.10.0) (0.14.1)\r\n",
      "Requirement already satisfied: cloudpickle>=1.3 in /opt/conda/lib/python3.7/site-packages (from tf-agents==0.10.0) (2.1.0)\r\n",
      "Requirement already satisfied: protobuf>=3.11.3 in /opt/conda/lib/python3.7/site-packages (from tf-agents==0.10.0) (3.19.4)\r\n",
      "Requirement already satisfied: six>=1.10.0 in /opt/conda/lib/python3.7/site-packages (from tf-agents==0.10.0) (1.16.0)\r\n",
      "Requirement already satisfied: gym-notices>=0.0.4 in /opt/conda/lib/python3.7/site-packages (from gym>=0.17.0->tf-agents==0.10.0) (0.0.7)\r\n",
      "Requirement already satisfied: importlib-metadata>=4.8.0 in /opt/conda/lib/python3.7/site-packages (from gym>=0.17.0->tf-agents==0.10.0) (4.12.0)\r\n",
      "Requirement already satisfied: dm-tree in /opt/conda/lib/python3.7/site-packages (from tensorflow-probability>=0.13.0->tf-agents==0.10.0) (0.1.7)\r\n",
      "Requirement already satisfied: decorator in /opt/conda/lib/python3.7/site-packages (from tensorflow-probability>=0.13.0->tf-agents==0.10.0) (5.1.1)\r\n",
      "Requirement already satisfied: gast>=0.3.2 in /opt/conda/lib/python3.7/site-packages (from tensorflow-probability>=0.13.0->tf-agents==0.10.0) (0.4.0)\r\n",
      "Requirement already satisfied: zipp>=0.5 in /opt/conda/lib/python3.7/site-packages (from importlib-metadata>=4.8.0->gym>=0.17.0->tf-agents==0.10.0) (3.8.0)\r\n",
      "Installing collected packages: gin-config, tf-agents\r\n",
      "Successfully installed gin-config-0.5.0 tf-agents-0.10.0\r\n",
      "\u001b[33mWARNING: Running pip as the 'root' user can result in broken permissions and conflicting behaviour with the system package manager. It is recommended to use a virtual environment instead: https://pip.pypa.io/warnings/venv\u001b[0m\u001b[33m\r\n",
      "\u001b[0mRequirement already satisfied: gym in /opt/conda/lib/python3.7/site-packages (0.25.0)\r\n",
      "Requirement already satisfied: gym-notices>=0.0.4 in /opt/conda/lib/python3.7/site-packages (from gym) (0.0.7)\r\n",
      "Requirement already satisfied: importlib-metadata>=4.8.0 in /opt/conda/lib/python3.7/site-packages (from gym) (4.12.0)\r\n",
      "Requirement already satisfied: cloudpickle>=1.2.0 in /opt/conda/lib/python3.7/site-packages (from gym) (2.1.0)\r\n",
      "Requirement already satisfied: numpy>=1.18.0 in /opt/conda/lib/python3.7/site-packages (from gym) (1.21.6)\r\n",
      "Requirement already satisfied: zipp>=0.5 in /opt/conda/lib/python3.7/site-packages (from importlib-metadata>=4.8.0->gym) (3.8.0)\r\n",
      "Requirement already satisfied: typing-extensions>=3.6.4 in /opt/conda/lib/python3.7/site-packages (from importlib-metadata>=4.8.0->gym) (4.1.1)\r\n",
      "\u001b[33mWARNING: Running pip as the 'root' user can result in broken permissions and conflicting behaviour with the system package manager. It is recommended to use a virtual environment instead: https://pip.pypa.io/warnings/venv\u001b[0m\u001b[33m\r\n",
      "\u001b[0mRequirement already satisfied: gym[atari] in /opt/conda/lib/python3.7/site-packages (0.25.0)\r\n",
      "Requirement already satisfied: cloudpickle>=1.2.0 in /opt/conda/lib/python3.7/site-packages (from gym[atari]) (2.1.0)\r\n",
      "Requirement already satisfied: gym-notices>=0.0.4 in /opt/conda/lib/python3.7/site-packages (from gym[atari]) (0.0.7)\r\n",
      "Requirement already satisfied: numpy>=1.18.0 in /opt/conda/lib/python3.7/site-packages (from gym[atari]) (1.21.6)\r\n",
      "Requirement already satisfied: importlib-metadata>=4.8.0 in /opt/conda/lib/python3.7/site-packages (from gym[atari]) (4.12.0)\r\n",
      "Collecting ale-py~=0.7.5\r\n",
      "  Downloading ale_py-0.7.5-cp37-cp37m-manylinux_2_17_x86_64.manylinux2014_x86_64.whl (1.6 MB)\r\n",
      "\u001b[2K     \u001b[90m━━━━━━━━━━━━━━━━━━━━━━━━━━━━━━━━━━━━━━━━\u001b[0m \u001b[32m1.6/1.6 MB\u001b[0m \u001b[31m1.7 MB/s\u001b[0m eta \u001b[36m0:00:00\u001b[0m\r\n",
      "\u001b[?25hRequirement already satisfied: importlib-resources in /opt/conda/lib/python3.7/site-packages (from ale-py~=0.7.5->gym[atari]) (5.8.0)\r\n",
      "Requirement already satisfied: zipp>=0.5 in /opt/conda/lib/python3.7/site-packages (from importlib-metadata>=4.8.0->gym[atari]) (3.8.0)\r\n",
      "Requirement already satisfied: typing-extensions>=3.6.4 in /opt/conda/lib/python3.7/site-packages (from importlib-metadata>=4.8.0->gym[atari]) (4.1.1)\r\n",
      "Installing collected packages: ale-py\r\n",
      "Successfully installed ale-py-0.7.5\r\n",
      "\u001b[33mWARNING: Running pip as the 'root' user can result in broken permissions and conflicting behaviour with the system package manager. It is recommended to use a virtual environment instead: https://pip.pypa.io/warnings/venv\u001b[0m\u001b[33m\r\n",
      "\u001b[0mCollecting autorom[accept-rom-license]\r\n",
      "  Downloading AutoROM-0.4.2-py3-none-any.whl (16 kB)\r\n",
      "Requirement already satisfied: tqdm in /opt/conda/lib/python3.7/site-packages (from autorom[accept-rom-license]) (4.64.0)\r\n",
      "Requirement already satisfied: click in /opt/conda/lib/python3.7/site-packages (from autorom[accept-rom-license]) (8.0.4)\r\n",
      "Requirement already satisfied: requests in /opt/conda/lib/python3.7/site-packages (from autorom[accept-rom-license]) (2.28.1)\r\n",
      "Requirement already satisfied: importlib-resources in /opt/conda/lib/python3.7/site-packages (from autorom[accept-rom-license]) (5.8.0)\r\n",
      "Collecting AutoROM.accept-rom-license\r\n",
      "  Downloading AutoROM.accept-rom-license-0.4.2.tar.gz (9.8 kB)\r\n",
      "  Installing build dependencies ... \u001b[?25l-\b \b\\\b \b|\b \b/\b \b-\b \b\\\b \b|\b \b/\b \b-\b \b\\\b \b|\b \b/\b \b-\b \b\\\b \b|\b \b/\b \b-\b \b\\\b \b|\b \b/\b \b-\b \bdone\r\n",
      "\u001b[?25h  Getting requirements to build wheel ... \u001b[?25l-\b \bdone\r\n",
      "\u001b[?25h  Preparing metadata (pyproject.toml) ... \u001b[?25l-\b \bdone\r\n",
      "\u001b[?25hRequirement already satisfied: importlib-metadata in /opt/conda/lib/python3.7/site-packages (from click->autorom[accept-rom-license]) (4.12.0)\r\n",
      "Requirement already satisfied: zipp>=3.1.0 in /opt/conda/lib/python3.7/site-packages (from importlib-resources->autorom[accept-rom-license]) (3.8.0)\r\n",
      "Requirement already satisfied: charset-normalizer<3,>=2 in /opt/conda/lib/python3.7/site-packages (from requests->autorom[accept-rom-license]) (2.1.0)\r\n",
      "Requirement already satisfied: urllib3<1.27,>=1.21.1 in /opt/conda/lib/python3.7/site-packages (from requests->autorom[accept-rom-license]) (1.26.9)\r\n",
      "Requirement already satisfied: idna<4,>=2.5 in /opt/conda/lib/python3.7/site-packages (from requests->autorom[accept-rom-license]) (3.3)\r\n",
      "Requirement already satisfied: certifi>=2017.4.17 in /opt/conda/lib/python3.7/site-packages (from requests->autorom[accept-rom-license]) (2022.6.15)\r\n",
      "Requirement already satisfied: typing-extensions>=3.6.4 in /opt/conda/lib/python3.7/site-packages (from importlib-metadata->click->autorom[accept-rom-license]) (4.1.1)\r\n",
      "Building wheels for collected packages: AutoROM.accept-rom-license\r\n",
      "  Building wheel for AutoROM.accept-rom-license (pyproject.toml) ... \u001b[?25l-\b \b\\\b \b|\b \b/\b \b-\b \b\\\b \b|\b \bdone\r\n",
      "\u001b[?25h  Created wheel for AutoROM.accept-rom-license: filename=AutoROM.accept_rom_license-0.4.2-py3-none-any.whl size=446447 sha256=7b95dd31314cfed660216aadeeb4bf00c408beeb77ab1c47f8e16e40b973beb9\r\n",
      "  Stored in directory: /root/.cache/pip/wheels/87/67/2e/6147e7912fe37f5408b80d07527dab807c1d25f5c403a9538a\r\n",
      "Successfully built AutoROM.accept-rom-license\r\n",
      "Installing collected packages: AutoROM.accept-rom-license, autorom\r\n",
      "Successfully installed AutoROM.accept-rom-license-0.4.2 autorom-0.4.2\r\n",
      "\u001b[33mWARNING: Running pip as the 'root' user can result in broken permissions and conflicting behaviour with the system package manager. It is recommended to use a virtual environment instead: https://pip.pypa.io/warnings/venv\u001b[0m\u001b[33m\r\n",
      "\u001b[0mCollecting imageio==2.4.0\r\n",
      "  Downloading imageio-2.4.0.tar.gz (3.3 MB)\r\n",
      "\u001b[2K     \u001b[90m━━━━━━━━━━━━━━━━━━━━━━━━━━━━━━━━━━━━━━━━\u001b[0m \u001b[32m3.3/3.3 MB\u001b[0m \u001b[31m2.5 MB/s\u001b[0m eta \u001b[36m0:00:00\u001b[0m\r\n",
      "\u001b[?25h  Preparing metadata (setup.py) ... \u001b[?25l-\b \bdone\r\n",
      "\u001b[?25hRequirement already satisfied: numpy in /opt/conda/lib/python3.7/site-packages (from imageio==2.4.0) (1.21.6)\r\n",
      "Requirement already satisfied: pillow in /opt/conda/lib/python3.7/site-packages (from imageio==2.4.0) (9.1.1)\r\n",
      "Building wheels for collected packages: imageio\r\n",
      "  Building wheel for imageio (setup.py) ... \u001b[?25l-\b \b\\\b \b|\b \bdone\r\n",
      "\u001b[?25h  Created wheel for imageio: filename=imageio-2.4.0-py3-none-any.whl size=3303895 sha256=1a6c6ba7d17b6f9e2e8432f31e4c510e91fc6552482b966545a552e01e788a4d\r\n",
      "  Stored in directory: /root/.cache/pip/wheels/aa/de/2f/6c5a75120d68a2c3138120c8d0ce1c6f9483a4b96307986bf2\r\n",
      "Successfully built imageio\r\n",
      "Installing collected packages: imageio\r\n",
      "  Attempting uninstall: imageio\r\n",
      "    Found existing installation: imageio 2.19.3\r\n",
      "    Uninstalling imageio-2.19.3:\r\n",
      "      Successfully uninstalled imageio-2.19.3\r\n",
      "\u001b[31mERROR: pip's dependency resolver does not currently take into account all the packages that are installed. This behaviour is the source of the following dependency conflicts.\r\n",
      "scikit-image 0.19.3 requires imageio>=2.4.1, but you have imageio 2.4.0 which is incompatible.\u001b[0m\u001b[31m\r\n",
      "\u001b[0mSuccessfully installed imageio-2.4.0\r\n",
      "\u001b[33mWARNING: Running pip as the 'root' user can result in broken permissions and conflicting behaviour with the system package manager. It is recommended to use a virtual environment instead: https://pip.pypa.io/warnings/venv\u001b[0m\u001b[33m\r\n",
      "\u001b[0m"
     ]
    }
   ],
   "source": [
    "if 1:\n",
    "    # tf-agents 0.10 for tf 2.6, [reverb] - нужно указывать, чтобы установилась с ним\n",
    "    # проблемы с зависимостями, tf-agent последний, притянет tf 2.9\n",
    "    !pip install tf-agents==0.10.0\n",
    "\n",
    "    # https://github.com/openai/gym/releases/tag/0.25.1\n",
    "    !pip install gym #==0.25.1 \n",
    "\n",
    "    # ROMS\n",
    "    !pip install gym[atari]\n",
    "    !pip install autorom[accept-rom-license]\n",
    "\n",
    "    # Запись видео\n",
    "    !pip install 'imageio==2.4.0'\n",
    "\n",
    "    # !pip install pyglet\n",
    "    # !pip install pyvirtualdisplay"
   ]
  },
  {
   "cell_type": "markdown",
   "id": "8cd9a5a0",
   "metadata": {
    "papermill": {
     "duration": 0.020714,
     "end_time": "2022-08-28T11:30:22.242561",
     "exception": false,
     "start_time": "2022-08-28T11:30:22.221847",
     "status": "completed"
    },
    "tags": []
   },
   "source": [
    "# 1️⃣ Импорты и Гиперпараметры"
   ]
  },
  {
   "cell_type": "code",
   "execution_count": 2,
   "id": "4994f794",
   "metadata": {
    "execution": {
     "iopub.execute_input": "2022-08-28T11:30:22.284333Z",
     "iopub.status.busy": "2022-08-28T11:30:22.283970Z",
     "iopub.status.idle": "2022-08-28T11:30:27.059394Z",
     "shell.execute_reply": "2022-08-28T11:30:27.058314Z"
    },
    "papermill": {
     "duration": 4.799523,
     "end_time": "2022-08-28T11:30:27.061980",
     "exception": false,
     "start_time": "2022-08-28T11:30:22.262457",
     "status": "completed"
    },
    "tags": []
   },
   "outputs": [],
   "source": [
    "import tensorflow as tf\n",
    "import numpy as np\n",
    "\n",
    "import matplotlib.pyplot as plt"
   ]
  },
  {
   "cell_type": "code",
   "execution_count": 3,
   "id": "07e2056e",
   "metadata": {
    "execution": {
     "iopub.execute_input": "2022-08-28T11:30:27.106830Z",
     "iopub.status.busy": "2022-08-28T11:30:27.105514Z",
     "iopub.status.idle": "2022-08-28T11:30:30.438466Z",
     "shell.execute_reply": "2022-08-28T11:30:30.437134Z"
    },
    "papermill": {
     "duration": 3.35713,
     "end_time": "2022-08-28T11:30:30.441226",
     "exception": false,
     "start_time": "2022-08-28T11:30:27.084096",
     "status": "completed"
    },
    "tags": []
   },
   "outputs": [
    {
     "name": "stderr",
     "output_type": "stream",
     "text": [
      "2022-08-28 11:30:27.190074: I tensorflow/stream_executor/cuda/cuda_gpu_executor.cc:937] successful NUMA node read from SysFS had negative value (-1), but there must be at least one NUMA node, so returning NUMA node zero\n",
      "2022-08-28 11:30:27.371581: I tensorflow/stream_executor/cuda/cuda_gpu_executor.cc:937] successful NUMA node read from SysFS had negative value (-1), but there must be at least one NUMA node, so returning NUMA node zero\n",
      "2022-08-28 11:30:27.372439: I tensorflow/stream_executor/cuda/cuda_gpu_executor.cc:937] successful NUMA node read from SysFS had negative value (-1), but there must be at least one NUMA node, so returning NUMA node zero\n",
      "2022-08-28 11:30:27.374821: I tensorflow/core/platform/cpu_feature_guard.cc:142] This TensorFlow binary is optimized with oneAPI Deep Neural Network Library (oneDNN) to use the following CPU instructions in performance-critical operations:  AVX2 AVX512F FMA\n",
      "To enable them in other operations, rebuild TensorFlow with the appropriate compiler flags.\n",
      "2022-08-28 11:30:27.375266: I tensorflow/stream_executor/cuda/cuda_gpu_executor.cc:937] successful NUMA node read from SysFS had negative value (-1), but there must be at least one NUMA node, so returning NUMA node zero\n",
      "2022-08-28 11:30:27.376379: I tensorflow/stream_executor/cuda/cuda_gpu_executor.cc:937] successful NUMA node read from SysFS had negative value (-1), but there must be at least one NUMA node, so returning NUMA node zero\n",
      "2022-08-28 11:30:27.377299: I tensorflow/stream_executor/cuda/cuda_gpu_executor.cc:937] successful NUMA node read from SysFS had negative value (-1), but there must be at least one NUMA node, so returning NUMA node zero\n",
      "2022-08-28 11:30:29.950224: I tensorflow/stream_executor/cuda/cuda_gpu_executor.cc:937] successful NUMA node read from SysFS had negative value (-1), but there must be at least one NUMA node, so returning NUMA node zero\n",
      "2022-08-28 11:30:29.951813: I tensorflow/stream_executor/cuda/cuda_gpu_executor.cc:937] successful NUMA node read from SysFS had negative value (-1), but there must be at least one NUMA node, so returning NUMA node zero\n",
      "2022-08-28 11:30:29.953161: I tensorflow/stream_executor/cuda/cuda_gpu_executor.cc:937] successful NUMA node read from SysFS had negative value (-1), but there must be at least one NUMA node, so returning NUMA node zero\n",
      "2022-08-28 11:30:29.954362: I tensorflow/core/common_runtime/gpu/gpu_device.cc:1510] Created device /job:localhost/replica:0/task:0/device:GPU:0 with 15403 MB memory:  -> device: 0, name: Tesla P100-PCIE-16GB, pci bus id: 0000:00:04.0, compute capability: 6.0\n"
     ]
    }
   ],
   "source": [
    "# (train_step_counter) счётчик шагов,\n",
    "# при проходе каждого шага обучения агента он увеличивается\n",
    "global_step = tf.Variable(0)"
   ]
  },
  {
   "cell_type": "code",
   "execution_count": 4,
   "id": "420f4555",
   "metadata": {
    "execution": {
     "iopub.execute_input": "2022-08-28T11:30:30.484173Z",
     "iopub.status.busy": "2022-08-28T11:30:30.483859Z",
     "iopub.status.idle": "2022-08-28T11:30:30.492149Z",
     "shell.execute_reply": "2022-08-28T11:30:30.490924Z"
    },
    "papermill": {
     "duration": 0.032025,
     "end_time": "2022-08-28T11:30:30.494569",
     "exception": false,
     "start_time": "2022-08-28T11:30:30.462544",
     "status": "completed"
    },
    "tags": []
   },
   "outputs": [],
   "source": [
    "# Настройки для env\n",
    "env_name             = 'ALE/Pong-v5' # gym env name\n",
    "max_episode_steps    = 0 # количество кадров, которые отдаёт gym env, НЕ используется\n",
    "num_actions          = 6 # количество доступных действий (всего 6), выход из Dense слоя\n",
    "frame_skip           = 8 # сколько кадров пропускать в env, по умолчанию 4\n",
    "\n",
    "\n",
    "# +++++++++++++++++++\n",
    "# Настройки Буфера и Dataset\n",
    "# Буффер - содержаит транзакции: Состояние - Действие - Состояние\n",
    "replay_buffer_max_length = 25_000  # Допустимый размер буфера (количество кадров) - GPU\n",
    "# replay_buffer_max_length = 75_000  # Допустимый размер буфера (количество кадров) - CPU\n",
    "initial_collect_steps    = 10_000  # Количество кадров, сколько нужно подгрузить в буфер (при инициализации)\n",
    "batch_size_dataset       = 64      # Батч для dataset - GPU\n",
    "batch_size_dataset       = 64      # Батч для dataset - CPU\n",
    "prefetch_size            = 3       # Подгружаем в память вперёд указанное количество Батчей\n",
    "\n",
    "\n",
    "# +++++++++++++++++++\n",
    "# Настройка Агента\n",
    "n_step_update            = 29      # Количество \"кадров\\действий\", возвращается из dataset в одном батче\n",
    "                                   # примерно 10 шагов (при пропуске 8 кадров) чтобы получить Награду: -1\\+1\n",
    "                                   # в dataset подаётся этот параметр, но увеличенный на +1\n",
    "                                   # параметр называется tf_agent.train_sequence_length\n",
    "\n",
    "        \n",
    "# +++++++++++++++++++\n",
    "# Настройка политики\n",
    "# 10k шагов на рандомной политике, после начинается epselon-gredy\n",
    "# Epsilon -  вероятность выбрать случайное действие, убывает с каждым шагом\n",
    "start_epsilon     = 1.0 # начальное значение эпсилон \n",
    "end_epsilon       = 0.1 # конечное значение\n",
    "n_of_steps        = 150_000 # количесвто шагов, за которые нужно изменить эпсилон\n",
    "\n",
    "# +++++++++++++++++++\n",
    "# Параметр дисконтирования\n",
    "gamma             = 0.99\n",
    "\n",
    "\n",
    "# +++++++++++++++++++\n",
    "# Драйвер обеспечивает цикл игры\n",
    "num_steps_agent_do_in_env = 2000  # количество шагов, которые нужно сделать в env при запуске run()\n",
    "                                  # шаги запишутся в буфер, если он полный, то часть шагов будет замещена\n",
    "learning_rate             = 0.001 # скорость обучения\n",
    "target_update_period      = 1000  # синхранизация сетей в Агенте"
   ]
  },
  {
   "cell_type": "markdown",
   "id": "5c2efee7",
   "metadata": {
    "papermill": {
     "duration": 0.020677,
     "end_time": "2022-08-28T11:30:30.535049",
     "exception": false,
     "start_time": "2022-08-28T11:30:30.514372",
     "status": "completed"
    },
    "tags": []
   },
   "source": [
    "# 2️⃣ Среда - `observation`\n",
    "\n",
    "`tf_agents.environments` - модуль в котором собраны окружения для агента:\n",
    "* `suite_gym` - Suite for loading Gym Environments. Происходит обёртка, чтобы получать `TimeLimit`, происходи корректировка последнего состояния\\действия, чтобы получить дисконтированную награду (разная - игра завершена - победа \\ поражение).\n",
    "* `tf_agents.trajectories.TimeStep` - {step_type, reward, discount, observation} - объект возвращается на каждый reset, step.\n",
    "    * `env.time_step_spec().observation` - состояние среды.\n",
    "        * картинка (210, 160)\n",
    "    * `env.time_step_spec().reward` - награды.\n",
    "        * scalar float\n",
    "    * `env.action_spec()` - допустимые шаги.\n",
    "        * 0-5 int\n",
    "* `next_time_step = env.step(action)` - совершить указанное действие: возвращается новое состояние среды и награда за совершённое действие.\n",
    "* Создаются несколько окружений - для тренировки и для оценки, окружения оборачиваются для перевода в `tf` окружения:\n",
    "    * `tf_py_environment.TFPyEnvironment(env)`\n",
    "* Чтобы можно было бы использовать батчи в `replay_buffer` нужно создавать несколько окружений и обернуть их в общее \"батч\" окружение [BatchedPyEnvironmen - подробности](https://www.tensorflow.org/agents/api_docs/python/tf_agents/environments/BatchedPyEnvironment): [Это должно решить проблему](https://stackoverflow.com/questions/65268528/tf-agents-replay-buffer-add-trajectory-to-batch-shape-mismatch); [Упоминается здесь](https://stackoverflow.com/questions/71671716/how-to-pass-the-batchsize-for-a-custom-environment-in-tf-agents)"
   ]
  },
  {
   "cell_type": "code",
   "execution_count": 5,
   "id": "4df71257",
   "metadata": {
    "execution": {
     "iopub.execute_input": "2022-08-28T11:30:30.576530Z",
     "iopub.status.busy": "2022-08-28T11:30:30.576197Z",
     "iopub.status.idle": "2022-08-28T11:30:33.617741Z",
     "shell.execute_reply": "2022-08-28T11:30:33.615565Z"
    },
    "papermill": {
     "duration": 3.065447,
     "end_time": "2022-08-28T11:30:33.620617",
     "exception": false,
     "start_time": "2022-08-28T11:30:30.555170",
     "status": "completed"
    },
    "tags": []
   },
   "outputs": [
    {
     "name": "stdout",
     "output_type": "stream",
     "text": [
      "2.6.4\n"
     ]
    }
   ],
   "source": [
    "from tf_agents.environments import tf_py_environment\n",
    "from tf_agents.environments.gym_wrapper import GymWrapper\n",
    "\n",
    "\n",
    "from tf_agents.environments import suite_gym\n",
    "\n",
    "# минимальный препроцессинг для Атари (переводит в серый, скипает фреймы, ужимает до 84, может сбрасывать жизнь\n",
    "# не используем, препроцессинг своими силами (слои в q-network)\n",
    "# from tf_agents.environments.atari_preprocessing import AtariPreprocessing\n",
    "\n",
    "# Стекинг фремов , фреймы пишутся в третье измерение (где цвет), при запуске игры нажать на кнопку Fire\n",
    "from tf_agents.environments.atari_wrappers import FrameStack4, FireOnReset\n",
    "\n",
    "import gym\n",
    "\n",
    "print(tf.__version__)"
   ]
  },
  {
   "cell_type": "code",
   "execution_count": 6,
   "id": "6beb9965",
   "metadata": {
    "execution": {
     "iopub.execute_input": "2022-08-28T11:30:33.663973Z",
     "iopub.status.busy": "2022-08-28T11:30:33.663674Z",
     "iopub.status.idle": "2022-08-28T11:30:33.832280Z",
     "shell.execute_reply": "2022-08-28T11:30:33.831157Z"
    },
    "papermill": {
     "duration": 0.192782,
     "end_time": "2022-08-28T11:30:33.834864",
     "exception": false,
     "start_time": "2022-08-28T11:30:33.642082",
     "status": "completed"
    },
    "tags": []
   },
   "outputs": [
    {
     "name": "stderr",
     "output_type": "stream",
     "text": [
      "A.L.E: Arcade Learning Environment (version 0.7.5+db37282)\n",
      "[Powered by Stella]\n",
      "/opt/conda/lib/python3.7/site-packages/gym/core.py:330: DeprecationWarning: \u001b[33mWARN: Initializing wrapper in old step API which returns one bool instead of two. It is recommended to set `new_step_api=True` to use new step API. This will be the default behaviour in future.\u001b[0m\n",
      "  \"Initializing wrapper in old step API which returns one bool instead of two. It is recommended to set `new_step_api=True` to use new step API. This will be the default behaviour in future.\"\n",
      "/opt/conda/lib/python3.7/site-packages/gym/wrappers/step_api_compatibility.py:40: DeprecationWarning: \u001b[33mWARN: Initializing environment in old step API which returns one bool instead of two. It is recommended to set `new_step_api=True` to use new step API. This will be the default behaviour in future.\u001b[0m\n",
      "  \"Initializing environment in old step API which returns one bool instead of two. It is recommended to set `new_step_api=True` to use new step API. This will be the default behaviour in future.\"\n"
     ]
    }
   ],
   "source": [
    "# Загрузка через tf-agent\n",
    "env = suite_gym.load(env_name, max_episode_steps=max_episode_steps)"
   ]
  },
  {
   "cell_type": "markdown",
   "id": "8fb0b120",
   "metadata": {
    "papermill": {
     "duration": 0.022359,
     "end_time": "2022-08-28T11:30:33.879031",
     "exception": false,
     "start_time": "2022-08-28T11:30:33.856672",
     "status": "completed"
    },
    "tags": []
   },
   "source": [
    "## ☑️ 2.1 Разбор библиотеки"
   ]
  },
  {
   "cell_type": "code",
   "execution_count": 7,
   "id": "042e7c3d",
   "metadata": {
    "execution": {
     "iopub.execute_input": "2022-08-28T11:30:33.926727Z",
     "iopub.status.busy": "2022-08-28T11:30:33.926265Z",
     "iopub.status.idle": "2022-08-28T11:30:34.156921Z",
     "shell.execute_reply": "2022-08-28T11:30:34.156038Z"
    },
    "papermill": {
     "duration": 0.256383,
     "end_time": "2022-08-28T11:30:34.159058",
     "exception": false,
     "start_time": "2022-08-28T11:30:33.902675",
     "status": "completed"
    },
    "tags": []
   },
   "outputs": [
    {
     "name": "stderr",
     "output_type": "stream",
     "text": [
      "/opt/conda/lib/python3.7/site-packages/gym/core.py:52: DeprecationWarning: \u001b[33mWARN: The argument mode in render method is deprecated; use render_mode during environment initialization instead.\n",
      "See here for more information: https://www.gymlibrary.ml/content/api/\u001b[0m\n",
      "  \"The argument mode in render method is deprecated; \"\n",
      "/opt/conda/lib/python3.7/site-packages/gym/utils/passive_env_checker.py:298: UserWarning: \u001b[33mWARN: No render fps was declared in the environment (env.metadata['render_fps'] is None or not defined), rendering may occur at inconsistent fps.\u001b[0m\n",
      "  \"No render fps was declared in the environment (env.metadata['render_fps'] is None or not defined), rendering may occur at inconsistent fps.\"\n"
     ]
    },
    {
     "data": {
      "text/plain": [
       "<matplotlib.image.AxesImage at 0x7faa69061350>"
      ]
     },
     "execution_count": 7,
     "metadata": {},
     "output_type": "execute_result"
    },
    {
     "data": {
      "image/png": "[encoded data removed]",
      "text/plain": [
       "<Figure size 432x288 with 1 Axes>"
      ]
     },
     "metadata": {
      "needs_background": "light"
     },
     "output_type": "display_data"
    }
   ],
   "source": [
    "_s = env.reset()\n",
    "plt.imshow(env.render())"
   ]
  },
  {
   "cell_type": "code",
   "execution_count": 8,
   "id": "a23a5936",
   "metadata": {
    "execution": {
     "iopub.execute_input": "2022-08-28T11:30:34.202478Z",
     "iopub.status.busy": "2022-08-28T11:30:34.201924Z",
     "iopub.status.idle": "2022-08-28T11:30:34.210043Z",
     "shell.execute_reply": "2022-08-28T11:30:34.209142Z"
    },
    "papermill": {
     "duration": 0.031827,
     "end_time": "2022-08-28T11:30:34.211896",
     "exception": false,
     "start_time": "2022-08-28T11:30:34.180069",
     "status": "completed"
    },
    "tags": []
   },
   "outputs": [
    {
     "data": {
      "text/plain": [
       "BoundedArraySpec(shape=(210, 160, 3), dtype=dtype('uint8'), name='observation', minimum=0, maximum=255)"
      ]
     },
     "execution_count": 8,
     "metadata": {},
     "output_type": "execute_result"
    }
   ],
   "source": [
    "env.time_step_spec().observation"
   ]
  },
  {
   "cell_type": "code",
   "execution_count": 9,
   "id": "ae57d921",
   "metadata": {
    "execution": {
     "iopub.execute_input": "2022-08-28T11:30:34.256262Z",
     "iopub.status.busy": "2022-08-28T11:30:34.255435Z",
     "iopub.status.idle": "2022-08-28T11:30:34.262956Z",
     "shell.execute_reply": "2022-08-28T11:30:34.262030Z"
    },
    "papermill": {
     "duration": 0.031528,
     "end_time": "2022-08-28T11:30:34.264962",
     "exception": false,
     "start_time": "2022-08-28T11:30:34.233434",
     "status": "completed"
    },
    "tags": []
   },
   "outputs": [
    {
     "data": {
      "text/plain": [
       "BoundedArraySpec(shape=(210, 160, 3), dtype=dtype('uint8'), name='observation', minimum=0, maximum=255)"
      ]
     },
     "execution_count": 9,
     "metadata": {},
     "output_type": "execute_result"
    }
   ],
   "source": [
    "env.time_step_spec().observation"
   ]
  },
  {
   "cell_type": "code",
   "execution_count": 10,
   "id": "a632a472",
   "metadata": {
    "execution": {
     "iopub.execute_input": "2022-08-28T11:30:34.307737Z",
     "iopub.status.busy": "2022-08-28T11:30:34.307457Z",
     "iopub.status.idle": "2022-08-28T11:30:34.313161Z",
     "shell.execute_reply": "2022-08-28T11:30:34.312259Z"
    },
    "papermill": {
     "duration": 0.029422,
     "end_time": "2022-08-28T11:30:34.315237",
     "exception": false,
     "start_time": "2022-08-28T11:30:34.285815",
     "status": "completed"
    },
    "tags": []
   },
   "outputs": [
    {
     "data": {
      "text/plain": [
       "ArraySpec(shape=(), dtype=dtype('float32'), name='reward')"
      ]
     },
     "execution_count": 10,
     "metadata": {},
     "output_type": "execute_result"
    }
   ],
   "source": [
    "env.time_step_spec().reward"
   ]
  },
  {
   "cell_type": "code",
   "execution_count": 11,
   "id": "b8a7056f",
   "metadata": {
    "execution": {
     "iopub.execute_input": "2022-08-28T11:30:34.359793Z",
     "iopub.status.busy": "2022-08-28T11:30:34.359246Z",
     "iopub.status.idle": "2022-08-28T11:30:34.365991Z",
     "shell.execute_reply": "2022-08-28T11:30:34.364844Z"
    },
    "papermill": {
     "duration": 0.031315,
     "end_time": "2022-08-28T11:30:34.368083",
     "exception": false,
     "start_time": "2022-08-28T11:30:34.336768",
     "status": "completed"
    },
    "tags": []
   },
   "outputs": [
    {
     "data": {
      "text/plain": [
       "BoundedArraySpec(shape=(), dtype=dtype('int64'), name='action', minimum=0, maximum=5)"
      ]
     },
     "execution_count": 11,
     "metadata": {},
     "output_type": "execute_result"
    }
   ],
   "source": [
    "env.action_spec()"
   ]
  },
  {
   "cell_type": "code",
   "execution_count": 12,
   "id": "4e25e18f",
   "metadata": {
    "execution": {
     "iopub.execute_input": "2022-08-28T11:30:34.414788Z",
     "iopub.status.busy": "2022-08-28T11:30:34.413894Z",
     "iopub.status.idle": "2022-08-28T11:30:34.424504Z",
     "shell.execute_reply": "2022-08-28T11:30:34.422612Z"
    },
    "papermill": {
     "duration": 0.038791,
     "end_time": "2022-08-28T11:30:34.428064",
     "exception": false,
     "start_time": "2022-08-28T11:30:34.389273",
     "status": "completed"
    },
    "tags": []
   },
   "outputs": [
    {
     "name": "stderr",
     "output_type": "stream",
     "text": [
      "/opt/conda/lib/python3.7/site-packages/gym/utils/passive_env_checker.py:228: DeprecationWarning: \u001b[33mWARN: Core environment is written in old step API which returns one bool instead of two. It is recommended to rewrite the environment with new step API. \u001b[0m\n",
      "  \"Core environment is written in old step API which returns one bool instead of two. \"\n"
     ]
    }
   ],
   "source": [
    "time_step = env.step(2)"
   ]
  },
  {
   "cell_type": "code",
   "execution_count": 13,
   "id": "6b8510e3",
   "metadata": {
    "execution": {
     "iopub.execute_input": "2022-08-28T11:30:34.474528Z",
     "iopub.status.busy": "2022-08-28T11:30:34.473849Z",
     "iopub.status.idle": "2022-08-28T11:30:34.486175Z",
     "shell.execute_reply": "2022-08-28T11:30:34.485007Z"
    },
    "papermill": {
     "duration": 0.036946,
     "end_time": "2022-08-28T11:30:34.488608",
     "exception": false,
     "start_time": "2022-08-28T11:30:34.451662",
     "status": "completed"
    },
    "tags": []
   },
   "outputs": [],
   "source": [
    "time_step = env.reset()\n",
    "# print(time_step)"
   ]
  },
  {
   "cell_type": "markdown",
   "id": "2873da71",
   "metadata": {
    "papermill": {
     "duration": 0.021503,
     "end_time": "2022-08-28T11:30:34.531871",
     "exception": false,
     "start_time": "2022-08-28T11:30:34.510368",
     "status": "completed"
    },
    "tags": []
   },
   "source": [
    "## ☑️ 2.2 Создание окружений для обучения"
   ]
  },
  {
   "cell_type": "code",
   "execution_count": 14,
   "id": "0bddd056",
   "metadata": {
    "execution": {
     "iopub.execute_input": "2022-08-28T11:30:34.576320Z",
     "iopub.status.busy": "2022-08-28T11:30:34.575951Z",
     "iopub.status.idle": "2022-08-28T11:30:34.899283Z",
     "shell.execute_reply": "2022-08-28T11:30:34.898327Z"
    },
    "papermill": {
     "duration": 0.348188,
     "end_time": "2022-08-28T11:30:34.901489",
     "exception": false,
     "start_time": "2022-08-28T11:30:34.553301",
     "status": "completed"
    },
    "tags": []
   },
   "outputs": [
    {
     "data": {
      "text/plain": [
       "EnvSpec(id='ALE/Pong-v5', entry_point='gym.envs.atari:AtariEnv', reward_threshold=None, nondeterministic=False, max_episode_steps=27000, order_enforce=True, autoreset=False, disable_env_checker=False, new_step_api=False, kwargs={'game': 'pong', 'obs_type': 'rgb', 'repeat_action_probability': 0.25, 'full_action_space': False, 'frameskip': 8, 'render_mode': 'rgb_array'}, namespace='ALE', name='Pong', version=5)"
      ]
     },
     "execution_count": 14,
     "metadata": {},
     "output_type": "execute_result"
    }
   ],
   "source": [
    "# Загрузка через gym, нужно указать сколько пропускаем фреймов\n",
    "train_gym = gym.make('ALE/Pong-v5', render_mode='rgb_array', new_step_api=False, frameskip=frame_skip)\n",
    "train_gym = gym.wrappers.gray_scale_observation.GrayScaleObservation(train_gym, keep_dim=True)\n",
    "train_gym = FireOnReset(train_gym)\n",
    "train_gym = FrameStack4(train_gym)\n",
    "train_gym = GymWrapper(gym_env = train_gym)\n",
    "train_env = tf_py_environment.TFPyEnvironment(train_gym)\n",
    "\n",
    "eval_gym = gym.make('ALE/Pong-v5', render_mode='rgb_array', new_step_api=False, frameskip=frame_skip)\n",
    "eval_gym = gym.wrappers.gray_scale_observation.GrayScaleObservation(eval_gym, keep_dim=True)\n",
    "eval_gym = FireOnReset(eval_gym)\n",
    "eval_gym = FrameStack4(eval_gym)\n",
    "eval_gym = GymWrapper(gym_env = eval_gym)\n",
    "eval_env = tf_py_environment.TFPyEnvironment(eval_gym)\n",
    "\n",
    "train_gym.spec"
   ]
  },
  {
   "cell_type": "code",
   "execution_count": 15,
   "id": "e4f2cba6",
   "metadata": {
    "execution": {
     "iopub.execute_input": "2022-08-28T11:30:34.946670Z",
     "iopub.status.busy": "2022-08-28T11:30:34.945615Z",
     "iopub.status.idle": "2022-08-28T11:30:35.102237Z",
     "shell.execute_reply": "2022-08-28T11:30:35.101244Z"
    },
    "papermill": {
     "duration": 0.181484,
     "end_time": "2022-08-28T11:30:35.104614",
     "exception": false,
     "start_time": "2022-08-28T11:30:34.923130",
     "status": "completed"
    },
    "tags": []
   },
   "outputs": [],
   "source": [
    "# для визуализации (видео)\n",
    "eval_py_env = suite_gym.load(environment_name=env_name, )"
   ]
  },
  {
   "cell_type": "code",
   "execution_count": 16,
   "id": "019e5df1",
   "metadata": {
    "execution": {
     "iopub.execute_input": "2022-08-28T11:30:35.148468Z",
     "iopub.status.busy": "2022-08-28T11:30:35.148156Z",
     "iopub.status.idle": "2022-08-28T11:30:35.154111Z",
     "shell.execute_reply": "2022-08-28T11:30:35.153201Z"
    },
    "papermill": {
     "duration": 0.030217,
     "end_time": "2022-08-28T11:30:35.156388",
     "exception": false,
     "start_time": "2022-08-28T11:30:35.126171",
     "status": "completed"
    },
    "tags": []
   },
   "outputs": [
    {
     "data": {
      "text/plain": [
       "1"
      ]
     },
     "execution_count": 16,
     "metadata": {},
     "output_type": "execute_result"
    }
   ],
   "source": [
    "train_env.batch_size"
   ]
  },
  {
   "cell_type": "markdown",
   "id": "6bb85d6a",
   "metadata": {
    "papermill": {
     "duration": 0.021084,
     "end_time": "2022-08-28T11:30:35.198917",
     "exception": false,
     "start_time": "2022-08-28T11:30:35.177833",
     "status": "completed"
    },
    "tags": []
   },
   "source": [
    "# 3️⃣ Агент\n",
    "* Агент - алгоритм, который решет RL задачу. `DQN agent` - можно использовать в любом окружении с дискретным набором действий. В основе лежит `QNetwork`, сеть которая может вычислять `QValues` (expected returns) для всех действий доступных в окружении.\n",
    "* `tf_agents.specs.from_spec` - что может делать агент, переводит переданную спецификацию в `TensorSpecs`.\n",
    "* `dqn_agent` - объект в котором реализован алгоритм.\n",
    "    * [Документация](https://www.tensorflow.org/agents/api_docs/python/tf_agents/agents/DqnAgent)\n",
    "    * `time_step_spec` см.выше (Среда).\n",
    "    * `action_spec` см.выше (Агент).\n",
    "    * `q_network` - сеть должна взвращать логиты, вызывается через `call`.\n",
    "    * `optimizer` - оптимизатор\n",
    "    *  `td_errors_loss_fn` - loss\n",
    "        * A function for computing the TD errors loss.\n",
    "        * If None, a default value of element_wise_huber_loss is used.\n",
    "        * This function takes as input the target and the estimated Q values and returns the loss for each element of the batch.\n",
    "        * `common.element_wise_squared_loss`\n",
    "    * `train_step_counter` - An optional counter to increment every time the train op is run. Defaults to the global_step.\n",
    "* `tf_agents.networks.sequential` - преобразует tf сеть в сеть с которой может работать агент"
   ]
  },
  {
   "cell_type": "code",
   "execution_count": 17,
   "id": "b97bf982",
   "metadata": {
    "execution": {
     "iopub.execute_input": "2022-08-28T11:30:35.243042Z",
     "iopub.status.busy": "2022-08-28T11:30:35.242718Z",
     "iopub.status.idle": "2022-08-28T11:30:35.249258Z",
     "shell.execute_reply": "2022-08-28T11:30:35.248345Z"
    },
    "papermill": {
     "duration": 0.031369,
     "end_time": "2022-08-28T11:30:35.251195",
     "exception": false,
     "start_time": "2022-08-28T11:30:35.219826",
     "status": "completed"
    },
    "tags": []
   },
   "outputs": [
    {
     "data": {
      "text/plain": [
       "BoundedTensorSpec(shape=(), dtype=tf.int64, name='action', minimum=array(0), maximum=array(5))"
      ]
     },
     "execution_count": 17,
     "metadata": {},
     "output_type": "execute_result"
    }
   ],
   "source": [
    "train_env.action_spec()"
   ]
  },
  {
   "cell_type": "code",
   "execution_count": 18,
   "id": "a978e2f5",
   "metadata": {
    "execution": {
     "iopub.execute_input": "2022-08-28T11:30:35.296061Z",
     "iopub.status.busy": "2022-08-28T11:30:35.295128Z",
     "iopub.status.idle": "2022-08-28T11:30:35.300557Z",
     "shell.execute_reply": "2022-08-28T11:30:35.299648Z"
    },
    "papermill": {
     "duration": 0.030256,
     "end_time": "2022-08-28T11:30:35.302551",
     "exception": false,
     "start_time": "2022-08-28T11:30:35.272295",
     "status": "completed"
    },
    "tags": []
   },
   "outputs": [],
   "source": [
    "from tf_agents.specs import tensor_spec\n",
    "from tf_agents.agents.dqn import dqn_agent\n",
    "from tf_agents.utils import common\n",
    "from tf_agents.networks import sequential"
   ]
  },
  {
   "cell_type": "markdown",
   "id": "f98821db",
   "metadata": {
    "papermill": {
     "duration": 0.021708,
     "end_time": "2022-08-28T11:30:35.346076",
     "exception": false,
     "start_time": "2022-08-28T11:30:35.324368",
     "status": "completed"
    },
    "tags": []
   },
   "source": [
    "## ☑️ 3.1 Создание агента"
   ]
  },
  {
   "cell_type": "code",
   "execution_count": 19,
   "id": "4a8a4310",
   "metadata": {
    "execution": {
     "iopub.execute_input": "2022-08-28T11:30:35.393399Z",
     "iopub.status.busy": "2022-08-28T11:30:35.391428Z",
     "iopub.status.idle": "2022-08-28T11:30:35.399821Z",
     "shell.execute_reply": "2022-08-28T11:30:35.398512Z"
    },
    "papermill": {
     "duration": 0.034687,
     "end_time": "2022-08-28T11:30:35.402180",
     "exception": false,
     "start_time": "2022-08-28T11:30:35.367493",
     "status": "completed"
    },
    "tags": []
   },
   "outputs": [
    {
     "data": {
      "text/plain": [
       "BoundedTensorSpec(shape=(), dtype=tf.int64, name='action', minimum=array(0), maximum=array(5))"
      ]
     },
     "execution_count": 19,
     "metadata": {},
     "output_type": "execute_result"
    }
   ],
   "source": [
    "action_tensor_spec = tensor_spec.from_spec(train_env.action_spec())\n",
    "action_tensor_spec"
   ]
  },
  {
   "cell_type": "code",
   "execution_count": 20,
   "id": "55f5bce9",
   "metadata": {
    "execution": {
     "iopub.execute_input": "2022-08-28T11:30:35.453255Z",
     "iopub.status.busy": "2022-08-28T11:30:35.452968Z",
     "iopub.status.idle": "2022-08-28T11:30:35.501763Z",
     "shell.execute_reply": "2022-08-28T11:30:35.500702Z"
    },
    "papermill": {
     "duration": 0.076154,
     "end_time": "2022-08-28T11:30:35.503856",
     "exception": false,
     "start_time": "2022-08-28T11:30:35.427702",
     "status": "completed"
    },
    "tags": []
   },
   "outputs": [],
   "source": [
    "# QNetwork - tf.keras.Sequential([])\n",
    "model = [\n",
    "    tf.keras.layers.InputLayer(input_shape=(210, 160, 4), name='MainInput'),\n",
    "    # Препроцессинг: \n",
    "      # обрезка кадра - интерфейс и счёт; оставляем квадрат; сжимаем до 40x40;\n",
    "      # измененяем int -> float иначе падает на CNN слое.\n",
    "    tf.keras.layers.Lambda(lambda s: tf.image.crop_to_bounding_box(image=s, offset_height=33, \n",
    "                                      offset_width=0, target_height=160, \n",
    "                                      target_width=160)),\n",
    "    tf.keras.layers.Resizing(height=40, width=40),\n",
    "    tf.keras.layers.Lambda(lambda s: tf.cast(s, dtype=tf.float32) / 255.),\n",
    "\n",
    "    # Обработка изображения\n",
    "    tf.keras.layers.Conv2D(filters=32, \n",
    "                           kernel_size=(4,4),\n",
    "                           activation='relu',),\n",
    "    tf.keras.layers.Conv2D(filters=64, \n",
    "                           kernel_size=(2,2),\n",
    "                           activation='relu',),\n",
    "    tf.keras.layers.Conv2D(filters=64, \n",
    "                           kernel_size=(2,2),\n",
    "                           activation='relu',),\n",
    "    tf.keras.layers.Conv2D(filters=1, \n",
    "                           kernel_size=(2,2),\n",
    "                           activation='relu',),\n",
    "    \n",
    "    # Выход из сети: количество доступных действий ограничены \n",
    "    tf.keras.layers.Flatten(),\n",
    "    tf.keras.layers.Dense(units=512,\n",
    "                          activation='relu',),\n",
    "    tf.keras.layers.Dense(units=num_actions,\n",
    "                          activation=None),\n",
    "]\n",
    "\n",
    "optimizer = tf.keras.optimizers.Adam(learning_rate=learning_rate)\n",
    "\n",
    "# Создаётся сеть для агента (принимает список слоёв)\n",
    "q_net = sequential.Sequential(model)"
   ]
  },
  {
   "cell_type": "code",
   "execution_count": 21,
   "id": "cefed736",
   "metadata": {
    "execution": {
     "iopub.execute_input": "2022-08-28T11:30:35.551774Z",
     "iopub.status.busy": "2022-08-28T11:30:35.551225Z",
     "iopub.status.idle": "2022-08-28T11:30:35.555979Z",
     "shell.execute_reply": "2022-08-28T11:30:35.555037Z"
    },
    "papermill": {
     "duration": 0.031915,
     "end_time": "2022-08-28T11:30:35.557970",
     "exception": false,
     "start_time": "2022-08-28T11:30:35.526055",
     "status": "completed"
    },
    "tags": []
   },
   "outputs": [],
   "source": [
    "# возвращает тензор того же типа, что и lr\n",
    "# https://www.tensorflow.org/api_docs/python/tf/compat/v1/train/polynomial_decay\n",
    "epsilon = tf.compat.v1.train.polynomial_decay(\n",
    "    learning_rate     = start_epsilon,\n",
    "    global_step       = global_step,\n",
    "    decay_steps       = n_of_steps,\n",
    "    end_learning_rate = end_epsilon)"
   ]
  },
  {
   "cell_type": "code",
   "execution_count": 22,
   "id": "47584fc1",
   "metadata": {
    "execution": {
     "iopub.execute_input": "2022-08-28T11:30:35.609495Z",
     "iopub.status.busy": "2022-08-28T11:30:35.609169Z",
     "iopub.status.idle": "2022-08-28T11:30:35.619992Z",
     "shell.execute_reply": "2022-08-28T11:30:35.618908Z"
    },
    "papermill": {
     "duration": 0.040077,
     "end_time": "2022-08-28T11:30:35.622698",
     "exception": false,
     "start_time": "2022-08-28T11:30:35.582621",
     "status": "completed"
    },
    "tags": []
   },
   "outputs": [
    {
     "data": {
      "text/plain": [
       "TimeStep(\n",
       "{'discount': BoundedTensorSpec(shape=(), dtype=tf.float32, name='discount', minimum=array(0., dtype=float32), maximum=array(1., dtype=float32)),\n",
       " 'observation': BoundedTensorSpec(shape=(210, 160, 4), dtype=tf.uint8, name='observation', minimum=array(0, dtype=uint8), maximum=array(255, dtype=uint8)),\n",
       " 'reward': TensorSpec(shape=(), dtype=tf.float32, name='reward'),\n",
       " 'step_type': TensorSpec(shape=(), dtype=tf.int32, name='step_type')})"
      ]
     },
     "execution_count": 22,
     "metadata": {},
     "output_type": "execute_result"
    }
   ],
   "source": [
    "train_env.time_step_spec()"
   ]
  },
  {
   "cell_type": "code",
   "execution_count": 23,
   "id": "07b30075",
   "metadata": {
    "execution": {
     "iopub.execute_input": "2022-08-28T11:30:35.669917Z",
     "iopub.status.busy": "2022-08-28T11:30:35.669640Z",
     "iopub.status.idle": "2022-08-28T11:30:42.425313Z",
     "shell.execute_reply": "2022-08-28T11:30:42.424235Z"
    },
    "papermill": {
     "duration": 6.781114,
     "end_time": "2022-08-28T11:30:42.428290",
     "exception": false,
     "start_time": "2022-08-28T11:30:35.647176",
     "status": "completed"
    },
    "tags": []
   },
   "outputs": [
    {
     "name": "stderr",
     "output_type": "stream",
     "text": [
      "2022-08-28 11:30:36.634577: I tensorflow/stream_executor/cuda/cuda_dnn.cc:369] Loaded cuDNN version 8005\n"
     ]
    }
   ],
   "source": [
    "# Агент\n",
    "tf_agent = dqn_agent.DqnAgent(\n",
    "    time_step_spec       = train_env.time_step_spec(),\n",
    "    action_spec          = train_env.action_spec(),\n",
    "    q_network            = q_net,\n",
    "    optimizer            = optimizer,\n",
    "    td_errors_loss_fn    = common.element_wise_squared_loss,\n",
    "#     td_errors_loss_fn    = common.element_wise_huber_loss\n",
    "    train_step_counter   = global_step,\n",
    "    epsilon_greedy       = epsilon, #0.1\n",
    "    gamma                = gamma,\n",
    "    n_step_update        = n_step_update,\n",
    "    target_update_period = target_update_period, #100\n",
    ")\n",
    "\n",
    "tf_agent.initialize()"
   ]
  },
  {
   "cell_type": "code",
   "execution_count": 24,
   "id": "57ad1846",
   "metadata": {
    "execution": {
     "iopub.execute_input": "2022-08-28T11:30:42.474533Z",
     "iopub.status.busy": "2022-08-28T11:30:42.473746Z",
     "iopub.status.idle": "2022-08-28T11:30:42.479968Z",
     "shell.execute_reply": "2022-08-28T11:30:42.479064Z"
    },
    "papermill": {
     "duration": 0.031325,
     "end_time": "2022-08-28T11:30:42.481854",
     "exception": false,
     "start_time": "2022-08-28T11:30:42.450529",
     "status": "completed"
    },
    "tags": []
   },
   "outputs": [
    {
     "data": {
      "text/plain": [
       "30"
      ]
     },
     "execution_count": 24,
     "metadata": {},
     "output_type": "execute_result"
    }
   ],
   "source": [
    "# train_sequence_length # Атрибут, сколько кадров подаётся в train (N+1), для dataset\n",
    "tf_agent.train_sequence_length"
   ]
  },
  {
   "cell_type": "code",
   "execution_count": 25,
   "id": "0cde6f38",
   "metadata": {
    "execution": {
     "iopub.execute_input": "2022-08-28T11:30:42.528324Z",
     "iopub.status.busy": "2022-08-28T11:30:42.526765Z",
     "iopub.status.idle": "2022-08-28T11:30:42.534120Z",
     "shell.execute_reply": "2022-08-28T11:30:42.532578Z"
    },
    "papermill": {
     "duration": 0.032673,
     "end_time": "2022-08-28T11:30:42.536763",
     "exception": false,
     "start_time": "2022-08-28T11:30:42.504090",
     "status": "completed"
    },
    "tags": []
   },
   "outputs": [
    {
     "name": "stdout",
     "output_type": "stream",
     "text": [
      "Model: \"sequential\"\n",
      "_________________________________________________________________\n",
      "Layer (type)                 Output Shape              Param #   \n",
      "=================================================================\n",
      "MainInput (InputLayer)       [(None, 210, 160, 4)]     0         \n",
      "_________________________________________________________________\n",
      "lambda (Lambda)              multiple                  0         \n",
      "_________________________________________________________________\n",
      "resizing (Resizing)          multiple                  0         \n",
      "_________________________________________________________________\n",
      "lambda_1 (Lambda)            multiple                  0         \n",
      "_________________________________________________________________\n",
      "conv2d (Conv2D)              multiple                  2080      \n",
      "_________________________________________________________________\n",
      "conv2d_1 (Conv2D)            multiple                  8256      \n",
      "_________________________________________________________________\n",
      "conv2d_2 (Conv2D)            multiple                  16448     \n",
      "_________________________________________________________________\n",
      "conv2d_3 (Conv2D)            multiple                  257       \n",
      "_________________________________________________________________\n",
      "flatten (Flatten)            multiple                  0         \n",
      "_________________________________________________________________\n",
      "dense (Dense)                multiple                  592384    \n",
      "_________________________________________________________________\n",
      "dense_1 (Dense)              multiple                  3078      \n",
      "=================================================================\n",
      "Total params: 622,503\n",
      "Trainable params: 622,503\n",
      "Non-trainable params: 0\n",
      "_________________________________________________________________\n"
     ]
    }
   ],
   "source": [
    "q_net.summary()"
   ]
  },
  {
   "cell_type": "markdown",
   "id": "587d5094",
   "metadata": {
    "papermill": {
     "duration": 0.021672,
     "end_time": "2022-08-28T11:30:42.581402",
     "exception": false,
     "start_time": "2022-08-28T11:30:42.559730",
     "status": "completed"
    },
    "tags": []
   },
   "source": [
    "# 4️⃣ Политика\n",
    "\n",
    "Политика - определяет как агент действует в среде, обучение идёт до тех пор пока политика не будет приводить к желаемому результату.\n",
    "\n",
    "Политка:\n",
    "* Желаемый результат - не пропускать шарик.\n",
    "* Политика возвращает действие (влево или вправо) для каждого наблюдения `time_step`.\n",
    "\n",
    "Агенты содержат две политики:\n",
    "* `agent.policy` - основная политика, которая используется для оценки и развёртывания.\n",
    "* `agent.collect_policy` - вторая политика, которая используется для сбора данных (для буффера)\n",
    "\n",
    "Примеры политик:\n",
    "* `random_tf_policy` - выбрать любое действие - возвращается объект `PolicyStep(action=<tf.Tensor: shape=(1,), dtype=int64, numpy=array([3])>, state=(), info=())`"
   ]
  },
  {
   "cell_type": "code",
   "execution_count": 26,
   "id": "df50bd03",
   "metadata": {
    "execution": {
     "iopub.execute_input": "2022-08-28T11:30:42.626826Z",
     "iopub.status.busy": "2022-08-28T11:30:42.626495Z",
     "iopub.status.idle": "2022-08-28T11:30:42.631093Z",
     "shell.execute_reply": "2022-08-28T11:30:42.630062Z"
    },
    "papermill": {
     "duration": 0.030331,
     "end_time": "2022-08-28T11:30:42.633397",
     "exception": false,
     "start_time": "2022-08-28T11:30:42.603066",
     "status": "completed"
    },
    "tags": []
   },
   "outputs": [],
   "source": [
    "from tf_agents.policies import py_tf_eager_policy\n",
    "from tf_agents.policies import random_tf_policy\n",
    "from tf_agents.policies import fixed_policy\n",
    "\n",
    "from tf_agents.trajectories import time_step as ts"
   ]
  },
  {
   "cell_type": "markdown",
   "id": "f1eff4d3",
   "metadata": {
    "papermill": {
     "duration": 0.023427,
     "end_time": "2022-08-28T11:30:42.679574",
     "exception": false,
     "start_time": "2022-08-28T11:30:42.656147",
     "status": "completed"
    },
    "tags": []
   },
   "source": [
    "## ☑️ 4.1 Примеры политик"
   ]
  },
  {
   "cell_type": "code",
   "execution_count": 27,
   "id": "a0f8681b",
   "metadata": {
    "execution": {
     "iopub.execute_input": "2022-08-28T11:30:42.725273Z",
     "iopub.status.busy": "2022-08-28T11:30:42.724777Z",
     "iopub.status.idle": "2022-08-28T11:30:42.731485Z",
     "shell.execute_reply": "2022-08-28T11:30:42.730553Z"
    },
    "papermill": {
     "duration": 0.031299,
     "end_time": "2022-08-28T11:30:42.733479",
     "exception": false,
     "start_time": "2022-08-28T11:30:42.702180",
     "status": "completed"
    },
    "tags": []
   },
   "outputs": [
    {
     "data": {
      "text/plain": [
       "BoundedTensorSpec(shape=(), dtype=tf.int64, name='action', minimum=array(0), maximum=array(5))"
      ]
     },
     "execution_count": 27,
     "metadata": {},
     "output_type": "execute_result"
    }
   ],
   "source": [
    "train_env.time_step_spec()\n",
    "train_env.action_spec()"
   ]
  },
  {
   "cell_type": "markdown",
   "id": "fa128223",
   "metadata": {
    "papermill": {
     "duration": 0.021391,
     "end_time": "2022-08-28T11:30:42.777305",
     "exception": false,
     "start_time": "2022-08-28T11:30:42.755914",
     "status": "completed"
    },
    "tags": []
   },
   "source": [
    "## ☑️ 4.2 Сохраним политики для цикла обучения"
   ]
  },
  {
   "cell_type": "code",
   "execution_count": 28,
   "id": "45544605",
   "metadata": {
    "execution": {
     "iopub.execute_input": "2022-08-28T11:30:42.825558Z",
     "iopub.status.busy": "2022-08-28T11:30:42.824981Z",
     "iopub.status.idle": "2022-08-28T11:30:42.832497Z",
     "shell.execute_reply": "2022-08-28T11:30:42.831404Z"
    },
    "papermill": {
     "duration": 0.036298,
     "end_time": "2022-08-28T11:30:42.836041",
     "exception": false,
     "start_time": "2022-08-28T11:30:42.799743",
     "status": "completed"
    },
    "tags": []
   },
   "outputs": [
    {
     "name": "stdout",
     "output_type": "stream",
     "text": [
      "<tf_agents.policies.greedy_policy.GreedyPolicy object at 0x7faa624ab150>\n",
      "<tf_agents.policies.epsilon_greedy_policy.EpsilonGreedyPolicy object at 0x7faa624a5d50>\n",
      "<tf_agents.policies.random_tf_policy.RandomTFPolicy object at 0x7faa6672cf90>\n"
     ]
    }
   ],
   "source": [
    "eval_policy = tf_agent.policy\n",
    "collect_policy = tf_agent.collect_policy\n",
    "\n",
    "# random - для прогрева\n",
    "random_policy = random_tf_policy.RandomTFPolicy(train_env.time_step_spec(),\n",
    "                                                    train_env.action_spec())\n",
    "print(eval_policy)\n",
    "print(collect_policy)\n",
    "print(random_policy)"
   ]
  },
  {
   "cell_type": "markdown",
   "id": "0c8da175",
   "metadata": {
    "papermill": {
     "duration": 0.024938,
     "end_time": "2022-08-28T11:30:42.887152",
     "exception": false,
     "start_time": "2022-08-28T11:30:42.862214",
     "status": "completed"
    },
    "tags": []
   },
   "source": [
    "# 5️⃣ Метрики и оценка Агента\n",
    "Чаще всего используют среднее вознаграждение."
   ]
  },
  {
   "cell_type": "code",
   "execution_count": 29,
   "id": "41c32761",
   "metadata": {
    "execution": {
     "iopub.execute_input": "2022-08-28T11:30:42.938163Z",
     "iopub.status.busy": "2022-08-28T11:30:42.937823Z",
     "iopub.status.idle": "2022-08-28T11:30:42.944346Z",
     "shell.execute_reply": "2022-08-28T11:30:42.943222Z"
    },
    "papermill": {
     "duration": 0.034261,
     "end_time": "2022-08-28T11:30:42.946638",
     "exception": false,
     "start_time": "2022-08-28T11:30:42.912377",
     "status": "completed"
    },
    "tags": []
   },
   "outputs": [],
   "source": [
    "def compute_avg_return(environment, policy, num_episodes=10):\n",
    "\n",
    "  total_return = 0.0\n",
    "  for _ in range(num_episodes):\n",
    "\n",
    "    time_step = environment.reset()\n",
    "    episode_return = 0.0\n",
    "\n",
    "    while not time_step.is_last():\n",
    "      action_step = policy.action(time_step)\n",
    "      time_step = environment.step(action_step.action)\n",
    "      episode_return += time_step.reward\n",
    "    total_return += episode_return\n",
    "\n",
    "  avg_return = total_return / num_episodes\n",
    "  return avg_return.numpy()[0]"
   ]
  },
  {
   "cell_type": "markdown",
   "id": "81bf682e",
   "metadata": {
    "papermill": {
     "duration": 0.024283,
     "end_time": "2022-08-28T11:30:42.995152",
     "exception": false,
     "start_time": "2022-08-28T11:30:42.970869",
     "status": "completed"
    },
    "tags": []
   },
   "source": [
    "# 6️⃣ Replay Buffer\n",
    "Накапливаем \"кадры\" - https://github.com/tensorflow/agents/blob/master/docs/tutorials/5_replay_buffers_tutorial.ipynb\n",
    "* Буферы собирают `trajectories of experience`.\n",
    "* Основые атрибуты:\n",
    "    * `data_spec` - A spec or a list/tuple/nest of specs describing a single item that can be stored in this buffer.\n",
    "        * при инициализации можно передать `TensorSpec` -  `agent.collect_data_spec`\n",
    "    * `capacity` ёмкость буфера.\n",
    "* `TFUniformReplayBuffer` - универсальный буфер, хранит \"кадры\" указанной длины, сборанные в батчи.\n",
    "    * `replay_buffer.add_batch(values_batched)` - добавление элементов в буфер.\n",
    "    * `get_next()` - получить следующй батч\n",
    "    * `as_dataset()` - сделать Dataset.\n",
    "    \n",
    "*Прим. Если можно накопить \"кадры\" (состояния) и не нужно много взаимодействовать со средой, то можно использовать буфер без драйвера т.е. можем сгенерировать много разных действий и их выучить, \"как-бы\" не оказывая влияния на среду через агента. Кадры генерятся по политике, и не нужно эту политику \"автоматически\" корректировать.*"
   ]
  },
  {
   "cell_type": "markdown",
   "id": "95878261",
   "metadata": {
    "papermill": {
     "duration": 0.022684,
     "end_time": "2022-08-28T11:30:43.041876",
     "exception": false,
     "start_time": "2022-08-28T11:30:43.019192",
     "status": "completed"
    },
    "tags": []
   },
   "source": [
    "## ☑️ 6.1 Создаём Буфер"
   ]
  },
  {
   "cell_type": "code",
   "execution_count": 30,
   "id": "a70a67f0",
   "metadata": {
    "execution": {
     "iopub.execute_input": "2022-08-28T11:30:43.087853Z",
     "iopub.status.busy": "2022-08-28T11:30:43.087478Z",
     "iopub.status.idle": "2022-08-28T11:30:43.091991Z",
     "shell.execute_reply": "2022-08-28T11:30:43.091030Z"
    },
    "papermill": {
     "duration": 0.029787,
     "end_time": "2022-08-28T11:30:43.094026",
     "exception": false,
     "start_time": "2022-08-28T11:30:43.064239",
     "status": "completed"
    },
    "tags": []
   },
   "outputs": [],
   "source": [
    "from tf_agents.replay_buffers import TFUniformReplayBuffer\n",
    "from tf_agents.trajectories import trajectory"
   ]
  },
  {
   "cell_type": "code",
   "execution_count": 31,
   "id": "5bb176f5",
   "metadata": {
    "execution": {
     "iopub.execute_input": "2022-08-28T11:30:43.138976Z",
     "iopub.status.busy": "2022-08-28T11:30:43.138160Z",
     "iopub.status.idle": "2022-08-28T11:30:45.641579Z",
     "shell.execute_reply": "2022-08-28T11:30:45.640492Z"
    },
    "papermill": {
     "duration": 2.528692,
     "end_time": "2022-08-28T11:30:45.644315",
     "exception": false,
     "start_time": "2022-08-28T11:30:43.115623",
     "status": "completed"
    },
    "tags": []
   },
   "outputs": [
    {
     "name": "stderr",
     "output_type": "stream",
     "text": [
      "2022-08-28 11:30:43.148908: W tensorflow/core/framework/cpu_allocator_impl.cc:80] Allocation of 3360000000 exceeds 10% of free system memory.\n"
     ]
    },
    {
     "name": "stdout",
     "output_type": "stream",
     "text": [
      "1\n",
      "tf.Tensor(25000, shape=(), dtype=int64)\n"
     ]
    }
   ],
   "source": [
    "# Размер батча 1 т.к. у нас окружение 1 (не собрано в батч окружений)\n",
    "batch_size = train_env.batch_size # 1\n",
    "\n",
    "replay_buffer = TFUniformReplayBuffer(\n",
    "    data_spec  = tf_agent.collect_data_spec,\n",
    "    batch_size = batch_size,\n",
    "    max_length = replay_buffer_max_length)\n",
    "\n",
    "print(train_env.batch_size)\n",
    "print(replay_buffer.capacity)"
   ]
  },
  {
   "cell_type": "code",
   "execution_count": 32,
   "id": "12324dd8",
   "metadata": {
    "execution": {
     "iopub.execute_input": "2022-08-28T11:30:45.693045Z",
     "iopub.status.busy": "2022-08-28T11:30:45.691364Z",
     "iopub.status.idle": "2022-08-28T11:30:45.698574Z",
     "shell.execute_reply": "2022-08-28T11:30:45.697675Z"
    },
    "papermill": {
     "duration": 0.03233,
     "end_time": "2022-08-28T11:30:45.700481",
     "exception": false,
     "start_time": "2022-08-28T11:30:45.668151",
     "status": "completed"
    },
    "tags": []
   },
   "outputs": [],
   "source": [
    "# Набор данных в буфер, происходит по одному \"кадру\"\n",
    "def collect_step(environment, policy, buffer):\n",
    "  # получаем состояние среды\n",
    "  time_step = environment.current_time_step()\n",
    "  # применяем политику - получаем PolicyStep\n",
    "  action_step = policy.action(time_step)\n",
    "  # применяем полученный шаг к окружаюшей среде\n",
    "  next_time_step = environment.step(action_step.action)\n",
    "  # собирается объект - отдельные транзакции собираются в траекторию, нужна для драйвера, эффективное хранение\n",
    "  traj = trajectory.from_transition(time_step, action_step, next_time_step)\n",
    "  # Записываем цепочку в буфер\n",
    "  buffer.add_batch(traj)\n",
    "\n",
    "    \n",
    "# Набор данных для обучения, добавляет N кадров в буфер\n",
    "def collect_data(env, policy, buffer, steps):\n",
    "  for _ in range(steps):\n",
    "    collect_step(env, policy, buffer)"
   ]
  },
  {
   "cell_type": "code",
   "execution_count": 33,
   "id": "788dc363",
   "metadata": {
    "execution": {
     "iopub.execute_input": "2022-08-28T11:30:45.744829Z",
     "iopub.status.busy": "2022-08-28T11:30:45.744509Z",
     "iopub.status.idle": "2022-08-28T11:30:45.749191Z",
     "shell.execute_reply": "2022-08-28T11:30:45.748161Z"
    },
    "papermill": {
     "duration": 0.029347,
     "end_time": "2022-08-28T11:30:45.751266",
     "exception": false,
     "start_time": "2022-08-28T11:30:45.721919",
     "status": "completed"
    },
    "tags": []
   },
   "outputs": [],
   "source": [
    "if 0:\n",
    "    # Инициализация буфера, политика рандомная\n",
    "    collect_data(train_env, random_policy, replay_buffer, initial_collect_steps)"
   ]
  },
  {
   "cell_type": "markdown",
   "id": "9ed34a37",
   "metadata": {
    "papermill": {
     "duration": 0.021607,
     "end_time": "2022-08-28T11:30:45.794681",
     "exception": false,
     "start_time": "2022-08-28T11:30:45.773074",
     "status": "completed"
    },
    "tags": []
   },
   "source": [
    "## ☑️ 6.2 Пример работы с Буфером"
   ]
  },
  {
   "cell_type": "code",
   "execution_count": 34,
   "id": "8b785153",
   "metadata": {
    "execution": {
     "iopub.execute_input": "2022-08-28T11:30:45.839946Z",
     "iopub.status.busy": "2022-08-28T11:30:45.839559Z",
     "iopub.status.idle": "2022-08-28T11:30:45.845619Z",
     "shell.execute_reply": "2022-08-28T11:30:45.844701Z"
    },
    "papermill": {
     "duration": 0.03095,
     "end_time": "2022-08-28T11:30:45.847568",
     "exception": false,
     "start_time": "2022-08-28T11:30:45.816618",
     "status": "completed"
    },
    "tags": []
   },
   "outputs": [],
   "source": [
    "if 0:\n",
    "    # Наполнение буфера - политика Рандом\n",
    "    collect_data(train_env, random_policy, replay_buffer, initial_collect_steps=1000)\n",
    "    \n",
    "\n",
    "    # sample_batch_size - размер батча\n",
    "    # num_parallel_calls - разпараллерирование\n",
    "    # num_steps - возвращает \"подэпизоды\", последовательные кадры\n",
    "    dataset = replay_buffer.as_dataset(\n",
    "        num_parallel_calls = 3,\n",
    "        sample_batch_size  = 1,\n",
    "        num_steps          = tf_agent.train_sequence_length)\n",
    "\n",
    "    dataset = dataset.prefetch(prefetch_size)\n",
    "    # Создаём итератор для цикла обучения\n",
    "    iterator = iter(dataset)"
   ]
  },
  {
   "cell_type": "code",
   "execution_count": 35,
   "id": "5ae1f977",
   "metadata": {
    "execution": {
     "iopub.execute_input": "2022-08-28T11:30:45.892179Z",
     "iopub.status.busy": "2022-08-28T11:30:45.891739Z",
     "iopub.status.idle": "2022-08-28T11:30:45.896559Z",
     "shell.execute_reply": "2022-08-28T11:30:45.895665Z"
    },
    "papermill": {
     "duration": 0.029495,
     "end_time": "2022-08-28T11:30:45.898534",
     "exception": false,
     "start_time": "2022-08-28T11:30:45.869039",
     "status": "completed"
    },
    "tags": []
   },
   "outputs": [],
   "source": [
    "# Пример работы итератера\n",
    "if 0:\n",
    "    s = next(iterator)\n",
    "    print('Действия', s[0].action[0])\n",
    "    print('Награды', s[0].reward[0])\n",
    "    plt.imshow(s[0].observation[0][25])"
   ]
  },
  {
   "cell_type": "markdown",
   "id": "bc49fcd8",
   "metadata": {
    "papermill": {
     "duration": 0.021487,
     "end_time": "2022-08-28T11:30:45.941907",
     "exception": false,
     "start_time": "2022-08-28T11:30:45.920420",
     "status": "completed"
    },
    "tags": []
   },
   "source": [
    "# 7️⃣ Драйвер - цикл для агента (взаимодействие с средой и наполнение Буфера)\n",
    "\n",
    "Обеспечивает цикл - выполнения политики в среде т.е. выполняет в среде действие, а полученный результат передаётся в буфер и метрики. \n",
    "* В буфер пападают Траектории - `Trajectory` которые включают:\n",
    " * the action recommended by the policy,\n",
    " * the reward obtained,\n",
    " * the type of the current and the next step.\n",
    "\n",
    "Драйвер будет выполнять действия, пока не достигнит установленного лимита:\n",
    "* количество шагов.\n",
    "* количество сыгранных игр.\n",
    "\n",
    "Драйвер выполняет действия в окружении, каждый раз когда он запускается игра продолжается на том же моменте что и была. Драйвер возвращает последнее состояние среды (после пройденных шагов).\n",
    "\n",
    "Каждый шаг записывается в буффер.\n",
    "\n",
    "Выполняет N шагов: Задаётся:\n",
    "* `env` - окружение\n",
    "* `policy` - политика\n",
    "* `observers` - наблюдения, которые можно получать от среды в т.ч. из буфера.\n",
    "* `max_steps` - максимальное количество шагов.\n",
    "* `max_episodes` - максимальное количество эпизодов.\n",
    "\n",
    "*Прим. Если нужно много взаимодействовать со средой, то можно использовать драйвер, и не накапливать буфер.*"
   ]
  },
  {
   "cell_type": "code",
   "execution_count": 36,
   "id": "1f5f7c8c",
   "metadata": {
    "execution": {
     "iopub.execute_input": "2022-08-28T11:30:45.987348Z",
     "iopub.status.busy": "2022-08-28T11:30:45.986320Z",
     "iopub.status.idle": "2022-08-28T11:30:45.991538Z",
     "shell.execute_reply": "2022-08-28T11:30:45.990630Z"
    },
    "papermill": {
     "duration": 0.03022,
     "end_time": "2022-08-28T11:30:45.993582",
     "exception": false,
     "start_time": "2022-08-28T11:30:45.963362",
     "status": "completed"
    },
    "tags": []
   },
   "outputs": [],
   "source": [
    "from tf_agents.drivers import dynamic_step_driver\n",
    "from tf_agents.metrics import tf_metrics"
   ]
  },
  {
   "cell_type": "code",
   "execution_count": 37,
   "id": "032cd160",
   "metadata": {
    "execution": {
     "iopub.execute_input": "2022-08-28T11:30:46.039410Z",
     "iopub.status.busy": "2022-08-28T11:30:46.039107Z",
     "iopub.status.idle": "2022-08-28T11:30:46.049021Z",
     "shell.execute_reply": "2022-08-28T11:30:46.048143Z"
    },
    "papermill": {
     "duration": 0.035314,
     "end_time": "2022-08-28T11:30:46.051028",
     "exception": false,
     "start_time": "2022-08-28T11:30:46.015714",
     "status": "completed"
    },
    "tags": []
   },
   "outputs": [],
   "source": [
    "# метрики\n",
    "train_metrics = [\n",
    "            tf_metrics.EnvironmentSteps(),\n",
    "            tf_metrics.AverageReturnMetric(),\n",
    "]\n",
    "\n",
    "# Выбираем буфер\n",
    "replay_observer = [replay_buffer.add_batch]\n",
    "\n",
    "driver = dynamic_step_driver.DynamicStepDriver(\n",
    "            env       = train_env,\n",
    "            policy    = collect_policy,                 # Политика для набора данных\n",
    "            observers = replay_observer + train_metrics,\n",
    "            num_steps = num_steps_agent_do_in_env\n",
    ")\n",
    "\n",
    "\n",
    "\n",
    "\n",
    "if 0:\n",
    "    # Запуск драйвера\n",
    "    final_time_step, policy_state = driver.run()\n",
    "    print('final_time_step', final_time_step)\n",
    "    print('Количество кадров в буфере', replay_buffer.num_frames)\n",
    "    # replay_buffer.clear()\n",
    "    plt.imshow(np.squeeze(final_time_step[3]))"
   ]
  },
  {
   "cell_type": "markdown",
   "id": "e39db99d",
   "metadata": {
    "papermill": {
     "duration": 0.021665,
     "end_time": "2022-08-28T11:30:46.096021",
     "exception": false,
     "start_time": "2022-08-28T11:30:46.074356",
     "status": "completed"
    },
    "tags": []
   },
   "source": [
    "# ☑️ Продолжение обучения с точки остановки\n",
    "1. Нужно создать всё что выше, в т.ч. политику\n",
    "2. Создать `checkpointer` указав папку.\n",
    "3. Восстановиться `train_checkpointer.initialize_or_restore()`"
   ]
  },
  {
   "cell_type": "code",
   "execution_count": 38,
   "id": "127e504f",
   "metadata": {
    "execution": {
     "iopub.execute_input": "2022-08-28T11:30:46.140960Z",
     "iopub.status.busy": "2022-08-28T11:30:46.140657Z",
     "iopub.status.idle": "2022-08-28T11:30:47.234203Z",
     "shell.execute_reply": "2022-08-28T11:30:47.233010Z"
    },
    "papermill": {
     "duration": 1.118492,
     "end_time": "2022-08-28T11:30:47.236709",
     "exception": false,
     "start_time": "2022-08-28T11:30:46.118217",
     "status": "completed"
    },
    "tags": []
   },
   "outputs": [
    {
     "name": "stdout",
     "output_type": "stream",
     "text": [
      "total 9.5M\r\n",
      "drwxr-xr-x 2 nobody nogroup    0 Aug 28 11:28 .\r\n",
      "drwxr-xr-x 3 nobody nogroup    0 Aug 28 11:28 ..\r\n",
      "-rw-r--r-- 1 nobody nogroup  176 Aug 28 11:28 checkpoint\r\n",
      "-rw-r--r-- 1 nobody nogroup 9.6M Aug 28 11:28 ckpt-555909.data-00000-of-00001\r\n",
      "-rw-r--r-- 1 nobody nogroup 4.0K Aug 28 11:28 ckpt-555909.index\r\n"
     ]
    }
   ],
   "source": [
    "!ls -all -lh ../input/rf-model/checkpoint"
   ]
  },
  {
   "cell_type": "code",
   "execution_count": 39,
   "id": "2bddd8cb",
   "metadata": {
    "execution": {
     "iopub.execute_input": "2022-08-28T11:30:47.282041Z",
     "iopub.status.busy": "2022-08-28T11:30:47.281691Z",
     "iopub.status.idle": "2022-08-28T11:30:47.543504Z",
     "shell.execute_reply": "2022-08-28T11:30:47.541558Z"
    },
    "papermill": {
     "duration": 0.287848,
     "end_time": "2022-08-28T11:30:47.546463",
     "exception": false,
     "start_time": "2022-08-28T11:30:47.258615",
     "status": "completed"
    },
    "tags": []
   },
   "outputs": [
    {
     "name": "stdout",
     "output_type": "stream",
     "text": [
      "⚠️<tf.Variable 'Variable:0' shape=() dtype=int32, numpy=555909>⚠️\n"
     ]
    }
   ],
   "source": [
    "if 1:\n",
    "    from tf_agents.utils import common\n",
    "    \n",
    "    train_checkpointer = common.Checkpointer(\n",
    "    ckpt_dir    = '../input/rf-model/checkpoint',\n",
    "    agent       = tf_agent,\n",
    "    policy      = tf_agent.policy,)\n",
    "    \n",
    "    \n",
    "    train_checkpointer.initialize_or_restore()\n",
    "    print(f'⚠️{global_step}⚠️')"
   ]
  },
  {
   "cell_type": "markdown",
   "id": "921bcdc5",
   "metadata": {
    "papermill": {
     "duration": 0.024132,
     "end_time": "2022-08-28T11:30:47.593564",
     "exception": false,
     "start_time": "2022-08-28T11:30:47.569432",
     "status": "completed"
    },
    "tags": []
   },
   "source": [
    "# 8️⃣ Обучение Агента"
   ]
  },
  {
   "cell_type": "code",
   "execution_count": 40,
   "id": "89ba8dfb",
   "metadata": {
    "execution": {
     "iopub.execute_input": "2022-08-28T11:30:47.639210Z",
     "iopub.status.busy": "2022-08-28T11:30:47.638852Z",
     "iopub.status.idle": "2022-08-28T11:30:47.646441Z",
     "shell.execute_reply": "2022-08-28T11:30:47.645394Z"
    },
    "papermill": {
     "duration": 0.032831,
     "end_time": "2022-08-28T11:30:47.648267",
     "exception": false,
     "start_time": "2022-08-28T11:30:47.615436",
     "status": "completed"
    },
    "tags": []
   },
   "outputs": [],
   "source": [
    "from datetime import datetime, timedelta\n",
    "\n",
    "def logs_interval(step, log_interval=100, eval_interval=1000, num_eval_episodes=3):\n",
    "    \"\"\"step - текущий шаг обучения;\n",
    "    log_interval - выводить лог каждый N шаг;\n",
    "    eval_interval - делать оценку агента (прогон по другому окружению) каждый N шаг;\n",
    "    num_eval_episodes - сколько игр сыграть (до счёта 21)\n",
    "    \"\"\"\n",
    "    if step % log_interval == 0:\n",
    "        cur_time = (datetime.now()+timedelta(hours=3)).strftime('%H:%M:%S')\n",
    "        print('step = {0}: loss = {1}, time = {2}'.format(step, train_loss.loss, cur_time))\n",
    "\n",
    "    if step % eval_interval == 0:\n",
    "        avg_return = compute_avg_return(eval_env, tf_agent.policy, num_eval_episodes)\n",
    "        cur_time = (datetime.now()+timedelta(hours=3)).strftime('%H:%M:%S')\n",
    "        print('step = {0}: Average Return = {1}. time = {2}'.format(step, avg_return, cur_time))"
   ]
  },
  {
   "cell_type": "markdown",
   "id": "b5695b98",
   "metadata": {
    "papermill": {
     "duration": 0.0226,
     "end_time": "2022-08-28T11:30:47.692426",
     "exception": false,
     "start_time": "2022-08-28T11:30:47.669826",
     "status": "completed"
    },
    "tags": []
   },
   "source": [
    "## ☑️ \"Прогрев\" Агента\n",
    "\n",
    "Обучение Агента на рандомной политике"
   ]
  },
  {
   "cell_type": "code",
   "execution_count": 41,
   "id": "e42af35d",
   "metadata": {
    "execution": {
     "iopub.execute_input": "2022-08-28T11:30:47.737829Z",
     "iopub.status.busy": "2022-08-28T11:30:47.736869Z",
     "iopub.status.idle": "2022-08-28T11:30:47.742893Z",
     "shell.execute_reply": "2022-08-28T11:30:47.742040Z"
    },
    "papermill": {
     "duration": 0.03103,
     "end_time": "2022-08-28T11:30:47.744910",
     "exception": false,
     "start_time": "2022-08-28T11:30:47.713880",
     "status": "completed"
    },
    "tags": []
   },
   "outputs": [],
   "source": [
    "if 0:\n",
    "    # Загружам в буфер данные 10k (initial_collect_steps) рандомная политика.\n",
    "    collect_data(train_env, random_policy, replay_buffer, initial_collect_steps)\n",
    "    # Из буфера создаётся набор для обучения,\n",
    "    # Итератор будет отдавать указанное количество кадров (tf_agent.train_sequence_length) - сет\n",
    "    # Сеты собраны в Батчи\n",
    "    dataset = replay_buffer.as_dataset(\n",
    "        num_parallel_calls = 3,\n",
    "        sample_batch_size  = batch_size_dataset,\n",
    "        num_steps          = tf_agent.train_sequence_length)\n",
    "    dataset = dataset.prefetch(prefetch_size)\n",
    "    iterator = iter(dataset)"
   ]
  },
  {
   "cell_type": "code",
   "execution_count": 42,
   "id": "84b26802",
   "metadata": {
    "execution": {
     "iopub.execute_input": "2022-08-28T11:30:47.790433Z",
     "iopub.status.busy": "2022-08-28T11:30:47.790156Z",
     "iopub.status.idle": "2022-08-28T11:30:47.800218Z",
     "shell.execute_reply": "2022-08-28T11:30:47.798875Z"
    },
    "papermill": {
     "duration": 0.035783,
     "end_time": "2022-08-28T11:30:47.802213",
     "exception": false,
     "start_time": "2022-08-28T11:30:47.766430",
     "status": "completed"
    },
    "tags": []
   },
   "outputs": [
    {
     "name": "stdout",
     "output_type": "stream",
     "text": [
      "В буфере записано:  tf.Tensor(0, shape=(), dtype=int64)\n"
     ]
    }
   ],
   "source": [
    "print('В буфере записано: ', replay_buffer.num_frames())\n",
    "\n",
    "if 0:\n",
    "    print(replay_buffer.clear())\n",
    "    print('В буфере записано: ', replay_buffer.num_frames())"
   ]
  },
  {
   "cell_type": "code",
   "execution_count": 43,
   "id": "60867d32",
   "metadata": {
    "execution": {
     "iopub.execute_input": "2022-08-28T11:30:47.847898Z",
     "iopub.status.busy": "2022-08-28T11:30:47.847610Z",
     "iopub.status.idle": "2022-08-28T11:30:47.853430Z",
     "shell.execute_reply": "2022-08-28T11:30:47.852463Z"
    },
    "papermill": {
     "duration": 0.031075,
     "end_time": "2022-08-28T11:30:47.855776",
     "exception": false,
     "start_time": "2022-08-28T11:30:47.824701",
     "status": "completed"
    },
    "tags": []
   },
   "outputs": [
    {
     "name": "stdout",
     "output_type": "stream",
     "text": [
      "Время на обучение по Рандомной политике мин.: GPU - 83.33333333333333, CPU - 250.0\n"
     ]
    }
   ],
   "source": [
    "buffer_game_size = 50_000\n",
    "\n",
    "# Приблизительное время на обучение для обработки 100 эпизодов\n",
    "gpu_sec_to_100op = 10 / 100\n",
    "cpu_sec_to_100op = 30 / 100\n",
    "\n",
    "\n",
    "minute_gpu = (buffer_game_size * gpu_sec_to_100op) / 60 # GPU\n",
    "minute_cpu = (buffer_game_size * cpu_sec_to_100op) / 60 # CPU\n",
    "\n",
    "print(f'Время на обучение по Рандомной политике мин.: GPU - {minute_gpu}, CPU - {minute_cpu}')"
   ]
  },
  {
   "cell_type": "code",
   "execution_count": 44,
   "id": "a0fb8353",
   "metadata": {
    "execution": {
     "iopub.execute_input": "2022-08-28T11:30:47.900451Z",
     "iopub.status.busy": "2022-08-28T11:30:47.899649Z",
     "iopub.status.idle": "2022-08-28T11:30:47.905406Z",
     "shell.execute_reply": "2022-08-28T11:30:47.904543Z"
    },
    "papermill": {
     "duration": 0.030467,
     "end_time": "2022-08-28T11:30:47.907581",
     "exception": false,
     "start_time": "2022-08-28T11:30:47.877114",
     "status": "completed"
    },
    "tags": []
   },
   "outputs": [],
   "source": [
    "if 0:\n",
    "    for _ in range(buffer_game_size):\n",
    "        # Получаем набор кадров из итератера и передаём в агента\n",
    "          # (Батч, Набор кадров до гола(10); Высота картинки; Ширина картинки; Объединённые 4 кадра)\n",
    "        trajectories, _ = next(iterator)\n",
    "        train_loss = tf_agent.train(experience=trajectories)\n",
    "        # Инкремент, обновляет номер шага\n",
    "        global_step = tf_agent.train_step_counter.numpy()\n",
    "        \n",
    "        logs_interval(global_step, 100, 1000)"
   ]
  },
  {
   "cell_type": "markdown",
   "id": "811acfa2",
   "metadata": {
    "papermill": {
     "duration": 0.021643,
     "end_time": "2022-08-28T11:30:47.951278",
     "exception": false,
     "start_time": "2022-08-28T11:30:47.929635",
     "status": "completed"
    },
    "tags": []
   },
   "source": [
    "*Промежуточный результат обучения сохраним (ниже есть код для сохранения)*  \n",
    "*Счётчик цикла обучения сбросим на ноль, чтобы корректно считалась Epsilon.*\n",
    "\n",
    "## ☑️ Обучение агента - политика \"Epsilon\"\n",
    "\n",
    "После \"прогрева\" агента (он должен был изучить среду), начинаем учить на epsilon-gready политике и постепенно снижаем случайность выбора действия"
   ]
  },
  {
   "cell_type": "code",
   "execution_count": 45,
   "id": "fb1037ed",
   "metadata": {
    "execution": {
     "iopub.execute_input": "2022-08-28T11:30:47.997502Z",
     "iopub.status.busy": "2022-08-28T11:30:47.997152Z",
     "iopub.status.idle": "2022-08-28T11:30:48.003422Z",
     "shell.execute_reply": "2022-08-28T11:30:48.002422Z"
    },
    "papermill": {
     "duration": 0.032698,
     "end_time": "2022-08-28T11:30:48.006254",
     "exception": false,
     "start_time": "2022-08-28T11:30:47.973556",
     "status": "completed"
    },
    "tags": []
   },
   "outputs": [
    {
     "name": "stdout",
     "output_type": "stream",
     "text": [
      "Время на обучение по Драйверу политике мин.: GPU - 8.333333333333334; 0.1388888888888889 - час.\n",
      "Время на обучение по Драйверу политике мин.: CPU - 100.0; 1.6666666666666667 - час.\n"
     ]
    }
   ],
   "source": [
    "agent_game_size = 1000  # обучится на N наборов\n",
    "reRun           = 5     # добавить новых наборов N*шаги_в_драйвере\n",
    "\n",
    "gpu_sec_to_100op = 10 / 100\n",
    "cpu_sec_to_100op = 120 / 100\n",
    "\n",
    "minute_gpu = (agent_game_size * reRun * gpu_sec_to_100op ) / 60\n",
    "minute_cpu = (agent_game_size * reRun * cpu_sec_to_100op) / 60\n",
    "\n",
    "print(f'Время на обучение по Драйверу политике мин.: GPU - {minute_gpu}; {minute_gpu / 60} - час.')\n",
    "print(f'Время на обучение по Драйверу политике мин.: CPU - {minute_cpu}; {minute_cpu / 60} - час.')"
   ]
  },
  {
   "cell_type": "code",
   "execution_count": 46,
   "id": "1303137d",
   "metadata": {
    "execution": {
     "iopub.execute_input": "2022-08-28T11:30:48.054329Z",
     "iopub.status.busy": "2022-08-28T11:30:48.053525Z",
     "iopub.status.idle": "2022-08-28T11:30:48.060725Z",
     "shell.execute_reply": "2022-08-28T11:30:48.059659Z"
    },
    "papermill": {
     "duration": 0.032783,
     "end_time": "2022-08-28T11:30:48.063200",
     "exception": false,
     "start_time": "2022-08-28T11:30:48.030417",
     "status": "completed"
    },
    "tags": []
   },
   "outputs": [
    {
     "name": "stdout",
     "output_type": "stream",
     "text": [
      "В буфере записано:  tf.Tensor(0, shape=(), dtype=int64)\n",
      "Драйвер будет добавлять при запуске:  2000\n"
     ]
    }
   ],
   "source": [
    "print('В буфере записано: ', replay_buffer.num_frames())\n",
    "print('Драйвер будет добавлять при запуске: ', driver._num_steps)"
   ]
  },
  {
   "cell_type": "code",
   "execution_count": 47,
   "id": "44a4bb07",
   "metadata": {
    "execution": {
     "iopub.execute_input": "2022-08-28T11:30:48.109152Z",
     "iopub.status.busy": "2022-08-28T11:30:48.108866Z",
     "iopub.status.idle": "2022-08-28T11:30:48.114897Z",
     "shell.execute_reply": "2022-08-28T11:30:48.113677Z"
    },
    "papermill": {
     "duration": 0.031232,
     "end_time": "2022-08-28T11:30:48.117421",
     "exception": false,
     "start_time": "2022-08-28T11:30:48.086189",
     "status": "completed"
    },
    "tags": []
   },
   "outputs": [
    {
     "name": "stdout",
     "output_type": "stream",
     "text": [
      "Текущий шаг обучения: 555909\n"
     ]
    }
   ],
   "source": [
    "print('Текущий шаг обучения:', tf_agent.train_step_counter.numpy())"
   ]
  },
  {
   "cell_type": "code",
   "execution_count": 48,
   "id": "cf18ec44",
   "metadata": {
    "execution": {
     "iopub.execute_input": "2022-08-28T11:30:48.163349Z",
     "iopub.status.busy": "2022-08-28T11:30:48.162583Z",
     "iopub.status.idle": "2022-08-28T11:30:49.106661Z",
     "shell.execute_reply": "2022-08-28T11:30:49.105660Z"
    },
    "papermill": {
     "duration": 0.969747,
     "end_time": "2022-08-28T11:30:49.109562",
     "exception": false,
     "start_time": "2022-08-28T11:30:48.139815",
     "status": "completed"
    },
    "tags": []
   },
   "outputs": [
    {
     "name": "stderr",
     "output_type": "stream",
     "text": [
      "2022-08-28 11:30:49.023611: I tensorflow/compiler/mlir/mlir_graph_optimization_pass.cc:185] None of the MLIR Optimization Passes are enabled (registered 2)\n"
     ]
    }
   ],
   "source": [
    "# ⚠️Запустить, если возобновляешь обучение\n",
    "if 1:\n",
    "    dataset = replay_buffer.as_dataset(\n",
    "    num_parallel_calls = 3,\n",
    "    sample_batch_size  = batch_size_dataset,\n",
    "    num_steps          = tf_agent.train_sequence_length)\n",
    "    dataset = dataset.prefetch(prefetch_size)\n",
    "    iterator = iter(dataset)"
   ]
  },
  {
   "cell_type": "code",
   "execution_count": 49,
   "id": "1c5a526f",
   "metadata": {
    "execution": {
     "iopub.execute_input": "2022-08-28T11:30:49.158257Z",
     "iopub.status.busy": "2022-08-28T11:30:49.157391Z",
     "iopub.status.idle": "2022-08-28T11:57:06.817653Z",
     "shell.execute_reply": "2022-08-28T11:57:06.816664Z"
    },
    "papermill": {
     "duration": 1577.707127,
     "end_time": "2022-08-28T11:57:06.841401",
     "exception": false,
     "start_time": "2022-08-28T11:30:49.134274",
     "status": "completed"
    },
    "tags": []
   },
   "outputs": [
    {
     "name": "stdout",
     "output_type": "stream",
     "text": [
      "Начался цикл обучения 1 из 5 (шаги 1000): 14:32:46\n",
      "step = 556000: loss = 0.44795286655426025, time = 14:33:10\n",
      "Запуск драйвера: 14:36:56\n",
      "Остановка драйвера: 14:37:33\n",
      "Начался цикл обучения 2 из 5 (шаги 1000): 14:37:33\n",
      "step = 557000: loss = 0.3535398840904236, time = 14:37:56\n",
      "Запуск драйвера: 14:41:41\n",
      "Остановка драйвера: 14:42:19\n",
      "Начался цикл обучения 3 из 5 (шаги 1000): 14:42:19\n",
      "step = 558000: loss = 0.420687735080719, time = 14:42:42\n",
      "Запуск драйвера: 14:46:27\n",
      "Остановка драйвера: 14:47:04\n",
      "Начался цикл обучения 4 из 5 (шаги 1000): 14:47:04\n",
      "step = 559000: loss = 0.3732653260231018, time = 14:47:27\n",
      "Запуск драйвера: 14:51:12\n",
      "Остановка драйвера: 14:51:50\n",
      "Начался цикл обучения 5 из 5 (шаги 1000): 14:51:50\n",
      "step = 560000: loss = 0.25804513692855835, time = 14:52:12\n",
      "step = 560000: Average Return = -9.0. time = 14:52:45\n",
      "Запуск драйвера: 14:56:29\n",
      "Остановка драйвера: 14:57:06\n",
      "⚠️Цикл обучения завершён⚠️\n"
     ]
    }
   ],
   "source": [
    "# для логов\n",
    "cur_time_fn = lambda: str((datetime.now()+timedelta(hours=3)).strftime('%H:%M:%S'))\n",
    "\n",
    "\n",
    "if 1:\n",
    "    # Запуск драйвера, он выполняет действия по политике и наполняет буфер\n",
    "    final_time_step, policy_state = driver.run()\n",
    "    final_time_step, _ = driver.run(final_time_step, policy_state)\n",
    "    final_time_step, _ = driver.run(final_time_step, policy_state)\n",
    "    \n",
    "    for i in range(reRun):\n",
    "        print(f'Начался цикл обучения {i+1} из {reRun} (шаги {agent_game_size}): {cur_time_fn()}')\n",
    "        for _ in range(agent_game_size):\n",
    "            # Обучение агента по накопленному в буфере данным\n",
    "            trajectories, _ = next(iterator)\n",
    "            train_loss = tf_agent.train(experience=trajectories)\n",
    "            global_step = tf_agent.train_step_counter.numpy()\n",
    "\n",
    "            logs_interval(global_step, 1000, 5000)\n",
    "    \n",
    "        # Запускается драйвер с последнего состояния для добавления новых действий\n",
    "        print(f'Запуск драйвера: {cur_time_fn()}')  \n",
    "        final_time_step, _ = driver.run(final_time_step, policy_state)  \n",
    "        print(f'Остановка драйвера: {cur_time_fn()}')\n",
    "    \n",
    "    print('⚠️Цикл обучения завершён⚠️')"
   ]
  },
  {
   "cell_type": "markdown",
   "id": "1e51a502",
   "metadata": {
    "papermill": {
     "duration": 0.023348,
     "end_time": "2022-08-28T11:57:06.888296",
     "exception": false,
     "start_time": "2022-08-28T11:57:06.864948",
     "status": "completed"
    },
    "tags": []
   },
   "source": [
    "# 9️⃣ Визуализация обученного агента"
   ]
  },
  {
   "cell_type": "code",
   "execution_count": 50,
   "id": "ab24c3d5",
   "metadata": {
    "execution": {
     "iopub.execute_input": "2022-08-28T11:57:06.936366Z",
     "iopub.status.busy": "2022-08-28T11:57:06.936055Z",
     "iopub.status.idle": "2022-08-28T11:57:30.855904Z",
     "shell.execute_reply": "2022-08-28T11:57:30.854691Z"
    },
    "papermill": {
     "duration": 23.947001,
     "end_time": "2022-08-28T11:57:30.858350",
     "exception": false,
     "start_time": "2022-08-28T11:57:06.911349",
     "status": "completed"
    },
    "tags": []
   },
   "outputs": [
    {
     "name": "stderr",
     "output_type": "stream",
     "text": [
      "/opt/conda/lib/python3.7/site-packages/gym/core.py:52: DeprecationWarning: \u001b[33mWARN: The argument mode in render method is deprecated; use render_mode during environment initialization instead.\n",
      "See here for more information: https://www.gymlibrary.ml/content/api/\u001b[0m\n",
      "  \"The argument mode in render method is deprecated; \"\n",
      "/opt/conda/lib/python3.7/site-packages/gym/utils/passive_env_checker.py:298: UserWarning: \u001b[33mWARN: No render fps was declared in the environment (env.metadata['render_fps'] is None or not defined), rendering may occur at inconsistent fps.\u001b[0m\n",
      "  \"No render fps was declared in the environment (env.metadata['render_fps'] is None or not defined), rendering may occur at inconsistent fps.\"\n",
      "/opt/conda/lib/python3.7/site-packages/imageio/plugins/ffmpeg.py:727: DeprecationWarning: tostring() is deprecated. Use tobytes() instead.\n",
      "  self._proc.stdin.write(im.tostring())\n",
      "/opt/conda/lib/python3.7/site-packages/gym/core.py:52: DeprecationWarning: \u001b[33mWARN: The argument mode in render method is deprecated; use render_mode during environment initialization instead.\n",
      "See here for more information: https://www.gymlibrary.ml/content/api/\u001b[0m\n",
      "  \"The argument mode in render method is deprecated; \"\n"
     ]
    },
    {
     "data": {
      "text/html": [
       "\n",
       "  <video width=\"640\" height=\"480\" controls>\n",
       "    <source src=\"data:video/mp4;base64,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\" type=\"video/mp4\">\n",
       "  Your browser does not support the video tag.\n",
       "  </video>"
      ],
      "text/plain": [
       "<IPython.core.display.HTML object>"
      ]
     },
     "execution_count": 50,
     "metadata": {},
     "output_type": "execute_result"
    }
   ],
   "source": [
    "import imageio\n",
    "import base64\n",
    "import IPython\n",
    "\n",
    "\n",
    "def embed_mp4(filename):\n",
    "  \"\"\"Embeds an mp4 file in the notebook.\"\"\"\n",
    "  video = open(filename,'rb').read()\n",
    "  b64 = base64.b64encode(video)\n",
    "  tag = '''\n",
    "  <video width=\"640\" height=\"480\" controls>\n",
    "    <source src=\"data:video/mp4;base64,{0}\" type=\"video/mp4\">\n",
    "  Your browser does not support the video tag.\n",
    "  </video>'''.format(b64.decode())\n",
    "\n",
    "  return IPython.display.HTML(tag)\n",
    "\n",
    "\n",
    "\n",
    "def create_policy_eval_video(policy, filename, num_episodes=2, fps=25):\n",
    "  filename = filename + \".mp4\"\n",
    "  with imageio.get_writer(filename, fps=fps) as video:\n",
    "    for _ in range(num_episodes):\n",
    "      time_step = eval_env.reset()\n",
    "      video.append_data(np.squeeze(eval_env.render()))\n",
    "      while not time_step.is_last():\n",
    "        action_step = policy.action(time_step)\n",
    "        time_step = eval_env.step(action_step.action)\n",
    "        video.append_data(np.squeeze(eval_env.render()))\n",
    "  return embed_mp4(filename)\n",
    "\n",
    "\n",
    "create_policy_eval_video(tf_agent.policy, \"trained-agent\")"
   ]
  },
  {
   "cell_type": "markdown",
   "id": "6d467411",
   "metadata": {
    "papermill": {
     "duration": 0.027719,
     "end_time": "2022-08-28T11:57:30.914290",
     "exception": false,
     "start_time": "2022-08-28T11:57:30.886571",
     "status": "completed"
    },
    "tags": []
   },
   "source": [
    "# 🔟 Чекпоинты (сохранение)"
   ]
  },
  {
   "cell_type": "code",
   "execution_count": 51,
   "id": "b699bbfa",
   "metadata": {
    "execution": {
     "iopub.execute_input": "2022-08-28T11:57:30.970110Z",
     "iopub.status.busy": "2022-08-28T11:57:30.969776Z",
     "iopub.status.idle": "2022-08-28T11:57:33.229571Z",
     "shell.execute_reply": "2022-08-28T11:57:33.228393Z"
    },
    "papermill": {
     "duration": 2.290488,
     "end_time": "2022-08-28T11:57:33.231960",
     "exception": false,
     "start_time": "2022-08-28T11:57:30.941472",
     "status": "completed"
    },
    "tags": []
   },
   "outputs": [
    {
     "name": "stdout",
     "output_type": "stream",
     "text": [
      "rm: cannot remove './checkpoint': No such file or directory\r\n",
      "total 504K\r\n",
      "drwxr-xr-x 2 root root 4.0K Aug 28 11:57 .\r\n",
      "drwxr-xr-x 6 root root 4.0K Aug 28 11:28 ..\r\n",
      "---------- 1 root root 345K Aug 28 11:57 __notebook__.ipynb\r\n",
      "-rw-r--r-- 1 root root 146K Aug 28 11:57 trained-agent.mp4\r\n"
     ]
    }
   ],
   "source": [
    "!rm -r ./checkpoint\n",
    "!ls -all -lh ./"
   ]
  },
  {
   "cell_type": "code",
   "execution_count": 52,
   "id": "382f2ec5",
   "metadata": {
    "execution": {
     "iopub.execute_input": "2022-08-28T11:57:33.289187Z",
     "iopub.status.busy": "2022-08-28T11:57:33.288846Z",
     "iopub.status.idle": "2022-08-28T11:57:33.861735Z",
     "shell.execute_reply": "2022-08-28T11:57:33.860797Z"
    },
    "papermill": {
     "duration": 0.603939,
     "end_time": "2022-08-28T11:57:33.864035",
     "exception": false,
     "start_time": "2022-08-28T11:57:33.260096",
     "status": "completed"
    },
    "tags": []
   },
   "outputs": [
    {
     "data": {
      "text/plain": [
       "'checkpoint.zip'"
      ]
     },
     "execution_count": 52,
     "metadata": {},
     "output_type": "execute_result"
    }
   ],
   "source": [
    "from tf_agents.utils import common\n",
    "import os\n",
    "\n",
    "# https://stackoverflow.com/questions/65448313/cant-load-saved-policy-tf-agents\n",
    "train_checkpointer = common.Checkpointer(\n",
    "    ckpt_dir    = './checkpoint',\n",
    "    agent       = tf_agent,\n",
    "    policy      = tf_agent.policy,\n",
    ")\n",
    "\n",
    "train_checkpointer.save(global_step)\n",
    "\n",
    "import shutil\n",
    "shutil.make_archive(base_name='checkpoint', format='zip', base_dir='./checkpoint')"
   ]
  },
  {
   "cell_type": "code",
   "execution_count": 53,
   "id": "dbfea8a4",
   "metadata": {
    "execution": {
     "iopub.execute_input": "2022-08-28T11:57:33.921268Z",
     "iopub.status.busy": "2022-08-28T11:57:33.920667Z",
     "iopub.status.idle": "2022-08-28T11:57:35.051829Z",
     "shell.execute_reply": "2022-08-28T11:57:35.050645Z"
    },
    "papermill": {
     "duration": 1.16194,
     "end_time": "2022-08-28T11:57:35.054275",
     "exception": false,
     "start_time": "2022-08-28T11:57:33.892335",
     "status": "completed"
    },
    "tags": []
   },
   "outputs": [
    {
     "name": "stdout",
     "output_type": "stream",
     "text": [
      "total 9.6M\r\n",
      "drwxr-xr-x 2 root root 4.0K Aug 28 11:57 .\r\n",
      "drwxr-xr-x 3 root root 4.0K Aug 28 11:57 ..\r\n",
      "-rw-r--r-- 1 root root  176 Aug 28 11:57 checkpoint\r\n",
      "-rw-r--r-- 1 root root 9.6M Aug 28 11:57 ckpt-560909.data-00000-of-00001\r\n",
      "-rw-r--r-- 1 root root 4.0K Aug 28 11:57 ckpt-560909.index\r\n"
     ]
    }
   ],
   "source": [
    "!ls -all -lh ./checkpoint"
   ]
  },
  {
   "cell_type": "markdown",
   "id": "b8689843",
   "metadata": {
    "papermill": {
     "duration": 0.027816,
     "end_time": "2022-08-28T11:57:35.110050",
     "exception": false,
     "start_time": "2022-08-28T11:57:35.082234",
     "status": "completed"
    },
    "tags": []
   },
   "source": [
    "# ☑️ Средний счёт на 100 игр"
   ]
  },
  {
   "cell_type": "code",
   "execution_count": 54,
   "id": "4dcbe25c",
   "metadata": {
    "execution": {
     "iopub.execute_input": "2022-08-28T11:57:35.168463Z",
     "iopub.status.busy": "2022-08-28T11:57:35.168060Z",
     "iopub.status.idle": "2022-08-28T12:14:00.558622Z",
     "shell.execute_reply": "2022-08-28T12:14:00.557598Z"
    },
    "papermill": {
     "duration": 985.451992,
     "end_time": "2022-08-28T12:14:00.590917",
     "exception": false,
     "start_time": "2022-08-28T11:57:35.138925",
     "status": "completed"
    },
    "tags": []
   },
   "outputs": [
    {
     "name": "stdout",
     "output_type": "stream",
     "text": [
      "Средний счёт за 100 игр: -12.199999809265137\n"
     ]
    }
   ],
   "source": [
    "avg_return = compute_avg_return(eval_env, tf_agent.policy, 100)\n",
    "\n",
    "print(f'Средний счёт за 100 игр: {avg_return}')"
   ]
  }
 ],
 "metadata": {
  "kernelspec": {
   "display_name": "Python 3",
   "language": "python",
   "name": "python3"
  },
  "language_info": {
   "codemirror_mode": {
    "name": "ipython",
    "version": 3
   },
   "file_extension": ".py",
   "mimetype": "text/x-python",
   "name": "python",
   "nbconvert_exporter": "python",
   "pygments_lexer": "ipython3",
   "version": "3.7.12"
  },
  "papermill": {
   "default_parameters": {},
   "duration": 2712.740836,
   "end_time": "2022-08-28T12:14:04.102933",
   "environment_variables": {},
   "exception": null,
   "input_path": "__notebook__.ipynb",
   "output_path": "__notebook__.ipynb",
   "parameters": {},
   "start_time": "2022-08-28T11:28:51.362097",
   "version": "2.3.4"
  }
 },
 "nbformat": 4,
 "nbformat_minor": 5
}
